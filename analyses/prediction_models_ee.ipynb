{
 "cells": [
  {
   "cell_type": "markdown",
   "metadata": {},
   "source": [
    "# CS109b Final Project: \n",
    "# Air Pollution Exposure and COVID-19 Mortality in the U.S."
   ]
  },
  {
   "cell_type": "markdown",
   "metadata": {},
   "source": [
    "## Import libraries"
   ]
  },
  {
   "cell_type": "code",
   "execution_count": 1,
   "metadata": {},
   "outputs": [],
   "source": [
    "import numpy as np\n",
    "import seaborn as sns\n",
    "import pandas as pd\n",
    "import matplotlib.pyplot as plt\n",
    "import plotly.figure_factory as ff\n",
    "\n",
    "pd.options.display.max_rows = 500\n",
    "pd.options.display.max_columns = 500"
   ]
  },
  {
   "cell_type": "markdown",
   "metadata": {},
   "source": [
    "## Load and clean data"
   ]
  },
  {
   "cell_type": "code",
   "execution_count": 2,
   "metadata": {},
   "outputs": [],
   "source": [
    "data = pd.read_csv(\"./../PM_COVID-master/processed_data_04-24-2020.csv\")"
   ]
  },
  {
   "cell_type": "code",
   "execution_count": 3,
   "metadata": {},
   "outputs": [],
   "source": [
    "#load data\n",
    "#data = pd.read_csv('https://raw.githubusercontent.com/CS109b-Team37/Pollution-Prediction/master/PM_COVID-master/processed_data_04-24-2020.csv')"
   ]
  },
  {
   "cell_type": "code",
   "execution_count": 4,
   "metadata": {},
   "outputs": [],
   "source": [
    "#rename older_pecent to older_percent\n",
    "data = data.rename(columns={'older_pecent': 'older_percent'})\n",
    "\n",
    "#drop columns\n",
    "cols = list(data.columns)\n",
    "cols.remove('Unnamed: 0') #just a column of integers 1-21560\n",
    "#cols.remove('Province_State') #redundant information; already captured by 'state'\n",
    "cols.remove('Country_Region') #only US\n",
    "cols.remove('Combined_Key') #redundant information; already captured by 'Province_State' and 'Admin2'\n",
    "cols.remove('year.x') #only 2016\n",
    "cols.remove('year.y') #only 2012 and nan\n",
    "cols.remove('Population') #'older_pecent' was calculated by Population/older_Population\n",
    "cols.remove('older_Population') #'older_pecent' was calculated by Population/older_Population\n",
    "cols.remove('date') #only 20200502\n",
    "cols.remove('hash') #useless information\n",
    "cols.remove('dateChecked') #only '2020-05-02T20:00:00Z'\n",
    "cols.remove('Abbrev') #redundant information; already captured by 'state'\n",
    "cols.remove('total') #almost a repeat of 'totalTestResults'\n",
    "cols.remove('Recovered') #only 0\n",
    "data = data[cols]\n"
   ]
  },
  {
   "cell_type": "code",
   "execution_count": 5,
   "metadata": {},
   "outputs": [
    {
     "data": {
      "text/plain": [
       "array(['2020-04-25 06:30:53', '3/30/20 22:52', '2020-04-25 06:31:05',\n",
       "       '2020-04-23 00:00:00', '2020-04-24 00:00:00'], dtype=object)"
      ]
     },
     "execution_count": 5,
     "metadata": {},
     "output_type": "execute_result"
    }
   ],
   "source": [
    "data['Last_Update'].unique()"
   ]
  },
  {
   "cell_type": "code",
   "execution_count": 6,
   "metadata": {},
   "outputs": [],
   "source": [
    "#convert Last_Update to binary variable\n",
    "convert_dict = {'2020-05-03 02:32:28': 0, '3/30/20 22:52': 1}\n",
    "data = data.replace({'Last_Update': convert_dict})\n"
   ]
  },
  {
   "cell_type": "code",
   "execution_count": 7,
   "metadata": {
    "scrolled": true
   },
   "outputs": [
    {
     "name": "stdout",
     "output_type": "stream",
     "text": [
      "Variables with NA values:\n"
     ]
    },
    {
     "data": {
      "text/plain": [
       "smoke_rate                 867\n",
       "mean_bmi                   867\n",
       "Crude.Rate                   1\n",
       "older_percent                1\n",
       "pending                   2819\n",
       "hospitalizedCurrently      898\n",
       "hospitalizedCumulative    1284\n",
       "inIcuCurrently            1808\n",
       "inIcuCumulative           2608\n",
       "onVentilatorCurrently     2155\n",
       "onVentilatorCumulative    2944\n",
       "recovered                 1479\n",
       "hospitalized              1284\n",
       "beds                       811\n",
       "dtype: int64"
      ]
     },
     "metadata": {},
     "output_type": "display_data"
    }
   ],
   "source": [
    "#variables with NA values\n",
    "print('Variables with NA values:')\n",
    "display(data.isna().sum()[data.isna().sum() > 0])\n",
    "\n",
    "#remove variables with many NA values\n",
    "na_vars = list(data.isna().sum()[data.isna().sum() > 50].index) #variables with many NA values\n",
    "data = data[set(cols) - set(na_vars)] #final cleaned data"
   ]
  },
  {
   "cell_type": "code",
   "execution_count": 8,
   "metadata": {},
   "outputs": [
    {
     "name": "stdout",
     "output_type": "stream",
     "text": [
      "Rows with NA values:\n"
     ]
    },
    {
     "data": {
      "text/html": [
       "<div>\n",
       "<style scoped>\n",
       "    .dataframe tbody tr th:only-of-type {\n",
       "        vertical-align: middle;\n",
       "    }\n",
       "\n",
       "    .dataframe tbody tr th {\n",
       "        vertical-align: top;\n",
       "    }\n",
       "\n",
       "    .dataframe thead th {\n",
       "        text-align: right;\n",
       "    }\n",
       "</style>\n",
       "<table border=\"1\" class=\"dataframe\">\n",
       "  <thead>\n",
       "    <tr style=\"text-align: right;\">\n",
       "      <th></th>\n",
       "      <th>hospitalizedIncrease</th>\n",
       "      <th>mean_summer_rm</th>\n",
       "      <th>Admin2</th>\n",
       "      <th>posNeg</th>\n",
       "      <th>Last_Update</th>\n",
       "      <th>negativeIncrease</th>\n",
       "      <th>q_popdensity</th>\n",
       "      <th>totalTestResults</th>\n",
       "      <th>pct_native</th>\n",
       "      <th>popdensity</th>\n",
       "      <th>Province_State</th>\n",
       "      <th>older_percent</th>\n",
       "      <th>totalTestResults_county</th>\n",
       "      <th>Active</th>\n",
       "      <th>hispanic</th>\n",
       "      <th>fips</th>\n",
       "      <th>totalTestResultsIncrease</th>\n",
       "      <th>Long_</th>\n",
       "      <th>positive</th>\n",
       "      <th>population</th>\n",
       "      <th>population_frac_county</th>\n",
       "      <th>deathIncrease</th>\n",
       "      <th>mean_pm25</th>\n",
       "      <th>Crude.Rate</th>\n",
       "      <th>poverty</th>\n",
       "      <th>mean_summer_temp</th>\n",
       "      <th>negative</th>\n",
       "      <th>death</th>\n",
       "      <th>Lat</th>\n",
       "      <th>mean_winter_rm</th>\n",
       "      <th>education</th>\n",
       "      <th>mean_winter_temp</th>\n",
       "      <th>Confirmed</th>\n",
       "      <th>pct_owner_occ</th>\n",
       "      <th>medhouseholdincome</th>\n",
       "      <th>medianhousevalue</th>\n",
       "      <th>pct_asian</th>\n",
       "      <th>state</th>\n",
       "      <th>positiveIncrease</th>\n",
       "      <th>Deaths</th>\n",
       "      <th>pct_white</th>\n",
       "      <th>pct_blk</th>\n",
       "    </tr>\n",
       "  </thead>\n",
       "  <tbody>\n",
       "    <tr>\n",
       "      <td>2635</td>\n",
       "      <td>0</td>\n",
       "      <td>73.844694</td>\n",
       "      <td>Loving</td>\n",
       "      <td>242547</td>\n",
       "      <td>1</td>\n",
       "      <td>16607</td>\n",
       "      <td>1</td>\n",
       "      <td>242547</td>\n",
       "      <td>0.047619</td>\n",
       "      <td>0.395035</td>\n",
       "      <td>Texas</td>\n",
       "      <td>NaN</td>\n",
       "      <td>0.567672</td>\n",
       "      <td>0</td>\n",
       "      <td>0.142857</td>\n",
       "      <td>48301</td>\n",
       "      <td>17469</td>\n",
       "      <td>-103.581857</td>\n",
       "      <td>22806</td>\n",
       "      <td>63</td>\n",
       "      <td>0.000002</td>\n",
       "      <td>32</td>\n",
       "      <td>5.685412</td>\n",
       "      <td>NaN</td>\n",
       "      <td>0.631579</td>\n",
       "      <td>309.483185</td>\n",
       "      <td>219741</td>\n",
       "      <td>593</td>\n",
       "      <td>31.849476</td>\n",
       "      <td>72.837808</td>\n",
       "      <td>0.526316</td>\n",
       "      <td>290.213523</td>\n",
       "      <td>0</td>\n",
       "      <td>0.485714</td>\n",
       "      <td>55625.0</td>\n",
       "      <td>89040.0</td>\n",
       "      <td>0.0</td>\n",
       "      <td>TX</td>\n",
       "      <td>862</td>\n",
       "      <td>0</td>\n",
       "      <td>0.857143</td>\n",
       "      <td>0.0</td>\n",
       "    </tr>\n",
       "  </tbody>\n",
       "</table>\n",
       "</div>"
      ],
      "text/plain": [
       "      hospitalizedIncrease  mean_summer_rm  Admin2  posNeg Last_Update  \\\n",
       "2635                     0       73.844694  Loving  242547           1   \n",
       "\n",
       "      negativeIncrease  q_popdensity  totalTestResults  pct_native  \\\n",
       "2635             16607             1            242547    0.047619   \n",
       "\n",
       "      popdensity Province_State  older_percent  totalTestResults_county  \\\n",
       "2635    0.395035          Texas            NaN                 0.567672   \n",
       "\n",
       "      Active  hispanic   fips  totalTestResultsIncrease       Long_  positive  \\\n",
       "2635       0  0.142857  48301                     17469 -103.581857     22806   \n",
       "\n",
       "      population  population_frac_county  deathIncrease  mean_pm25  \\\n",
       "2635          63                0.000002             32   5.685412   \n",
       "\n",
       "      Crude.Rate   poverty  mean_summer_temp  negative  death        Lat  \\\n",
       "2635         NaN  0.631579        309.483185    219741    593  31.849476   \n",
       "\n",
       "      mean_winter_rm  education  mean_winter_temp  Confirmed  pct_owner_occ  \\\n",
       "2635       72.837808   0.526316        290.213523          0       0.485714   \n",
       "\n",
       "      medhouseholdincome  medianhousevalue  pct_asian state  positiveIncrease  \\\n",
       "2635             55625.0           89040.0        0.0    TX               862   \n",
       "\n",
       "      Deaths  pct_white  pct_blk  \n",
       "2635       0   0.857143      0.0  "
      ]
     },
     "metadata": {},
     "output_type": "display_data"
    }
   ],
   "source": [
    "#both NA values are for Loving, Texas\n",
    "null_data = data[data.isnull().any(axis=1)]\n",
    "print('Rows with NA values:')\n",
    "display(null_data)\n",
    "\n",
    "#fill in NA values for 'Crude.Rate' and 'older_percent' with state average\n",
    "values = {'Crude.Rate': data.groupby('state').mean()['Crude.Rate']['TX'], 'older_percent': data.groupby('state').mean()['older_percent']['TX']}\n",
    "data = data.fillna(value=values)"
   ]
  },
  {
   "cell_type": "markdown",
   "metadata": {},
   "source": [
    "## Add in NY Times County Data with Cumulative Daily Coronavirus Cases & Deaths"
   ]
  },
  {
   "cell_type": "code",
   "execution_count": 588,
   "metadata": {},
   "outputs": [],
   "source": [
    "url = 'https://raw.githubusercontent.com/nytimes/covid-19-data/master/us-counties.csv'\n",
    "df_nytimes = pd.read_csv(url,index_col=0,parse_dates=[0])"
   ]
  },
  {
   "cell_type": "code",
   "execution_count": 589,
   "metadata": {},
   "outputs": [
    {
     "data": {
      "text/plain": [
       "(126835, 5)"
      ]
     },
     "execution_count": 589,
     "metadata": {},
     "output_type": "execute_result"
    }
   ],
   "source": [
    "df_nytimes.shape"
   ]
  },
  {
   "cell_type": "code",
   "execution_count": 590,
   "metadata": {},
   "outputs": [
    {
     "name": "stdout",
     "output_type": "stream",
     "text": [
      "Deaths in counties with NULL FIPS:  18424 | Number of counties:  28\n",
      "Deaths in New York County (biggest area with NULL FIPS):  18021\n",
      "Deaths in counties with correct FIPS:  48031 | Number of counties:  2837\n",
      "Total Deaths:  66455 | Number of counties:  2865\n"
     ]
    }
   ],
   "source": [
    "df_nytimes_today = df_nytimes.loc[df_nytimes.index=='2020-05-02']\n",
    "\n",
    "print(\"Deaths in counties with NULL FIPS: \", \n",
    "      df_nytimes_today.loc[df_nytimes_today['fips'].isnull()==True]['deaths'].sum(),\n",
    "     '| Number of counties: ', len(df_nytimes_today.loc[df_nytimes_today['fips'].isnull()==True]))\n",
    "\n",
    "\n",
    "print(\"Deaths in New York County (biggest area with NULL FIPS): \", \n",
    "      df_nytimes_today.loc[df_nytimes_today['county']=='New York City']['deaths'].sum())\n",
    "\n",
    "print(\"Deaths in counties with correct FIPS: \", \n",
    "      df_nytimes_today.loc[df_nytimes_today['fips'].isnull()==False]['deaths'].sum(),\n",
    "     '| Number of counties: ', len(df_nytimes_today.loc[df_nytimes_today['fips'].isnull()==False]))\n",
    "\n",
    "print(\"Total Deaths: \", df_nytimes_today['deaths'].sum(),\n",
    "          '| Number of counties: ', len(df_nytimes_today))\n"
   ]
  },
  {
   "cell_type": "code",
   "execution_count": 591,
   "metadata": {},
   "outputs": [],
   "source": [
    "data['fips_new']=data['fips'].astype(int).apply(lambda x: '{0:0>5}'.format(x)) #add leading zeros to fips code\n",
    "#data['fips_new']=data['fips'].astype(int)\n",
    "df_nytimes_clean = df_nytimes.loc[df_nytimes['fips'].isnull()==False]\n",
    "df_nytimes_clean['fips_new']=df_nytimes_clean['fips'].astype(int)\n",
    "df_nytimes_clean['fips_new']=df_nytimes_clean['fips_new'].astype(object)\n",
    "df_nytimes_clean['fips_new'] = df_nytimes_clean['fips_new'].apply(lambda x: '{0:0>5}'.format(x)) #add leading zeros to fips code\n"
   ]
  },
  {
   "cell_type": "code",
   "execution_count": 592,
   "metadata": {},
   "outputs": [
    {
     "data": {
      "text/html": [
       "<div>\n",
       "<style scoped>\n",
       "    .dataframe tbody tr th:only-of-type {\n",
       "        vertical-align: middle;\n",
       "    }\n",
       "\n",
       "    .dataframe tbody tr th {\n",
       "        vertical-align: top;\n",
       "    }\n",
       "\n",
       "    .dataframe thead th {\n",
       "        text-align: right;\n",
       "    }\n",
       "</style>\n",
       "<table border=\"1\" class=\"dataframe\">\n",
       "  <thead>\n",
       "    <tr style=\"text-align: right;\">\n",
       "      <th></th>\n",
       "      <th>county</th>\n",
       "      <th>state</th>\n",
       "      <th>fips</th>\n",
       "      <th>cases</th>\n",
       "      <th>deaths</th>\n",
       "      <th>fips_new</th>\n",
       "    </tr>\n",
       "    <tr>\n",
       "      <th>date</th>\n",
       "      <th></th>\n",
       "      <th></th>\n",
       "      <th></th>\n",
       "      <th></th>\n",
       "      <th></th>\n",
       "      <th></th>\n",
       "    </tr>\n",
       "  </thead>\n",
       "  <tbody>\n",
       "    <tr>\n",
       "      <td>2020-01-21</td>\n",
       "      <td>Snohomish</td>\n",
       "      <td>Washington</td>\n",
       "      <td>53061.0</td>\n",
       "      <td>1</td>\n",
       "      <td>0</td>\n",
       "      <td>53061</td>\n",
       "    </tr>\n",
       "    <tr>\n",
       "      <td>2020-01-22</td>\n",
       "      <td>Snohomish</td>\n",
       "      <td>Washington</td>\n",
       "      <td>53061.0</td>\n",
       "      <td>1</td>\n",
       "      <td>0</td>\n",
       "      <td>53061</td>\n",
       "    </tr>\n",
       "    <tr>\n",
       "      <td>2020-01-23</td>\n",
       "      <td>Snohomish</td>\n",
       "      <td>Washington</td>\n",
       "      <td>53061.0</td>\n",
       "      <td>1</td>\n",
       "      <td>0</td>\n",
       "      <td>53061</td>\n",
       "    </tr>\n",
       "    <tr>\n",
       "      <td>2020-01-24</td>\n",
       "      <td>Cook</td>\n",
       "      <td>Illinois</td>\n",
       "      <td>17031.0</td>\n",
       "      <td>1</td>\n",
       "      <td>0</td>\n",
       "      <td>17031</td>\n",
       "    </tr>\n",
       "    <tr>\n",
       "      <td>2020-01-24</td>\n",
       "      <td>Snohomish</td>\n",
       "      <td>Washington</td>\n",
       "      <td>53061.0</td>\n",
       "      <td>1</td>\n",
       "      <td>0</td>\n",
       "      <td>53061</td>\n",
       "    </tr>\n",
       "  </tbody>\n",
       "</table>\n",
       "</div>"
      ],
      "text/plain": [
       "               county       state     fips  cases  deaths fips_new\n",
       "date                                                              \n",
       "2020-01-21  Snohomish  Washington  53061.0      1       0    53061\n",
       "2020-01-22  Snohomish  Washington  53061.0      1       0    53061\n",
       "2020-01-23  Snohomish  Washington  53061.0      1       0    53061\n",
       "2020-01-24       Cook    Illinois  17031.0      1       0    17031\n",
       "2020-01-24  Snohomish  Washington  53061.0      1       0    53061"
      ]
     },
     "execution_count": 592,
     "metadata": {},
     "output_type": "execute_result"
    }
   ],
   "source": [
    "df_nytimes_clean.head()"
   ]
  },
  {
   "cell_type": "code",
   "execution_count": 596,
   "metadata": {},
   "outputs": [],
   "source": [
    "df_nytimes_clean['date']=df_nytimes_clean.index\n",
    "df_nytimes_clean['week']=df_nytimes_clean['date'].dt.week\n",
    "df_nytimes_clean['dayofweek']=df_nytimes_clean['date'].dt.dayofweek\n",
    "df_nytimes_clean_week = df_nytimes_clean.loc[df_nytimes_clean['dayofweek']==6] #cumulative data so want the end of week numbers\n",
    "\n",
    "df_joined = df_nytimes_clean_week[['week','dayofweek',\n",
    "                              'date','cases','deaths','fips_new']].merge(data, \n",
    "                                                                         on ='fips_new', \n",
    "                                                                         how = 'left')\n",
    "\n",
    "df_joined_daylevel = df_nytimes_clean[['week','dayofweek',\n",
    "                              'date','cases','deaths','fips_new']].merge(data, \n",
    "                                                                         on ='fips_new', \n",
    "                                                                         how = 'left')"
   ]
  },
  {
   "cell_type": "code",
   "execution_count": 580,
   "metadata": {},
   "outputs": [
    {
     "data": {
      "text/html": [
       "<div>\n",
       "<style scoped>\n",
       "    .dataframe tbody tr th:only-of-type {\n",
       "        vertical-align: middle;\n",
       "    }\n",
       "\n",
       "    .dataframe tbody tr th {\n",
       "        vertical-align: top;\n",
       "    }\n",
       "\n",
       "    .dataframe thead th {\n",
       "        text-align: right;\n",
       "    }\n",
       "</style>\n",
       "<table border=\"1\" class=\"dataframe\">\n",
       "  <thead>\n",
       "    <tr style=\"text-align: right;\">\n",
       "      <th></th>\n",
       "      <th>week</th>\n",
       "      <th>dayofweek</th>\n",
       "      <th>date</th>\n",
       "      <th>cases</th>\n",
       "      <th>deaths</th>\n",
       "      <th>fips_new</th>\n",
       "      <th>hospitalizedIncrease</th>\n",
       "      <th>mean_summer_rm</th>\n",
       "      <th>Admin2</th>\n",
       "      <th>posNeg</th>\n",
       "      <th>Last_Update</th>\n",
       "      <th>negativeIncrease</th>\n",
       "      <th>q_popdensity</th>\n",
       "      <th>totalTestResults</th>\n",
       "      <th>pct_native</th>\n",
       "      <th>popdensity</th>\n",
       "      <th>Province_State</th>\n",
       "      <th>older_percent</th>\n",
       "      <th>totalTestResults_county</th>\n",
       "      <th>Active</th>\n",
       "      <th>hispanic</th>\n",
       "      <th>fips</th>\n",
       "      <th>totalTestResultsIncrease</th>\n",
       "      <th>Long_</th>\n",
       "      <th>positive</th>\n",
       "      <th>population</th>\n",
       "      <th>population_frac_county</th>\n",
       "      <th>deathIncrease</th>\n",
       "      <th>mean_pm25</th>\n",
       "      <th>Crude.Rate</th>\n",
       "      <th>poverty</th>\n",
       "      <th>mean_summer_temp</th>\n",
       "      <th>negative</th>\n",
       "      <th>death</th>\n",
       "      <th>Lat</th>\n",
       "      <th>mean_winter_rm</th>\n",
       "      <th>education</th>\n",
       "      <th>mean_winter_temp</th>\n",
       "      <th>Confirmed</th>\n",
       "      <th>pct_owner_occ</th>\n",
       "      <th>medhouseholdincome</th>\n",
       "      <th>medianhousevalue</th>\n",
       "      <th>pct_asian</th>\n",
       "      <th>state</th>\n",
       "      <th>positiveIncrease</th>\n",
       "      <th>Deaths</th>\n",
       "      <th>pct_white</th>\n",
       "      <th>pct_blk</th>\n",
       "    </tr>\n",
       "  </thead>\n",
       "  <tbody>\n",
       "    <tr>\n",
       "      <td>0</td>\n",
       "      <td>4</td>\n",
       "      <td>6</td>\n",
       "      <td>2020-01-26</td>\n",
       "      <td>1</td>\n",
       "      <td>0</td>\n",
       "      <td>04013</td>\n",
       "      <td>984.0</td>\n",
       "      <td>43.955582</td>\n",
       "      <td>Maricopa</td>\n",
       "      <td>60714.0</td>\n",
       "      <td>2020-04-25 06:30:53</td>\n",
       "      <td>1741.0</td>\n",
       "      <td>4.0</td>\n",
       "      <td>60714.0</td>\n",
       "      <td>0.028066</td>\n",
       "      <td>3052.496587</td>\n",
       "      <td>Arizona</td>\n",
       "      <td>0.123367</td>\n",
       "      <td>38974.518658</td>\n",
       "      <td>2996.0</td>\n",
       "      <td>0.275227</td>\n",
       "      <td>4013.0</td>\n",
       "      <td>2017.0</td>\n",
       "      <td>-112.491815</td>\n",
       "      <td>6045.0</td>\n",
       "      <td>4046686.0</td>\n",
       "      <td>0.641936</td>\n",
       "      <td>17.0</td>\n",
       "      <td>8.962005</td>\n",
       "      <td>693.5</td>\n",
       "      <td>0.098313</td>\n",
       "      <td>312.887974</td>\n",
       "      <td>54669.0</td>\n",
       "      <td>266.0</td>\n",
       "      <td>33.348359</td>\n",
       "      <td>62.523577</td>\n",
       "      <td>0.150852</td>\n",
       "      <td>292.696006</td>\n",
       "      <td>3116.0</td>\n",
       "      <td>0.623470</td>\n",
       "      <td>60944.201550</td>\n",
       "      <td>231863.424947</td>\n",
       "      <td>0.036367</td>\n",
       "      <td>AZ</td>\n",
       "      <td>276.0</td>\n",
       "      <td>120.0</td>\n",
       "      <td>0.797530</td>\n",
       "      <td>0.046994</td>\n",
       "    </tr>\n",
       "    <tr>\n",
       "      <td>1</td>\n",
       "      <td>4</td>\n",
       "      <td>6</td>\n",
       "      <td>2020-01-26</td>\n",
       "      <td>1</td>\n",
       "      <td>0</td>\n",
       "      <td>06037</td>\n",
       "      <td>0.0</td>\n",
       "      <td>66.843499</td>\n",
       "      <td>Los Angeles</td>\n",
       "      <td>494173.0</td>\n",
       "      <td>2020-04-25 06:30:53</td>\n",
       "      <td>10191.0</td>\n",
       "      <td>4.0</td>\n",
       "      <td>494173.0</td>\n",
       "      <td>0.005423</td>\n",
       "      <td>9070.950193</td>\n",
       "      <td>California</td>\n",
       "      <td>0.107776</td>\n",
       "      <td>128181.698676</td>\n",
       "      <td>17695.0</td>\n",
       "      <td>0.405115</td>\n",
       "      <td>6037.0</td>\n",
       "      <td>12076.0</td>\n",
       "      <td>-118.228241</td>\n",
       "      <td>39254.0</td>\n",
       "      <td>10014553.0</td>\n",
       "      <td>0.259386</td>\n",
       "      <td>93.0</td>\n",
       "      <td>15.718274</td>\n",
       "      <td>607.1</td>\n",
       "      <td>0.141721</td>\n",
       "      <td>303.265427</td>\n",
       "      <td>454919.0</td>\n",
       "      <td>1562.0</td>\n",
       "      <td>34.308284</td>\n",
       "      <td>68.943495</td>\n",
       "      <td>0.272456</td>\n",
       "      <td>289.471635</td>\n",
       "      <td>18545.0</td>\n",
       "      <td>0.476622</td>\n",
       "      <td>66320.068841</td>\n",
       "      <td>567463.413043</td>\n",
       "      <td>0.147261</td>\n",
       "      <td>CA</td>\n",
       "      <td>1885.0</td>\n",
       "      <td>850.0</td>\n",
       "      <td>0.556419</td>\n",
       "      <td>0.079818</td>\n",
       "    </tr>\n",
       "    <tr>\n",
       "      <td>2</td>\n",
       "      <td>4</td>\n",
       "      <td>6</td>\n",
       "      <td>2020-01-26</td>\n",
       "      <td>1</td>\n",
       "      <td>0</td>\n",
       "      <td>06059</td>\n",
       "      <td>0.0</td>\n",
       "      <td>87.075159</td>\n",
       "      <td>Orange</td>\n",
       "      <td>494173.0</td>\n",
       "      <td>2020-04-25 06:30:53</td>\n",
       "      <td>10191.0</td>\n",
       "      <td>4.0</td>\n",
       "      <td>494173.0</td>\n",
       "      <td>0.004064</td>\n",
       "      <td>6243.631658</td>\n",
       "      <td>California</td>\n",
       "      <td>0.114021</td>\n",
       "      <td>40163.352229</td>\n",
       "      <td>1809.0</td>\n",
       "      <td>0.277774</td>\n",
       "      <td>6059.0</td>\n",
       "      <td>12076.0</td>\n",
       "      <td>-117.764600</td>\n",
       "      <td>39254.0</td>\n",
       "      <td>3137874.0</td>\n",
       "      <td>0.081274</td>\n",
       "      <td>93.0</td>\n",
       "      <td>15.786018</td>\n",
       "      <td>587.3</td>\n",
       "      <td>0.085636</td>\n",
       "      <td>300.790590</td>\n",
       "      <td>454919.0</td>\n",
       "      <td>1562.0</td>\n",
       "      <td>33.701475</td>\n",
       "      <td>79.082530</td>\n",
       "      <td>0.152671</td>\n",
       "      <td>292.609396</td>\n",
       "      <td>1845.0</td>\n",
       "      <td>0.582866</td>\n",
       "      <td>85843.886364</td>\n",
       "      <td>679449.573485</td>\n",
       "      <td>0.189658</td>\n",
       "      <td>CA</td>\n",
       "      <td>1885.0</td>\n",
       "      <td>36.0</td>\n",
       "      <td>0.657640</td>\n",
       "      <td>0.015781</td>\n",
       "    </tr>\n",
       "    <tr>\n",
       "      <td>3</td>\n",
       "      <td>4</td>\n",
       "      <td>6</td>\n",
       "      <td>2020-01-26</td>\n",
       "      <td>1</td>\n",
       "      <td>0</td>\n",
       "      <td>17031</td>\n",
       "      <td>0.0</td>\n",
       "      <td>83.073103</td>\n",
       "      <td>Cook</td>\n",
       "      <td>189632.0</td>\n",
       "      <td>2020-04-25 06:30:53</td>\n",
       "      <td>13592.0</td>\n",
       "      <td>4.0</td>\n",
       "      <td>189632.0</td>\n",
       "      <td>0.002347</td>\n",
       "      <td>8452.935641</td>\n",
       "      <td>Illinois</td>\n",
       "      <td>0.121084</td>\n",
       "      <td>76229.155040</td>\n",
       "      <td>26396.0</td>\n",
       "      <td>0.186945</td>\n",
       "      <td>17031.0</td>\n",
       "      <td>16316.0</td>\n",
       "      <td>-87.816588</td>\n",
       "      <td>39658.0</td>\n",
       "      <td>5163056.0</td>\n",
       "      <td>0.401985</td>\n",
       "      <td>107.0</td>\n",
       "      <td>13.370310</td>\n",
       "      <td>797.2</td>\n",
       "      <td>0.117719</td>\n",
       "      <td>301.073461</td>\n",
       "      <td>149974.0</td>\n",
       "      <td>1795.0</td>\n",
       "      <td>41.841448</td>\n",
       "      <td>84.994321</td>\n",
       "      <td>0.199716</td>\n",
       "      <td>274.406491</td>\n",
       "      <td>27616.0</td>\n",
       "      <td>0.619800</td>\n",
       "      <td>68431.961145</td>\n",
       "      <td>259563.190184</td>\n",
       "      <td>0.073987</td>\n",
       "      <td>IL</td>\n",
       "      <td>2724.0</td>\n",
       "      <td>1220.0</td>\n",
       "      <td>0.605275</td>\n",
       "      <td>0.228933</td>\n",
       "    </tr>\n",
       "    <tr>\n",
       "      <td>4</td>\n",
       "      <td>4</td>\n",
       "      <td>6</td>\n",
       "      <td>2020-01-26</td>\n",
       "      <td>1</td>\n",
       "      <td>0</td>\n",
       "      <td>53061</td>\n",
       "      <td>0.0</td>\n",
       "      <td>80.565422</td>\n",
       "      <td>Snohomish</td>\n",
       "      <td>174830.0</td>\n",
       "      <td>2020-04-24 00:00:00</td>\n",
       "      <td>2897.0</td>\n",
       "      <td>4.0</td>\n",
       "      <td>174830.0</td>\n",
       "      <td>0.010321</td>\n",
       "      <td>2276.842087</td>\n",
       "      <td>Washington</td>\n",
       "      <td>0.104065</td>\n",
       "      <td>18646.154807</td>\n",
       "      <td>2141.0</td>\n",
       "      <td>0.083849</td>\n",
       "      <td>53061.0</td>\n",
       "      <td>3199.0</td>\n",
       "      <td>-121.717070</td>\n",
       "      <td>13297.0</td>\n",
       "      <td>753416.0</td>\n",
       "      <td>0.106653</td>\n",
       "      <td>5.0</td>\n",
       "      <td>6.391097</td>\n",
       "      <td>644.9</td>\n",
       "      <td>0.082732</td>\n",
       "      <td>294.490555</td>\n",
       "      <td>161533.0</td>\n",
       "      <td>659.0</td>\n",
       "      <td>48.046160</td>\n",
       "      <td>92.912894</td>\n",
       "      <td>0.114099</td>\n",
       "      <td>278.238279</td>\n",
       "      <td>2243.0</td>\n",
       "      <td>0.678889</td>\n",
       "      <td>73485.148148</td>\n",
       "      <td>292496.296296</td>\n",
       "      <td>0.078867</td>\n",
       "      <td>WA</td>\n",
       "      <td>302.0</td>\n",
       "      <td>102.0</td>\n",
       "      <td>0.811078</td>\n",
       "      <td>0.021852</td>\n",
       "    </tr>\n",
       "  </tbody>\n",
       "</table>\n",
       "</div>"
      ],
      "text/plain": [
       "   week  dayofweek       date  cases  deaths fips_new  hospitalizedIncrease  \\\n",
       "0     4          6 2020-01-26      1       0    04013                 984.0   \n",
       "1     4          6 2020-01-26      1       0    06037                   0.0   \n",
       "2     4          6 2020-01-26      1       0    06059                   0.0   \n",
       "3     4          6 2020-01-26      1       0    17031                   0.0   \n",
       "4     4          6 2020-01-26      1       0    53061                   0.0   \n",
       "\n",
       "   mean_summer_rm       Admin2    posNeg          Last_Update  \\\n",
       "0       43.955582     Maricopa   60714.0  2020-04-25 06:30:53   \n",
       "1       66.843499  Los Angeles  494173.0  2020-04-25 06:30:53   \n",
       "2       87.075159       Orange  494173.0  2020-04-25 06:30:53   \n",
       "3       83.073103         Cook  189632.0  2020-04-25 06:30:53   \n",
       "4       80.565422    Snohomish  174830.0  2020-04-24 00:00:00   \n",
       "\n",
       "   negativeIncrease  q_popdensity  totalTestResults  pct_native   popdensity  \\\n",
       "0            1741.0           4.0           60714.0    0.028066  3052.496587   \n",
       "1           10191.0           4.0          494173.0    0.005423  9070.950193   \n",
       "2           10191.0           4.0          494173.0    0.004064  6243.631658   \n",
       "3           13592.0           4.0          189632.0    0.002347  8452.935641   \n",
       "4            2897.0           4.0          174830.0    0.010321  2276.842087   \n",
       "\n",
       "  Province_State  older_percent  totalTestResults_county   Active  hispanic  \\\n",
       "0        Arizona       0.123367             38974.518658   2996.0  0.275227   \n",
       "1     California       0.107776            128181.698676  17695.0  0.405115   \n",
       "2     California       0.114021             40163.352229   1809.0  0.277774   \n",
       "3       Illinois       0.121084             76229.155040  26396.0  0.186945   \n",
       "4     Washington       0.104065             18646.154807   2141.0  0.083849   \n",
       "\n",
       "      fips  totalTestResultsIncrease       Long_  positive  population  \\\n",
       "0   4013.0                    2017.0 -112.491815    6045.0   4046686.0   \n",
       "1   6037.0                   12076.0 -118.228241   39254.0  10014553.0   \n",
       "2   6059.0                   12076.0 -117.764600   39254.0   3137874.0   \n",
       "3  17031.0                   16316.0  -87.816588   39658.0   5163056.0   \n",
       "4  53061.0                    3199.0 -121.717070   13297.0    753416.0   \n",
       "\n",
       "   population_frac_county  deathIncrease  mean_pm25  Crude.Rate   poverty  \\\n",
       "0                0.641936           17.0   8.962005       693.5  0.098313   \n",
       "1                0.259386           93.0  15.718274       607.1  0.141721   \n",
       "2                0.081274           93.0  15.786018       587.3  0.085636   \n",
       "3                0.401985          107.0  13.370310       797.2  0.117719   \n",
       "4                0.106653            5.0   6.391097       644.9  0.082732   \n",
       "\n",
       "   mean_summer_temp  negative   death        Lat  mean_winter_rm  education  \\\n",
       "0        312.887974   54669.0   266.0  33.348359       62.523577   0.150852   \n",
       "1        303.265427  454919.0  1562.0  34.308284       68.943495   0.272456   \n",
       "2        300.790590  454919.0  1562.0  33.701475       79.082530   0.152671   \n",
       "3        301.073461  149974.0  1795.0  41.841448       84.994321   0.199716   \n",
       "4        294.490555  161533.0   659.0  48.046160       92.912894   0.114099   \n",
       "\n",
       "   mean_winter_temp  Confirmed  pct_owner_occ  medhouseholdincome  \\\n",
       "0        292.696006     3116.0       0.623470        60944.201550   \n",
       "1        289.471635    18545.0       0.476622        66320.068841   \n",
       "2        292.609396     1845.0       0.582866        85843.886364   \n",
       "3        274.406491    27616.0       0.619800        68431.961145   \n",
       "4        278.238279     2243.0       0.678889        73485.148148   \n",
       "\n",
       "   medianhousevalue  pct_asian state  positiveIncrease  Deaths  pct_white  \\\n",
       "0     231863.424947   0.036367    AZ             276.0   120.0   0.797530   \n",
       "1     567463.413043   0.147261    CA            1885.0   850.0   0.556419   \n",
       "2     679449.573485   0.189658    CA            1885.0    36.0   0.657640   \n",
       "3     259563.190184   0.073987    IL            2724.0  1220.0   0.605275   \n",
       "4     292496.296296   0.078867    WA             302.0   102.0   0.811078   \n",
       "\n",
       "    pct_blk  \n",
       "0  0.046994  \n",
       "1  0.079818  \n",
       "2  0.015781  \n",
       "3  0.228933  \n",
       "4  0.021852  "
      ]
     },
     "execution_count": 580,
     "metadata": {},
     "output_type": "execute_result"
    }
   ],
   "source": [
    "df_joined.head()"
   ]
  },
  {
   "cell_type": "code",
   "execution_count": 229,
   "metadata": {},
   "outputs": [
    {
     "name": "stdout",
     "output_type": "stream",
     "text": [
      "40\n"
     ]
    }
   ],
   "source": [
    "print(len(df_joined.loc[df_joined['mean_pm25'].isnull()==True]['fips_new'].unique()))\n",
    "df_joined = df_joined.dropna(subset=['mean_pm25'], how='all')\n"
   ]
  },
  {
   "cell_type": "code",
   "execution_count": 230,
   "metadata": {},
   "outputs": [
    {
     "data": {
      "text/plain": [
       "(16908, 17127, 3086)"
      ]
     },
     "execution_count": 230,
     "metadata": {},
     "output_type": "execute_result"
    }
   ],
   "source": [
    "len(df_joined), len(df_nytimes_clean), len(data)"
   ]
  },
  {
   "cell_type": "code",
   "execution_count": 231,
   "metadata": {},
   "outputs": [
    {
     "data": {
      "image/png": "[encoded data removed]",
      "text/plain": [
       "<Figure size 432x288 with 1 Axes>"
      ]
     },
     "metadata": {
      "needs_background": "light"
     },
     "output_type": "display_data"
    }
   ],
   "source": [
    "plt.scatter(df_joined['date'],df_joined['deaths'])\n",
    "plt.title(\"Daily County Deaths from Coronavirus\")\n",
    "plt.show()"
   ]
  },
  {
   "cell_type": "markdown",
   "metadata": {},
   "source": [
    "## Modeling"
   ]
  },
  {
   "cell_type": "markdown",
   "metadata": {},
   "source": [
    "**Data Cleaning for Models**"
   ]
  },
  {
   "cell_type": "markdown",
   "metadata": {},
   "source": [
    "**Columns**\n",
    "To determine the importance of particulate matter on error rates, models are separated into two groups. \n",
    "- The simple set of features only includes the output variables (deaths and cases) and predictors (date and mean_pm25 level). \n",
    "- The more complex models use the demographic variables as well. \n",
    "- Then, a last version of the model uses all demographic variables, but removes the particulate matter levels per county. "
   ]
  },
  {
   "cell_type": "code",
   "execution_count": 371,
   "metadata": {},
   "outputs": [],
   "source": [
    "simple_columns = ['fips_new','week','date', 'cases', 'deaths','mean_pm25']"
   ]
  },
  {
   "cell_type": "code",
   "execution_count": 372,
   "metadata": {},
   "outputs": [],
   "source": [
    "demographic_columns = ['fips_new','week','date', 'cases', 'deaths','mean_pm25',\n",
    "                                  'pct_native','popdensity','older_percent',\n",
    "                                  'hispanic','Long_','population','population_frac_county', \n",
    "                                  'poverty', 'mean_summer_temp','Lat',\n",
    "                                  'mean_winter_rm', 'education', 'mean_winter_temp',\n",
    "                                  'pct_owner_occ', 'medhouseholdincome', 'medianhousevalue', 'pct_asian',\n",
    "                                  'pct_white', 'pct_blk']"
   ]
  },
  {
   "cell_type": "code",
   "execution_count": null,
   "metadata": {},
   "outputs": [],
   "source": [
    "demographic_nopm_columns = ['fips_new','week','date', 'cases', 'deaths',\n",
    "                                  'pct_native','popdensity','older_percent',\n",
    "                                  'hispanic','Long_','population','population_frac_county', \n",
    "                                  'poverty', 'mean_summer_temp','Lat',\n",
    "                                  'mean_winter_rm', 'education', 'mean_winter_temp',\n",
    "                                  'pct_owner_occ', 'medhouseholdincome', 'medianhousevalue', 'pct_asian',\n",
    "                                  'pct_white', 'pct_blk']"
   ]
  },
  {
   "cell_type": "code",
   "execution_count": null,
   "metadata": {},
   "outputs": [],
   "source": [
    "df_daylevel = df_joined_daylevel[['date','deaths']]\n",
    "df_daylevel = df_daylevel.groupby(['date']).agg(\n",
    "    { 'deaths':'sum'}\n",
    ")"
   ]
  },
  {
   "cell_type": "code",
   "execution_count": 373,
   "metadata": {},
   "outputs": [],
   "source": [
    "df_simple = df_joined[simple_columns]\n",
    "\n",
    "df_simple = df_simple.groupby(['fips_new','week']).agg(\n",
    "    deaths=('deaths', 'sum'),\n",
    "    mean_pm25 = ('mean_pm25','mean'))\n",
    "\n",
    "df_simple=df_simple.reset_index()"
   ]
  },
  {
   "cell_type": "code",
   "execution_count": 394,
   "metadata": {},
   "outputs": [],
   "source": [
    "X_train_simple = df_simple.loc[df_simple['week']<18 ][['mean_pm25','week']]\n",
    "y_train_simple = df_simple.loc[df_simple['week']<18][['deaths']]\n",
    "X_test_simple = df_simple.loc[df_simple['week']==18][['mean_pm25','week']]\n",
    "y_test = df_simple.loc[df_simple['week']==18][['deaths']] #only need to filter y_test once for all models\n"
   ]
  },
  {
   "cell_type": "code",
   "execution_count": 375,
   "metadata": {},
   "outputs": [],
   "source": [
    "df_demographic = df_joined[demographic_columns]\n",
    "\n",
    "df_demographic = df_demographic.groupby(['fips_new','week']).agg(\n",
    "    {\n",
    "        'cases':'sum',\n",
    "        'deaths':'sum',\n",
    "        'mean_pm25':'mean',\n",
    "        'pct_native':'mean',\n",
    "        'popdensity':'mean',\n",
    "        'older_percent':'mean',\n",
    "        'hispanic':'mean',\n",
    "        'Long_':'mean',\n",
    "        'population':'mean',\n",
    "        'population_frac_county':'mean', \n",
    "        'poverty':'mean', \n",
    "        'mean_summer_temp':'mean',\n",
    "        'Lat':'mean',\n",
    "        'mean_winter_rm':'mean', \n",
    "        'education':'mean', \n",
    "        'mean_winter_temp':'mean',\n",
    "        'pct_owner_occ':'mean', \n",
    "        'medhouseholdincome':'mean', \n",
    "        'medianhousevalue':'mean', \n",
    "        'pct_asian':'mean',\n",
    "        'pct_white':'mean', \n",
    "        'pct_blk':'mean'        \n",
    "    })\n",
    "\n",
    "df_demographic=df_demographic.reset_index()"
   ]
  },
  {
   "cell_type": "code",
   "execution_count": 376,
   "metadata": {},
   "outputs": [],
   "source": [
    "X_train_demographic = df_demographic.loc[df_demographic['week']<18].drop(columns = ['fips_new','cases','deaths'])\n",
    "y_train_demographic = df_demographic.loc[df_demographic['week']<18][['deaths']]\n",
    "X_test_demographic = df_demographic.loc[df_demographic['week']==18].drop(columns = ['fips_new','cases','deaths'])\n"
   ]
  },
  {
   "cell_type": "code",
   "execution_count": null,
   "metadata": {},
   "outputs": [],
   "source": [
    "df_demographic_nopm = df_joined[demographic_nopm_columns]\n",
    "\n",
    "df_demographic_nopm = df_demographic_nopm.groupby(['fips_new','week']).agg(\n",
    "    {\n",
    "        'cases':'sum',\n",
    "        'deaths':'sum',\n",
    "        'pct_native':'mean',\n",
    "        'popdensity':'mean',\n",
    "        'older_percent':'mean',\n",
    "        'hispanic':'mean',\n",
    "        'Long_':'mean',\n",
    "        'population':'mean',\n",
    "        'population_frac_county':'mean', \n",
    "        'poverty':'mean', \n",
    "        'mean_summer_temp':'mean',\n",
    "        'Lat':'mean',\n",
    "        'mean_winter_rm':'mean', \n",
    "        'education':'mean', \n",
    "        'mean_winter_temp':'mean',\n",
    "        'pct_owner_occ':'mean', \n",
    "        'medhouseholdincome':'mean', \n",
    "        'medianhousevalue':'mean', \n",
    "        'pct_asian':'mean',\n",
    "        'pct_white':'mean', \n",
    "        'pct_blk':'mean'        \n",
    "    })\n",
    "\n",
    "df_demographic_nopm=df_demographic_nopm.reset_index()\n"
   ]
  },
  {
   "cell_type": "code",
   "execution_count": null,
   "metadata": {},
   "outputs": [],
   "source": [
    "X_train_demographic_nopm = df_demographic_nopm.loc[df_demographic_nopm['week']<18].drop(columns = ['fips_new','cases','deaths'])\n",
    "y_train_demographic_nopm = df_demographic_nopm.loc[df_demographic_nopm['week']<18][['deaths']]\n",
    "X_test_demographic_nopm = df_demographic_nopm.loc[df_demographic_nopm['week']==18].drop(columns = ['fips_new','cases','deaths'])\n"
   ]
  },
  {
   "cell_type": "code",
   "execution_count": 378,
   "metadata": {},
   "outputs": [
    {
     "data": {
      "image/png": "[encoded data removed]",
      "text/plain": [
       "<Figure size 432x288 with 1 Axes>"
      ]
     },
     "metadata": {
      "needs_background": "light"
     },
     "output_type": "display_data"
    }
   ],
   "source": [
    "plt.scatter(df_simple['week'],df_simple['deaths'])\n",
    "plt.title(\"\")\n",
    "plt.show()"
   ]
  },
  {
   "cell_type": "markdown",
   "metadata": {},
   "source": [
    "#### Linear Regression"
   ]
  },
  {
   "cell_type": "markdown",
   "metadata": {},
   "source": [
    "**Model 1:**\n",
    "Simple Model uses only week number and the mean pm25 levels by county"
   ]
  },
  {
   "cell_type": "code",
   "execution_count": 379,
   "metadata": {},
   "outputs": [],
   "source": [
    "from sklearn.linear_model import LinearRegression\n",
    "linear_simple = LinearRegression().fit(X_train_simple, y_train_simple)\n",
    "y_pred_simple = model_simple.predict(X_test_simple)"
   ]
  },
  {
   "cell_type": "code",
   "execution_count": 380,
   "metadata": {},
   "outputs": [
    {
     "data": {
      "text/plain": [
       "10430.460991883792"
      ]
     },
     "execution_count": 380,
     "metadata": {},
     "output_type": "execute_result"
    }
   ],
   "source": [
    "from sklearn.metrics import mean_squared_error\n",
    "mse_score_linear_simple = mean_squared_error(y_test, y_pred_simple)\n",
    "mse_score_linear_simple #very bad score!"
   ]
  },
  {
   "cell_type": "markdown",
   "metadata": {},
   "source": [
    "**Model 2:**\n",
    "Add in demographic variables"
   ]
  },
  {
   "cell_type": "code",
   "execution_count": 381,
   "metadata": {},
   "outputs": [],
   "source": [
    "linear_demographic = LinearRegression().fit(X_train_demographic, y_train_demographic)\n",
    "y_pred_demographic = model_demographic.predict(X_test_demographic)"
   ]
  },
  {
   "cell_type": "code",
   "execution_count": 382,
   "metadata": {},
   "outputs": [
    {
     "data": {
      "text/plain": [
       "8755.195509315537"
      ]
     },
     "execution_count": 382,
     "metadata": {},
     "output_type": "execute_result"
    }
   ],
   "source": [
    "mse_score_linear_demographic = mean_squared_error(y_test, y_pred_demographic)\n",
    "mse_score_linear_demographic #pretty bad score!"
   ]
  },
  {
   "cell_type": "code",
   "execution_count": 383,
   "metadata": {},
   "outputs": [
    {
     "name": "stdout",
     "output_type": "stream",
     "text": [
      "Linear Regression predicted deaths, simple features:  41153.0\n",
      "Random Forest predicted deaths, add demographic features:  57867.0\n",
      "Actual deaths:  48829\n"
     ]
    }
   ],
   "source": [
    "print('Linear Regression predicted deaths, simple features: ', \n",
    "      round(y_pred_simple.sum().sum(),0)) \n",
    "\n",
    "print('Random Forest predicted deaths, add demographic features: ', \n",
    "      round(y_pred_demographic.sum(),0)) \n",
    "\n",
    "print(\"Actual deaths: \", y_test['deaths'].values.sum())"
   ]
  },
  {
   "cell_type": "markdown",
   "metadata": {},
   "source": [
    "#### Decision Tree Models"
   ]
  },
  {
   "cell_type": "code",
   "execution_count": 384,
   "metadata": {},
   "outputs": [
    {
     "name": "stderr",
     "output_type": "stream",
     "text": [
      "/Users/ericenglin/opt/anaconda3/lib/python3.7/site-packages/sklearn/ensemble/gradient_boosting.py:1450: DataConversionWarning:\n",
      "\n",
      "A column-vector y was passed when a 1d array was expected. Please change the shape of y to (n_samples, ), for example using ravel().\n",
      "\n",
      "/Users/ericenglin/opt/anaconda3/lib/python3.7/site-packages/sklearn/ensemble/gradient_boosting.py:1450: DataConversionWarning:\n",
      "\n",
      "A column-vector y was passed when a 1d array was expected. Please change the shape of y to (n_samples, ), for example using ravel().\n",
      "\n",
      "/Users/ericenglin/opt/anaconda3/lib/python3.7/site-packages/ipykernel_launcher.py:7: DataConversionWarning:\n",
      "\n",
      "A column-vector y was passed when a 1d array was expected. Please change the shape of y to (n_samples,), for example using ravel().\n",
      "\n",
      "/Users/ericenglin/opt/anaconda3/lib/python3.7/site-packages/ipykernel_launcher.py:8: DataConversionWarning:\n",
      "\n",
      "A column-vector y was passed when a 1d array was expected. Please change the shape of y to (n_samples,), for example using ravel().\n",
      "\n"
     ]
    }
   ],
   "source": [
    "from sklearn.ensemble import GradientBoostingRegressor\n",
    "from sklearn.ensemble import RandomForestRegressor\n",
    "\n",
    "# Training classifiers\n",
    "boosting_simple = GradientBoostingRegressor(random_state=1, n_estimators=15).fit(X_train_simple.values, y_train_simple.values)\n",
    "boosting_demographic = GradientBoostingRegressor(random_state=1, n_estimators=15).fit(X_train_demographic.values, y_train_demographic.values)\n",
    "rf_simple = RandomForestRegressor(random_state=1, n_estimators=15).fit(X_train_simple.values, y_train_simple.values)\n",
    "rf_demographic = RandomForestRegressor(random_state=1, n_estimators=15).fit(X_train_demographic.values, y_train_demographic.values)\n"
   ]
  },
  {
   "cell_type": "code",
   "execution_count": 385,
   "metadata": {},
   "outputs": [],
   "source": [
    "y_pred_boosting_simple = boosting_simple.predict(X_test_simple.values)\n",
    "y_pred_boosting_demographic = boosting_demographic.predict(X_test_demographic.values)\n",
    "y_pred_rf_simple = rf_simple.predict(X_test_simple.values)\n",
    "y_pred_rf_demographic = rf_demographic.predict(X_test_demographic.values)"
   ]
  },
  {
   "cell_type": "code",
   "execution_count": 386,
   "metadata": {},
   "outputs": [
    {
     "name": "stdout",
     "output_type": "stream",
     "text": [
      "Boosting, simple features:  9001.0\n",
      "Boosting, add demographic features:  4929.0\n",
      "Random Forest, simple features:  1934.0\n",
      "Random Forest, add demographic features:  1093.0\n"
     ]
    }
   ],
   "source": [
    "mse_score_boosting_simple = mean_squared_error(y_test, y_pred_boosting_simple)\n",
    "mse_score_boosting_demographic = mean_squared_error(y_test, y_pred_boosting_demographic)\n",
    "mse_score_rf_simple = mean_squared_error(y_test, y_pred_rf_simple)\n",
    "mse_score_rf_demographic = mean_squared_error(y_test, y_pred_rf_demographic)\n",
    "\n",
    "print('Boosting, simple features: ', round(mse_score_boosting_simple,0)) \n",
    "print('Boosting, add demographic features: ', round(mse_score_boosting_demographic,0)) \n",
    "print('Random Forest, simple features: ', round(mse_score_rf_simple,0)) \n",
    "print('Random Forest, add demographic features: ', round(mse_score_rf_demographic,0)) "
   ]
  },
  {
   "cell_type": "code",
   "execution_count": 387,
   "metadata": {},
   "outputs": [
    {
     "name": "stdout",
     "output_type": "stream",
     "text": [
      "Boosting predicted deaths, simple features:  29623.0\n",
      "Boosting predicted deaths, add demographic features:  23522.0\n",
      "Random Forest predicted deaths, simple features:  35765.0\n",
      "Random Forest predicted deaths, add demographic features:  35393.0\n",
      "Actual deaths:  48829\n"
     ]
    }
   ],
   "source": [
    "print('Boosting predicted deaths, simple features: ', \n",
    "      round(y_pred_boosting_simple.sum(),0))\n",
    "\n",
    "print('Boosting predicted deaths, add demographic features: ', \n",
    "      round(y_pred_boosting_demographic.sum(),0)) \n",
    "\n",
    "print('Random Forest predicted deaths, simple features: ', \n",
    "      round(y_pred_rf_simple.sum(),0)) \n",
    "\n",
    "print('Random Forest predicted deaths, add demographic features: ', \n",
    "      round(y_pred_rf_demographic.sum(),0)) \n",
    "\n",
    "print(\"Actual deaths: \", y_test['deaths'].values.sum())"
   ]
  },
  {
   "cell_type": "code",
   "execution_count": 388,
   "metadata": {},
   "outputs": [
    {
     "data": {
      "image/png": "[encoded data removed]",
      "text/plain": [
       "<Figure size 432x288 with 1 Axes>"
      ]
     },
     "metadata": {
      "needs_background": "light"
     },
     "output_type": "display_data"
    }
   ],
   "source": [
    "features = X_test_simple.columns\n",
    "importances = rf_simple.feature_importances_\n",
    "indices = np.argsort(importances)\n",
    "\n",
    "plt.title('Feature Importances')\n",
    "plt.barh(range(len(indices)), importances[indices], color='b', align='center')\n",
    "plt.yticks(range(len(indices)), [features[i] for i in indices])\n",
    "plt.xlabel('Relative Importance')\n",
    "plt.show()"
   ]
  },
  {
   "cell_type": "code",
   "execution_count": 389,
   "metadata": {},
   "outputs": [
    {
     "data": {
      "image/png": "[encoded data removed]",
      "text/plain": [
       "<Figure size 432x288 with 1 Axes>"
      ]
     },
     "metadata": {
      "needs_background": "light"
     },
     "output_type": "display_data"
    }
   ],
   "source": [
    "features = X_test_demographic.columns\n",
    "importances = rf_demographic.feature_importances_\n",
    "indices = np.argsort(importances)\n",
    "\n",
    "plt.title('Feature Importances')\n",
    "plt.barh(range(len(indices)), importances[indices], color='b', align='center')\n",
    "plt.yticks(range(len(indices)), [features[i] for i in indices])\n",
    "plt.xlabel('Relative Importance')\n",
    "plt.show()"
   ]
  },
  {
   "cell_type": "markdown",
   "metadata": {},
   "source": [
    "#### RNNs"
   ]
  },
  {
   "cell_type": "markdown",
   "metadata": {},
   "source": [
    "Code modified from tensorflow page: \n",
    "[LSTM Time Series](https://www.tensorflow.org/tutorials/structured_data/time_series)"
   ]
  },
  {
   "cell_type": "code",
   "execution_count": 564,
   "metadata": {},
   "outputs": [],
   "source": [
    "df_simple = df_simple.sort_values(by=['fips_new','week'],ascending=True)"
   ]
  },
  {
   "cell_type": "code",
   "execution_count": 496,
   "metadata": {},
   "outputs": [],
   "source": [
    "import tensorflow.keras.utils as utils"
   ]
  },
  {
   "cell_type": "code",
   "execution_count": 555,
   "metadata": {},
   "outputs": [],
   "source": [
    "uni_data = df_simple[['deaths','week']]\n",
    "uni_data.index = uni_data['week']\n",
    "uni_data=uni_data[['deaths']]\n",
    "uni_data = uni_data.values"
   ]
  },
  {
   "cell_type": "code",
   "execution_count": 550,
   "metadata": {},
   "outputs": [],
   "source": [
    "def univariate_data(dataset, start_index, end_index, history_size, target_size):\n",
    "    data = []\n",
    "    labels = []\n",
    "\n",
    "    start_index = start_index + history_size\n",
    "    if end_index is None:\n",
    "        end_index = len(dataset) - target_size\n",
    "\n",
    "    for i in range(start_index, end_index):\n",
    "        indices = range(i-history_size, i)\n",
    "        # Reshape data from (history_size,) to (history_size, 1)\n",
    "        data.append(np.reshape(dataset[indices], (history_size, 1)))\n",
    "        labels.append(dataset[i+target_size])\n",
    "    return np.array(data), np.array(labels)\n"
   ]
  },
  {
   "cell_type": "code",
   "execution_count": 598,
   "metadata": {},
   "outputs": [
    {
     "data": {
      "text/plain": [
       "(109, 1)"
      ]
     },
     "execution_count": 598,
     "metadata": {},
     "output_type": "execute_result"
    }
   ],
   "source": [
    "df_simple_rnn = df_joined_daylevel[['date','deaths']]\n",
    "df_simple_rnn = df_simple_rnn.groupby(['date']).agg(\n",
    "    { 'deaths':'sum'}\n",
    ")\n",
    "df_simple_rnn.shape"
   ]
  },
  {
   "cell_type": "code",
   "execution_count": 1113,
   "metadata": {},
   "outputs": [],
   "source": [
    "uni_data = df_simple_rnn\n",
    "uni_data=uni_data[['deaths']]\n",
    "uni_data = uni_data.values\n",
    "uni_data = uni_data[35:]"
   ]
  },
  {
   "cell_type": "code",
   "execution_count": 1114,
   "metadata": {},
   "outputs": [
    {
     "data": {
      "text/plain": [
       "(74, 1)"
      ]
     },
     "execution_count": 1114,
     "metadata": {},
     "output_type": "execute_result"
    }
   ],
   "source": [
    "uni_data.shape"
   ]
  },
  {
   "cell_type": "code",
   "execution_count": 1089,
   "metadata": {},
   "outputs": [],
   "source": [
    "def create_time_steps(length):\n",
    "    return list(range(-length, 0))\n"
   ]
  },
  {
   "cell_type": "code",
   "execution_count": 1090,
   "metadata": {},
   "outputs": [],
   "source": [
    "def show_plot(plot_data, delta, title):\n",
    "    labels = ['History', 'True Future', 'Model Prediction']\n",
    "    marker = ['.-', 'rx', 'go']\n",
    "    time_steps = create_time_steps(plot_data[0].shape[0])\n",
    "    if delta:\n",
    "        future = delta\n",
    "    else:\n",
    "        future = 0\n",
    "\n",
    "    plt.title(title)\n",
    "    for i, x in enumerate(plot_data):\n",
    "        if i:\n",
    "            plt.plot(future, plot_data[i], marker[i], markersize=10,\n",
    "                   label=labels[i])\n",
    "        else:\n",
    "            plt.plot(time_steps, plot_data[i].flatten(), marker[i], label=labels[i])\n",
    "    plt.legend()\n",
    "    plt.xlim([time_steps[0], (future+5)*2])\n",
    "    plt.xlabel('Time-Step')\n",
    "    return plt\n"
   ]
  },
  {
   "cell_type": "code",
   "execution_count": 1091,
   "metadata": {},
   "outputs": [],
   "source": [
    "def baseline(history):\n",
    "    return np.mean(history)\n"
   ]
  },
  {
   "cell_type": "code",
   "execution_count": 1118,
   "metadata": {},
   "outputs": [],
   "source": [
    "TRAIN_SPLIT=55\n",
    "univariate_past_history = 10\n",
    "univariate_future_target = 0\n",
    "\n",
    "x_train_uni, y_train_uni = univariate_data(uni_data, 0, TRAIN_SPLIT,\n",
    "                                           univariate_past_history,\n",
    "                                           univariate_future_target)\n",
    "\n",
    "x_val_uni, y_val_uni = univariate_data(uni_data, TRAIN_SPLIT, None,\n",
    "                                       univariate_past_history,\n",
    "                                       univariate_future_target)\n"
   ]
  },
  {
   "cell_type": "code",
   "execution_count": 1119,
   "metadata": {},
   "outputs": [
    {
     "data": {
      "text/plain": [
       "((45, 10, 1), (9, 10, 1))"
      ]
     },
     "execution_count": 1119,
     "metadata": {},
     "output_type": "execute_result"
    }
   ],
   "source": [
    "x_train_uni.shape, x_val_uni.shape"
   ]
  },
  {
   "cell_type": "code",
   "execution_count": 1120,
   "metadata": {},
   "outputs": [
    {
     "data": {
      "text/plain": [
       "<module 'matplotlib.pyplot' from '/Users/ericenglin/opt/anaconda3/lib/python3.7/site-packages/matplotlib/pyplot.py'>"
      ]
     },
     "execution_count": 1120,
     "metadata": {},
     "output_type": "execute_result"
    },
    {
     "data": {
      "image/png": "[encoded data removed]",
      "text/plain": [
       "<Figure size 432x288 with 1 Axes>"
      ]
     },
     "metadata": {
      "needs_background": "light"
     },
     "output_type": "display_data"
    }
   ],
   "source": [
    "show_plot([x_train_uni[20], y_train_uni[20], baseline(x_train_uni[20])], 0,\n",
    "           'Baseline Prediction Example')\n"
   ]
  },
  {
   "cell_type": "code",
   "execution_count": 1121,
   "metadata": {},
   "outputs": [],
   "source": [
    "import tensorflow as tf\n",
    "BATCH_SIZE = 1\n",
    "BUFFER_SIZE = 100\n",
    "\n",
    "train_univariate = tf.data.Dataset.from_tensor_slices((x_train_uni, y_train_uni))\n",
    "train_univariate = train_univariate.cache().shuffle(BUFFER_SIZE).batch(BATCH_SIZE).repeat()\n",
    "\n",
    "val_univariate = tf.data.Dataset.from_tensor_slices((x_val_uni, y_val_uni))\n",
    "val_univariate = val_univariate.shuffle(BUFFER_SIZE).batch(BATCH_SIZE).repeat()\n",
    "\n"
   ]
  },
  {
   "cell_type": "code",
   "execution_count": 1122,
   "metadata": {},
   "outputs": [
    {
     "name": "stdout",
     "output_type": "stream",
     "text": [
      "Model: \"sequential_43\"\n",
      "_________________________________________________________________\n",
      "Layer (type)                 Output Shape              Param #   \n",
      "=================================================================\n",
      "lstm_44 (LSTM)               (None, 200)               161600    \n",
      "_________________________________________________________________\n",
      "dense_43 (Dense)             (None, 1)                 201       \n",
      "=================================================================\n",
      "Total params: 161,801\n",
      "Trainable params: 161,801\n",
      "Non-trainable params: 0\n",
      "_________________________________________________________________\n"
     ]
    }
   ],
   "source": [
    "simple_lstm_model = tf.keras.models.Sequential([\n",
    "    tf.keras.layers.LSTM(200, input_shape=x_train_uni.shape[-2:]),\n",
    "    tf.keras.layers.Dense(1, activation='exponential')\n",
    "])\n",
    "\n",
    "simple_lstm_model.compile(optimizer=tf.keras.optimizers.Adam(0.001), loss='mae')\n",
    "simple_lstm_model.summary()"
   ]
  },
  {
   "cell_type": "code",
   "execution_count": 1123,
   "metadata": {
    "scrolled": true
   },
   "outputs": [
    {
     "name": "stdout",
     "output_type": "stream",
     "text": [
      "Train for 100 steps, validate for 100 steps\n",
      "Epoch 1/30\n",
      "100/100 [==============================] - 2s 19ms/step - loss: 5876.3113 - val_loss: 49194.4339\n",
      "Epoch 2/30\n",
      "100/100 [==============================] - 1s 6ms/step - loss: 5118.8510 - val_loss: 49231.0952\n",
      "Epoch 3/30\n",
      "100/100 [==============================] - 1s 6ms/step - loss: 4603.5758 - val_loss: 46419.2997\n",
      "Epoch 4/30\n",
      "100/100 [==============================] - 1s 6ms/step - loss: 3452.1191 - val_loss: 41948.7130\n",
      "Epoch 5/30\n",
      "100/100 [==============================] - 1s 6ms/step - loss: 3339.1978 - val_loss: 41696.4494\n",
      "Epoch 6/30\n",
      "100/100 [==============================] - 1s 6ms/step - loss: 2855.8794 - val_loss: 40911.5159\n",
      "Epoch 7/30\n",
      "100/100 [==============================] - 1s 7ms/step - loss: 2567.5986 - val_loss: 43477.1241\n",
      "Epoch 8/30\n",
      "100/100 [==============================] - 1s 6ms/step - loss: 3417.7100 - val_loss: 42948.0784\n",
      "Epoch 9/30\n",
      "100/100 [==============================] - 1s 7ms/step - loss: 3315.5418 - val_loss: 46587.1416\n",
      "Epoch 10/30\n",
      "100/100 [==============================] - 1s 7ms/step - loss: 3448.7859 - val_loss: 46674.8752\n",
      "Epoch 11/30\n",
      "100/100 [==============================] - 1s 7ms/step - loss: 3046.9428 - val_loss: 42611.3283\n",
      "Epoch 12/30\n",
      "100/100 [==============================] - 1s 7ms/step - loss: 3888.5660 - val_loss: 44916.4767\n",
      "Epoch 13/30\n",
      "100/100 [==============================] - 1s 7ms/step - loss: 3263.7608 - val_loss: 41064.8848\n",
      "Epoch 14/30\n",
      "100/100 [==============================] - 1s 6ms/step - loss: 3553.8773 - val_loss: 46360.2989\n",
      "Epoch 15/30\n",
      "100/100 [==============================] - 1s 7ms/step - loss: 3236.2779 - val_loss: 41090.7139\n",
      "Epoch 16/30\n",
      "100/100 [==============================] - 1s 7ms/step - loss: 3152.0390 - val_loss: 43310.2150\n",
      "Epoch 17/30\n",
      "100/100 [==============================] - 1s 6ms/step - loss: 3213.0491 - val_loss: 36005.0470\n",
      "Epoch 18/30\n",
      "100/100 [==============================] - 1s 7ms/step - loss: 3020.6232 - val_loss: 42445.2783\n",
      "Epoch 19/30\n",
      "100/100 [==============================] - 1s 7ms/step - loss: 2801.0728 - val_loss: 40707.1591\n",
      "Epoch 20/30\n",
      "100/100 [==============================] - 1s 7ms/step - loss: 2151.7645 - val_loss: 42976.0198\n",
      "Epoch 21/30\n",
      "100/100 [==============================] - 1s 7ms/step - loss: 3490.8450 - val_loss: 44662.6670\n",
      "Epoch 22/30\n",
      "100/100 [==============================] - 1s 7ms/step - loss: 3487.8998 - val_loss: 41809.8819\n",
      "Epoch 23/30\n",
      "100/100 [==============================] - 1s 7ms/step - loss: 2174.5445 - val_loss: 35308.3297\n",
      "Epoch 24/30\n",
      "100/100 [==============================] - 1s 7ms/step - loss: 2757.3560 - val_loss: 40560.1114\n",
      "Epoch 25/30\n",
      "100/100 [==============================] - 1s 8ms/step - loss: 3274.3748 - val_loss: 40229.1021\n",
      "Epoch 26/30\n",
      "100/100 [==============================] - 1s 7ms/step - loss: 3195.1370 - val_loss: 44774.5137\n",
      "Epoch 27/30\n",
      "100/100 [==============================] - 1s 7ms/step - loss: 2763.4286 - val_loss: 42265.7113\n",
      "Epoch 28/30\n",
      "100/100 [==============================] - 1s 7ms/step - loss: 3089.9840 - val_loss: 40900.5244\n",
      "Epoch 29/30\n",
      "100/100 [==============================] - 1s 8ms/step - loss: 2966.3908 - val_loss: 44734.8700\n",
      "Epoch 30/30\n",
      "100/100 [==============================] - 1s 8ms/step - loss: 3148.8730 - val_loss: 39426.8803\n"
     ]
    },
    {
     "data": {
      "text/plain": [
       "<tensorflow.python.keras.callbacks.History at 0x18e841cd0>"
      ]
     },
     "execution_count": 1123,
     "metadata": {},
     "output_type": "execute_result"
    }
   ],
   "source": [
    "EVALUATION_INTERVAL = 100\n",
    "EPOCHS = 30\n",
    "\n",
    "simple_lstm_model.fit(train_univariate, epochs=EPOCHS,\n",
    "                      steps_per_epoch=EVALUATION_INTERVAL,\n",
    "                      validation_data=val_univariate, validation_steps=100)\n"
   ]
  },
  {
   "cell_type": "code",
   "execution_count": 1124,
   "metadata": {
    "scrolled": false
   },
   "outputs": [
    {
     "name": "stdout",
     "output_type": "stream",
     "text": [
      "tf.Tensor([52044], shape=(1,), dtype=int64)\n",
      "[11641.931]\n"
     ]
    },
    {
     "data": {
      "image/png": "[encoded data removed]",
      "text/plain": [
       "<Figure size 432x288 with 1 Axes>"
      ]
     },
     "metadata": {
      "needs_background": "light"
     },
     "output_type": "display_data"
    }
   ],
   "source": [
    "for x, y in val_univariate.take(1):\n",
    "    #print(x[0])\n",
    "    print(y[0])\n",
    "    print(simple_lstm_model.predict(x)[0])\n",
    "    plot = show_plot([x[0].numpy(), y[0].numpy(),\n",
    "                    simple_lstm_model.predict(x)[0]], 0, 'Simple LSTM model')\n",
    "    plot.show()\n"
   ]
  },
  {
   "cell_type": "code",
   "execution_count": 1125,
   "metadata": {
    "scrolled": true
   },
   "outputs": [],
   "source": [
    "count = 6\n",
    "lstm_simple_preds = []\n",
    "\n",
    "temp_preds = x_val_uni[-1]\n",
    "for t in range(110,270):\n",
    "    #print(temp_preds)\n",
    "    yhat = simple_lstm_model.predict(temp_preds.reshape(1,10,1))\n",
    "    temp_preds = temp_preds[1:]\n",
    "    temp_preds= np.append(temp_preds,yhat)\n",
    "    count+=1\n",
    "    if count % 7 ==0:\n",
    "        lstm_simple_preds.append(yhat[0][0])\n"
   ]
  },
  {
   "cell_type": "code",
   "execution_count": 1126,
   "metadata": {},
   "outputs": [],
   "source": [
    "extrapolation_df['LSTM_Simple']=lstm_simple_preds\n"
   ]
  },
  {
   "cell_type": "markdown",
   "metadata": {},
   "source": [
    "**LSTM with Mean PM 25 Levels**"
   ]
  },
  {
   "cell_type": "code",
   "execution_count": 1157,
   "metadata": {},
   "outputs": [
    {
     "data": {
      "text/plain": [
       "53061    109\n",
       "17031    106\n",
       "06059    105\n",
       "06037    104\n",
       "04013    104\n",
       "        ... \n",
       "19147      1\n",
       "19071      1\n",
       "32017      1\n",
       "48389      1\n",
       "48267      1\n",
       "Name: fips_new, Length: 2878, dtype: int64"
      ]
     },
     "execution_count": 1157,
     "metadata": {},
     "output_type": "execute_result"
    }
   ],
   "source": [
    "df_joined_daylevel['fips_new'].value_counts()"
   ]
  },
  {
   "cell_type": "code",
   "execution_count": 1165,
   "metadata": {},
   "outputs": [
    {
     "data": {
      "text/plain": [
       "6.39109691627914"
      ]
     },
     "execution_count": 1165,
     "metadata": {},
     "output_type": "execute_result"
    }
   ],
   "source": [
    "df_lstm_simple.loc[df_lstm_simple['fips_new']=='53061']['mean_pm25'].unique()[0]\n"
   ]
  },
  {
   "cell_type": "code",
   "execution_count": 1166,
   "metadata": {},
   "outputs": [
    {
     "data": {
      "text/html": [
       "<div>\n",
       "<style scoped>\n",
       "    .dataframe tbody tr th:only-of-type {\n",
       "        vertical-align: middle;\n",
       "    }\n",
       "\n",
       "    .dataframe tbody tr th {\n",
       "        vertical-align: top;\n",
       "    }\n",
       "\n",
       "    .dataframe thead th {\n",
       "        text-align: right;\n",
       "    }\n",
       "</style>\n",
       "<table border=\"1\" class=\"dataframe\">\n",
       "  <thead>\n",
       "    <tr style=\"text-align: right;\">\n",
       "      <th></th>\n",
       "      <th>fips_new</th>\n",
       "      <th>date</th>\n",
       "      <th>deaths</th>\n",
       "      <th>mean_pm25</th>\n",
       "    </tr>\n",
       "  </thead>\n",
       "  <tbody>\n",
       "    <tr>\n",
       "      <td>0</td>\n",
       "      <td>53061</td>\n",
       "      <td>2020-01-21</td>\n",
       "      <td>0</td>\n",
       "      <td>6.391097</td>\n",
       "    </tr>\n",
       "    <tr>\n",
       "      <td>1</td>\n",
       "      <td>53061</td>\n",
       "      <td>2020-01-22</td>\n",
       "      <td>0</td>\n",
       "      <td>6.391097</td>\n",
       "    </tr>\n",
       "    <tr>\n",
       "      <td>2</td>\n",
       "      <td>53061</td>\n",
       "      <td>2020-01-23</td>\n",
       "      <td>0</td>\n",
       "      <td>6.391097</td>\n",
       "    </tr>\n",
       "    <tr>\n",
       "      <td>3</td>\n",
       "      <td>17031</td>\n",
       "      <td>2020-01-24</td>\n",
       "      <td>0</td>\n",
       "      <td>13.370310</td>\n",
       "    </tr>\n",
       "    <tr>\n",
       "      <td>4</td>\n",
       "      <td>53061</td>\n",
       "      <td>2020-01-24</td>\n",
       "      <td>0</td>\n",
       "      <td>6.391097</td>\n",
       "    </tr>\n",
       "  </tbody>\n",
       "</table>\n",
       "</div>"
      ],
      "text/plain": [
       "  fips_new       date  deaths  mean_pm25\n",
       "0    53061 2020-01-21       0   6.391097\n",
       "1    53061 2020-01-22       0   6.391097\n",
       "2    53061 2020-01-23       0   6.391097\n",
       "3    17031 2020-01-24       0  13.370310\n",
       "4    53061 2020-01-24       0   6.391097"
      ]
     },
     "execution_count": 1166,
     "metadata": {},
     "output_type": "execute_result"
    }
   ],
   "source": [
    "df_lstm_simple.head()"
   ]
  },
  {
   "cell_type": "code",
   "execution_count": 1231,
   "metadata": {
    "scrolled": true
   },
   "outputs": [
    {
     "name": "stdout",
     "output_type": "stream",
     "text": [
      "29019\n",
      "150152\n",
      "47151\n",
      "179325\n",
      "54069\n",
      "210654\n",
      "29117\n",
      "243956\n",
      "51045\n",
      "280275\n"
     ]
    }
   ],
   "source": [
    "df_lstm_simple = df_joined_daylevel[simple_columns].drop(columns = \n",
    "                                            ['week','cases'])\n",
    "\n",
    "unique_date_list = df_joined_daylevel.date.unique().tolist()\n",
    "date_list = df_lstm_simple['date'].tolist()\n",
    "fips_list = df_lstm_simple['fips_new'].tolist()\n",
    "pm25_list = df_lstm_simple['mean_pm25'].tolist()\n",
    "death_list = df_lstm_simple['deaths'].tolist()\n",
    "count = 0\n",
    "for x in df_lstm_simple['fips_new'].unique():\n",
    "    count+=1\n",
    "    if count%500 ==0:\n",
    "        print(x)\n",
    "        print(len(death_list))\n",
    "    temp_df = df_lstm_simple.loc[df_lstm_simple['fips_new']==x]\n",
    "    pm25_level = temp_df['mean_pm25'].unique()[0]\n",
    "    temp_death_list = [0]*(109-len(temp_df))\n",
    "    temp_date_list = unique_date_list[:(109-len(temp_df))]\n",
    "    temp_pm25_list = [pm25_level]*(109-len(temp_df))\n",
    "    temp_fips_list = [x]*(109-len(temp_df))\n",
    "    date_list= date_list + temp_date_list\n",
    "    fips_list=fips_list + temp_fips_list\n",
    "    pm25_list=pm25_list+temp_pm25_list\n",
    "    death_list=death_list+temp_death_list            \n",
    "\n",
    "df_lstm_simple = pd.DataFrame({\n",
    "    'date':date_list,'fips_new':fips_list,\n",
    "    'mean_pm25':pm25_list, 'deaths':death_list\n",
    "})\n",
    "\n",
    "\n"
   ]
  },
  {
   "cell_type": "code",
   "execution_count": 1232,
   "metadata": {},
   "outputs": [
    {
     "data": {
      "text/plain": [
       "(313702, 4)"
      ]
     },
     "execution_count": 1232,
     "metadata": {},
     "output_type": "execute_result"
    }
   ],
   "source": [
    "df_lstm_simple.shape"
   ]
  },
  {
   "cell_type": "code",
   "execution_count": 1248,
   "metadata": {},
   "outputs": [
    {
     "data": {
      "text/html": [
       "<div>\n",
       "<style scoped>\n",
       "    .dataframe tbody tr th:only-of-type {\n",
       "        vertical-align: middle;\n",
       "    }\n",
       "\n",
       "    .dataframe tbody tr th {\n",
       "        vertical-align: top;\n",
       "    }\n",
       "\n",
       "    .dataframe thead th {\n",
       "        text-align: right;\n",
       "    }\n",
       "</style>\n",
       "<table border=\"1\" class=\"dataframe\">\n",
       "  <thead>\n",
       "    <tr style=\"text-align: right;\">\n",
       "      <th></th>\n",
       "      <th>deaths</th>\n",
       "      <th>mean_pm25</th>\n",
       "    </tr>\n",
       "    <tr>\n",
       "      <th>date</th>\n",
       "      <th></th>\n",
       "      <th></th>\n",
       "    </tr>\n",
       "  </thead>\n",
       "  <tbody>\n",
       "    <tr>\n",
       "      <td>2020-01-21</td>\n",
       "      <td>0</td>\n",
       "      <td>6.391097</td>\n",
       "    </tr>\n",
       "    <tr>\n",
       "      <td>2020-01-22</td>\n",
       "      <td>0</td>\n",
       "      <td>6.391097</td>\n",
       "    </tr>\n",
       "    <tr>\n",
       "      <td>2020-01-23</td>\n",
       "      <td>0</td>\n",
       "      <td>6.391097</td>\n",
       "    </tr>\n",
       "    <tr>\n",
       "      <td>2020-01-24</td>\n",
       "      <td>0</td>\n",
       "      <td>13.370310</td>\n",
       "    </tr>\n",
       "    <tr>\n",
       "      <td>2020-01-24</td>\n",
       "      <td>0</td>\n",
       "      <td>6.391097</td>\n",
       "    </tr>\n",
       "    <tr>\n",
       "      <td>...</td>\n",
       "      <td>...</td>\n",
       "      <td>...</td>\n",
       "    </tr>\n",
       "    <tr>\n",
       "      <td>2020-05-08</td>\n",
       "      <td>0</td>\n",
       "      <td>3.655962</td>\n",
       "    </tr>\n",
       "    <tr>\n",
       "      <td>2020-05-08</td>\n",
       "      <td>0</td>\n",
       "      <td>4.896375</td>\n",
       "    </tr>\n",
       "    <tr>\n",
       "      <td>2020-05-08</td>\n",
       "      <td>1</td>\n",
       "      <td>3.867683</td>\n",
       "    </tr>\n",
       "    <tr>\n",
       "      <td>2020-05-08</td>\n",
       "      <td>0</td>\n",
       "      <td>5.088060</td>\n",
       "    </tr>\n",
       "    <tr>\n",
       "      <td>2020-05-08</td>\n",
       "      <td>0</td>\n",
       "      <td>5.025529</td>\n",
       "    </tr>\n",
       "  </tbody>\n",
       "</table>\n",
       "<p>125374 rows × 2 columns</p>\n",
       "</div>"
      ],
      "text/plain": [
       "            deaths  mean_pm25\n",
       "date                         \n",
       "2020-01-21       0   6.391097\n",
       "2020-01-22       0   6.391097\n",
       "2020-01-23       0   6.391097\n",
       "2020-01-24       0  13.370310\n",
       "2020-01-24       0   6.391097\n",
       "...            ...        ...\n",
       "2020-05-08       0   3.655962\n",
       "2020-05-08       0   4.896375\n",
       "2020-05-08       1   3.867683\n",
       "2020-05-08       0   5.088060\n",
       "2020-05-08       0   5.025529\n",
       "\n",
       "[125374 rows x 2 columns]"
      ]
     },
     "execution_count": 1248,
     "metadata": {},
     "output_type": "execute_result"
    }
   ],
   "source": [
    "#df_lstm_simple = df_lstm_simple.sort_values(by=['fips_new','date'])\n",
    "df_lstm_simple = df_joined_daylevel[simple_columns].drop(columns = \n",
    "                                            ['fips_new'])\n",
    "\n",
    "df_lstm_simple.index = df_lstm_simple['date']\n",
    "df_lstm_simple=df_lstm_simple[['deaths','mean_pm25']]\n",
    "df_lstm_simple"
   ]
  },
  {
   "cell_type": "code",
   "execution_count": null,
   "metadata": {},
   "outputs": [],
   "source": []
  },
  {
   "cell_type": "code",
   "execution_count": null,
   "metadata": {},
   "outputs": [],
   "source": []
  },
  {
   "cell_type": "code",
   "execution_count": null,
   "metadata": {},
   "outputs": [],
   "source": []
  },
  {
   "cell_type": "code",
   "execution_count": null,
   "metadata": {},
   "outputs": [],
   "source": []
  },
  {
   "cell_type": "code",
   "execution_count": null,
   "metadata": {},
   "outputs": [],
   "source": []
  },
  {
   "cell_type": "code",
   "execution_count": null,
   "metadata": {},
   "outputs": [],
   "source": []
  },
  {
   "cell_type": "markdown",
   "metadata": {},
   "source": [
    "#### Extrapolate Models Until August"
   ]
  },
  {
   "cell_type": "markdown",
   "metadata": {},
   "source": [
    "**Change Test Dataset to have weeks until September**"
   ]
  },
  {
   "cell_type": "code",
   "execution_count": 462,
   "metadata": {},
   "outputs": [],
   "source": [
    "extrapolation_df = pd.DataFrame()\n",
    "extrapolation_df['week']=range(18,41)"
   ]
  },
  {
   "cell_type": "code",
   "execution_count": 463,
   "metadata": {},
   "outputs": [],
   "source": [
    "df_graph = df_joined[['week','deaths']].groupby(['week']).agg(\n",
    "    deaths=('deaths', 'sum'))\n",
    "\n",
    "df_graph=df_graph.reset_index()"
   ]
  },
  {
   "cell_type": "code",
   "execution_count": 473,
   "metadata": {},
   "outputs": [
    {
     "name": "stdout",
     "output_type": "stream",
     "text": [
      "done with:  linear\n",
      "done with:  boosting\n",
      "done with:  random forest\n",
      "done with:  linear dem\n",
      "done with:  boosting dem\n",
      "done with:  random forest dem\n"
     ]
    }
   ],
   "source": [
    "for model,name in zip(simple_models,['linear','boosting','random forest']):\n",
    "    temp_pred_list = []\n",
    "    temp_x_train_df = X_train_simple\n",
    "    temp_y_train_df = y_train_simple\n",
    "    for y in range(18,41):\n",
    "        temp_test_df = X_test_simple\n",
    "        temp_test_df['week'] = y\n",
    "        temp_model = model.fit(temp_x_train_df.values, temp_y_train_df.values.ravel())\n",
    "\n",
    "        temp_y_preds = temp_model.predict(temp_test_df.values)\n",
    "        temp_week_sums = round(temp_y_preds.sum(),0)\n",
    "        temp_pred_list.append(temp_week_sums)\n",
    "        temp_x_train_df=temp_x_train_df.append(temp_test_df)\n",
    "        temp_y_pred_df = pd.DataFrame({'deaths':temp_y_preds.reshape(-1)})\n",
    "        temp_y_train_df=temp_y_train_df.append(temp_y_pred_df)\n",
    "    extrapolation_df[name]=temp_pred_list\n",
    "    print('done with: ', name)\n",
    "    \n",
    "for model,name in zip(demographic_models,['linear dem','boosting dem','random forest dem']):\n",
    "    temp_pred_list = []\n",
    "    temp_x_train_df = X_train_demographic\n",
    "    temp_y_train_df = y_train_demographic\n",
    "    for y in range(18,41):\n",
    "        temp_test_df = X_test_demographic\n",
    "        temp_test_df['week'] = y\n",
    "        temp_model = model.fit(temp_x_train_df.values, temp_y_train_df.values.ravel())\n",
    "        temp_y_preds = temp_model.predict(temp_test_df.values)\n",
    "        temp_week_sums = round(temp_y_preds.sum(),0)\n",
    "        temp_pred_list.append(temp_week_sums)\n",
    "        temp_x_train_df=temp_x_train_df.append(temp_test_df)\n",
    "        temp_y_pred_df = pd.DataFrame({'deaths':temp_y_preds.reshape(-1)})\n",
    "        temp_y_train_df=temp_y_train_df.append(temp_y_pred_df)\n",
    "    extrapolation_df[name]=temp_pred_list\n",
    "    print('done with: ', name)\n"
   ]
  },
  {
   "cell_type": "code",
   "execution_count": null,
   "metadata": {},
   "outputs": [],
   "source": []
  },
  {
   "cell_type": "code",
   "execution_count": 888,
   "metadata": {},
   "outputs": [
    {
     "data": {
      "text/plain": [
       "((2810, 1), 2186.8888888888887)"
      ]
     },
     "execution_count": 888,
     "metadata": {},
     "output_type": "execute_result"
    }
   ],
   "source": [
    "temp_y_pred_df.shape, temp_y_train_df.shape[0]/36"
   ]
  },
  {
   "cell_type": "code",
   "execution_count": 881,
   "metadata": {},
   "outputs": [
    {
     "data": {
      "text/plain": [
       "Index(['week', 'mean_pm25', 'pct_native', 'popdensity', 'older_percent',\n",
       "       'hispanic', 'Long_', 'population', 'population_frac_county', 'poverty',\n",
       "       'mean_summer_temp', 'Lat', 'mean_winter_rm', 'education',\n",
       "       'mean_winter_temp', 'pct_owner_occ', 'medhouseholdincome',\n",
       "       'medianhousevalue', 'pct_asian', 'pct_white', 'pct_blk'],\n",
       "      dtype='object')"
      ]
     },
     "execution_count": 881,
     "metadata": {},
     "output_type": "execute_result"
    }
   ],
   "source": [
    "X_test_demographic.columns"
   ]
  },
  {
   "cell_type": "code",
   "execution_count": 1043,
   "metadata": {},
   "outputs": [
    {
     "data": {
      "text/html": [
       "<div>\n",
       "<style scoped>\n",
       "    .dataframe tbody tr th:only-of-type {\n",
       "        vertical-align: middle;\n",
       "    }\n",
       "\n",
       "    .dataframe tbody tr th {\n",
       "        vertical-align: top;\n",
       "    }\n",
       "\n",
       "    .dataframe thead th {\n",
       "        text-align: right;\n",
       "    }\n",
       "</style>\n",
       "<table border=\"1\" class=\"dataframe\">\n",
       "  <thead>\n",
       "    <tr style=\"text-align: right;\">\n",
       "      <th></th>\n",
       "      <th>week</th>\n",
       "      <th>linear</th>\n",
       "      <th>boosting</th>\n",
       "      <th>random forest</th>\n",
       "      <th>linear dem</th>\n",
       "      <th>boosting dem</th>\n",
       "      <th>random forest dem</th>\n",
       "      <th>ARIMA</th>\n",
       "      <th>LSTM_Simple</th>\n",
       "    </tr>\n",
       "  </thead>\n",
       "  <tbody>\n",
       "    <tr>\n",
       "      <td>0</td>\n",
       "      <td>18</td>\n",
       "      <td>41153.0</td>\n",
       "      <td>29623.0</td>\n",
       "      <td>35765.0</td>\n",
       "      <td>57867.0</td>\n",
       "      <td>23522.0</td>\n",
       "      <td>35393.0</td>\n",
       "      <td>[59153.66707783859]</td>\n",
       "      <td>9541.776367</td>\n",
       "    </tr>\n",
       "    <tr>\n",
       "      <td>1</td>\n",
       "      <td>19</td>\n",
       "      <td>48743.0</td>\n",
       "      <td>28218.0</td>\n",
       "      <td>36698.0</td>\n",
       "      <td>72245.0</td>\n",
       "      <td>22094.0</td>\n",
       "      <td>35316.0</td>\n",
       "      <td>[70909.4172005092]</td>\n",
       "      <td>9541.868164</td>\n",
       "    </tr>\n",
       "    <tr>\n",
       "      <td>2</td>\n",
       "      <td>20</td>\n",
       "      <td>56334.0</td>\n",
       "      <td>27628.0</td>\n",
       "      <td>36978.0</td>\n",
       "      <td>86624.0</td>\n",
       "      <td>22113.0</td>\n",
       "      <td>35721.0</td>\n",
       "      <td>[82142.14990425466]</td>\n",
       "      <td>9541.868164</td>\n",
       "    </tr>\n",
       "    <tr>\n",
       "      <td>3</td>\n",
       "      <td>21</td>\n",
       "      <td>63924.0</td>\n",
       "      <td>27186.0</td>\n",
       "      <td>37072.0</td>\n",
       "      <td>101002.0</td>\n",
       "      <td>22130.0</td>\n",
       "      <td>35818.0</td>\n",
       "      <td>[92958.52352308914]</td>\n",
       "      <td>9541.868164</td>\n",
       "    </tr>\n",
       "    <tr>\n",
       "      <td>4</td>\n",
       "      <td>22</td>\n",
       "      <td>71515.0</td>\n",
       "      <td>27025.0</td>\n",
       "      <td>37131.0</td>\n",
       "      <td>115380.0</td>\n",
       "      <td>21615.0</td>\n",
       "      <td>35762.0</td>\n",
       "      <td>[103427.73030284763]</td>\n",
       "      <td>9541.868164</td>\n",
       "    </tr>\n",
       "    <tr>\n",
       "      <td>5</td>\n",
       "      <td>23</td>\n",
       "      <td>79105.0</td>\n",
       "      <td>26962.0</td>\n",
       "      <td>37167.0</td>\n",
       "      <td>129758.0</td>\n",
       "      <td>21707.0</td>\n",
       "      <td>35760.0</td>\n",
       "      <td>[113575.52972318421]</td>\n",
       "      <td>9541.868164</td>\n",
       "    </tr>\n",
       "    <tr>\n",
       "      <td>6</td>\n",
       "      <td>24</td>\n",
       "      <td>86696.0</td>\n",
       "      <td>27062.0</td>\n",
       "      <td>37212.0</td>\n",
       "      <td>144136.0</td>\n",
       "      <td>21687.0</td>\n",
       "      <td>35772.0</td>\n",
       "      <td>[123427.2277193256]</td>\n",
       "      <td>9541.868164</td>\n",
       "    </tr>\n",
       "    <tr>\n",
       "      <td>7</td>\n",
       "      <td>25</td>\n",
       "      <td>94286.0</td>\n",
       "      <td>27221.0</td>\n",
       "      <td>37279.0</td>\n",
       "      <td>158514.0</td>\n",
       "      <td>21238.0</td>\n",
       "      <td>35762.0</td>\n",
       "      <td>[133006.07526894764]</td>\n",
       "      <td>9541.868164</td>\n",
       "    </tr>\n",
       "    <tr>\n",
       "      <td>8</td>\n",
       "      <td>26</td>\n",
       "      <td>101877.0</td>\n",
       "      <td>27039.0</td>\n",
       "      <td>37366.0</td>\n",
       "      <td>172892.0</td>\n",
       "      <td>21229.0</td>\n",
       "      <td>35766.0</td>\n",
       "      <td>[142332.4417315298]</td>\n",
       "      <td>9541.868164</td>\n",
       "    </tr>\n",
       "    <tr>\n",
       "      <td>9</td>\n",
       "      <td>27</td>\n",
       "      <td>109467.0</td>\n",
       "      <td>26942.0</td>\n",
       "      <td>37334.0</td>\n",
       "      <td>187271.0</td>\n",
       "      <td>21265.0</td>\n",
       "      <td>35765.0</td>\n",
       "      <td>[151424.7662813168]</td>\n",
       "      <td>9541.868164</td>\n",
       "    </tr>\n",
       "    <tr>\n",
       "      <td>10</td>\n",
       "      <td>28</td>\n",
       "      <td>117058.0</td>\n",
       "      <td>26977.0</td>\n",
       "      <td>37329.0</td>\n",
       "      <td>201649.0</td>\n",
       "      <td>21352.0</td>\n",
       "      <td>35767.0</td>\n",
       "      <td>[160299.64102149417]</td>\n",
       "      <td>9541.868164</td>\n",
       "    </tr>\n",
       "    <tr>\n",
       "      <td>11</td>\n",
       "      <td>29</td>\n",
       "      <td>124648.0</td>\n",
       "      <td>26971.0</td>\n",
       "      <td>37337.0</td>\n",
       "      <td>216027.0</td>\n",
       "      <td>21131.0</td>\n",
       "      <td>35766.0</td>\n",
       "      <td>[168971.8464929948]</td>\n",
       "      <td>9541.868164</td>\n",
       "    </tr>\n",
       "    <tr>\n",
       "      <td>12</td>\n",
       "      <td>30</td>\n",
       "      <td>132239.0</td>\n",
       "      <td>27129.0</td>\n",
       "      <td>37339.0</td>\n",
       "      <td>230405.0</td>\n",
       "      <td>21159.0</td>\n",
       "      <td>35767.0</td>\n",
       "      <td>[177454.80733678179]</td>\n",
       "      <td>9541.868164</td>\n",
       "    </tr>\n",
       "    <tr>\n",
       "      <td>13</td>\n",
       "      <td>31</td>\n",
       "      <td>139829.0</td>\n",
       "      <td>27038.0</td>\n",
       "      <td>37339.0</td>\n",
       "      <td>244783.0</td>\n",
       "      <td>21132.0</td>\n",
       "      <td>35767.0</td>\n",
       "      <td>[185761.25814053963]</td>\n",
       "      <td>9541.868164</td>\n",
       "    </tr>\n",
       "    <tr>\n",
       "      <td>14</td>\n",
       "      <td>32</td>\n",
       "      <td>147420.0</td>\n",
       "      <td>26920.0</td>\n",
       "      <td>37341.0</td>\n",
       "      <td>259161.0</td>\n",
       "      <td>21128.0</td>\n",
       "      <td>35767.0</td>\n",
       "      <td>[193902.2761765443]</td>\n",
       "      <td>9541.868164</td>\n",
       "    </tr>\n",
       "    <tr>\n",
       "      <td>15</td>\n",
       "      <td>33</td>\n",
       "      <td>155011.0</td>\n",
       "      <td>27097.0</td>\n",
       "      <td>37344.0</td>\n",
       "      <td>273540.0</td>\n",
       "      <td>20948.0</td>\n",
       "      <td>35767.0</td>\n",
       "      <td>[201888.2136841963]</td>\n",
       "      <td>9541.868164</td>\n",
       "    </tr>\n",
       "    <tr>\n",
       "      <td>16</td>\n",
       "      <td>34</td>\n",
       "      <td>162601.0</td>\n",
       "      <td>27067.0</td>\n",
       "      <td>37347.0</td>\n",
       "      <td>287918.0</td>\n",
       "      <td>21153.0</td>\n",
       "      <td>35767.0</td>\n",
       "      <td>[209728.32925923445]</td>\n",
       "      <td>9541.868164</td>\n",
       "    </tr>\n",
       "    <tr>\n",
       "      <td>17</td>\n",
       "      <td>35</td>\n",
       "      <td>170192.0</td>\n",
       "      <td>27062.0</td>\n",
       "      <td>37346.0</td>\n",
       "      <td>302296.0</td>\n",
       "      <td>21066.0</td>\n",
       "      <td>35767.0</td>\n",
       "      <td>[217431.48668055836]</td>\n",
       "      <td>9541.868164</td>\n",
       "    </tr>\n",
       "    <tr>\n",
       "      <td>18</td>\n",
       "      <td>36</td>\n",
       "      <td>177782.0</td>\n",
       "      <td>26925.0</td>\n",
       "      <td>37346.0</td>\n",
       "      <td>316674.0</td>\n",
       "      <td>21034.0</td>\n",
       "      <td>35767.0</td>\n",
       "      <td>[225005.50165289151]</td>\n",
       "      <td>9541.868164</td>\n",
       "    </tr>\n",
       "    <tr>\n",
       "      <td>19</td>\n",
       "      <td>37</td>\n",
       "      <td>185373.0</td>\n",
       "      <td>26990.0</td>\n",
       "      <td>37346.0</td>\n",
       "      <td>331052.0</td>\n",
       "      <td>21187.0</td>\n",
       "      <td>35767.0</td>\n",
       "      <td>[232458.16315980666]</td>\n",
       "      <td>9541.868164</td>\n",
       "    </tr>\n",
       "    <tr>\n",
       "      <td>20</td>\n",
       "      <td>38</td>\n",
       "      <td>192963.0</td>\n",
       "      <td>27000.0</td>\n",
       "      <td>37347.0</td>\n",
       "      <td>345430.0</td>\n",
       "      <td>21195.0</td>\n",
       "      <td>35767.0</td>\n",
       "      <td>[239795.9487447073]</td>\n",
       "      <td>9541.868164</td>\n",
       "    </tr>\n",
       "    <tr>\n",
       "      <td>21</td>\n",
       "      <td>39</td>\n",
       "      <td>200554.0</td>\n",
       "      <td>27001.0</td>\n",
       "      <td>37347.0</td>\n",
       "      <td>359808.0</td>\n",
       "      <td>21014.0</td>\n",
       "      <td>35767.0</td>\n",
       "      <td>[247025.4600157676]</td>\n",
       "      <td>9541.868164</td>\n",
       "    </tr>\n",
       "    <tr>\n",
       "      <td>22</td>\n",
       "      <td>40</td>\n",
       "      <td>208144.0</td>\n",
       "      <td>27006.0</td>\n",
       "      <td>37347.0</td>\n",
       "      <td>374187.0</td>\n",
       "      <td>21014.0</td>\n",
       "      <td>35767.0</td>\n",
       "      <td>[254152.40669468723]</td>\n",
       "      <td>9541.868164</td>\n",
       "    </tr>\n",
       "  </tbody>\n",
       "</table>\n",
       "</div>"
      ],
      "text/plain": [
       "    week    linear  boosting  random forest  linear dem  boosting dem  \\\n",
       "0     18   41153.0   29623.0        35765.0     57867.0       23522.0   \n",
       "1     19   48743.0   28218.0        36698.0     72245.0       22094.0   \n",
       "2     20   56334.0   27628.0        36978.0     86624.0       22113.0   \n",
       "3     21   63924.0   27186.0        37072.0    101002.0       22130.0   \n",
       "4     22   71515.0   27025.0        37131.0    115380.0       21615.0   \n",
       "5     23   79105.0   26962.0        37167.0    129758.0       21707.0   \n",
       "6     24   86696.0   27062.0        37212.0    144136.0       21687.0   \n",
       "7     25   94286.0   27221.0        37279.0    158514.0       21238.0   \n",
       "8     26  101877.0   27039.0        37366.0    172892.0       21229.0   \n",
       "9     27  109467.0   26942.0        37334.0    187271.0       21265.0   \n",
       "10    28  117058.0   26977.0        37329.0    201649.0       21352.0   \n",
       "11    29  124648.0   26971.0        37337.0    216027.0       21131.0   \n",
       "12    30  132239.0   27129.0        37339.0    230405.0       21159.0   \n",
       "13    31  139829.0   27038.0        37339.0    244783.0       21132.0   \n",
       "14    32  147420.0   26920.0        37341.0    259161.0       21128.0   \n",
       "15    33  155011.0   27097.0        37344.0    273540.0       20948.0   \n",
       "16    34  162601.0   27067.0        37347.0    287918.0       21153.0   \n",
       "17    35  170192.0   27062.0        37346.0    302296.0       21066.0   \n",
       "18    36  177782.0   26925.0        37346.0    316674.0       21034.0   \n",
       "19    37  185373.0   26990.0        37346.0    331052.0       21187.0   \n",
       "20    38  192963.0   27000.0        37347.0    345430.0       21195.0   \n",
       "21    39  200554.0   27001.0        37347.0    359808.0       21014.0   \n",
       "22    40  208144.0   27006.0        37347.0    374187.0       21014.0   \n",
       "\n",
       "    random forest dem                 ARIMA  LSTM_Simple  \n",
       "0             35393.0   [59153.66707783859]  9541.776367  \n",
       "1             35316.0    [70909.4172005092]  9541.868164  \n",
       "2             35721.0   [82142.14990425466]  9541.868164  \n",
       "3             35818.0   [92958.52352308914]  9541.868164  \n",
       "4             35762.0  [103427.73030284763]  9541.868164  \n",
       "5             35760.0  [113575.52972318421]  9541.868164  \n",
       "6             35772.0   [123427.2277193256]  9541.868164  \n",
       "7             35762.0  [133006.07526894764]  9541.868164  \n",
       "8             35766.0   [142332.4417315298]  9541.868164  \n",
       "9             35765.0   [151424.7662813168]  9541.868164  \n",
       "10            35767.0  [160299.64102149417]  9541.868164  \n",
       "11            35766.0   [168971.8464929948]  9541.868164  \n",
       "12            35767.0  [177454.80733678179]  9541.868164  \n",
       "13            35767.0  [185761.25814053963]  9541.868164  \n",
       "14            35767.0   [193902.2761765443]  9541.868164  \n",
       "15            35767.0   [201888.2136841963]  9541.868164  \n",
       "16            35767.0  [209728.32925923445]  9541.868164  \n",
       "17            35767.0  [217431.48668055836]  9541.868164  \n",
       "18            35767.0  [225005.50165289151]  9541.868164  \n",
       "19            35767.0  [232458.16315980666]  9541.868164  \n",
       "20            35767.0   [239795.9487447073]  9541.868164  \n",
       "21            35767.0   [247025.4600157676]  9541.868164  \n",
       "22            35767.0  [254152.40669468723]  9541.868164  "
      ]
     },
     "execution_count": 1043,
     "metadata": {},
     "output_type": "execute_result"
    }
   ],
   "source": [
    "extrapolation_df"
   ]
  },
  {
   "cell_type": "code",
   "execution_count": null,
   "metadata": {},
   "outputs": [],
   "source": [
    "#add polynomial regression\n",
    "#normalize the variables"
   ]
  },
  {
   "cell_type": "code",
   "execution_count": 872,
   "metadata": {},
   "outputs": [
    {
     "name": "stderr",
     "output_type": "stream",
     "text": [
      "/Users/ericenglin/opt/anaconda3/lib/python3.7/site-packages/statsmodels/base/model.py:492: HessianInversionWarning:\n",
      "\n",
      "Inverting hessian failed, no bse or cov_params available\n",
      "\n"
     ]
    }
   ],
   "source": [
    "from statsmodels.tsa.arima_model import ARIMA\n",
    "count = 6\n",
    "arima_preds = []\n",
    "train = df_daylevel.values\n",
    "history = [x for x in train]\n",
    "for t in range(110,270):\n",
    "    count +=1\n",
    "    model = ARIMA(history, order=(5,1,0))\n",
    "    model_fit = model.fit(disp=0)\n",
    "    output = model_fit.forecast()\n",
    "    yhat = output[0]\n",
    "    predictions.append(yhat)\n",
    "    history.append(yhat)\n",
    "    if count % 7 ==0:\n",
    "        arima_preds.append(yhat)\n",
    "\n",
    "extrapolation_df['ARIMA']=arima_preds"
   ]
  },
  {
   "cell_type": "code",
   "execution_count": 873,
   "metadata": {},
   "outputs": [],
   "source": []
  },
  {
   "cell_type": "code",
   "execution_count": 1044,
   "metadata": {},
   "outputs": [
    {
     "data": {
      "image/png": "[encoded data removed]",
      "text/plain": [
       "<Figure size 1080x720 with 1 Axes>"
      ]
     },
     "metadata": {
      "needs_background": "light"
     },
     "output_type": "display_data"
    }
   ],
   "source": [
    "import matplotlib.pyplot as plt\n",
    "import numpy as np\n",
    " \n",
    "fig=plt.figure(figsize=(15, 10))\n",
    "ax=fig.add_subplot(111)\n",
    "\n",
    "ax.plot(df_graph['week'],df_graph['deaths'],marker=\"|\",label='Actual',c='k',fillstyle='none')\n",
    "ax.plot(extrapolation_df['week'],extrapolation_df['ARIMA'],marker=\"|\",label='ARIMA',fillstyle='none')\n",
    "ax.plot(extrapolation_df['week'],extrapolation_df['linear'],c='b',marker=\"|\",label='Linear Simple',fillstyle='none')\n",
    "ax.plot(extrapolation_df['week'],extrapolation_df['boosting'],c='g',marker=\"|\",label='Boosting Simple')\n",
    "ax.plot(extrapolation_df['week'],extrapolation_df['random forest'],c='k',marker=\"|\",label='Random Forest Simple')\n",
    "ax.plot(extrapolation_df['week'],extrapolation_df['linear dem'],c='r',marker=\"|\",label='Linear with Demographics')\n",
    "ax.plot(extrapolation_df['week'],extrapolation_df['boosting dem'],c='m',marker=\"|\",label='Boosting with Demographics',fillstyle='none')\n",
    "ax.plot(extrapolation_df['week'],extrapolation_df['random forest dem'],marker=\"|\",label='Random Forest with Demographics')\n",
    "ax.plot(extrapolation_df['week'],extrapolation_df['LSTM_Simple'],marker=\"|\",label='LSTM_Simple',fillstyle='none')\n",
    "ax.axvline(x=18, color='k', linestyle='--')\n",
    "\n",
    "plt.title(\"Comparison of Model Predicted Coronavirus Deaths Until End of September\") #excluding 28 localities (NYC)\n",
    "plt.legend(loc=2)\n",
    "plt.show()\n"
   ]
  },
  {
   "cell_type": "code",
   "execution_count": 1053,
   "metadata": {},
   "outputs": [
    {
     "data": {
      "image/png": "[encoded data removed]",
      "text/plain": [
       "<Figure size 1080x720 with 1 Axes>"
      ]
     },
     "metadata": {
      "needs_background": "light"
     },
     "output_type": "display_data"
    }
   ],
   "source": [
    "import matplotlib.pyplot as plt\n",
    "import numpy as np\n",
    " \n",
    "fig=plt.figure(figsize=(15, 10))\n",
    "ax=fig.add_subplot(111)\n",
    "\n",
    "ax.plot(df_graph['week'],df_graph['deaths'],marker=\"|\",label='Actual',c='k',fillstyle='none')\n",
    "ax.plot(extrapolation_df['week'],extrapolation_df['ARIMA'],marker=\"|\",label='ARIMA',fillstyle='none')\n",
    "ax.plot(extrapolation_df['week'],extrapolation_df['linear'],c='b',marker=\"|\",label='Linear Simple',fillstyle='none')\n",
    "ax.plot(extrapolation_df['week'],extrapolation_df['linear dem'],c='r',marker=\"|\",label='Linear with Demographics')\n",
    "ax.plot(extrapolation_df['week'],extrapolation_df['LSTM_Simple'],marker=\"|\",label='LSTM_Simple',fillstyle='none')\n",
    "ax.axvline(x=18, color='k', linestyle='--')\n",
    "\n",
    "plt.title(\"Comparison of Model Predicted Coronavirus Deaths Until End of September\") #excluding 28 localities (NYC)\n",
    "plt.legend(loc=2)\n",
    "plt.show()\n"
   ]
  },
  {
   "cell_type": "code",
   "execution_count": null,
   "metadata": {},
   "outputs": [],
   "source": []
  },
  {
   "cell_type": "code",
   "execution_count": null,
   "metadata": {},
   "outputs": [],
   "source": []
  }
 ],
 "metadata": {
  "kernelspec": {
   "display_name": "Python 3",
   "language": "python",
   "name": "python3"
  },
  "language_info": {
   "codemirror_mode": {
    "name": "ipython",
    "version": 3
   },
   "file_extension": ".py",
   "mimetype": "text/x-python",
   "name": "python",
   "nbconvert_exporter": "python",
   "pygments_lexer": "ipython3",
   "version": "3.7.4"
  }
 },
 "nbformat": 4,
 "nbformat_minor": 2
}
