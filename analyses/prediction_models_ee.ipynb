{
 "cells": [
  {
   "cell_type": "markdown",
   "metadata": {},
   "source": [
    "# CS109b Final Project: \n",
    "# Air Pollution Exposure and COVID-19 Mortality in the U.S."
   ]
  },
  {
   "cell_type": "markdown",
   "metadata": {},
   "source": [
    "## Import libraries"
   ]
  },
  {
   "cell_type": "code",
   "execution_count": 1,
   "metadata": {},
   "outputs": [],
   "source": [
    "import numpy as np\n",
    "import seaborn as sns\n",
    "import pandas as pd\n",
    "import matplotlib.pyplot as plt\n",
    "import plotly.figure_factory as ff\n",
    "\n",
    "pd.options.display.max_rows = 500\n",
    "pd.options.display.max_columns = 500"
   ]
  },
  {
   "cell_type": "markdown",
   "metadata": {},
   "source": [
    "## Load and clean data"
   ]
  },
  {
   "cell_type": "code",
   "execution_count": 2,
   "metadata": {},
   "outputs": [],
   "source": [
    "data = pd.read_csv(\"./../PM_COVID-master/processed_data_04-24-2020.csv\")"
   ]
  },
  {
   "cell_type": "code",
   "execution_count": 3,
   "metadata": {},
   "outputs": [],
   "source": [
    "#load data\n",
    "#data = pd.read_csv('https://raw.githubusercontent.com/CS109b-Team37/Pollution-Prediction/master/PM_COVID-master/processed_data_04-24-2020.csv')"
   ]
  },
  {
   "cell_type": "code",
   "execution_count": 4,
   "metadata": {},
   "outputs": [],
   "source": [
    "#rename older_pecent to older_percent\n",
    "data = data.rename(columns={'older_pecent': 'older_percent'})\n",
    "\n",
    "#drop columns\n",
    "cols = list(data.columns)\n",
    "cols.remove('Unnamed: 0') #just a column of integers 1-21560\n",
    "#cols.remove('Province_State') #redundant information; already captured by 'state'\n",
    "cols.remove('Country_Region') #only US\n",
    "cols.remove('Combined_Key') #redundant information; already captured by 'Province_State' and 'Admin2'\n",
    "cols.remove('year.x') #only 2016\n",
    "cols.remove('year.y') #only 2012 and nan\n",
    "cols.remove('Population') #'older_pecent' was calculated by Population/older_Population\n",
    "cols.remove('older_Population') #'older_pecent' was calculated by Population/older_Population\n",
    "cols.remove('date') #only 20200502\n",
    "cols.remove('hash') #useless information\n",
    "cols.remove('dateChecked') #only '2020-05-02T20:00:00Z'\n",
    "cols.remove('Abbrev') #redundant information; already captured by 'state'\n",
    "cols.remove('total') #almost a repeat of 'totalTestResults'\n",
    "cols.remove('Recovered') #only 0\n",
    "data = data[cols]\n"
   ]
  },
  {
   "cell_type": "code",
   "execution_count": 5,
   "metadata": {},
   "outputs": [
    {
     "data": {
      "text/plain": [
       "array(['2020-04-25 06:30:53', '3/30/20 22:52', '2020-04-25 06:31:05',\n",
       "       '2020-04-23 00:00:00', '2020-04-24 00:00:00'], dtype=object)"
      ]
     },
     "execution_count": 5,
     "metadata": {},
     "output_type": "execute_result"
    }
   ],
   "source": [
    "data['Last_Update'].unique()"
   ]
  },
  {
   "cell_type": "code",
   "execution_count": 6,
   "metadata": {},
   "outputs": [],
   "source": [
    "#convert Last_Update to binary variable\n",
    "convert_dict = {'2020-05-03 02:32:28': 0, '3/30/20 22:52': 1}\n",
    "data = data.replace({'Last_Update': convert_dict})\n"
   ]
  },
  {
   "cell_type": "code",
   "execution_count": 7,
   "metadata": {
    "scrolled": true
   },
   "outputs": [
    {
     "name": "stdout",
     "output_type": "stream",
     "text": [
      "Variables with NA values:\n"
     ]
    },
    {
     "data": {
      "text/plain": [
       "smoke_rate                 867\n",
       "mean_bmi                   867\n",
       "Crude.Rate                   1\n",
       "older_percent                1\n",
       "pending                   2819\n",
       "hospitalizedCurrently      898\n",
       "hospitalizedCumulative    1284\n",
       "inIcuCurrently            1808\n",
       "inIcuCumulative           2608\n",
       "onVentilatorCurrently     2155\n",
       "onVentilatorCumulative    2944\n",
       "recovered                 1479\n",
       "hospitalized              1284\n",
       "beds                       811\n",
       "dtype: int64"
      ]
     },
     "metadata": {},
     "output_type": "display_data"
    }
   ],
   "source": [
    "#variables with NA values\n",
    "print('Variables with NA values:')\n",
    "display(data.isna().sum()[data.isna().sum() > 0])\n",
    "\n",
    "#remove variables with many NA values\n",
    "na_vars = list(data.isna().sum()[data.isna().sum() > 50].index) #variables with many NA values\n",
    "data = data[set(cols) - set(na_vars)] #final cleaned data"
   ]
  },
  {
   "cell_type": "code",
   "execution_count": 8,
   "metadata": {},
   "outputs": [
    {
     "name": "stdout",
     "output_type": "stream",
     "text": [
      "Rows with NA values:\n"
     ]
    },
    {
     "data": {
      "text/html": [
       "<div>\n",
       "<style scoped>\n",
       "    .dataframe tbody tr th:only-of-type {\n",
       "        vertical-align: middle;\n",
       "    }\n",
       "\n",
       "    .dataframe tbody tr th {\n",
       "        vertical-align: top;\n",
       "    }\n",
       "\n",
       "    .dataframe thead th {\n",
       "        text-align: right;\n",
       "    }\n",
       "</style>\n",
       "<table border=\"1\" class=\"dataframe\">\n",
       "  <thead>\n",
       "    <tr style=\"text-align: right;\">\n",
       "      <th></th>\n",
       "      <th>hospitalizedIncrease</th>\n",
       "      <th>mean_summer_rm</th>\n",
       "      <th>Admin2</th>\n",
       "      <th>posNeg</th>\n",
       "      <th>Last_Update</th>\n",
       "      <th>negativeIncrease</th>\n",
       "      <th>q_popdensity</th>\n",
       "      <th>totalTestResults</th>\n",
       "      <th>pct_native</th>\n",
       "      <th>popdensity</th>\n",
       "      <th>Province_State</th>\n",
       "      <th>older_percent</th>\n",
       "      <th>totalTestResults_county</th>\n",
       "      <th>Active</th>\n",
       "      <th>hispanic</th>\n",
       "      <th>fips</th>\n",
       "      <th>totalTestResultsIncrease</th>\n",
       "      <th>Long_</th>\n",
       "      <th>positive</th>\n",
       "      <th>population</th>\n",
       "      <th>population_frac_county</th>\n",
       "      <th>deathIncrease</th>\n",
       "      <th>mean_pm25</th>\n",
       "      <th>Crude.Rate</th>\n",
       "      <th>poverty</th>\n",
       "      <th>mean_summer_temp</th>\n",
       "      <th>negative</th>\n",
       "      <th>death</th>\n",
       "      <th>Lat</th>\n",
       "      <th>mean_winter_rm</th>\n",
       "      <th>education</th>\n",
       "      <th>mean_winter_temp</th>\n",
       "      <th>Confirmed</th>\n",
       "      <th>pct_owner_occ</th>\n",
       "      <th>medhouseholdincome</th>\n",
       "      <th>medianhousevalue</th>\n",
       "      <th>pct_asian</th>\n",
       "      <th>state</th>\n",
       "      <th>positiveIncrease</th>\n",
       "      <th>Deaths</th>\n",
       "      <th>pct_white</th>\n",
       "      <th>pct_blk</th>\n",
       "    </tr>\n",
       "  </thead>\n",
       "  <tbody>\n",
       "    <tr>\n",
       "      <td>2635</td>\n",
       "      <td>0</td>\n",
       "      <td>73.844694</td>\n",
       "      <td>Loving</td>\n",
       "      <td>242547</td>\n",
       "      <td>1</td>\n",
       "      <td>16607</td>\n",
       "      <td>1</td>\n",
       "      <td>242547</td>\n",
       "      <td>0.047619</td>\n",
       "      <td>0.395035</td>\n",
       "      <td>Texas</td>\n",
       "      <td>NaN</td>\n",
       "      <td>0.567672</td>\n",
       "      <td>0</td>\n",
       "      <td>0.142857</td>\n",
       "      <td>48301</td>\n",
       "      <td>17469</td>\n",
       "      <td>-103.581857</td>\n",
       "      <td>22806</td>\n",
       "      <td>63</td>\n",
       "      <td>0.000002</td>\n",
       "      <td>32</td>\n",
       "      <td>5.685412</td>\n",
       "      <td>NaN</td>\n",
       "      <td>0.631579</td>\n",
       "      <td>309.483185</td>\n",
       "      <td>219741</td>\n",
       "      <td>593</td>\n",
       "      <td>31.849476</td>\n",
       "      <td>72.837808</td>\n",
       "      <td>0.526316</td>\n",
       "      <td>290.213523</td>\n",
       "      <td>0</td>\n",
       "      <td>0.485714</td>\n",
       "      <td>55625.0</td>\n",
       "      <td>89040.0</td>\n",
       "      <td>0.0</td>\n",
       "      <td>TX</td>\n",
       "      <td>862</td>\n",
       "      <td>0</td>\n",
       "      <td>0.857143</td>\n",
       "      <td>0.0</td>\n",
       "    </tr>\n",
       "  </tbody>\n",
       "</table>\n",
       "</div>"
      ],
      "text/plain": [
       "      hospitalizedIncrease  mean_summer_rm  Admin2  posNeg Last_Update  \\\n",
       "2635                     0       73.844694  Loving  242547           1   \n",
       "\n",
       "      negativeIncrease  q_popdensity  totalTestResults  pct_native  \\\n",
       "2635             16607             1            242547    0.047619   \n",
       "\n",
       "      popdensity Province_State  older_percent  totalTestResults_county  \\\n",
       "2635    0.395035          Texas            NaN                 0.567672   \n",
       "\n",
       "      Active  hispanic   fips  totalTestResultsIncrease       Long_  positive  \\\n",
       "2635       0  0.142857  48301                     17469 -103.581857     22806   \n",
       "\n",
       "      population  population_frac_county  deathIncrease  mean_pm25  \\\n",
       "2635          63                0.000002             32   5.685412   \n",
       "\n",
       "      Crude.Rate   poverty  mean_summer_temp  negative  death        Lat  \\\n",
       "2635         NaN  0.631579        309.483185    219741    593  31.849476   \n",
       "\n",
       "      mean_winter_rm  education  mean_winter_temp  Confirmed  pct_owner_occ  \\\n",
       "2635       72.837808   0.526316        290.213523          0       0.485714   \n",
       "\n",
       "      medhouseholdincome  medianhousevalue  pct_asian state  positiveIncrease  \\\n",
       "2635             55625.0           89040.0        0.0    TX               862   \n",
       "\n",
       "      Deaths  pct_white  pct_blk  \n",
       "2635       0   0.857143      0.0  "
      ]
     },
     "metadata": {},
     "output_type": "display_data"
    }
   ],
   "source": [
    "#both NA values are for Loving, Texas\n",
    "null_data = data[data.isnull().any(axis=1)]\n",
    "print('Rows with NA values:')\n",
    "display(null_data)\n",
    "\n",
    "#fill in NA values for 'Crude.Rate' and 'older_percent' with state average\n",
    "values = {'Crude.Rate': data.groupby('state').mean()['Crude.Rate']['TX'], 'older_percent': data.groupby('state').mean()['older_percent']['TX']}\n",
    "data = data.fillna(value=values)"
   ]
  },
  {
   "cell_type": "markdown",
   "metadata": {},
   "source": [
    "## Add in NY Times County Data with Cumulative Daily Coronavirus Cases & Deaths"
   ]
  },
  {
   "cell_type": "code",
   "execution_count": 9,
   "metadata": {},
   "outputs": [],
   "source": [
    "url = 'https://raw.githubusercontent.com/nytimes/covid-19-data/master/us-counties.csv'\n",
    "df_nytimes = pd.read_csv(url,index_col=0,parse_dates=[0])"
   ]
  },
  {
   "cell_type": "code",
   "execution_count": 10,
   "metadata": {},
   "outputs": [
    {
     "data": {
      "text/plain": [
       "(118343, 5)"
      ]
     },
     "execution_count": 10,
     "metadata": {},
     "output_type": "execute_result"
    }
   ],
   "source": [
    "df_nytimes.shape"
   ]
  },
  {
   "cell_type": "code",
   "execution_count": 11,
   "metadata": {},
   "outputs": [
    {
     "name": "stdout",
     "output_type": "stream",
     "text": [
      "Deaths in counties with NULL FIPS:  13249 | Number of counties:  28\n",
      "Deaths in New York County (biggest area with NULL FIPS):  12895\n",
      "Deaths in counties with correct FIPS:  47830 | Number of counties:  2842\n",
      "Total Deaths:  61079 | Number of counties:  2870\n"
     ]
    }
   ],
   "source": [
    "df_nytimes_today = df_nytimes.loc[df_nytimes.index=='2020-05-02']\n",
    "\n",
    "print(\"Deaths in counties with NULL FIPS: \", \n",
    "      df_nytimes_today.loc[df_nytimes_today['fips'].isnull()==True]['deaths'].sum(),\n",
    "     '| Number of counties: ', len(df_nytimes_today.loc[df_nytimes_today['fips'].isnull()==True]))\n",
    "\n",
    "\n",
    "print(\"Deaths in New York County (biggest area with NULL FIPS): \", \n",
    "      df_nytimes_today.loc[df_nytimes_today['county']=='New York City']['deaths'].sum())\n",
    "\n",
    "print(\"Deaths in counties with correct FIPS: \", \n",
    "      df_nytimes_today.loc[df_nytimes_today['fips'].isnull()==False]['deaths'].sum(),\n",
    "     '| Number of counties: ', len(df_nytimes_today.loc[df_nytimes_today['fips'].isnull()==False]))\n",
    "\n",
    "print(\"Total Deaths: \", df_nytimes_today['deaths'].sum(),\n",
    "          '| Number of counties: ', len(df_nytimes_today))\n"
   ]
  },
  {
   "cell_type": "code",
   "execution_count": 12,
   "metadata": {},
   "outputs": [],
   "source": [
    "data['fips_new']=data['fips'].astype(int).apply(lambda x: '{0:0>5}'.format(x)) #add leading zeros to fips code\n",
    "#data['fips_new']=data['fips'].astype(int)\n",
    "df_nytimes_clean = df_nytimes.loc[df_nytimes['fips'].isnull()==False]\n",
    "df_nytimes_clean['fips_new']=df_nytimes_clean['fips'].astype(int)\n",
    "df_nytimes_clean['fips_new']=df_nytimes_clean['fips_new'].astype(object)\n",
    "df_nytimes_clean['fips_new'] = df_nytimes_clean['fips_new'].apply(lambda x: '{0:0>5}'.format(x)) #add leading zeros to fips code\n"
   ]
  },
  {
   "cell_type": "code",
   "execution_count": 216,
   "metadata": {},
   "outputs": [],
   "source": [
    "df_nytimes_clean['week']=df_nytimes_clean['date'].dt.dayofweek\n"
   ]
  },
  {
   "cell_type": "code",
   "execution_count": 218,
   "metadata": {},
   "outputs": [
    {
     "data": {
      "text/html": [
       "<div>\n",
       "<style scoped>\n",
       "    .dataframe tbody tr th:only-of-type {\n",
       "        vertical-align: middle;\n",
       "    }\n",
       "\n",
       "    .dataframe tbody tr th {\n",
       "        vertical-align: top;\n",
       "    }\n",
       "\n",
       "    .dataframe thead th {\n",
       "        text-align: right;\n",
       "    }\n",
       "</style>\n",
       "<table border=\"1\" class=\"dataframe\">\n",
       "  <thead>\n",
       "    <tr style=\"text-align: right;\">\n",
       "      <th></th>\n",
       "      <th>county</th>\n",
       "      <th>state</th>\n",
       "      <th>fips</th>\n",
       "      <th>cases</th>\n",
       "      <th>deaths</th>\n",
       "      <th>fips_new</th>\n",
       "      <th>date</th>\n",
       "      <th>week</th>\n",
       "    </tr>\n",
       "    <tr>\n",
       "      <th>date</th>\n",
       "      <th></th>\n",
       "      <th></th>\n",
       "      <th></th>\n",
       "      <th></th>\n",
       "      <th></th>\n",
       "      <th></th>\n",
       "      <th></th>\n",
       "      <th></th>\n",
       "    </tr>\n",
       "  </thead>\n",
       "  <tbody>\n",
       "    <tr>\n",
       "      <td>2020-01-21</td>\n",
       "      <td>Snohomish</td>\n",
       "      <td>Washington</td>\n",
       "      <td>53061.0</td>\n",
       "      <td>1</td>\n",
       "      <td>0</td>\n",
       "      <td>53061</td>\n",
       "      <td>2020-01-21</td>\n",
       "      <td>1</td>\n",
       "    </tr>\n",
       "    <tr>\n",
       "      <td>2020-01-22</td>\n",
       "      <td>Snohomish</td>\n",
       "      <td>Washington</td>\n",
       "      <td>53061.0</td>\n",
       "      <td>1</td>\n",
       "      <td>0</td>\n",
       "      <td>53061</td>\n",
       "      <td>2020-01-22</td>\n",
       "      <td>2</td>\n",
       "    </tr>\n",
       "    <tr>\n",
       "      <td>2020-01-23</td>\n",
       "      <td>Snohomish</td>\n",
       "      <td>Washington</td>\n",
       "      <td>53061.0</td>\n",
       "      <td>1</td>\n",
       "      <td>0</td>\n",
       "      <td>53061</td>\n",
       "      <td>2020-01-23</td>\n",
       "      <td>3</td>\n",
       "    </tr>\n",
       "    <tr>\n",
       "      <td>2020-01-24</td>\n",
       "      <td>Cook</td>\n",
       "      <td>Illinois</td>\n",
       "      <td>17031.0</td>\n",
       "      <td>1</td>\n",
       "      <td>0</td>\n",
       "      <td>17031</td>\n",
       "      <td>2020-01-24</td>\n",
       "      <td>4</td>\n",
       "    </tr>\n",
       "    <tr>\n",
       "      <td>2020-01-24</td>\n",
       "      <td>Snohomish</td>\n",
       "      <td>Washington</td>\n",
       "      <td>53061.0</td>\n",
       "      <td>1</td>\n",
       "      <td>0</td>\n",
       "      <td>53061</td>\n",
       "      <td>2020-01-24</td>\n",
       "      <td>4</td>\n",
       "    </tr>\n",
       "  </tbody>\n",
       "</table>\n",
       "</div>"
      ],
      "text/plain": [
       "               county       state     fips  cases  deaths fips_new       date  \\\n",
       "date                                                                            \n",
       "2020-01-21  Snohomish  Washington  53061.0      1       0    53061 2020-01-21   \n",
       "2020-01-22  Snohomish  Washington  53061.0      1       0    53061 2020-01-22   \n",
       "2020-01-23  Snohomish  Washington  53061.0      1       0    53061 2020-01-23   \n",
       "2020-01-24       Cook    Illinois  17031.0      1       0    17031 2020-01-24   \n",
       "2020-01-24  Snohomish  Washington  53061.0      1       0    53061 2020-01-24   \n",
       "\n",
       "            week  \n",
       "date              \n",
       "2020-01-21     1  \n",
       "2020-01-22     2  \n",
       "2020-01-23     3  \n",
       "2020-01-24     4  \n",
       "2020-01-24     4  "
      ]
     },
     "execution_count": 218,
     "metadata": {},
     "output_type": "execute_result"
    }
   ],
   "source": [
    "df_nytimes_clean.head()"
   ]
  },
  {
   "cell_type": "code",
   "execution_count": 227,
   "metadata": {},
   "outputs": [],
   "source": [
    "df_nytimes_clean['date']=df_nytimes_clean.index\n",
    "df_nytimes_clean['week']=df_nytimes_clean['date'].dt.week\n",
    "df_nytimes_clean['dayofweek']=df_nytimes_clean['date'].dt.dayofweek\n",
    "df_nytimes_clean = df_nytimes_clean.loc[df_nytimes_clean['dayofweek']==6] #cumulative data so want the end of week numbers\n",
    "\n",
    "df_joined = df_nytimes_clean[['week','dayofweek',\n",
    "                              'date','cases','deaths','fips_new']].merge(data, \n",
    "                                                                         on ='fips_new', \n",
    "                                                                         how = 'left')"
   ]
  },
  {
   "cell_type": "code",
   "execution_count": 228,
   "metadata": {},
   "outputs": [
    {
     "data": {
      "text/html": [
       "<div>\n",
       "<style scoped>\n",
       "    .dataframe tbody tr th:only-of-type {\n",
       "        vertical-align: middle;\n",
       "    }\n",
       "\n",
       "    .dataframe tbody tr th {\n",
       "        vertical-align: top;\n",
       "    }\n",
       "\n",
       "    .dataframe thead th {\n",
       "        text-align: right;\n",
       "    }\n",
       "</style>\n",
       "<table border=\"1\" class=\"dataframe\">\n",
       "  <thead>\n",
       "    <tr style=\"text-align: right;\">\n",
       "      <th></th>\n",
       "      <th>week</th>\n",
       "      <th>dayofweek</th>\n",
       "      <th>date</th>\n",
       "      <th>cases</th>\n",
       "      <th>deaths</th>\n",
       "      <th>fips_new</th>\n",
       "      <th>hospitalizedIncrease</th>\n",
       "      <th>mean_summer_rm</th>\n",
       "      <th>Admin2</th>\n",
       "      <th>posNeg</th>\n",
       "      <th>Last_Update</th>\n",
       "      <th>negativeIncrease</th>\n",
       "      <th>q_popdensity</th>\n",
       "      <th>totalTestResults</th>\n",
       "      <th>pct_native</th>\n",
       "      <th>popdensity</th>\n",
       "      <th>Province_State</th>\n",
       "      <th>older_percent</th>\n",
       "      <th>totalTestResults_county</th>\n",
       "      <th>Active</th>\n",
       "      <th>hispanic</th>\n",
       "      <th>fips</th>\n",
       "      <th>totalTestResultsIncrease</th>\n",
       "      <th>Long_</th>\n",
       "      <th>positive</th>\n",
       "      <th>population</th>\n",
       "      <th>population_frac_county</th>\n",
       "      <th>deathIncrease</th>\n",
       "      <th>mean_pm25</th>\n",
       "      <th>Crude.Rate</th>\n",
       "      <th>poverty</th>\n",
       "      <th>mean_summer_temp</th>\n",
       "      <th>negative</th>\n",
       "      <th>death</th>\n",
       "      <th>Lat</th>\n",
       "      <th>mean_winter_rm</th>\n",
       "      <th>education</th>\n",
       "      <th>mean_winter_temp</th>\n",
       "      <th>Confirmed</th>\n",
       "      <th>pct_owner_occ</th>\n",
       "      <th>medhouseholdincome</th>\n",
       "      <th>medianhousevalue</th>\n",
       "      <th>pct_asian</th>\n",
       "      <th>state</th>\n",
       "      <th>positiveIncrease</th>\n",
       "      <th>Deaths</th>\n",
       "      <th>pct_white</th>\n",
       "      <th>pct_blk</th>\n",
       "    </tr>\n",
       "  </thead>\n",
       "  <tbody>\n",
       "    <tr>\n",
       "      <td>0</td>\n",
       "      <td>4</td>\n",
       "      <td>6</td>\n",
       "      <td>2020-01-26</td>\n",
       "      <td>1</td>\n",
       "      <td>0</td>\n",
       "      <td>04013</td>\n",
       "      <td>984.0</td>\n",
       "      <td>43.955582</td>\n",
       "      <td>Maricopa</td>\n",
       "      <td>60714.0</td>\n",
       "      <td>2020-04-25 06:30:53</td>\n",
       "      <td>1741.0</td>\n",
       "      <td>4.0</td>\n",
       "      <td>60714.0</td>\n",
       "      <td>0.028066</td>\n",
       "      <td>3052.496587</td>\n",
       "      <td>Arizona</td>\n",
       "      <td>0.123367</td>\n",
       "      <td>38974.518658</td>\n",
       "      <td>2996.0</td>\n",
       "      <td>0.275227</td>\n",
       "      <td>4013.0</td>\n",
       "      <td>2017.0</td>\n",
       "      <td>-112.491815</td>\n",
       "      <td>6045.0</td>\n",
       "      <td>4046686.0</td>\n",
       "      <td>0.641936</td>\n",
       "      <td>17.0</td>\n",
       "      <td>8.962005</td>\n",
       "      <td>693.5</td>\n",
       "      <td>0.098313</td>\n",
       "      <td>312.887974</td>\n",
       "      <td>54669.0</td>\n",
       "      <td>266.0</td>\n",
       "      <td>33.348359</td>\n",
       "      <td>62.523577</td>\n",
       "      <td>0.150852</td>\n",
       "      <td>292.696006</td>\n",
       "      <td>3116.0</td>\n",
       "      <td>0.623470</td>\n",
       "      <td>60944.201550</td>\n",
       "      <td>231863.424947</td>\n",
       "      <td>0.036367</td>\n",
       "      <td>AZ</td>\n",
       "      <td>276.0</td>\n",
       "      <td>120.0</td>\n",
       "      <td>0.797530</td>\n",
       "      <td>0.046994</td>\n",
       "    </tr>\n",
       "    <tr>\n",
       "      <td>1</td>\n",
       "      <td>4</td>\n",
       "      <td>6</td>\n",
       "      <td>2020-01-26</td>\n",
       "      <td>1</td>\n",
       "      <td>0</td>\n",
       "      <td>06037</td>\n",
       "      <td>0.0</td>\n",
       "      <td>66.843499</td>\n",
       "      <td>Los Angeles</td>\n",
       "      <td>494173.0</td>\n",
       "      <td>2020-04-25 06:30:53</td>\n",
       "      <td>10191.0</td>\n",
       "      <td>4.0</td>\n",
       "      <td>494173.0</td>\n",
       "      <td>0.005423</td>\n",
       "      <td>9070.950193</td>\n",
       "      <td>California</td>\n",
       "      <td>0.107776</td>\n",
       "      <td>128181.698676</td>\n",
       "      <td>17695.0</td>\n",
       "      <td>0.405115</td>\n",
       "      <td>6037.0</td>\n",
       "      <td>12076.0</td>\n",
       "      <td>-118.228241</td>\n",
       "      <td>39254.0</td>\n",
       "      <td>10014553.0</td>\n",
       "      <td>0.259386</td>\n",
       "      <td>93.0</td>\n",
       "      <td>15.718274</td>\n",
       "      <td>607.1</td>\n",
       "      <td>0.141721</td>\n",
       "      <td>303.265427</td>\n",
       "      <td>454919.0</td>\n",
       "      <td>1562.0</td>\n",
       "      <td>34.308284</td>\n",
       "      <td>68.943495</td>\n",
       "      <td>0.272456</td>\n",
       "      <td>289.471635</td>\n",
       "      <td>18545.0</td>\n",
       "      <td>0.476622</td>\n",
       "      <td>66320.068841</td>\n",
       "      <td>567463.413043</td>\n",
       "      <td>0.147261</td>\n",
       "      <td>CA</td>\n",
       "      <td>1885.0</td>\n",
       "      <td>850.0</td>\n",
       "      <td>0.556419</td>\n",
       "      <td>0.079818</td>\n",
       "    </tr>\n",
       "    <tr>\n",
       "      <td>2</td>\n",
       "      <td>4</td>\n",
       "      <td>6</td>\n",
       "      <td>2020-01-26</td>\n",
       "      <td>1</td>\n",
       "      <td>0</td>\n",
       "      <td>06059</td>\n",
       "      <td>0.0</td>\n",
       "      <td>87.075159</td>\n",
       "      <td>Orange</td>\n",
       "      <td>494173.0</td>\n",
       "      <td>2020-04-25 06:30:53</td>\n",
       "      <td>10191.0</td>\n",
       "      <td>4.0</td>\n",
       "      <td>494173.0</td>\n",
       "      <td>0.004064</td>\n",
       "      <td>6243.631658</td>\n",
       "      <td>California</td>\n",
       "      <td>0.114021</td>\n",
       "      <td>40163.352229</td>\n",
       "      <td>1809.0</td>\n",
       "      <td>0.277774</td>\n",
       "      <td>6059.0</td>\n",
       "      <td>12076.0</td>\n",
       "      <td>-117.764600</td>\n",
       "      <td>39254.0</td>\n",
       "      <td>3137874.0</td>\n",
       "      <td>0.081274</td>\n",
       "      <td>93.0</td>\n",
       "      <td>15.786018</td>\n",
       "      <td>587.3</td>\n",
       "      <td>0.085636</td>\n",
       "      <td>300.790590</td>\n",
       "      <td>454919.0</td>\n",
       "      <td>1562.0</td>\n",
       "      <td>33.701475</td>\n",
       "      <td>79.082530</td>\n",
       "      <td>0.152671</td>\n",
       "      <td>292.609396</td>\n",
       "      <td>1845.0</td>\n",
       "      <td>0.582866</td>\n",
       "      <td>85843.886364</td>\n",
       "      <td>679449.573485</td>\n",
       "      <td>0.189658</td>\n",
       "      <td>CA</td>\n",
       "      <td>1885.0</td>\n",
       "      <td>36.0</td>\n",
       "      <td>0.657640</td>\n",
       "      <td>0.015781</td>\n",
       "    </tr>\n",
       "    <tr>\n",
       "      <td>3</td>\n",
       "      <td>4</td>\n",
       "      <td>6</td>\n",
       "      <td>2020-01-26</td>\n",
       "      <td>1</td>\n",
       "      <td>0</td>\n",
       "      <td>17031</td>\n",
       "      <td>0.0</td>\n",
       "      <td>83.073103</td>\n",
       "      <td>Cook</td>\n",
       "      <td>189632.0</td>\n",
       "      <td>2020-04-25 06:30:53</td>\n",
       "      <td>13592.0</td>\n",
       "      <td>4.0</td>\n",
       "      <td>189632.0</td>\n",
       "      <td>0.002347</td>\n",
       "      <td>8452.935641</td>\n",
       "      <td>Illinois</td>\n",
       "      <td>0.121084</td>\n",
       "      <td>76229.155040</td>\n",
       "      <td>26396.0</td>\n",
       "      <td>0.186945</td>\n",
       "      <td>17031.0</td>\n",
       "      <td>16316.0</td>\n",
       "      <td>-87.816588</td>\n",
       "      <td>39658.0</td>\n",
       "      <td>5163056.0</td>\n",
       "      <td>0.401985</td>\n",
       "      <td>107.0</td>\n",
       "      <td>13.370310</td>\n",
       "      <td>797.2</td>\n",
       "      <td>0.117719</td>\n",
       "      <td>301.073461</td>\n",
       "      <td>149974.0</td>\n",
       "      <td>1795.0</td>\n",
       "      <td>41.841448</td>\n",
       "      <td>84.994321</td>\n",
       "      <td>0.199716</td>\n",
       "      <td>274.406491</td>\n",
       "      <td>27616.0</td>\n",
       "      <td>0.619800</td>\n",
       "      <td>68431.961145</td>\n",
       "      <td>259563.190184</td>\n",
       "      <td>0.073987</td>\n",
       "      <td>IL</td>\n",
       "      <td>2724.0</td>\n",
       "      <td>1220.0</td>\n",
       "      <td>0.605275</td>\n",
       "      <td>0.228933</td>\n",
       "    </tr>\n",
       "    <tr>\n",
       "      <td>4</td>\n",
       "      <td>4</td>\n",
       "      <td>6</td>\n",
       "      <td>2020-01-26</td>\n",
       "      <td>1</td>\n",
       "      <td>0</td>\n",
       "      <td>53061</td>\n",
       "      <td>0.0</td>\n",
       "      <td>80.565422</td>\n",
       "      <td>Snohomish</td>\n",
       "      <td>174830.0</td>\n",
       "      <td>2020-04-24 00:00:00</td>\n",
       "      <td>2897.0</td>\n",
       "      <td>4.0</td>\n",
       "      <td>174830.0</td>\n",
       "      <td>0.010321</td>\n",
       "      <td>2276.842087</td>\n",
       "      <td>Washington</td>\n",
       "      <td>0.104065</td>\n",
       "      <td>18646.154807</td>\n",
       "      <td>2141.0</td>\n",
       "      <td>0.083849</td>\n",
       "      <td>53061.0</td>\n",
       "      <td>3199.0</td>\n",
       "      <td>-121.717070</td>\n",
       "      <td>13297.0</td>\n",
       "      <td>753416.0</td>\n",
       "      <td>0.106653</td>\n",
       "      <td>5.0</td>\n",
       "      <td>6.391097</td>\n",
       "      <td>644.9</td>\n",
       "      <td>0.082732</td>\n",
       "      <td>294.490555</td>\n",
       "      <td>161533.0</td>\n",
       "      <td>659.0</td>\n",
       "      <td>48.046160</td>\n",
       "      <td>92.912894</td>\n",
       "      <td>0.114099</td>\n",
       "      <td>278.238279</td>\n",
       "      <td>2243.0</td>\n",
       "      <td>0.678889</td>\n",
       "      <td>73485.148148</td>\n",
       "      <td>292496.296296</td>\n",
       "      <td>0.078867</td>\n",
       "      <td>WA</td>\n",
       "      <td>302.0</td>\n",
       "      <td>102.0</td>\n",
       "      <td>0.811078</td>\n",
       "      <td>0.021852</td>\n",
       "    </tr>\n",
       "  </tbody>\n",
       "</table>\n",
       "</div>"
      ],
      "text/plain": [
       "   week  dayofweek       date  cases  deaths fips_new  hospitalizedIncrease  \\\n",
       "0     4          6 2020-01-26      1       0    04013                 984.0   \n",
       "1     4          6 2020-01-26      1       0    06037                   0.0   \n",
       "2     4          6 2020-01-26      1       0    06059                   0.0   \n",
       "3     4          6 2020-01-26      1       0    17031                   0.0   \n",
       "4     4          6 2020-01-26      1       0    53061                   0.0   \n",
       "\n",
       "   mean_summer_rm       Admin2    posNeg          Last_Update  \\\n",
       "0       43.955582     Maricopa   60714.0  2020-04-25 06:30:53   \n",
       "1       66.843499  Los Angeles  494173.0  2020-04-25 06:30:53   \n",
       "2       87.075159       Orange  494173.0  2020-04-25 06:30:53   \n",
       "3       83.073103         Cook  189632.0  2020-04-25 06:30:53   \n",
       "4       80.565422    Snohomish  174830.0  2020-04-24 00:00:00   \n",
       "\n",
       "   negativeIncrease  q_popdensity  totalTestResults  pct_native   popdensity  \\\n",
       "0            1741.0           4.0           60714.0    0.028066  3052.496587   \n",
       "1           10191.0           4.0          494173.0    0.005423  9070.950193   \n",
       "2           10191.0           4.0          494173.0    0.004064  6243.631658   \n",
       "3           13592.0           4.0          189632.0    0.002347  8452.935641   \n",
       "4            2897.0           4.0          174830.0    0.010321  2276.842087   \n",
       "\n",
       "  Province_State  older_percent  totalTestResults_county   Active  hispanic  \\\n",
       "0        Arizona       0.123367             38974.518658   2996.0  0.275227   \n",
       "1     California       0.107776            128181.698676  17695.0  0.405115   \n",
       "2     California       0.114021             40163.352229   1809.0  0.277774   \n",
       "3       Illinois       0.121084             76229.155040  26396.0  0.186945   \n",
       "4     Washington       0.104065             18646.154807   2141.0  0.083849   \n",
       "\n",
       "      fips  totalTestResultsIncrease       Long_  positive  population  \\\n",
       "0   4013.0                    2017.0 -112.491815    6045.0   4046686.0   \n",
       "1   6037.0                   12076.0 -118.228241   39254.0  10014553.0   \n",
       "2   6059.0                   12076.0 -117.764600   39254.0   3137874.0   \n",
       "3  17031.0                   16316.0  -87.816588   39658.0   5163056.0   \n",
       "4  53061.0                    3199.0 -121.717070   13297.0    753416.0   \n",
       "\n",
       "   population_frac_county  deathIncrease  mean_pm25  Crude.Rate   poverty  \\\n",
       "0                0.641936           17.0   8.962005       693.5  0.098313   \n",
       "1                0.259386           93.0  15.718274       607.1  0.141721   \n",
       "2                0.081274           93.0  15.786018       587.3  0.085636   \n",
       "3                0.401985          107.0  13.370310       797.2  0.117719   \n",
       "4                0.106653            5.0   6.391097       644.9  0.082732   \n",
       "\n",
       "   mean_summer_temp  negative   death        Lat  mean_winter_rm  education  \\\n",
       "0        312.887974   54669.0   266.0  33.348359       62.523577   0.150852   \n",
       "1        303.265427  454919.0  1562.0  34.308284       68.943495   0.272456   \n",
       "2        300.790590  454919.0  1562.0  33.701475       79.082530   0.152671   \n",
       "3        301.073461  149974.0  1795.0  41.841448       84.994321   0.199716   \n",
       "4        294.490555  161533.0   659.0  48.046160       92.912894   0.114099   \n",
       "\n",
       "   mean_winter_temp  Confirmed  pct_owner_occ  medhouseholdincome  \\\n",
       "0        292.696006     3116.0       0.623470        60944.201550   \n",
       "1        289.471635    18545.0       0.476622        66320.068841   \n",
       "2        292.609396     1845.0       0.582866        85843.886364   \n",
       "3        274.406491    27616.0       0.619800        68431.961145   \n",
       "4        278.238279     2243.0       0.678889        73485.148148   \n",
       "\n",
       "   medianhousevalue  pct_asian state  positiveIncrease  Deaths  pct_white  \\\n",
       "0     231863.424947   0.036367    AZ             276.0   120.0   0.797530   \n",
       "1     567463.413043   0.147261    CA            1885.0   850.0   0.556419   \n",
       "2     679449.573485   0.189658    CA            1885.0    36.0   0.657640   \n",
       "3     259563.190184   0.073987    IL            2724.0  1220.0   0.605275   \n",
       "4     292496.296296   0.078867    WA             302.0   102.0   0.811078   \n",
       "\n",
       "    pct_blk  \n",
       "0  0.046994  \n",
       "1  0.079818  \n",
       "2  0.015781  \n",
       "3  0.228933  \n",
       "4  0.021852  "
      ]
     },
     "execution_count": 228,
     "metadata": {},
     "output_type": "execute_result"
    }
   ],
   "source": [
    "df_joined.head()"
   ]
  },
  {
   "cell_type": "code",
   "execution_count": 229,
   "metadata": {},
   "outputs": [
    {
     "name": "stdout",
     "output_type": "stream",
     "text": [
      "40\n"
     ]
    }
   ],
   "source": [
    "print(len(df_joined.loc[df_joined['mean_pm25'].isnull()==True]['fips_new'].unique()))\n",
    "df_joined = df_joined.dropna(subset=['mean_pm25'], how='all')\n"
   ]
  },
  {
   "cell_type": "code",
   "execution_count": 230,
   "metadata": {},
   "outputs": [
    {
     "data": {
      "text/plain": [
       "(16908, 17127, 3086)"
      ]
     },
     "execution_count": 230,
     "metadata": {},
     "output_type": "execute_result"
    }
   ],
   "source": [
    "len(df_joined), len(df_nytimes_clean), len(data)"
   ]
  },
  {
   "cell_type": "code",
   "execution_count": 231,
   "metadata": {},
   "outputs": [
    {
     "data": {
      "image/png": "[encoded data removed]",
      "text/plain": [
       "<Figure size 432x288 with 1 Axes>"
      ]
     },
     "metadata": {
      "needs_background": "light"
     },
     "output_type": "display_data"
    }
   ],
   "source": [
    "plt.scatter(df_joined['date'],df_joined['deaths'])\n",
    "plt.title(\"Daily County Deaths from Coronavirus\")\n",
    "plt.show()"
   ]
  },
  {
   "cell_type": "markdown",
   "metadata": {},
   "source": [
    "## Modeling"
   ]
  },
  {
   "cell_type": "markdown",
   "metadata": {},
   "source": [
    "**Data Cleaning for Models**"
   ]
  },
  {
   "cell_type": "code",
   "execution_count": 232,
   "metadata": {},
   "outputs": [],
   "source": [
    "simple_columns = ['fips_new','week','date', 'cases', 'deaths','mean_pm25']"
   ]
  },
  {
   "cell_type": "code",
   "execution_count": 233,
   "metadata": {},
   "outputs": [],
   "source": [
    "demographic_columns = ['fips_new','week','date', 'cases', 'deaths','mean_pm25',\n",
    "                                  'pct_native','popdensity','older_percent',\n",
    "                                  'hispanic','Long_','population','population_frac_county', \n",
    "                                  'poverty', 'mean_summer_temp','Lat',\n",
    "                                  'mean_winter_rm', 'education', 'mean_winter_temp',\n",
    "                                  'pct_owner_occ', 'medhouseholdincome', 'medianhousevalue', 'pct_asian',\n",
    "                                  'pct_white', 'pct_blk']"
   ]
  },
  {
   "cell_type": "code",
   "execution_count": 234,
   "metadata": {},
   "outputs": [],
   "source": [
    "df_simple = df_joined[simple_columns]\n",
    "\n",
    "df_simple = df_simple.groupby(['fips_new','week']).agg(\n",
    "    cases=('cases', 'sum'), deaths=('deaths', 'sum'),\n",
    "    mean_pm25 = ('mean_pm25','mean'))\n",
    "\n",
    "df_simple=df_simple.reset_index()"
   ]
  },
  {
   "cell_type": "code",
   "execution_count": 235,
   "metadata": {},
   "outputs": [],
   "source": [
    "X_train_simple = df_simple.loc[df_simple['week']<18 ][['mean_pm25','week']]\n",
    "y_train_simple = df_simple.loc[df_simple['week']<18][['deaths']]\n",
    "X_test_simple = df_simple.loc[df_simple['week']==18][['mean_pm25','week']]\n",
    "y_test = df_simple.loc[df_simple['week']==18][['deaths']] #only need to filter y_test once for all models\n"
   ]
  },
  {
   "cell_type": "code",
   "execution_count": 236,
   "metadata": {},
   "outputs": [],
   "source": [
    "df_demographic = df_joined[demographic_columns]\n",
    "\n",
    "df_demographic = df_demographic.groupby(['fips_new','week']).agg(\n",
    "    {\n",
    "        'cases':'sum',\n",
    "        'deaths':'sum',\n",
    "        'mean_pm25':'mean',\n",
    "        'pct_native':'mean',\n",
    "        'popdensity':'mean',\n",
    "        'older_percent':'mean',\n",
    "        'hispanic':'mean',\n",
    "        'Long_':'mean',\n",
    "        'population':'mean',\n",
    "        'population_frac_county':'mean', \n",
    "        'poverty':'mean', \n",
    "        'mean_summer_temp':'mean',\n",
    "        'Lat':'mean',\n",
    "        'mean_winter_rm':'mean', \n",
    "        'education':'mean', \n",
    "        'mean_winter_temp':'mean',\n",
    "        'pct_owner_occ':'mean', \n",
    "        'medhouseholdincome':'mean', \n",
    "        'medianhousevalue':'mean', \n",
    "        'pct_asian':'mean',\n",
    "        'pct_white':'mean', \n",
    "        'pct_blk':'mean'        \n",
    "    })\n",
    "\n",
    "df_demographic=df_demographic.reset_index()"
   ]
  },
  {
   "cell_type": "code",
   "execution_count": 237,
   "metadata": {},
   "outputs": [],
   "source": [
    "X_train_demographic = df_demographic.loc[df_demographic['week']<18].drop(columns = ['fips_new','cases','deaths'])\n",
    "y_train_demographic = df_demographic.loc[df_demographic['week']<18][['deaths']]\n",
    "X_test_demographic = df_demographic.loc[df_demographic['week']==18].drop(columns = ['fips_new','cases','deaths'])\n"
   ]
  },
  {
   "cell_type": "code",
   "execution_count": 238,
   "metadata": {},
   "outputs": [
    {
     "data": {
      "image/png": "[encoded data removed]",
      "text/plain": [
       "<Figure size 432x288 with 1 Axes>"
      ]
     },
     "metadata": {
      "needs_background": "light"
     },
     "output_type": "display_data"
    }
   ],
   "source": [
    "plt.scatter(df_simple['week'],df_simple['deaths'])\n",
    "plt.title(\"\")\n",
    "plt.show()"
   ]
  },
  {
   "cell_type": "markdown",
   "metadata": {},
   "source": [
    "#### Linear Regression"
   ]
  },
  {
   "cell_type": "markdown",
   "metadata": {},
   "source": [
    "**Model 1:**\n",
    "Simple Model uses only week number and the mean pm25 levels by county"
   ]
  },
  {
   "cell_type": "code",
   "execution_count": 239,
   "metadata": {},
   "outputs": [],
   "source": [
    "from sklearn.linear_model import LinearRegression\n",
    "model_simple = LinearRegression().fit(X_train_simple, y_train_simple)\n",
    "y_pred_simple = model_simple.predict(X_test_simple)"
   ]
  },
  {
   "cell_type": "code",
   "execution_count": 240,
   "metadata": {},
   "outputs": [
    {
     "data": {
      "text/plain": [
       "10430.460991883792"
      ]
     },
     "execution_count": 240,
     "metadata": {},
     "output_type": "execute_result"
    }
   ],
   "source": [
    "from sklearn.metrics import mean_squared_error\n",
    "mse_score_linear_simple = mean_squared_error(y_test, y_pred_simple)\n",
    "mse_score_linear_simple #very bad score!"
   ]
  },
  {
   "cell_type": "code",
   "execution_count": 241,
   "metadata": {},
   "outputs": [
    {
     "data": {
      "text/plain": [
       "(41152.841612878095, 48829)"
      ]
     },
     "execution_count": 241,
     "metadata": {},
     "output_type": "execute_result"
    }
   ],
   "source": [
    ", y_test['deaths'].values.sum()"
   ]
  },
  {
   "cell_type": "markdown",
   "metadata": {},
   "source": [
    "**Model 2:**\n",
    "Add in demographic variables"
   ]
  },
  {
   "cell_type": "code",
   "execution_count": 242,
   "metadata": {},
   "outputs": [],
   "source": [
    "model_demographic = LinearRegression().fit(X_train_demographic, y_train_demographic)\n",
    "y_pred_demographic = model_demographic.predict(X_test_demographic)"
   ]
  },
  {
   "cell_type": "code",
   "execution_count": 243,
   "metadata": {},
   "outputs": [
    {
     "data": {
      "text/plain": [
       "8755.195509315537"
      ]
     },
     "execution_count": 243,
     "metadata": {},
     "output_type": "execute_result"
    }
   ],
   "source": [
    "mse_score_linear_demographic = mean_squared_error(y_test, y_pred_demographic)\n",
    "mse_score_linear_demographic #pretty bad score!"
   ]
  },
  {
   "cell_type": "code",
   "execution_count": 249,
   "metadata": {},
   "outputs": [
    {
     "name": "stdout",
     "output_type": "stream",
     "text": [
      "Linear Regression predicted deaths, simple features:  41153.0\n",
      "Random Forest predicted deaths, add demographic features:  57867.0\n",
      "Actual deaths:  48829\n"
     ]
    }
   ],
   "source": [
    "print('Linear Regression predicted deaths, simple features: ', \n",
    "      round(y_pred_simple.sum().sum(),0)) \n",
    "\n",
    "print('Random Forest predicted deaths, add demographic features: ', \n",
    "      round(y_pred_demographic.sum(),0)) \n",
    "\n",
    "print(\"Actual deaths: \", y_test['deaths'].values.sum())"
   ]
  },
  {
   "cell_type": "markdown",
   "metadata": {},
   "source": [
    "#### Decision Tree Models"
   ]
  },
  {
   "cell_type": "code",
   "execution_count": 250,
   "metadata": {},
   "outputs": [
    {
     "name": "stderr",
     "output_type": "stream",
     "text": [
      "/Users/ericenglin/opt/anaconda3/lib/python3.7/site-packages/sklearn/ensemble/gradient_boosting.py:1450: DataConversionWarning:\n",
      "\n",
      "A column-vector y was passed when a 1d array was expected. Please change the shape of y to (n_samples, ), for example using ravel().\n",
      "\n",
      "/Users/ericenglin/opt/anaconda3/lib/python3.7/site-packages/sklearn/ensemble/gradient_boosting.py:1450: DataConversionWarning:\n",
      "\n",
      "A column-vector y was passed when a 1d array was expected. Please change the shape of y to (n_samples, ), for example using ravel().\n",
      "\n",
      "/Users/ericenglin/opt/anaconda3/lib/python3.7/site-packages/ipykernel_launcher.py:7: DataConversionWarning:\n",
      "\n",
      "A column-vector y was passed when a 1d array was expected. Please change the shape of y to (n_samples,), for example using ravel().\n",
      "\n",
      "/Users/ericenglin/opt/anaconda3/lib/python3.7/site-packages/ipykernel_launcher.py:8: DataConversionWarning:\n",
      "\n",
      "A column-vector y was passed when a 1d array was expected. Please change the shape of y to (n_samples,), for example using ravel().\n",
      "\n"
     ]
    }
   ],
   "source": [
    "from sklearn.ensemble import GradientBoostingRegressor\n",
    "from sklearn.ensemble import RandomForestRegressor\n",
    "\n",
    "# Training classifiers\n",
    "boosting_simple = GradientBoostingRegressor(random_state=1, n_estimators=15).fit(X_train_simple.values, y_train_simple.values)\n",
    "boosting_demographics = GradientBoostingRegressor(random_state=1, n_estimators=15).fit(X_train_demographic.values, y_train_demographic.values)\n",
    "rf_simple = RandomForestRegressor(random_state=1, n_estimators=15).fit(X_train_simple.values, y_train_simple.values)\n",
    "rf_demographics = RandomForestRegressor(random_state=1, n_estimators=15).fit(X_train_demographic.values, y_train_demographic.values)\n"
   ]
  },
  {
   "cell_type": "code",
   "execution_count": 251,
   "metadata": {},
   "outputs": [],
   "source": [
    "y_pred_boosting_simple = boosting_simple.predict(X_test_simple.values)\n",
    "y_pred_boosting_demographic = boosting_demographics.predict(X_test_demographic.values)\n",
    "y_pred_rf_simple = rf_simple.predict(X_test_simple.values)\n",
    "y_pred_rf_demographic = rf_demographics.predict(X_test_demographic.values)"
   ]
  },
  {
   "cell_type": "code",
   "execution_count": 252,
   "metadata": {},
   "outputs": [
    {
     "name": "stdout",
     "output_type": "stream",
     "text": [
      "Boosting, simple features:  9001.0\n",
      "Boosting, add demographic features:  4929.0\n",
      "Random Forest, simple features:  1934.0\n",
      "Random Forest, add demographic features:  1093.0\n"
     ]
    }
   ],
   "source": [
    "mse_score_boosting_simple = mean_squared_error(y_test, y_pred_boosting_simple)\n",
    "mse_score_boosting_demographic = mean_squared_error(y_test, y_pred_boosting_demographic)\n",
    "mse_score_rf_simple = mean_squared_error(y_test, y_pred_rf_simple)\n",
    "mse_score_rf_demographic = mean_squared_error(y_test, y_pred_rf_demographic)\n",
    "\n",
    "print('Boosting, simple features: ', round(mse_score_boosting_simple,0)) \n",
    "print('Boosting, add demographic features: ', round(mse_score_boosting_demographic,0)) \n",
    "print('Random Forest, simple features: ', round(mse_score_rf_simple,0)) \n",
    "print('Random Forest, add demographic features: ', round(mse_score_rf_demographic,0)) "
   ]
  },
  {
   "cell_type": "code",
   "execution_count": 253,
   "metadata": {},
   "outputs": [
    {
     "name": "stdout",
     "output_type": "stream",
     "text": [
      "Boosting predicted deaths, simple features:  29623.0\n",
      "Boosting predicted deaths, add demographic features:  23522.0\n",
      "Random Forest predicted deaths, simple features:  35765.0\n",
      "Random Forest predicted deaths, add demographic features:  35393.0\n",
      "Actual deaths:  48829\n"
     ]
    }
   ],
   "source": [
    "print('Boosting predicted deaths, simple features: ', \n",
    "      round(y_pred_boosting_simple.sum(),0))\n",
    "\n",
    "print('Boosting predicted deaths, add demographic features: ', \n",
    "      round(y_pred_boosting_demographic.sum(),0)) \n",
    "\n",
    "print('Random Forest predicted deaths, simple features: ', \n",
    "      round(y_pred_rf_simple.sum(),0)) \n",
    "\n",
    "print('Random Forest predicted deaths, add demographic features: ', \n",
    "      round(y_pred_rf_demographic.sum(),0)) \n",
    "\n",
    "print(\"Actual deaths: \", y_test['deaths'].values.sum())"
   ]
  },
  {
   "cell_type": "markdown",
   "metadata": {},
   "source": [
    "#### RNNs"
   ]
  },
  {
   "cell_type": "code",
   "execution_count": null,
   "metadata": {},
   "outputs": [],
   "source": []
  },
  {
   "cell_type": "code",
   "execution_count": null,
   "metadata": {},
   "outputs": [],
   "source": []
  },
  {
   "cell_type": "code",
   "execution_count": null,
   "metadata": {},
   "outputs": [],
   "source": []
  },
  {
   "cell_type": "markdown",
   "metadata": {},
   "source": [
    "#### Extrapolate Models Until August"
   ]
  },
  {
   "cell_type": "code",
   "execution_count": null,
   "metadata": {},
   "outputs": [],
   "source": []
  },
  {
   "cell_type": "code",
   "execution_count": null,
   "metadata": {},
   "outputs": [],
   "source": []
  },
  {
   "cell_type": "code",
   "execution_count": null,
   "metadata": {},
   "outputs": [],
   "source": []
  },
  {
   "cell_type": "code",
   "execution_count": null,
   "metadata": {},
   "outputs": [],
   "source": []
  },
  {
   "cell_type": "code",
   "execution_count": null,
   "metadata": {},
   "outputs": [],
   "source": []
  }
 ],
 "metadata": {
  "kernelspec": {
   "display_name": "Python 3",
   "language": "python",
   "name": "python3"
  },
  "language_info": {
   "codemirror_mode": {
    "name": "ipython",
    "version": 3
   },
   "file_extension": ".py",
   "mimetype": "text/x-python",
   "name": "python",
   "nbconvert_exporter": "python",
   "pygments_lexer": "ipython3",
   "version": "3.7.4"
  }
 },
 "nbformat": 4,
 "nbformat_minor": 2
}
