{
 "cells": [
  {
   "cell_type": "markdown",
   "metadata": {},
   "source": [
    "# CS109b Final Project: \n",
    "# Air Pollution Exposure and COVID-19 Mortality in the U.S."
   ]
  },
  {
   "cell_type": "markdown",
   "metadata": {},
   "source": [
    "## Import libraries"
   ]
  },
  {
   "cell_type": "code",
   "execution_count": 1,
   "metadata": {},
   "outputs": [],
   "source": [
    "import numpy as np\n",
    "import seaborn as sns\n",
    "import pandas as pd\n",
    "import matplotlib.pyplot as plt\n",
    "import plotly.figure_factory as ff\n",
    "\n",
    "pd.options.display.max_rows = 500\n",
    "pd.options.display.max_columns = 500"
   ]
  },
  {
   "cell_type": "markdown",
   "metadata": {},
   "source": [
    "## Load and clean data"
   ]
  },
  {
   "cell_type": "code",
   "execution_count": 2,
   "metadata": {},
   "outputs": [],
   "source": [
    "data = pd.read_csv(\"./../PM_COVID-master/processed_data_05-03-2020.csv\")"
   ]
  },
  {
   "cell_type": "code",
   "execution_count": 3,
   "metadata": {},
   "outputs": [],
   "source": [
    "#load data\n",
    "#data = pd.read_csv('https://raw.githubusercontent.com/CS109b-Team37/Pollution-Prediction/master/PM_COVID-master/processed_data_04-24-2020.csv')"
   ]
  },
  {
   "cell_type": "code",
   "execution_count": 4,
   "metadata": {},
   "outputs": [],
   "source": [
    "#rename older_pecent to older_percent\n",
    "data = data.rename(columns={'older_pecent': 'older_percent'})\n",
    "\n",
    "#drop columns\n",
    "cols = list(data.columns)\n",
    "cols.remove('Unnamed: 0') #just a column of integers 1-21560\n",
    "#cols.remove('Province_State') #redundant information; already captured by 'state'\n",
    "cols.remove('Country_Region') #only US\n",
    "cols.remove('Combined_Key') #redundant information; already captured by 'Province_State' and 'Admin2'\n",
    "cols.remove('year.x') #only 2016\n",
    "cols.remove('year.y') #only 2012 and nan\n",
    "cols.remove('Population') #'older_pecent' was calculated by Population/older_Population\n",
    "cols.remove('older_Population') #'older_pecent' was calculated by Population/older_Population\n",
    "cols.remove('date') #only 20200502\n",
    "cols.remove('hash') #useless information\n",
    "cols.remove('dateChecked') #only '2020-05-02T20:00:00Z'\n",
    "cols.remove('Abbrev') #redundant information; already captured by 'state'\n",
    "cols.remove('total') #almost a repeat of 'totalTestResults'\n",
    "cols.remove('Recovered') #only 0\n",
    "data = data[cols]\n"
   ]
  },
  {
   "cell_type": "code",
   "execution_count": 5,
   "metadata": {
    "scrolled": true
   },
   "outputs": [
    {
     "data": {
      "text/plain": [
       "array(['2020-05-04 02:32:28', '3/30/20 22:52'], dtype=object)"
      ]
     },
     "execution_count": 5,
     "metadata": {},
     "output_type": "execute_result"
    }
   ],
   "source": [
    "data['Last_Update'].unique()"
   ]
  },
  {
   "cell_type": "code",
   "execution_count": 6,
   "metadata": {},
   "outputs": [],
   "source": [
    "#convert Last_Update to binary variable\n",
    "convert_dict = {'2020-05-04 02:32:28': 0, '3/30/20 22:52': 1}\n",
    "data = data.replace({'Last_Update': convert_dict})\n"
   ]
  },
  {
   "cell_type": "code",
   "execution_count": 7,
   "metadata": {
    "scrolled": true
   },
   "outputs": [
    {
     "name": "stdout",
     "output_type": "stream",
     "text": [
      "Variables with NA values:\n"
     ]
    },
    {
     "data": {
      "text/plain": [
       "smoke_rate                 867\n",
       "mean_bmi                   867\n",
       "Crude.Rate                   1\n",
       "older_percent                1\n",
       "pending                   2798\n",
       "hospitalizedCurrently      719\n",
       "hospitalizedCumulative    1276\n",
       "inIcuCurrently            1783\n",
       "inIcuCumulative           2345\n",
       "onVentilatorCurrently     1953\n",
       "onVentilatorCumulative    2839\n",
       "recovered                 1074\n",
       "hospitalized              1276\n",
       "beds                       811\n",
       "dtype: int64"
      ]
     },
     "metadata": {},
     "output_type": "display_data"
    }
   ],
   "source": [
    "#variables with NA values\n",
    "print('Variables with NA values:')\n",
    "display(data.isna().sum()[data.isna().sum() > 0])\n",
    "\n",
    "#remove variables with many NA values\n",
    "na_vars = list(data.isna().sum()[data.isna().sum() > 50].index) #variables with many NA values\n",
    "data = data[set(cols) - set(na_vars)] #final cleaned data"
   ]
  },
  {
   "cell_type": "code",
   "execution_count": 8,
   "metadata": {},
   "outputs": [
    {
     "name": "stdout",
     "output_type": "stream",
     "text": [
      "Rows with NA values:\n"
     ]
    },
    {
     "data": {
      "text/html": [
       "<div>\n",
       "<style scoped>\n",
       "    .dataframe tbody tr th:only-of-type {\n",
       "        vertical-align: middle;\n",
       "    }\n",
       "\n",
       "    .dataframe tbody tr th {\n",
       "        vertical-align: top;\n",
       "    }\n",
       "\n",
       "    .dataframe thead th {\n",
       "        text-align: right;\n",
       "    }\n",
       "</style>\n",
       "<table border=\"1\" class=\"dataframe\">\n",
       "  <thead>\n",
       "    <tr style=\"text-align: right;\">\n",
       "      <th></th>\n",
       "      <th>fips</th>\n",
       "      <th>older_percent</th>\n",
       "      <th>Last_Update</th>\n",
       "      <th>state</th>\n",
       "      <th>Admin2</th>\n",
       "      <th>mean_winter_temp</th>\n",
       "      <th>Confirmed</th>\n",
       "      <th>totalTestResults</th>\n",
       "      <th>pct_blk</th>\n",
       "      <th>positive</th>\n",
       "      <th>poverty</th>\n",
       "      <th>population_frac_county</th>\n",
       "      <th>Active</th>\n",
       "      <th>totalTestResultsIncrease</th>\n",
       "      <th>hospitalizedIncrease</th>\n",
       "      <th>positiveIncrease</th>\n",
       "      <th>Deaths</th>\n",
       "      <th>Long_</th>\n",
       "      <th>q_popdensity</th>\n",
       "      <th>mean_summer_rm</th>\n",
       "      <th>Crude.Rate</th>\n",
       "      <th>pct_owner_occ</th>\n",
       "      <th>negative</th>\n",
       "      <th>medhouseholdincome</th>\n",
       "      <th>pct_native</th>\n",
       "      <th>death</th>\n",
       "      <th>education</th>\n",
       "      <th>medianhousevalue</th>\n",
       "      <th>mean_winter_rm</th>\n",
       "      <th>population</th>\n",
       "      <th>popdensity</th>\n",
       "      <th>pct_white</th>\n",
       "      <th>mean_pm25</th>\n",
       "      <th>posNeg</th>\n",
       "      <th>mean_summer_temp</th>\n",
       "      <th>Province_State</th>\n",
       "      <th>negativeIncrease</th>\n",
       "      <th>pct_asian</th>\n",
       "      <th>deathIncrease</th>\n",
       "      <th>Lat</th>\n",
       "      <th>hispanic</th>\n",
       "      <th>totalTestResults_county</th>\n",
       "    </tr>\n",
       "  </thead>\n",
       "  <tbody>\n",
       "    <tr>\n",
       "      <th>2635</th>\n",
       "      <td>48301</td>\n",
       "      <td>NaN</td>\n",
       "      <td>1</td>\n",
       "      <td>TX</td>\n",
       "      <td>Loving</td>\n",
       "      <td>290.213523</td>\n",
       "      <td>0</td>\n",
       "      <td>390560</td>\n",
       "      <td>0.0</td>\n",
       "      <td>31548</td>\n",
       "      <td>0.631579</td>\n",
       "      <td>0.000002</td>\n",
       "      <td>0</td>\n",
       "      <td>9912</td>\n",
       "      <td>0</td>\n",
       "      <td>1026</td>\n",
       "      <td>0</td>\n",
       "      <td>-103.581857</td>\n",
       "      <td>1</td>\n",
       "      <td>73.844694</td>\n",
       "      <td>NaN</td>\n",
       "      <td>0.485714</td>\n",
       "      <td>359012</td>\n",
       "      <td>55625.0</td>\n",
       "      <td>0.047619</td>\n",
       "      <td>867</td>\n",
       "      <td>0.526316</td>\n",
       "      <td>89040.0</td>\n",
       "      <td>72.837808</td>\n",
       "      <td>63</td>\n",
       "      <td>0.395035</td>\n",
       "      <td>0.857143</td>\n",
       "      <td>5.685412</td>\n",
       "      <td>390560</td>\n",
       "      <td>309.483185</td>\n",
       "      <td>Texas</td>\n",
       "      <td>8886</td>\n",
       "      <td>0.0</td>\n",
       "      <td>20</td>\n",
       "      <td>31.849476</td>\n",
       "      <td>0.142857</td>\n",
       "      <td>0.91409</td>\n",
       "    </tr>\n",
       "  </tbody>\n",
       "</table>\n",
       "</div>"
      ],
      "text/plain": [
       "       fips  older_percent  Last_Update state  Admin2  mean_winter_temp  \\\n",
       "2635  48301            NaN            1    TX  Loving        290.213523   \n",
       "\n",
       "      Confirmed  totalTestResults  pct_blk  positive   poverty  \\\n",
       "2635          0            390560      0.0     31548  0.631579   \n",
       "\n",
       "      population_frac_county  Active  totalTestResultsIncrease  \\\n",
       "2635                0.000002       0                      9912   \n",
       "\n",
       "      hospitalizedIncrease  positiveIncrease  Deaths       Long_  \\\n",
       "2635                     0              1026       0 -103.581857   \n",
       "\n",
       "      q_popdensity  mean_summer_rm  Crude.Rate  pct_owner_occ  negative  \\\n",
       "2635             1       73.844694         NaN       0.485714    359012   \n",
       "\n",
       "      medhouseholdincome  pct_native  death  education  medianhousevalue  \\\n",
       "2635             55625.0    0.047619    867   0.526316           89040.0   \n",
       "\n",
       "      mean_winter_rm  population  popdensity  pct_white  mean_pm25  posNeg  \\\n",
       "2635       72.837808          63    0.395035   0.857143   5.685412  390560   \n",
       "\n",
       "      mean_summer_temp Province_State  negativeIncrease  pct_asian  \\\n",
       "2635        309.483185          Texas              8886        0.0   \n",
       "\n",
       "      deathIncrease        Lat  hispanic  totalTestResults_county  \n",
       "2635             20  31.849476  0.142857                  0.91409  "
      ]
     },
     "metadata": {},
     "output_type": "display_data"
    }
   ],
   "source": [
    "#both NA values are for Loving, Texas\n",
    "null_data = data[data.isnull().any(axis=1)]\n",
    "print('Rows with NA values:')\n",
    "display(null_data)\n",
    "\n",
    "#fill in NA values for 'Crude.Rate' and 'older_percent' with state average\n",
    "values = {'Crude.Rate': data.groupby('state').mean()['Crude.Rate']['TX'], 'older_percent': data.groupby('state').mean()['older_percent']['TX']}\n",
    "data = data.fillna(value=values)"
   ]
  },
  {
   "cell_type": "markdown",
   "metadata": {},
   "source": [
    "## Modeling"
   ]
  },
  {
   "cell_type": "code",
   "execution_count": 9,
   "metadata": {},
   "outputs": [
    {
     "name": "stdout",
     "output_type": "stream",
     "text": [
      "tensorflow version 2.0.0\n",
      "keras version 2.2.4-tf\n"
     ]
    }
   ],
   "source": [
    "from sklearn.model_selection import train_test_split\n",
    "\n",
    "import tensorflow as tf\n",
    "from tensorflow.keras.utils import to_categorical\n",
    "from tensorflow.keras import backend\n",
    "from tensorflow.keras import Model, Sequential\n",
    "from tensorflow.keras.models import model_from_json\n",
    "from tensorflow.keras.layers import Input, SimpleRNN, Dense, TimeDistributed, GRU, \\\n",
    "                          Dropout, Bidirectional, Conv1D, BatchNormalization\n",
    "\n",
    "print('tensorflow version', tf.__version__)\n",
    "print('keras version', tf.keras.__version__)"
   ]
  },
  {
   "cell_type": "markdown",
   "metadata": {},
   "source": [
    "### Prepare data; split states into two groups (high testing and low testing)"
   ]
  },
  {
   "cell_type": "code",
   "execution_count": 10,
   "metadata": {},
   "outputs": [],
   "source": [
    "#remove posNeg, since it is the same as totalTestResults\n",
    "cols = list(data.columns)\n",
    "cols.remove('posNeg') \n",
    "cols.remove('Deaths') #remove deaths because we are trying to predict cases\n",
    "cols.remove('death')\n",
    "cols.remove('fips')\n",
    "cols.remove('state') #redundant, given Province_State\n",
    "cols.remove('Admin2') #county names\n",
    "dataTH = data[cols]\n"
   ]
  },
  {
   "cell_type": "code",
   "execution_count": 11,
   "metadata": {},
   "outputs": [],
   "source": [
    "#load tests data\n",
    "#directly from https://www.vox.com/2020/3/26/21193848/coronavirus-us-cases-deaths-tests-by-state (5/5/2020)\n",
    "#which got the data from COVID Tracking Project, Census Bureau\n",
    "tests_data = pd.read_csv(\"./../tests_data.csv\")\n"
   ]
  },
  {
   "cell_type": "code",
   "execution_count": 12,
   "metadata": {},
   "outputs": [
    {
     "data": {
      "text/html": [
       "<div>\n",
       "<style scoped>\n",
       "    .dataframe tbody tr th:only-of-type {\n",
       "        vertical-align: middle;\n",
       "    }\n",
       "\n",
       "    .dataframe tbody tr th {\n",
       "        vertical-align: top;\n",
       "    }\n",
       "\n",
       "    .dataframe thead th {\n",
       "        text-align: right;\n",
       "    }\n",
       "</style>\n",
       "<table border=\"1\" class=\"dataframe\">\n",
       "  <thead>\n",
       "    <tr style=\"text-align: right;\">\n",
       "      <th></th>\n",
       "      <th>state</th>\n",
       "      <th>confirmed_cases</th>\n",
       "      <th>deaths</th>\n",
       "      <th>tests_conducted</th>\n",
       "      <th>tests_per_million_people</th>\n",
       "      <th>tests_per_thousand_people</th>\n",
       "    </tr>\n",
       "  </thead>\n",
       "  <tbody>\n",
       "    <tr>\n",
       "      <th>55</th>\n",
       "      <td>Rhode Island</td>\n",
       "      <td>9477</td>\n",
       "      <td>320</td>\n",
       "      <td>71927</td>\n",
       "      <td>67897</td>\n",
       "      <td>67.897</td>\n",
       "    </tr>\n",
       "    <tr>\n",
       "      <th>54</th>\n",
       "      <td>New York</td>\n",
       "      <td>316415</td>\n",
       "      <td>19189</td>\n",
       "      <td>985911</td>\n",
       "      <td>50680</td>\n",
       "      <td>50.680</td>\n",
       "    </tr>\n",
       "    <tr>\n",
       "      <th>53</th>\n",
       "      <td>Massachusetts</td>\n",
       "      <td>68087</td>\n",
       "      <td>4004</td>\n",
       "      <td>314646</td>\n",
       "      <td>45650</td>\n",
       "      <td>45.650</td>\n",
       "    </tr>\n",
       "    <tr>\n",
       "      <th>52</th>\n",
       "      <td>North Dakota</td>\n",
       "      <td>1191</td>\n",
       "      <td>25</td>\n",
       "      <td>33353</td>\n",
       "      <td>43767</td>\n",
       "      <td>43.767</td>\n",
       "    </tr>\n",
       "    <tr>\n",
       "      <th>51</th>\n",
       "      <td>Utah</td>\n",
       "      <td>5175</td>\n",
       "      <td>50</td>\n",
       "      <td>122102</td>\n",
       "      <td>38086</td>\n",
       "      <td>38.086</td>\n",
       "    </tr>\n",
       "    <tr>\n",
       "      <th>50</th>\n",
       "      <td>Louisiana</td>\n",
       "      <td>29340</td>\n",
       "      <td>1969</td>\n",
       "      <td>176160</td>\n",
       "      <td>37894</td>\n",
       "      <td>37.894</td>\n",
       "    </tr>\n",
       "    <tr>\n",
       "      <th>49</th>\n",
       "      <td>New Mexico</td>\n",
       "      <td>3732</td>\n",
       "      <td>139</td>\n",
       "      <td>74944</td>\n",
       "      <td>35742</td>\n",
       "      <td>35.742</td>\n",
       "    </tr>\n",
       "    <tr>\n",
       "      <th>47</th>\n",
       "      <td>New Jersey</td>\n",
       "      <td>126744</td>\n",
       "      <td>7871</td>\n",
       "      <td>275707</td>\n",
       "      <td>31040</td>\n",
       "      <td>31.040</td>\n",
       "    </tr>\n",
       "    <tr>\n",
       "      <th>46</th>\n",
       "      <td>Tennessee</td>\n",
       "      <td>13177</td>\n",
       "      <td>210</td>\n",
       "      <td>204607</td>\n",
       "      <td>29961</td>\n",
       "      <td>29.961</td>\n",
       "    </tr>\n",
       "    <tr>\n",
       "      <th>44</th>\n",
       "      <td>West Virginia</td>\n",
       "      <td>1191</td>\n",
       "      <td>50</td>\n",
       "      <td>51638</td>\n",
       "      <td>28813</td>\n",
       "      <td>28.813</td>\n",
       "    </tr>\n",
       "    <tr>\n",
       "      <th>43</th>\n",
       "      <td>Connecticut</td>\n",
       "      <td>29287</td>\n",
       "      <td>2436</td>\n",
       "      <td>102493</td>\n",
       "      <td>28747</td>\n",
       "      <td>28.747</td>\n",
       "    </tr>\n",
       "    <tr>\n",
       "      <th>42</th>\n",
       "      <td>Washington</td>\n",
       "      <td>15003</td>\n",
       "      <td>830</td>\n",
       "      <td>207315</td>\n",
       "      <td>27225</td>\n",
       "      <td>27.225</td>\n",
       "    </tr>\n",
       "    <tr>\n",
       "      <th>41</th>\n",
       "      <td>Vermont</td>\n",
       "      <td>897</td>\n",
       "      <td>52</td>\n",
       "      <td>16954</td>\n",
       "      <td>27170</td>\n",
       "      <td>27.170</td>\n",
       "    </tr>\n",
       "    <tr>\n",
       "      <th>40</th>\n",
       "      <td>Mississippi</td>\n",
       "      <td>7550</td>\n",
       "      <td>303</td>\n",
       "      <td>77593</td>\n",
       "      <td>26072</td>\n",
       "      <td>26.072</td>\n",
       "    </tr>\n",
       "    <tr>\n",
       "      <th>39</th>\n",
       "      <td>Illinois</td>\n",
       "      <td>61499</td>\n",
       "      <td>2618</td>\n",
       "      <td>319313</td>\n",
       "      <td>25199</td>\n",
       "      <td>25.199</td>\n",
       "    </tr>\n",
       "    <tr>\n",
       "      <th>37</th>\n",
       "      <td>Delaware</td>\n",
       "      <td>5208</td>\n",
       "      <td>177</td>\n",
       "      <td>23737</td>\n",
       "      <td>24377</td>\n",
       "      <td>24.377</td>\n",
       "    </tr>\n",
       "    <tr>\n",
       "      <th>35</th>\n",
       "      <td>Maryland</td>\n",
       "      <td>25462</td>\n",
       "      <td>1281</td>\n",
       "      <td>132794</td>\n",
       "      <td>21965</td>\n",
       "      <td>21.965</td>\n",
       "    </tr>\n",
       "    <tr>\n",
       "      <th>34</th>\n",
       "      <td>Michigan</td>\n",
       "      <td>43754</td>\n",
       "      <td>4049</td>\n",
       "      <td>212532</td>\n",
       "      <td>21281</td>\n",
       "      <td>21.281</td>\n",
       "    </tr>\n",
       "    <tr>\n",
       "      <th>33</th>\n",
       "      <td>New Hampshire</td>\n",
       "      <td>2429</td>\n",
       "      <td>84</td>\n",
       "      <td>28613</td>\n",
       "      <td>21043</td>\n",
       "      <td>21.043</td>\n",
       "    </tr>\n",
       "    <tr>\n",
       "      <th>32</th>\n",
       "      <td>South Dakota</td>\n",
       "      <td>2631</td>\n",
       "      <td>21</td>\n",
       "      <td>18417</td>\n",
       "      <td>20818</td>\n",
       "      <td>20.818</td>\n",
       "    </tr>\n",
       "    <tr>\n",
       "      <th>30</th>\n",
       "      <td>Florida</td>\n",
       "      <td>36078</td>\n",
       "      <td>1403</td>\n",
       "      <td>429415</td>\n",
       "      <td>19993</td>\n",
       "      <td>19.993</td>\n",
       "    </tr>\n",
       "    <tr>\n",
       "      <th>29</th>\n",
       "      <td>Alabama</td>\n",
       "      <td>7725</td>\n",
       "      <td>290</td>\n",
       "      <td>92500</td>\n",
       "      <td>18865</td>\n",
       "      <td>18.865</td>\n",
       "    </tr>\n",
       "    <tr>\n",
       "      <th>28</th>\n",
       "      <td>Pennsylvania</td>\n",
       "      <td>49267</td>\n",
       "      <td>2444</td>\n",
       "      <td>240641</td>\n",
       "      <td>18797</td>\n",
       "      <td>18.797</td>\n",
       "    </tr>\n",
       "    <tr>\n",
       "      <th>27</th>\n",
       "      <td>California</td>\n",
       "      <td>53616</td>\n",
       "      <td>2215</td>\n",
       "      <td>715751</td>\n",
       "      <td>18115</td>\n",
       "      <td>18.115</td>\n",
       "    </tr>\n",
       "    <tr>\n",
       "      <th>26</th>\n",
       "      <td>Wyoming</td>\n",
       "      <td>579</td>\n",
       "      <td>7</td>\n",
       "      <td>10219</td>\n",
       "      <td>17657</td>\n",
       "      <td>17.657</td>\n",
       "    </tr>\n",
       "    <tr>\n",
       "      <th>25</th>\n",
       "      <td>Arkansas</td>\n",
       "      <td>3431</td>\n",
       "      <td>76</td>\n",
       "      <td>52890</td>\n",
       "      <td>17526</td>\n",
       "      <td>17.526</td>\n",
       "    </tr>\n",
       "    <tr>\n",
       "      <th>24</th>\n",
       "      <td>Iowa</td>\n",
       "      <td>9169</td>\n",
       "      <td>184</td>\n",
       "      <td>53186</td>\n",
       "      <td>16857</td>\n",
       "      <td>16.857</td>\n",
       "    </tr>\n",
       "    <tr>\n",
       "      <th>23</th>\n",
       "      <td>Idaho</td>\n",
       "      <td>2061</td>\n",
       "      <td>63</td>\n",
       "      <td>29807</td>\n",
       "      <td>16679</td>\n",
       "      <td>16.679</td>\n",
       "    </tr>\n",
       "    <tr>\n",
       "      <th>22</th>\n",
       "      <td>Georgia</td>\n",
       "      <td>28602</td>\n",
       "      <td>1177</td>\n",
       "      <td>175096</td>\n",
       "      <td>16491</td>\n",
       "      <td>16.491</td>\n",
       "    </tr>\n",
       "    <tr>\n",
       "      <th>21</th>\n",
       "      <td>Indiana</td>\n",
       "      <td>19933</td>\n",
       "      <td>1246</td>\n",
       "      <td>108859</td>\n",
       "      <td>16170</td>\n",
       "      <td>16.170</td>\n",
       "    </tr>\n",
       "    <tr>\n",
       "      <th>20</th>\n",
       "      <td>Nebraska</td>\n",
       "      <td>5326</td>\n",
       "      <td>76</td>\n",
       "      <td>31262</td>\n",
       "      <td>16161</td>\n",
       "      <td>16.161</td>\n",
       "    </tr>\n",
       "    <tr>\n",
       "      <th>19</th>\n",
       "      <td>Oklahoma</td>\n",
       "      <td>3972</td>\n",
       "      <td>238</td>\n",
       "      <td>63776</td>\n",
       "      <td>16117</td>\n",
       "      <td>16.117</td>\n",
       "    </tr>\n",
       "    <tr>\n",
       "      <th>18</th>\n",
       "      <td>Maine</td>\n",
       "      <td>1185</td>\n",
       "      <td>57</td>\n",
       "      <td>20731</td>\n",
       "      <td>15422</td>\n",
       "      <td>15.422</td>\n",
       "    </tr>\n",
       "    <tr>\n",
       "      <th>17</th>\n",
       "      <td>Wisconsin</td>\n",
       "      <td>7964</td>\n",
       "      <td>339</td>\n",
       "      <td>86192</td>\n",
       "      <td>14803</td>\n",
       "      <td>14.803</td>\n",
       "    </tr>\n",
       "    <tr>\n",
       "      <th>16</th>\n",
       "      <td>Oregon</td>\n",
       "      <td>2680</td>\n",
       "      <td>109</td>\n",
       "      <td>62054</td>\n",
       "      <td>14713</td>\n",
       "      <td>14.713</td>\n",
       "    </tr>\n",
       "    <tr>\n",
       "      <th>15</th>\n",
       "      <td>Nevada</td>\n",
       "      <td>5426</td>\n",
       "      <td>257</td>\n",
       "      <td>45269</td>\n",
       "      <td>14697</td>\n",
       "      <td>14.697</td>\n",
       "    </tr>\n",
       "    <tr>\n",
       "      <th>14</th>\n",
       "      <td>Minnesota</td>\n",
       "      <td>6663</td>\n",
       "      <td>419</td>\n",
       "      <td>82632</td>\n",
       "      <td>14652</td>\n",
       "      <td>14.652</td>\n",
       "    </tr>\n",
       "    <tr>\n",
       "      <th>13</th>\n",
       "      <td>Montana</td>\n",
       "      <td>455</td>\n",
       "      <td>16</td>\n",
       "      <td>15007</td>\n",
       "      <td>14041</td>\n",
       "      <td>14.041</td>\n",
       "    </tr>\n",
       "    <tr>\n",
       "      <th>12</th>\n",
       "      <td>Colorado</td>\n",
       "      <td>16225</td>\n",
       "      <td>832</td>\n",
       "      <td>79906</td>\n",
       "      <td>13876</td>\n",
       "      <td>13.876</td>\n",
       "    </tr>\n",
       "    <tr>\n",
       "      <th>11</th>\n",
       "      <td>North Carolina</td>\n",
       "      <td>11664</td>\n",
       "      <td>422</td>\n",
       "      <td>143835</td>\n",
       "      <td>13714</td>\n",
       "      <td>13.714</td>\n",
       "    </tr>\n",
       "    <tr>\n",
       "      <th>10</th>\n",
       "      <td>Missouri</td>\n",
       "      <td>8386</td>\n",
       "      <td>352</td>\n",
       "      <td>82976</td>\n",
       "      <td>13520</td>\n",
       "      <td>13.520</td>\n",
       "    </tr>\n",
       "    <tr>\n",
       "      <th>9</th>\n",
       "      <td>Texas</td>\n",
       "      <td>31548</td>\n",
       "      <td>867</td>\n",
       "      <td>390560</td>\n",
       "      <td>13469</td>\n",
       "      <td>13.469</td>\n",
       "    </tr>\n",
       "    <tr>\n",
       "      <th>8</th>\n",
       "      <td>Kentucky</td>\n",
       "      <td>4879</td>\n",
       "      <td>248</td>\n",
       "      <td>57649</td>\n",
       "      <td>12904</td>\n",
       "      <td>12.904</td>\n",
       "    </tr>\n",
       "    <tr>\n",
       "      <th>7</th>\n",
       "      <td>Ohio</td>\n",
       "      <td>19914</td>\n",
       "      <td>1038</td>\n",
       "      <td>150166</td>\n",
       "      <td>12847</td>\n",
       "      <td>12.847</td>\n",
       "    </tr>\n",
       "    <tr>\n",
       "      <th>6</th>\n",
       "      <td>Virginia</td>\n",
       "      <td>18671</td>\n",
       "      <td>660</td>\n",
       "      <td>108467</td>\n",
       "      <td>12708</td>\n",
       "      <td>12.708</td>\n",
       "    </tr>\n",
       "    <tr>\n",
       "      <th>5</th>\n",
       "      <td>Kansas</td>\n",
       "      <td>5030</td>\n",
       "      <td>134</td>\n",
       "      <td>36778</td>\n",
       "      <td>12624</td>\n",
       "      <td>12.624</td>\n",
       "    </tr>\n",
       "    <tr>\n",
       "      <th>4</th>\n",
       "      <td>South Carolina</td>\n",
       "      <td>6626</td>\n",
       "      <td>275</td>\n",
       "      <td>64188</td>\n",
       "      <td>12467</td>\n",
       "      <td>12.467</td>\n",
       "    </tr>\n",
       "    <tr>\n",
       "      <th>3</th>\n",
       "      <td>Arizona</td>\n",
       "      <td>8640</td>\n",
       "      <td>362</td>\n",
       "      <td>81119</td>\n",
       "      <td>11145</td>\n",
       "      <td>11.145</td>\n",
       "    </tr>\n",
       "  </tbody>\n",
       "</table>\n",
       "</div>"
      ],
      "text/plain": [
       "             state  confirmed_cases  deaths  tests_conducted  \\\n",
       "55    Rhode Island             9477     320            71927   \n",
       "54        New York           316415   19189           985911   \n",
       "53   Massachusetts            68087    4004           314646   \n",
       "52    North Dakota             1191      25            33353   \n",
       "51            Utah             5175      50           122102   \n",
       "50       Louisiana            29340    1969           176160   \n",
       "49      New Mexico             3732     139            74944   \n",
       "47      New Jersey           126744    7871           275707   \n",
       "46       Tennessee            13177     210           204607   \n",
       "44   West Virginia             1191      50            51638   \n",
       "43     Connecticut            29287    2436           102493   \n",
       "42      Washington            15003     830           207315   \n",
       "41         Vermont              897      52            16954   \n",
       "40     Mississippi             7550     303            77593   \n",
       "39        Illinois            61499    2618           319313   \n",
       "37        Delaware             5208     177            23737   \n",
       "35        Maryland            25462    1281           132794   \n",
       "34        Michigan            43754    4049           212532   \n",
       "33   New Hampshire             2429      84            28613   \n",
       "32    South Dakota             2631      21            18417   \n",
       "30         Florida            36078    1403           429415   \n",
       "29         Alabama             7725     290            92500   \n",
       "28    Pennsylvania            49267    2444           240641   \n",
       "27      California            53616    2215           715751   \n",
       "26         Wyoming              579       7            10219   \n",
       "25        Arkansas             3431      76            52890   \n",
       "24            Iowa             9169     184            53186   \n",
       "23           Idaho             2061      63            29807   \n",
       "22         Georgia            28602    1177           175096   \n",
       "21         Indiana            19933    1246           108859   \n",
       "20        Nebraska             5326      76            31262   \n",
       "19        Oklahoma             3972     238            63776   \n",
       "18           Maine             1185      57            20731   \n",
       "17       Wisconsin             7964     339            86192   \n",
       "16          Oregon             2680     109            62054   \n",
       "15          Nevada             5426     257            45269   \n",
       "14       Minnesota             6663     419            82632   \n",
       "13         Montana              455      16            15007   \n",
       "12        Colorado            16225     832            79906   \n",
       "11  North Carolina            11664     422           143835   \n",
       "10        Missouri             8386     352            82976   \n",
       "9            Texas            31548     867           390560   \n",
       "8         Kentucky             4879     248            57649   \n",
       "7             Ohio            19914    1038           150166   \n",
       "6         Virginia            18671     660           108467   \n",
       "5           Kansas             5030     134            36778   \n",
       "4   South Carolina             6626     275            64188   \n",
       "3          Arizona             8640     362            81119   \n",
       "\n",
       "    tests_per_million_people  tests_per_thousand_people  \n",
       "55                     67897                     67.897  \n",
       "54                     50680                     50.680  \n",
       "53                     45650                     45.650  \n",
       "52                     43767                     43.767  \n",
       "51                     38086                     38.086  \n",
       "50                     37894                     37.894  \n",
       "49                     35742                     35.742  \n",
       "47                     31040                     31.040  \n",
       "46                     29961                     29.961  \n",
       "44                     28813                     28.813  \n",
       "43                     28747                     28.747  \n",
       "42                     27225                     27.225  \n",
       "41                     27170                     27.170  \n",
       "40                     26072                     26.072  \n",
       "39                     25199                     25.199  \n",
       "37                     24377                     24.377  \n",
       "35                     21965                     21.965  \n",
       "34                     21281                     21.281  \n",
       "33                     21043                     21.043  \n",
       "32                     20818                     20.818  \n",
       "30                     19993                     19.993  \n",
       "29                     18865                     18.865  \n",
       "28                     18797                     18.797  \n",
       "27                     18115                     18.115  \n",
       "26                     17657                     17.657  \n",
       "25                     17526                     17.526  \n",
       "24                     16857                     16.857  \n",
       "23                     16679                     16.679  \n",
       "22                     16491                     16.491  \n",
       "21                     16170                     16.170  \n",
       "20                     16161                     16.161  \n",
       "19                     16117                     16.117  \n",
       "18                     15422                     15.422  \n",
       "17                     14803                     14.803  \n",
       "16                     14713                     14.713  \n",
       "15                     14697                     14.697  \n",
       "14                     14652                     14.652  \n",
       "13                     14041                     14.041  \n",
       "12                     13876                     13.876  \n",
       "11                     13714                     13.714  \n",
       "10                     13520                     13.520  \n",
       "9                      13469                     13.469  \n",
       "8                      12904                     12.904  \n",
       "7                      12847                     12.847  \n",
       "6                      12708                     12.708  \n",
       "5                      12624                     12.624  \n",
       "4                      12467                     12.467  \n",
       "3                      11145                     11.145  "
      ]
     },
     "execution_count": 12,
     "metadata": {},
     "output_type": "execute_result"
    }
   ],
   "source": [
    "#subset data to only include the 49 states in our dataset\n",
    "states_in_data = dataTH['Province_State'].unique()\n",
    "tests_data_sub = tests_data.loc[tests_data['state'].isin(states_in_data)]\n",
    "\n",
    "#remove DC from the dataset because our data only has one observation for DC\n",
    "tests_data_sub = tests_data_sub[tests_data_sub['state'] != 'District of Columbia']\n",
    "\n",
    "#examine dataset\n",
    "tests_data_sub.sort_values(by='tests_per_thousand_people', ascending=False)"
   ]
  },
  {
   "cell_type": "code",
   "execution_count": 13,
   "metadata": {},
   "outputs": [
    {
     "data": {
      "image/png": "[encoded data removed]",
      "text/plain": [
       "<Figure size 648x432 with 1 Axes>"
      ]
     },
     "metadata": {
      "needs_background": "light"
     },
     "output_type": "display_data"
    }
   ],
   "source": [
    "#states that conduct more testing have more confirmed cases\n",
    "fig, ax = plt.subplots(1, 1, figsize = (9, 6))\n",
    "ax.scatter(tests_data_sub['tests_per_thousand_people'], tests_data_sub['confirmed_cases'])\n",
    "ax.set_title('Confirmed cases vs. tests per thousand people (state-level)')\n",
    "ax.set_xlabel('Tests per thousand people')\n",
    "ax.set_ylabel('Confirmed cases');"
   ]
  },
  {
   "cell_type": "code",
   "execution_count": 14,
   "metadata": {},
   "outputs": [
    {
     "data": {
      "image/png": "[encoded data removed]",
      "text/plain": [
       "<Figure size 432x288 with 1 Axes>"
      ]
     },
     "metadata": {
      "needs_background": "light"
     },
     "output_type": "display_data"
    }
   ],
   "source": [
    "#plot distribution of tests_per_thousand_people; find cutoff\n",
    "\n",
    "#ax = sns.distplot(tests_data_sub['tests_per_thousand_people']) #histogram\n",
    "#ax = sns.boxplot(x=tests_data_sub['tests_per_thousand_people']) #boxplot\n",
    "ax = sns.violinplot(x=tests_data_sub['tests_per_thousand_people']) #violinplot"
   ]
  },
  {
   "cell_type": "code",
   "execution_count": 15,
   "metadata": {},
   "outputs": [
    {
     "name": "stdout",
     "output_type": "stream",
     "text": [
      "Number of states with high levels of testing: 24\n",
      "Number of states with low levels of testing: 24\n"
     ]
    }
   ],
   "source": [
    "#divide states into states that have high testing and states that have low testing\n",
    "\n",
    "threshold = np.median(tests_data_sub['tests_per_thousand_people'])\n",
    "#threshold = np.quantile(tests_data_sub['tests_per_thousand_people'], 0.25)\n",
    "states_high = tests_data_sub[tests_data_sub['tests_per_thousand_people'] >= threshold].state.values\n",
    "states_low = tests_data_sub[tests_data_sub['tests_per_thousand_people'] < threshold].state.values\n",
    "\n",
    "#split data based on these two groups\n",
    "states_high_data = dataTH.loc[dataTH['Province_State'].isin(states_high)]\n",
    "states_low_data = dataTH.loc[dataTH['Province_State'].isin(states_low)]\n",
    "\n",
    "print('Number of states with high levels of testing:', len(states_high))\n",
    "print('Number of states with low levels of testing:', len(states_low))"
   ]
  },
  {
   "cell_type": "code",
   "execution_count": 16,
   "metadata": {},
   "outputs": [],
   "source": [
    "#train model on states that have high testing\n",
    "#once model is fully developed, apply it to states that have low testing\n",
    "\n",
    "###data for states with high testing\n",
    "X_high = states_high_data.loc[:, states_high_data.columns != 'Confirmed']\n",
    "X_high = X_high.loc[:, X_high.columns != 'Province_State'] #remove states column; need to remove at this step and not earlier because states were used to stratify data\n",
    "y_high = states_high_data['Confirmed']\n",
    "X_high_train, X_high_test, y_high_train, y_high_test = train_test_split(X_high, y_high, test_size=0.10, random_state=42) #split states_high_data into train and test sets\n",
    "\n",
    "###data for states with low testing\n",
    "X_low = states_low_data.loc[:, states_low_data.columns != 'Confirmed']\n",
    "X_low = X_low.loc[:, X_low.columns != 'Province_State'] #remove states column; need to remove at this step and not earlier because states were used to stratify data\n",
    "y_low = states_low_data['Confirmed']\n",
    "X_low_train, X_low_test, y_low_train, y_low_test = train_test_split(X_low, y_low, test_size=0.10, random_state=42) #split states_high_data into train and test sets\n"
   ]
  },
  {
   "cell_type": "code",
   "execution_count": 51,
   "metadata": {},
   "outputs": [],
   "source": [
    "###data for all states\n",
    "X = dataTH.loc[:, dataTH.columns != 'Confirmed']\n",
    "X = X.loc[:, X.columns != 'Province_State'] #remove states column; need to remove at this step and not earlier because states were used to stratify data\n",
    "y = dataTH['Confirmed']\n",
    "X_train, X_test, y_train, y_test = train_test_split(X, y, test_size=0.10, random_state=42) #split states_high_data into train and test sets\n"
   ]
  },
  {
   "cell_type": "markdown",
   "metadata": {},
   "source": [
    "### Random forest"
   ]
  },
  {
   "cell_type": "code",
   "execution_count": 17,
   "metadata": {},
   "outputs": [],
   "source": [
    "import sklearn\n",
    "from sklearn.ensemble import RandomForestClassifier\n",
    "from sklearn.metrics import mean_squared_error\n",
    "from itertools import product\n",
    "from sklearn.model_selection import cross_val_score\n"
   ]
  },
  {
   "cell_type": "markdown",
   "metadata": {},
   "source": [
    "##### Random forest model for all states"
   ]
  },
  {
   "cell_type": "code",
   "execution_count": 54,
   "metadata": {},
   "outputs": [
    {
     "name": "stderr",
     "output_type": "stream",
     "text": [
      "//anaconda3/envs/cs109b/lib/python3.7/site-packages/sklearn/model_selection/_split.py:667: UserWarning:\n",
      "\n",
      "The least populated class in y has only 1 members, which is less than n_splits=5.\n",
      "\n"
     ]
    },
    {
     "name": "stdout",
     "output_type": "stream",
     "text": [
      "1/42 complete\n"
     ]
    },
    {
     "name": "stderr",
     "output_type": "stream",
     "text": [
      "//anaconda3/envs/cs109b/lib/python3.7/site-packages/sklearn/model_selection/_split.py:667: UserWarning:\n",
      "\n",
      "The least populated class in y has only 1 members, which is less than n_splits=5.\n",
      "\n"
     ]
    },
    {
     "name": "stdout",
     "output_type": "stream",
     "text": [
      "2/42 complete\n"
     ]
    },
    {
     "name": "stderr",
     "output_type": "stream",
     "text": [
      "//anaconda3/envs/cs109b/lib/python3.7/site-packages/sklearn/model_selection/_split.py:667: UserWarning:\n",
      "\n",
      "The least populated class in y has only 1 members, which is less than n_splits=5.\n",
      "\n"
     ]
    },
    {
     "name": "stdout",
     "output_type": "stream",
     "text": [
      "3/42 complete\n"
     ]
    },
    {
     "name": "stderr",
     "output_type": "stream",
     "text": [
      "//anaconda3/envs/cs109b/lib/python3.7/site-packages/sklearn/model_selection/_split.py:667: UserWarning:\n",
      "\n",
      "The least populated class in y has only 1 members, which is less than n_splits=5.\n",
      "\n"
     ]
    },
    {
     "name": "stdout",
     "output_type": "stream",
     "text": [
      "4/42 complete\n"
     ]
    },
    {
     "name": "stderr",
     "output_type": "stream",
     "text": [
      "//anaconda3/envs/cs109b/lib/python3.7/site-packages/sklearn/model_selection/_split.py:667: UserWarning:\n",
      "\n",
      "The least populated class in y has only 1 members, which is less than n_splits=5.\n",
      "\n"
     ]
    },
    {
     "name": "stdout",
     "output_type": "stream",
     "text": [
      "5/42 complete\n"
     ]
    },
    {
     "name": "stderr",
     "output_type": "stream",
     "text": [
      "//anaconda3/envs/cs109b/lib/python3.7/site-packages/sklearn/model_selection/_split.py:667: UserWarning:\n",
      "\n",
      "The least populated class in y has only 1 members, which is less than n_splits=5.\n",
      "\n"
     ]
    },
    {
     "name": "stdout",
     "output_type": "stream",
     "text": [
      "6/42 complete\n"
     ]
    },
    {
     "name": "stderr",
     "output_type": "stream",
     "text": [
      "//anaconda3/envs/cs109b/lib/python3.7/site-packages/sklearn/model_selection/_split.py:667: UserWarning:\n",
      "\n",
      "The least populated class in y has only 1 members, which is less than n_splits=5.\n",
      "\n"
     ]
    },
    {
     "name": "stdout",
     "output_type": "stream",
     "text": [
      "7/42 complete\n"
     ]
    },
    {
     "name": "stderr",
     "output_type": "stream",
     "text": [
      "//anaconda3/envs/cs109b/lib/python3.7/site-packages/sklearn/model_selection/_split.py:667: UserWarning:\n",
      "\n",
      "The least populated class in y has only 1 members, which is less than n_splits=5.\n",
      "\n"
     ]
    },
    {
     "name": "stdout",
     "output_type": "stream",
     "text": [
      "8/42 complete\n"
     ]
    },
    {
     "name": "stderr",
     "output_type": "stream",
     "text": [
      "//anaconda3/envs/cs109b/lib/python3.7/site-packages/sklearn/model_selection/_split.py:667: UserWarning:\n",
      "\n",
      "The least populated class in y has only 1 members, which is less than n_splits=5.\n",
      "\n"
     ]
    },
    {
     "name": "stdout",
     "output_type": "stream",
     "text": [
      "9/42 complete\n"
     ]
    },
    {
     "name": "stderr",
     "output_type": "stream",
     "text": [
      "//anaconda3/envs/cs109b/lib/python3.7/site-packages/sklearn/model_selection/_split.py:667: UserWarning:\n",
      "\n",
      "The least populated class in y has only 1 members, which is less than n_splits=5.\n",
      "\n"
     ]
    },
    {
     "name": "stdout",
     "output_type": "stream",
     "text": [
      "10/42 complete\n"
     ]
    },
    {
     "name": "stderr",
     "output_type": "stream",
     "text": [
      "//anaconda3/envs/cs109b/lib/python3.7/site-packages/sklearn/model_selection/_split.py:667: UserWarning:\n",
      "\n",
      "The least populated class in y has only 1 members, which is less than n_splits=5.\n",
      "\n"
     ]
    },
    {
     "name": "stdout",
     "output_type": "stream",
     "text": [
      "11/42 complete\n"
     ]
    },
    {
     "name": "stderr",
     "output_type": "stream",
     "text": [
      "//anaconda3/envs/cs109b/lib/python3.7/site-packages/sklearn/model_selection/_split.py:667: UserWarning:\n",
      "\n",
      "The least populated class in y has only 1 members, which is less than n_splits=5.\n",
      "\n"
     ]
    },
    {
     "name": "stdout",
     "output_type": "stream",
     "text": [
      "12/42 complete\n"
     ]
    },
    {
     "name": "stderr",
     "output_type": "stream",
     "text": [
      "//anaconda3/envs/cs109b/lib/python3.7/site-packages/sklearn/model_selection/_split.py:667: UserWarning:\n",
      "\n",
      "The least populated class in y has only 1 members, which is less than n_splits=5.\n",
      "\n"
     ]
    },
    {
     "name": "stdout",
     "output_type": "stream",
     "text": [
      "13/42 complete\n"
     ]
    },
    {
     "name": "stderr",
     "output_type": "stream",
     "text": [
      "//anaconda3/envs/cs109b/lib/python3.7/site-packages/sklearn/model_selection/_split.py:667: UserWarning:\n",
      "\n",
      "The least populated class in y has only 1 members, which is less than n_splits=5.\n",
      "\n"
     ]
    },
    {
     "name": "stdout",
     "output_type": "stream",
     "text": [
      "14/42 complete\n"
     ]
    },
    {
     "name": "stderr",
     "output_type": "stream",
     "text": [
      "//anaconda3/envs/cs109b/lib/python3.7/site-packages/sklearn/model_selection/_split.py:667: UserWarning:\n",
      "\n",
      "The least populated class in y has only 1 members, which is less than n_splits=5.\n",
      "\n"
     ]
    },
    {
     "name": "stdout",
     "output_type": "stream",
     "text": [
      "15/42 complete\n"
     ]
    },
    {
     "name": "stderr",
     "output_type": "stream",
     "text": [
      "//anaconda3/envs/cs109b/lib/python3.7/site-packages/sklearn/model_selection/_split.py:667: UserWarning:\n",
      "\n",
      "The least populated class in y has only 1 members, which is less than n_splits=5.\n",
      "\n"
     ]
    },
    {
     "name": "stdout",
     "output_type": "stream",
     "text": [
      "16/42 complete\n"
     ]
    },
    {
     "name": "stderr",
     "output_type": "stream",
     "text": [
      "//anaconda3/envs/cs109b/lib/python3.7/site-packages/sklearn/model_selection/_split.py:667: UserWarning:\n",
      "\n",
      "The least populated class in y has only 1 members, which is less than n_splits=5.\n",
      "\n"
     ]
    },
    {
     "name": "stdout",
     "output_type": "stream",
     "text": [
      "17/42 complete\n"
     ]
    },
    {
     "name": "stderr",
     "output_type": "stream",
     "text": [
      "//anaconda3/envs/cs109b/lib/python3.7/site-packages/sklearn/model_selection/_split.py:667: UserWarning:\n",
      "\n",
      "The least populated class in y has only 1 members, which is less than n_splits=5.\n",
      "\n"
     ]
    },
    {
     "name": "stdout",
     "output_type": "stream",
     "text": [
      "18/42 complete\n"
     ]
    },
    {
     "name": "stderr",
     "output_type": "stream",
     "text": [
      "//anaconda3/envs/cs109b/lib/python3.7/site-packages/sklearn/model_selection/_split.py:667: UserWarning:\n",
      "\n",
      "The least populated class in y has only 1 members, which is less than n_splits=5.\n",
      "\n"
     ]
    },
    {
     "name": "stdout",
     "output_type": "stream",
     "text": [
      "19/42 complete\n"
     ]
    },
    {
     "name": "stderr",
     "output_type": "stream",
     "text": [
      "//anaconda3/envs/cs109b/lib/python3.7/site-packages/sklearn/model_selection/_split.py:667: UserWarning:\n",
      "\n",
      "The least populated class in y has only 1 members, which is less than n_splits=5.\n",
      "\n"
     ]
    },
    {
     "name": "stdout",
     "output_type": "stream",
     "text": [
      "20/42 complete\n"
     ]
    },
    {
     "name": "stderr",
     "output_type": "stream",
     "text": [
      "//anaconda3/envs/cs109b/lib/python3.7/site-packages/sklearn/model_selection/_split.py:667: UserWarning:\n",
      "\n",
      "The least populated class in y has only 1 members, which is less than n_splits=5.\n",
      "\n"
     ]
    },
    {
     "name": "stdout",
     "output_type": "stream",
     "text": [
      "21/42 complete\n"
     ]
    },
    {
     "name": "stderr",
     "output_type": "stream",
     "text": [
      "//anaconda3/envs/cs109b/lib/python3.7/site-packages/sklearn/model_selection/_split.py:667: UserWarning:\n",
      "\n",
      "The least populated class in y has only 1 members, which is less than n_splits=5.\n",
      "\n"
     ]
    },
    {
     "name": "stdout",
     "output_type": "stream",
     "text": [
      "22/42 complete\n"
     ]
    },
    {
     "name": "stderr",
     "output_type": "stream",
     "text": [
      "//anaconda3/envs/cs109b/lib/python3.7/site-packages/sklearn/model_selection/_split.py:667: UserWarning:\n",
      "\n",
      "The least populated class in y has only 1 members, which is less than n_splits=5.\n",
      "\n"
     ]
    },
    {
     "name": "stdout",
     "output_type": "stream",
     "text": [
      "23/42 complete\n"
     ]
    },
    {
     "name": "stderr",
     "output_type": "stream",
     "text": [
      "//anaconda3/envs/cs109b/lib/python3.7/site-packages/sklearn/model_selection/_split.py:667: UserWarning:\n",
      "\n",
      "The least populated class in y has only 1 members, which is less than n_splits=5.\n",
      "\n"
     ]
    },
    {
     "name": "stdout",
     "output_type": "stream",
     "text": [
      "24/42 complete\n"
     ]
    },
    {
     "name": "stderr",
     "output_type": "stream",
     "text": [
      "//anaconda3/envs/cs109b/lib/python3.7/site-packages/sklearn/model_selection/_split.py:667: UserWarning:\n",
      "\n",
      "The least populated class in y has only 1 members, which is less than n_splits=5.\n",
      "\n"
     ]
    },
    {
     "name": "stdout",
     "output_type": "stream",
     "text": [
      "25/42 complete\n"
     ]
    },
    {
     "name": "stderr",
     "output_type": "stream",
     "text": [
      "//anaconda3/envs/cs109b/lib/python3.7/site-packages/sklearn/model_selection/_split.py:667: UserWarning:\n",
      "\n",
      "The least populated class in y has only 1 members, which is less than n_splits=5.\n",
      "\n"
     ]
    },
    {
     "name": "stdout",
     "output_type": "stream",
     "text": [
      "26/42 complete\n"
     ]
    },
    {
     "name": "stderr",
     "output_type": "stream",
     "text": [
      "//anaconda3/envs/cs109b/lib/python3.7/site-packages/sklearn/model_selection/_split.py:667: UserWarning:\n",
      "\n",
      "The least populated class in y has only 1 members, which is less than n_splits=5.\n",
      "\n"
     ]
    },
    {
     "name": "stdout",
     "output_type": "stream",
     "text": [
      "27/42 complete\n"
     ]
    },
    {
     "name": "stderr",
     "output_type": "stream",
     "text": [
      "//anaconda3/envs/cs109b/lib/python3.7/site-packages/sklearn/model_selection/_split.py:667: UserWarning:\n",
      "\n",
      "The least populated class in y has only 1 members, which is less than n_splits=5.\n",
      "\n"
     ]
    },
    {
     "name": "stdout",
     "output_type": "stream",
     "text": [
      "28/42 complete\n"
     ]
    },
    {
     "name": "stderr",
     "output_type": "stream",
     "text": [
      "//anaconda3/envs/cs109b/lib/python3.7/site-packages/sklearn/model_selection/_split.py:667: UserWarning:\n",
      "\n",
      "The least populated class in y has only 1 members, which is less than n_splits=5.\n",
      "\n"
     ]
    },
    {
     "name": "stdout",
     "output_type": "stream",
     "text": [
      "29/42 complete\n"
     ]
    },
    {
     "name": "stderr",
     "output_type": "stream",
     "text": [
      "//anaconda3/envs/cs109b/lib/python3.7/site-packages/sklearn/model_selection/_split.py:667: UserWarning:\n",
      "\n",
      "The least populated class in y has only 1 members, which is less than n_splits=5.\n",
      "\n"
     ]
    },
    {
     "name": "stdout",
     "output_type": "stream",
     "text": [
      "30/42 complete\n"
     ]
    },
    {
     "name": "stderr",
     "output_type": "stream",
     "text": [
      "//anaconda3/envs/cs109b/lib/python3.7/site-packages/sklearn/model_selection/_split.py:667: UserWarning:\n",
      "\n",
      "The least populated class in y has only 1 members, which is less than n_splits=5.\n",
      "\n"
     ]
    },
    {
     "name": "stdout",
     "output_type": "stream",
     "text": [
      "31/42 complete\n"
     ]
    },
    {
     "name": "stderr",
     "output_type": "stream",
     "text": [
      "//anaconda3/envs/cs109b/lib/python3.7/site-packages/sklearn/model_selection/_split.py:667: UserWarning:\n",
      "\n",
      "The least populated class in y has only 1 members, which is less than n_splits=5.\n",
      "\n"
     ]
    },
    {
     "name": "stdout",
     "output_type": "stream",
     "text": [
      "32/42 complete\n"
     ]
    },
    {
     "name": "stderr",
     "output_type": "stream",
     "text": [
      "//anaconda3/envs/cs109b/lib/python3.7/site-packages/sklearn/model_selection/_split.py:667: UserWarning:\n",
      "\n",
      "The least populated class in y has only 1 members, which is less than n_splits=5.\n",
      "\n"
     ]
    },
    {
     "name": "stdout",
     "output_type": "stream",
     "text": [
      "33/42 complete\n"
     ]
    },
    {
     "name": "stderr",
     "output_type": "stream",
     "text": [
      "//anaconda3/envs/cs109b/lib/python3.7/site-packages/sklearn/model_selection/_split.py:667: UserWarning:\n",
      "\n",
      "The least populated class in y has only 1 members, which is less than n_splits=5.\n",
      "\n"
     ]
    },
    {
     "name": "stdout",
     "output_type": "stream",
     "text": [
      "34/42 complete\n"
     ]
    },
    {
     "name": "stderr",
     "output_type": "stream",
     "text": [
      "//anaconda3/envs/cs109b/lib/python3.7/site-packages/sklearn/model_selection/_split.py:667: UserWarning:\n",
      "\n",
      "The least populated class in y has only 1 members, which is less than n_splits=5.\n",
      "\n"
     ]
    },
    {
     "name": "stdout",
     "output_type": "stream",
     "text": [
      "35/42 complete\n"
     ]
    },
    {
     "name": "stderr",
     "output_type": "stream",
     "text": [
      "//anaconda3/envs/cs109b/lib/python3.7/site-packages/sklearn/model_selection/_split.py:667: UserWarning:\n",
      "\n",
      "The least populated class in y has only 1 members, which is less than n_splits=5.\n",
      "\n"
     ]
    },
    {
     "name": "stdout",
     "output_type": "stream",
     "text": [
      "36/42 complete\n"
     ]
    },
    {
     "name": "stderr",
     "output_type": "stream",
     "text": [
      "//anaconda3/envs/cs109b/lib/python3.7/site-packages/sklearn/model_selection/_split.py:667: UserWarning:\n",
      "\n",
      "The least populated class in y has only 1 members, which is less than n_splits=5.\n",
      "\n"
     ]
    },
    {
     "name": "stdout",
     "output_type": "stream",
     "text": [
      "37/42 complete\n"
     ]
    },
    {
     "name": "stderr",
     "output_type": "stream",
     "text": [
      "//anaconda3/envs/cs109b/lib/python3.7/site-packages/sklearn/model_selection/_split.py:667: UserWarning:\n",
      "\n",
      "The least populated class in y has only 1 members, which is less than n_splits=5.\n",
      "\n"
     ]
    },
    {
     "name": "stdout",
     "output_type": "stream",
     "text": [
      "38/42 complete\n"
     ]
    },
    {
     "name": "stderr",
     "output_type": "stream",
     "text": [
      "//anaconda3/envs/cs109b/lib/python3.7/site-packages/sklearn/model_selection/_split.py:667: UserWarning:\n",
      "\n",
      "The least populated class in y has only 1 members, which is less than n_splits=5.\n",
      "\n"
     ]
    },
    {
     "name": "stdout",
     "output_type": "stream",
     "text": [
      "39/42 complete\n"
     ]
    },
    {
     "name": "stderr",
     "output_type": "stream",
     "text": [
      "//anaconda3/envs/cs109b/lib/python3.7/site-packages/sklearn/model_selection/_split.py:667: UserWarning:\n",
      "\n",
      "The least populated class in y has only 1 members, which is less than n_splits=5.\n",
      "\n"
     ]
    },
    {
     "name": "stdout",
     "output_type": "stream",
     "text": [
      "40/42 complete\n"
     ]
    },
    {
     "name": "stderr",
     "output_type": "stream",
     "text": [
      "//anaconda3/envs/cs109b/lib/python3.7/site-packages/sklearn/model_selection/_split.py:667: UserWarning:\n",
      "\n",
      "The least populated class in y has only 1 members, which is less than n_splits=5.\n",
      "\n"
     ]
    },
    {
     "name": "stdout",
     "output_type": "stream",
     "text": [
      "41/42 complete\n"
     ]
    },
    {
     "name": "stderr",
     "output_type": "stream",
     "text": [
      "//anaconda3/envs/cs109b/lib/python3.7/site-packages/sklearn/model_selection/_split.py:667: UserWarning:\n",
      "\n",
      "The least populated class in y has only 1 members, which is less than n_splits=5.\n",
      "\n"
     ]
    },
    {
     "name": "stdout",
     "output_type": "stream",
     "text": [
      "42/42 complete\n"
     ]
    }
   ],
   "source": [
    "###tune n_trees and tree_depth using cross validation\n",
    "\n",
    "#parameter values to test\n",
    "np.random.seed(123)\n",
    "n_trees_list = list(range(50, 301, 50))\n",
    "tree_depth_list = list(range(5, 40, 5))\n",
    "counter = 0\n",
    "\n",
    "#create df to store cross validation results\n",
    "RF_all_df = pd.DataFrame(list(product(n_trees_list, tree_depth_list)), columns=['n_trees_list', 'tree_depth_list'])\n",
    "\n",
    "#perform cross validation and store results\n",
    "for n_trees in n_trees_list:\n",
    "    for tree_depth in tree_depth_list:\n",
    "        #set up model; perform 5-fold CV\n",
    "        RF = RandomForestClassifier(max_features='auto', n_estimators=n_trees, max_depth=tree_depth)\n",
    "        ###model\n",
    "        cv_scores = cross_val_score(estimator=RF, X=X_train, y=y_train, scoring='neg_mean_squared_error', cv=5, n_jobs=-1)\n",
    "        #calculate results\n",
    "        cv_mean_mse = cv_scores.mean() #average mse of all 5 folds\n",
    "        cv_sd = np.std(cv_scores) #standard deviation of all 5 folds\n",
    "        #store results in df\n",
    "        RF_all_df.loc[(RF_all_df.n_trees_list == n_trees) & (RF_all_df.tree_depth_list == tree_depth), 'cv_mean_mse'] = cv_mean_mse\n",
    "        RF_all_df.loc[(RF_all_df.n_trees_list == n_trees) & (RF_all_df.tree_depth_list == tree_depth), 'cv_sd'] = cv_sd\n",
    "        counter+=1\n",
    "        print(f'{counter}/{len(n_trees_list)*len(tree_depth_list)} complete')\n",
    "\n",
    "#convert MSE values to positive (metric was neg_mean_squared_error)\n",
    "RF_all_df['cv_mean_mse'] = np.abs(RF_all_df['cv_mean_mse'])\n"
   ]
  },
  {
   "cell_type": "code",
   "execution_count": 58,
   "metadata": {},
   "outputs": [
    {
     "data": {
      "text/html": [
       "<div>\n",
       "<style scoped>\n",
       "    .dataframe tbody tr th:only-of-type {\n",
       "        vertical-align: middle;\n",
       "    }\n",
       "\n",
       "    .dataframe tbody tr th {\n",
       "        vertical-align: top;\n",
       "    }\n",
       "\n",
       "    .dataframe thead th {\n",
       "        text-align: right;\n",
       "    }\n",
       "</style>\n",
       "<table border=\"1\" class=\"dataframe\">\n",
       "  <thead>\n",
       "    <tr style=\"text-align: right;\">\n",
       "      <th></th>\n",
       "      <th>n_trees_list</th>\n",
       "      <th>tree_depth_list</th>\n",
       "      <th>cv_mean_mse</th>\n",
       "      <th>cv_sd</th>\n",
       "    </tr>\n",
       "  </thead>\n",
       "  <tbody>\n",
       "    <tr>\n",
       "      <th>0</th>\n",
       "      <td>50</td>\n",
       "      <td>5</td>\n",
       "      <td>1.418357e+07</td>\n",
       "      <td>2.254078e+07</td>\n",
       "    </tr>\n",
       "    <tr>\n",
       "      <th>1</th>\n",
       "      <td>50</td>\n",
       "      <td>10</td>\n",
       "      <td>2.119442e+07</td>\n",
       "      <td>2.367329e+07</td>\n",
       "    </tr>\n",
       "    <tr>\n",
       "      <th>2</th>\n",
       "      <td>50</td>\n",
       "      <td>15</td>\n",
       "      <td>1.274121e+07</td>\n",
       "      <td>2.153881e+07</td>\n",
       "    </tr>\n",
       "    <tr>\n",
       "      <th>3</th>\n",
       "      <td>50</td>\n",
       "      <td>20</td>\n",
       "      <td>1.096441e+07</td>\n",
       "      <td>1.896824e+07</td>\n",
       "    </tr>\n",
       "    <tr>\n",
       "      <th>4</th>\n",
       "      <td>50</td>\n",
       "      <td>25</td>\n",
       "      <td>1.071810e+07</td>\n",
       "      <td>1.906630e+07</td>\n",
       "    </tr>\n",
       "    <tr>\n",
       "      <th>5</th>\n",
       "      <td>50</td>\n",
       "      <td>30</td>\n",
       "      <td>3.380487e+07</td>\n",
       "      <td>4.635874e+07</td>\n",
       "    </tr>\n",
       "    <tr>\n",
       "      <th>6</th>\n",
       "      <td>50</td>\n",
       "      <td>35</td>\n",
       "      <td>1.124959e+07</td>\n",
       "      <td>1.881432e+07</td>\n",
       "    </tr>\n",
       "    <tr>\n",
       "      <th>7</th>\n",
       "      <td>100</td>\n",
       "      <td>5</td>\n",
       "      <td>2.071599e+07</td>\n",
       "      <td>2.278503e+07</td>\n",
       "    </tr>\n",
       "    <tr>\n",
       "      <th>8</th>\n",
       "      <td>100</td>\n",
       "      <td>10</td>\n",
       "      <td>1.229129e+07</td>\n",
       "      <td>1.912210e+07</td>\n",
       "    </tr>\n",
       "    <tr>\n",
       "      <th>9</th>\n",
       "      <td>100</td>\n",
       "      <td>15</td>\n",
       "      <td>2.988328e+07</td>\n",
       "      <td>2.340565e+07</td>\n",
       "    </tr>\n",
       "    <tr>\n",
       "      <th>10</th>\n",
       "      <td>100</td>\n",
       "      <td>20</td>\n",
       "      <td>1.095938e+07</td>\n",
       "      <td>1.880212e+07</td>\n",
       "    </tr>\n",
       "    <tr>\n",
       "      <th>11</th>\n",
       "      <td>100</td>\n",
       "      <td>25</td>\n",
       "      <td>9.881300e+06</td>\n",
       "      <td>1.803893e+07</td>\n",
       "    </tr>\n",
       "    <tr>\n",
       "      <th>12</th>\n",
       "      <td>100</td>\n",
       "      <td>30</td>\n",
       "      <td>1.103217e+07</td>\n",
       "      <td>1.881824e+07</td>\n",
       "    </tr>\n",
       "    <tr>\n",
       "      <th>13</th>\n",
       "      <td>100</td>\n",
       "      <td>35</td>\n",
       "      <td>9.863543e+06</td>\n",
       "      <td>1.825690e+07</td>\n",
       "    </tr>\n",
       "    <tr>\n",
       "      <th>14</th>\n",
       "      <td>150</td>\n",
       "      <td>5</td>\n",
       "      <td>2.475841e+07</td>\n",
       "      <td>2.670141e+07</td>\n",
       "    </tr>\n",
       "    <tr>\n",
       "      <th>15</th>\n",
       "      <td>150</td>\n",
       "      <td>10</td>\n",
       "      <td>1.387256e+07</td>\n",
       "      <td>2.258054e+07</td>\n",
       "    </tr>\n",
       "    <tr>\n",
       "      <th>16</th>\n",
       "      <td>150</td>\n",
       "      <td>15</td>\n",
       "      <td>2.025810e+07</td>\n",
       "      <td>2.147343e+07</td>\n",
       "    </tr>\n",
       "    <tr>\n",
       "      <th>17</th>\n",
       "      <td>150</td>\n",
       "      <td>20</td>\n",
       "      <td>1.052046e+07</td>\n",
       "      <td>1.852312e+07</td>\n",
       "    </tr>\n",
       "    <tr>\n",
       "      <th>18</th>\n",
       "      <td>150</td>\n",
       "      <td>25</td>\n",
       "      <td>1.046458e+07</td>\n",
       "      <td>1.911883e+07</td>\n",
       "    </tr>\n",
       "    <tr>\n",
       "      <th>19</th>\n",
       "      <td>150</td>\n",
       "      <td>30</td>\n",
       "      <td>1.951299e+07</td>\n",
       "      <td>2.256016e+07</td>\n",
       "    </tr>\n",
       "    <tr>\n",
       "      <th>20</th>\n",
       "      <td>150</td>\n",
       "      <td>35</td>\n",
       "      <td>1.951555e+07</td>\n",
       "      <td>2.331615e+07</td>\n",
       "    </tr>\n",
       "    <tr>\n",
       "      <th>21</th>\n",
       "      <td>200</td>\n",
       "      <td>5</td>\n",
       "      <td>1.389051e+07</td>\n",
       "      <td>2.166757e+07</td>\n",
       "    </tr>\n",
       "    <tr>\n",
       "      <th>22</th>\n",
       "      <td>200</td>\n",
       "      <td>10</td>\n",
       "      <td>1.331110e+07</td>\n",
       "      <td>2.274044e+07</td>\n",
       "    </tr>\n",
       "    <tr>\n",
       "      <th>23</th>\n",
       "      <td>200</td>\n",
       "      <td>15</td>\n",
       "      <td>1.013302e+07</td>\n",
       "      <td>1.818993e+07</td>\n",
       "    </tr>\n",
       "    <tr>\n",
       "      <th>24</th>\n",
       "      <td>200</td>\n",
       "      <td>20</td>\n",
       "      <td>1.062741e+07</td>\n",
       "      <td>1.798751e+07</td>\n",
       "    </tr>\n",
       "    <tr>\n",
       "      <th>25</th>\n",
       "      <td>200</td>\n",
       "      <td>25</td>\n",
       "      <td>1.050229e+07</td>\n",
       "      <td>1.906332e+07</td>\n",
       "    </tr>\n",
       "    <tr>\n",
       "      <th>26</th>\n",
       "      <td>200</td>\n",
       "      <td>30</td>\n",
       "      <td>1.043149e+07</td>\n",
       "      <td>1.919047e+07</td>\n",
       "    </tr>\n",
       "    <tr>\n",
       "      <th>27</th>\n",
       "      <td>200</td>\n",
       "      <td>35</td>\n",
       "      <td>1.038885e+07</td>\n",
       "      <td>1.906954e+07</td>\n",
       "    </tr>\n",
       "    <tr>\n",
       "      <th>28</th>\n",
       "      <td>250</td>\n",
       "      <td>5</td>\n",
       "      <td>1.417240e+07</td>\n",
       "      <td>2.259244e+07</td>\n",
       "    </tr>\n",
       "    <tr>\n",
       "      <th>29</th>\n",
       "      <td>250</td>\n",
       "      <td>10</td>\n",
       "      <td>1.333510e+07</td>\n",
       "      <td>2.266826e+07</td>\n",
       "    </tr>\n",
       "    <tr>\n",
       "      <th>30</th>\n",
       "      <td>250</td>\n",
       "      <td>15</td>\n",
       "      <td>1.957168e+07</td>\n",
       "      <td>2.263131e+07</td>\n",
       "    </tr>\n",
       "    <tr>\n",
       "      <th>31</th>\n",
       "      <td>250</td>\n",
       "      <td>20</td>\n",
       "      <td>1.047754e+07</td>\n",
       "      <td>1.903116e+07</td>\n",
       "    </tr>\n",
       "    <tr>\n",
       "      <th>32</th>\n",
       "      <td>250</td>\n",
       "      <td>25</td>\n",
       "      <td>1.953400e+07</td>\n",
       "      <td>2.262174e+07</td>\n",
       "    </tr>\n",
       "    <tr>\n",
       "      <th>33</th>\n",
       "      <td>250</td>\n",
       "      <td>30</td>\n",
       "      <td>1.028183e+07</td>\n",
       "      <td>1.910973e+07</td>\n",
       "    </tr>\n",
       "    <tr>\n",
       "      <th>34</th>\n",
       "      <td>250</td>\n",
       "      <td>35</td>\n",
       "      <td>1.016738e+07</td>\n",
       "      <td>1.872619e+07</td>\n",
       "    </tr>\n",
       "    <tr>\n",
       "      <th>35</th>\n",
       "      <td>300</td>\n",
       "      <td>5</td>\n",
       "      <td>1.360930e+07</td>\n",
       "      <td>2.124565e+07</td>\n",
       "    </tr>\n",
       "    <tr>\n",
       "      <th>36</th>\n",
       "      <td>300</td>\n",
       "      <td>10</td>\n",
       "      <td>1.286076e+07</td>\n",
       "      <td>2.265732e+07</td>\n",
       "    </tr>\n",
       "    <tr>\n",
       "      <th>37</th>\n",
       "      <td>300</td>\n",
       "      <td>15</td>\n",
       "      <td>1.085212e+07</td>\n",
       "      <td>1.815774e+07</td>\n",
       "    </tr>\n",
       "    <tr>\n",
       "      <th>38</th>\n",
       "      <td>300</td>\n",
       "      <td>20</td>\n",
       "      <td>1.000718e+07</td>\n",
       "      <td>1.822716e+07</td>\n",
       "    </tr>\n",
       "    <tr>\n",
       "      <th>39</th>\n",
       "      <td>300</td>\n",
       "      <td>25</td>\n",
       "      <td>1.015579e+07</td>\n",
       "      <td>1.920915e+07</td>\n",
       "    </tr>\n",
       "    <tr>\n",
       "      <th>40</th>\n",
       "      <td>300</td>\n",
       "      <td>30</td>\n",
       "      <td>1.021200e+07</td>\n",
       "      <td>1.918902e+07</td>\n",
       "    </tr>\n",
       "    <tr>\n",
       "      <th>41</th>\n",
       "      <td>300</td>\n",
       "      <td>35</td>\n",
       "      <td>1.023981e+07</td>\n",
       "      <td>1.913823e+07</td>\n",
       "    </tr>\n",
       "  </tbody>\n",
       "</table>\n",
       "</div>"
      ],
      "text/plain": [
       "    n_trees_list  tree_depth_list   cv_mean_mse         cv_sd\n",
       "0             50                5  1.418357e+07  2.254078e+07\n",
       "1             50               10  2.119442e+07  2.367329e+07\n",
       "2             50               15  1.274121e+07  2.153881e+07\n",
       "3             50               20  1.096441e+07  1.896824e+07\n",
       "4             50               25  1.071810e+07  1.906630e+07\n",
       "5             50               30  3.380487e+07  4.635874e+07\n",
       "6             50               35  1.124959e+07  1.881432e+07\n",
       "7            100                5  2.071599e+07  2.278503e+07\n",
       "8            100               10  1.229129e+07  1.912210e+07\n",
       "9            100               15  2.988328e+07  2.340565e+07\n",
       "10           100               20  1.095938e+07  1.880212e+07\n",
       "11           100               25  9.881300e+06  1.803893e+07\n",
       "12           100               30  1.103217e+07  1.881824e+07\n",
       "13           100               35  9.863543e+06  1.825690e+07\n",
       "14           150                5  2.475841e+07  2.670141e+07\n",
       "15           150               10  1.387256e+07  2.258054e+07\n",
       "16           150               15  2.025810e+07  2.147343e+07\n",
       "17           150               20  1.052046e+07  1.852312e+07\n",
       "18           150               25  1.046458e+07  1.911883e+07\n",
       "19           150               30  1.951299e+07  2.256016e+07\n",
       "20           150               35  1.951555e+07  2.331615e+07\n",
       "21           200                5  1.389051e+07  2.166757e+07\n",
       "22           200               10  1.331110e+07  2.274044e+07\n",
       "23           200               15  1.013302e+07  1.818993e+07\n",
       "24           200               20  1.062741e+07  1.798751e+07\n",
       "25           200               25  1.050229e+07  1.906332e+07\n",
       "26           200               30  1.043149e+07  1.919047e+07\n",
       "27           200               35  1.038885e+07  1.906954e+07\n",
       "28           250                5  1.417240e+07  2.259244e+07\n",
       "29           250               10  1.333510e+07  2.266826e+07\n",
       "30           250               15  1.957168e+07  2.263131e+07\n",
       "31           250               20  1.047754e+07  1.903116e+07\n",
       "32           250               25  1.953400e+07  2.262174e+07\n",
       "33           250               30  1.028183e+07  1.910973e+07\n",
       "34           250               35  1.016738e+07  1.872619e+07\n",
       "35           300                5  1.360930e+07  2.124565e+07\n",
       "36           300               10  1.286076e+07  2.265732e+07\n",
       "37           300               15  1.085212e+07  1.815774e+07\n",
       "38           300               20  1.000718e+07  1.822716e+07\n",
       "39           300               25  1.015579e+07  1.920915e+07\n",
       "40           300               30  1.021200e+07  1.918902e+07\n",
       "41           300               35  1.023981e+07  1.913823e+07"
      ]
     },
     "execution_count": 58,
     "metadata": {},
     "output_type": "execute_result"
    }
   ],
   "source": [
    "RF_all_df"
   ]
  },
  {
   "cell_type": "code",
   "execution_count": 62,
   "metadata": {},
   "outputs": [
    {
     "name": "stdout",
     "output_type": "stream",
     "text": [
      "Random forest model, n_trees, determined by CV: 100\n",
      "Random forest model, tree_depth, determined by CV: 35\n",
      "Random forest, MSE, training set: 0.0\n",
      "Random forest, MSE, test set: 1893380.3754045307\n"
     ]
    }
   ],
   "source": [
    "### random forest model for states with high testing\n",
    "\n",
    "#choose n_trees and tree_depth combination with the lowest difference between CV MSE and training set MSE (least overfit)\n",
    "np.random.seed(123)\n",
    "n_trees_best = int(RF_all_df.iloc[RF_all_df['cv_mean_mse'].idxmin()]['n_trees_list'])\n",
    "tree_depth_best = int(RF_all_df.iloc[RF_all_df['cv_mean_mse'].idxmin()]['tree_depth_list'])\n",
    "print('Random forest model, n_trees, determined by CV:', n_trees_best)\n",
    "print('Random forest model, tree_depth, determined by CV:', tree_depth_best)\n",
    "\n",
    "#train final random forest\n",
    "RF = RandomForestClassifier(max_features='auto', n_estimators=n_trees_best, max_depth=tree_depth_best)\n",
    "RF.fit(X_train, y_train)\n",
    "\n",
    "#performance evaluation\n",
    "pred_train = RF.predict(X_train)\n",
    "pred_test = RF.predict(X_test)\n",
    "print('Random forest, MSE, training set:', mean_squared_error(y_train, pred_train))\n",
    "print('Random forest, MSE, test set:', mean_squared_error(y_test, pred_test))\n",
    "\n",
    "#now that model is finalized, build model on all of the available data (all of states_high_data)\n",
    "#RF_high_final = RandomForestClassifier(max_features='auto', n_estimators=n_trees_best, max_depth=tree_depth_best)\n",
    "#RF_high_final.fit(X_high, y_high);"
   ]
  },
  {
   "cell_type": "code",
   "execution_count": 67,
   "metadata": {},
   "outputs": [
    {
     "data": {
      "image/png": "[encoded data removed]",
      "text/plain": [
       "<Figure size 720x576 with 1 Axes>"
      ]
     },
     "metadata": {
      "needs_background": "light"
     },
     "output_type": "display_data"
    }
   ],
   "source": [
    "features = X_train.columns\n",
    "importances = RF.feature_importances_\n",
    "indices = np.argsort(importances)\n",
    "\n",
    "plt.figure(figsize=(10,8))\n",
    "plt.title('Feature Importances')\n",
    "plt.barh(range(len(indices)), importances[indices], color='b', align='center')\n",
    "plt.yticks(range(len(indices)), [features[i] for i in indices])\n",
    "plt.xlabel('Relative Importance');"
   ]
  },
  {
   "cell_type": "code",
   "execution_count": null,
   "metadata": {},
   "outputs": [],
   "source": []
  },
  {
   "cell_type": "markdown",
   "metadata": {},
   "source": [
    "##### Random forest model for high states and low states"
   ]
  },
  {
   "cell_type": "code",
   "execution_count": 39,
   "metadata": {},
   "outputs": [
    {
     "name": "stderr",
     "output_type": "stream",
     "text": [
      "//anaconda3/envs/cs109b/lib/python3.7/site-packages/sklearn/model_selection/_split.py:667: UserWarning:\n",
      "\n",
      "The least populated class in y has only 1 members, which is less than n_splits=5.\n",
      "\n",
      "//anaconda3/envs/cs109b/lib/python3.7/site-packages/sklearn/model_selection/_split.py:667: UserWarning:\n",
      "\n",
      "The least populated class in y has only 1 members, which is less than n_splits=5.\n",
      "\n"
     ]
    },
    {
     "name": "stdout",
     "output_type": "stream",
     "text": [
      "1/147 complete\n"
     ]
    },
    {
     "name": "stderr",
     "output_type": "stream",
     "text": [
      "//anaconda3/envs/cs109b/lib/python3.7/site-packages/sklearn/model_selection/_split.py:667: UserWarning:\n",
      "\n",
      "The least populated class in y has only 1 members, which is less than n_splits=5.\n",
      "\n",
      "//anaconda3/envs/cs109b/lib/python3.7/site-packages/sklearn/model_selection/_split.py:667: UserWarning:\n",
      "\n",
      "The least populated class in y has only 1 members, which is less than n_splits=5.\n",
      "\n"
     ]
    },
    {
     "name": "stdout",
     "output_type": "stream",
     "text": [
      "2/147 complete\n"
     ]
    },
    {
     "name": "stderr",
     "output_type": "stream",
     "text": [
      "//anaconda3/envs/cs109b/lib/python3.7/site-packages/sklearn/model_selection/_split.py:667: UserWarning:\n",
      "\n",
      "The least populated class in y has only 1 members, which is less than n_splits=5.\n",
      "\n",
      "//anaconda3/envs/cs109b/lib/python3.7/site-packages/sklearn/model_selection/_split.py:667: UserWarning:\n",
      "\n",
      "The least populated class in y has only 1 members, which is less than n_splits=5.\n",
      "\n"
     ]
    },
    {
     "name": "stdout",
     "output_type": "stream",
     "text": [
      "3/147 complete\n"
     ]
    },
    {
     "name": "stderr",
     "output_type": "stream",
     "text": [
      "//anaconda3/envs/cs109b/lib/python3.7/site-packages/sklearn/model_selection/_split.py:667: UserWarning:\n",
      "\n",
      "The least populated class in y has only 1 members, which is less than n_splits=5.\n",
      "\n",
      "//anaconda3/envs/cs109b/lib/python3.7/site-packages/sklearn/model_selection/_split.py:667: UserWarning:\n",
      "\n",
      "The least populated class in y has only 1 members, which is less than n_splits=5.\n",
      "\n"
     ]
    },
    {
     "name": "stdout",
     "output_type": "stream",
     "text": [
      "4/147 complete\n"
     ]
    },
    {
     "name": "stderr",
     "output_type": "stream",
     "text": [
      "//anaconda3/envs/cs109b/lib/python3.7/site-packages/sklearn/model_selection/_split.py:667: UserWarning:\n",
      "\n",
      "The least populated class in y has only 1 members, which is less than n_splits=5.\n",
      "\n",
      "//anaconda3/envs/cs109b/lib/python3.7/site-packages/sklearn/model_selection/_split.py:667: UserWarning:\n",
      "\n",
      "The least populated class in y has only 1 members, which is less than n_splits=5.\n",
      "\n"
     ]
    },
    {
     "name": "stdout",
     "output_type": "stream",
     "text": [
      "5/147 complete\n"
     ]
    },
    {
     "name": "stderr",
     "output_type": "stream",
     "text": [
      "//anaconda3/envs/cs109b/lib/python3.7/site-packages/sklearn/model_selection/_split.py:667: UserWarning:\n",
      "\n",
      "The least populated class in y has only 1 members, which is less than n_splits=5.\n",
      "\n",
      "//anaconda3/envs/cs109b/lib/python3.7/site-packages/sklearn/model_selection/_split.py:667: UserWarning:\n",
      "\n",
      "The least populated class in y has only 1 members, which is less than n_splits=5.\n",
      "\n"
     ]
    },
    {
     "name": "stdout",
     "output_type": "stream",
     "text": [
      "6/147 complete\n"
     ]
    },
    {
     "name": "stderr",
     "output_type": "stream",
     "text": [
      "//anaconda3/envs/cs109b/lib/python3.7/site-packages/sklearn/model_selection/_split.py:667: UserWarning:\n",
      "\n",
      "The least populated class in y has only 1 members, which is less than n_splits=5.\n",
      "\n",
      "//anaconda3/envs/cs109b/lib/python3.7/site-packages/sklearn/model_selection/_split.py:667: UserWarning:\n",
      "\n",
      "The least populated class in y has only 1 members, which is less than n_splits=5.\n",
      "\n"
     ]
    },
    {
     "name": "stdout",
     "output_type": "stream",
     "text": [
      "7/147 complete\n"
     ]
    },
    {
     "name": "stderr",
     "output_type": "stream",
     "text": [
      "//anaconda3/envs/cs109b/lib/python3.7/site-packages/sklearn/model_selection/_split.py:667: UserWarning:\n",
      "\n",
      "The least populated class in y has only 1 members, which is less than n_splits=5.\n",
      "\n",
      "//anaconda3/envs/cs109b/lib/python3.7/site-packages/sklearn/model_selection/_split.py:667: UserWarning:\n",
      "\n",
      "The least populated class in y has only 1 members, which is less than n_splits=5.\n",
      "\n"
     ]
    },
    {
     "name": "stdout",
     "output_type": "stream",
     "text": [
      "8/147 complete\n"
     ]
    },
    {
     "name": "stderr",
     "output_type": "stream",
     "text": [
      "//anaconda3/envs/cs109b/lib/python3.7/site-packages/sklearn/model_selection/_split.py:667: UserWarning:\n",
      "\n",
      "The least populated class in y has only 1 members, which is less than n_splits=5.\n",
      "\n",
      "//anaconda3/envs/cs109b/lib/python3.7/site-packages/sklearn/model_selection/_split.py:667: UserWarning:\n",
      "\n",
      "The least populated class in y has only 1 members, which is less than n_splits=5.\n",
      "\n"
     ]
    },
    {
     "name": "stdout",
     "output_type": "stream",
     "text": [
      "9/147 complete\n"
     ]
    },
    {
     "name": "stderr",
     "output_type": "stream",
     "text": [
      "//anaconda3/envs/cs109b/lib/python3.7/site-packages/sklearn/model_selection/_split.py:667: UserWarning:\n",
      "\n",
      "The least populated class in y has only 1 members, which is less than n_splits=5.\n",
      "\n",
      "//anaconda3/envs/cs109b/lib/python3.7/site-packages/sklearn/model_selection/_split.py:667: UserWarning:\n",
      "\n",
      "The least populated class in y has only 1 members, which is less than n_splits=5.\n",
      "\n"
     ]
    },
    {
     "name": "stdout",
     "output_type": "stream",
     "text": [
      "10/147 complete\n"
     ]
    },
    {
     "name": "stderr",
     "output_type": "stream",
     "text": [
      "//anaconda3/envs/cs109b/lib/python3.7/site-packages/sklearn/model_selection/_split.py:667: UserWarning:\n",
      "\n",
      "The least populated class in y has only 1 members, which is less than n_splits=5.\n",
      "\n",
      "//anaconda3/envs/cs109b/lib/python3.7/site-packages/sklearn/model_selection/_split.py:667: UserWarning:\n",
      "\n",
      "The least populated class in y has only 1 members, which is less than n_splits=5.\n",
      "\n"
     ]
    },
    {
     "name": "stdout",
     "output_type": "stream",
     "text": [
      "11/147 complete\n"
     ]
    },
    {
     "name": "stderr",
     "output_type": "stream",
     "text": [
      "//anaconda3/envs/cs109b/lib/python3.7/site-packages/sklearn/model_selection/_split.py:667: UserWarning:\n",
      "\n",
      "The least populated class in y has only 1 members, which is less than n_splits=5.\n",
      "\n",
      "//anaconda3/envs/cs109b/lib/python3.7/site-packages/sklearn/model_selection/_split.py:667: UserWarning:\n",
      "\n",
      "The least populated class in y has only 1 members, which is less than n_splits=5.\n",
      "\n"
     ]
    },
    {
     "name": "stdout",
     "output_type": "stream",
     "text": [
      "12/147 complete\n"
     ]
    },
    {
     "name": "stderr",
     "output_type": "stream",
     "text": [
      "//anaconda3/envs/cs109b/lib/python3.7/site-packages/sklearn/model_selection/_split.py:667: UserWarning:\n",
      "\n",
      "The least populated class in y has only 1 members, which is less than n_splits=5.\n",
      "\n",
      "//anaconda3/envs/cs109b/lib/python3.7/site-packages/sklearn/model_selection/_split.py:667: UserWarning:\n",
      "\n",
      "The least populated class in y has only 1 members, which is less than n_splits=5.\n",
      "\n"
     ]
    },
    {
     "name": "stdout",
     "output_type": "stream",
     "text": [
      "13/147 complete\n"
     ]
    },
    {
     "name": "stderr",
     "output_type": "stream",
     "text": [
      "//anaconda3/envs/cs109b/lib/python3.7/site-packages/sklearn/model_selection/_split.py:667: UserWarning:\n",
      "\n",
      "The least populated class in y has only 1 members, which is less than n_splits=5.\n",
      "\n",
      "//anaconda3/envs/cs109b/lib/python3.7/site-packages/sklearn/model_selection/_split.py:667: UserWarning:\n",
      "\n",
      "The least populated class in y has only 1 members, which is less than n_splits=5.\n",
      "\n"
     ]
    },
    {
     "name": "stdout",
     "output_type": "stream",
     "text": [
      "14/147 complete\n"
     ]
    },
    {
     "name": "stderr",
     "output_type": "stream",
     "text": [
      "//anaconda3/envs/cs109b/lib/python3.7/site-packages/sklearn/model_selection/_split.py:667: UserWarning:\n",
      "\n",
      "The least populated class in y has only 1 members, which is less than n_splits=5.\n",
      "\n",
      "//anaconda3/envs/cs109b/lib/python3.7/site-packages/sklearn/model_selection/_split.py:667: UserWarning:\n",
      "\n",
      "The least populated class in y has only 1 members, which is less than n_splits=5.\n",
      "\n"
     ]
    },
    {
     "name": "stdout",
     "output_type": "stream",
     "text": [
      "15/147 complete\n"
     ]
    },
    {
     "name": "stderr",
     "output_type": "stream",
     "text": [
      "//anaconda3/envs/cs109b/lib/python3.7/site-packages/sklearn/model_selection/_split.py:667: UserWarning:\n",
      "\n",
      "The least populated class in y has only 1 members, which is less than n_splits=5.\n",
      "\n",
      "//anaconda3/envs/cs109b/lib/python3.7/site-packages/sklearn/model_selection/_split.py:667: UserWarning:\n",
      "\n",
      "The least populated class in y has only 1 members, which is less than n_splits=5.\n",
      "\n"
     ]
    },
    {
     "name": "stdout",
     "output_type": "stream",
     "text": [
      "16/147 complete\n"
     ]
    },
    {
     "name": "stderr",
     "output_type": "stream",
     "text": [
      "//anaconda3/envs/cs109b/lib/python3.7/site-packages/sklearn/model_selection/_split.py:667: UserWarning:\n",
      "\n",
      "The least populated class in y has only 1 members, which is less than n_splits=5.\n",
      "\n",
      "//anaconda3/envs/cs109b/lib/python3.7/site-packages/sklearn/model_selection/_split.py:667: UserWarning:\n",
      "\n",
      "The least populated class in y has only 1 members, which is less than n_splits=5.\n",
      "\n"
     ]
    },
    {
     "name": "stdout",
     "output_type": "stream",
     "text": [
      "17/147 complete\n"
     ]
    },
    {
     "name": "stderr",
     "output_type": "stream",
     "text": [
      "//anaconda3/envs/cs109b/lib/python3.7/site-packages/sklearn/model_selection/_split.py:667: UserWarning:\n",
      "\n",
      "The least populated class in y has only 1 members, which is less than n_splits=5.\n",
      "\n",
      "//anaconda3/envs/cs109b/lib/python3.7/site-packages/sklearn/model_selection/_split.py:667: UserWarning:\n",
      "\n",
      "The least populated class in y has only 1 members, which is less than n_splits=5.\n",
      "\n"
     ]
    },
    {
     "name": "stdout",
     "output_type": "stream",
     "text": [
      "18/147 complete\n"
     ]
    },
    {
     "name": "stderr",
     "output_type": "stream",
     "text": [
      "//anaconda3/envs/cs109b/lib/python3.7/site-packages/sklearn/model_selection/_split.py:667: UserWarning:\n",
      "\n",
      "The least populated class in y has only 1 members, which is less than n_splits=5.\n",
      "\n",
      "//anaconda3/envs/cs109b/lib/python3.7/site-packages/sklearn/model_selection/_split.py:667: UserWarning:\n",
      "\n",
      "The least populated class in y has only 1 members, which is less than n_splits=5.\n",
      "\n"
     ]
    },
    {
     "name": "stdout",
     "output_type": "stream",
     "text": [
      "19/147 complete\n"
     ]
    },
    {
     "name": "stderr",
     "output_type": "stream",
     "text": [
      "//anaconda3/envs/cs109b/lib/python3.7/site-packages/sklearn/model_selection/_split.py:667: UserWarning:\n",
      "\n",
      "The least populated class in y has only 1 members, which is less than n_splits=5.\n",
      "\n",
      "//anaconda3/envs/cs109b/lib/python3.7/site-packages/sklearn/model_selection/_split.py:667: UserWarning:\n",
      "\n",
      "The least populated class in y has only 1 members, which is less than n_splits=5.\n",
      "\n"
     ]
    },
    {
     "name": "stdout",
     "output_type": "stream",
     "text": [
      "20/147 complete\n"
     ]
    },
    {
     "name": "stderr",
     "output_type": "stream",
     "text": [
      "//anaconda3/envs/cs109b/lib/python3.7/site-packages/sklearn/model_selection/_split.py:667: UserWarning:\n",
      "\n",
      "The least populated class in y has only 1 members, which is less than n_splits=5.\n",
      "\n",
      "//anaconda3/envs/cs109b/lib/python3.7/site-packages/sklearn/model_selection/_split.py:667: UserWarning:\n",
      "\n",
      "The least populated class in y has only 1 members, which is less than n_splits=5.\n",
      "\n"
     ]
    },
    {
     "name": "stdout",
     "output_type": "stream",
     "text": [
      "21/147 complete\n"
     ]
    },
    {
     "name": "stderr",
     "output_type": "stream",
     "text": [
      "//anaconda3/envs/cs109b/lib/python3.7/site-packages/sklearn/model_selection/_split.py:667: UserWarning:\n",
      "\n",
      "The least populated class in y has only 1 members, which is less than n_splits=5.\n",
      "\n",
      "//anaconda3/envs/cs109b/lib/python3.7/site-packages/sklearn/model_selection/_split.py:667: UserWarning:\n",
      "\n",
      "The least populated class in y has only 1 members, which is less than n_splits=5.\n",
      "\n"
     ]
    },
    {
     "name": "stdout",
     "output_type": "stream",
     "text": [
      "22/147 complete\n"
     ]
    },
    {
     "name": "stderr",
     "output_type": "stream",
     "text": [
      "//anaconda3/envs/cs109b/lib/python3.7/site-packages/sklearn/model_selection/_split.py:667: UserWarning:\n",
      "\n",
      "The least populated class in y has only 1 members, which is less than n_splits=5.\n",
      "\n",
      "//anaconda3/envs/cs109b/lib/python3.7/site-packages/sklearn/model_selection/_split.py:667: UserWarning:\n",
      "\n",
      "The least populated class in y has only 1 members, which is less than n_splits=5.\n",
      "\n"
     ]
    },
    {
     "name": "stdout",
     "output_type": "stream",
     "text": [
      "23/147 complete\n"
     ]
    },
    {
     "name": "stderr",
     "output_type": "stream",
     "text": [
      "//anaconda3/envs/cs109b/lib/python3.7/site-packages/sklearn/model_selection/_split.py:667: UserWarning:\n",
      "\n",
      "The least populated class in y has only 1 members, which is less than n_splits=5.\n",
      "\n",
      "//anaconda3/envs/cs109b/lib/python3.7/site-packages/sklearn/model_selection/_split.py:667: UserWarning:\n",
      "\n",
      "The least populated class in y has only 1 members, which is less than n_splits=5.\n",
      "\n"
     ]
    },
    {
     "name": "stdout",
     "output_type": "stream",
     "text": [
      "24/147 complete\n"
     ]
    },
    {
     "name": "stderr",
     "output_type": "stream",
     "text": [
      "//anaconda3/envs/cs109b/lib/python3.7/site-packages/sklearn/model_selection/_split.py:667: UserWarning:\n",
      "\n",
      "The least populated class in y has only 1 members, which is less than n_splits=5.\n",
      "\n",
      "//anaconda3/envs/cs109b/lib/python3.7/site-packages/sklearn/model_selection/_split.py:667: UserWarning:\n",
      "\n",
      "The least populated class in y has only 1 members, which is less than n_splits=5.\n",
      "\n"
     ]
    },
    {
     "name": "stdout",
     "output_type": "stream",
     "text": [
      "25/147 complete\n"
     ]
    },
    {
     "name": "stderr",
     "output_type": "stream",
     "text": [
      "//anaconda3/envs/cs109b/lib/python3.7/site-packages/sklearn/model_selection/_split.py:667: UserWarning:\n",
      "\n",
      "The least populated class in y has only 1 members, which is less than n_splits=5.\n",
      "\n",
      "//anaconda3/envs/cs109b/lib/python3.7/site-packages/sklearn/model_selection/_split.py:667: UserWarning:\n",
      "\n",
      "The least populated class in y has only 1 members, which is less than n_splits=5.\n",
      "\n"
     ]
    },
    {
     "name": "stdout",
     "output_type": "stream",
     "text": [
      "26/147 complete\n"
     ]
    },
    {
     "name": "stderr",
     "output_type": "stream",
     "text": [
      "//anaconda3/envs/cs109b/lib/python3.7/site-packages/sklearn/model_selection/_split.py:667: UserWarning:\n",
      "\n",
      "The least populated class in y has only 1 members, which is less than n_splits=5.\n",
      "\n",
      "//anaconda3/envs/cs109b/lib/python3.7/site-packages/sklearn/model_selection/_split.py:667: UserWarning:\n",
      "\n",
      "The least populated class in y has only 1 members, which is less than n_splits=5.\n",
      "\n"
     ]
    },
    {
     "name": "stdout",
     "output_type": "stream",
     "text": [
      "27/147 complete\n"
     ]
    },
    {
     "name": "stderr",
     "output_type": "stream",
     "text": [
      "//anaconda3/envs/cs109b/lib/python3.7/site-packages/sklearn/model_selection/_split.py:667: UserWarning:\n",
      "\n",
      "The least populated class in y has only 1 members, which is less than n_splits=5.\n",
      "\n",
      "//anaconda3/envs/cs109b/lib/python3.7/site-packages/sklearn/model_selection/_split.py:667: UserWarning:\n",
      "\n",
      "The least populated class in y has only 1 members, which is less than n_splits=5.\n",
      "\n"
     ]
    },
    {
     "name": "stdout",
     "output_type": "stream",
     "text": [
      "28/147 complete\n"
     ]
    },
    {
     "name": "stderr",
     "output_type": "stream",
     "text": [
      "//anaconda3/envs/cs109b/lib/python3.7/site-packages/sklearn/model_selection/_split.py:667: UserWarning:\n",
      "\n",
      "The least populated class in y has only 1 members, which is less than n_splits=5.\n",
      "\n",
      "//anaconda3/envs/cs109b/lib/python3.7/site-packages/sklearn/model_selection/_split.py:667: UserWarning:\n",
      "\n",
      "The least populated class in y has only 1 members, which is less than n_splits=5.\n",
      "\n"
     ]
    },
    {
     "name": "stdout",
     "output_type": "stream",
     "text": [
      "29/147 complete\n"
     ]
    },
    {
     "name": "stderr",
     "output_type": "stream",
     "text": [
      "//anaconda3/envs/cs109b/lib/python3.7/site-packages/sklearn/model_selection/_split.py:667: UserWarning:\n",
      "\n",
      "The least populated class in y has only 1 members, which is less than n_splits=5.\n",
      "\n",
      "//anaconda3/envs/cs109b/lib/python3.7/site-packages/sklearn/model_selection/_split.py:667: UserWarning:\n",
      "\n",
      "The least populated class in y has only 1 members, which is less than n_splits=5.\n",
      "\n"
     ]
    },
    {
     "name": "stdout",
     "output_type": "stream",
     "text": [
      "30/147 complete\n"
     ]
    },
    {
     "name": "stderr",
     "output_type": "stream",
     "text": [
      "//anaconda3/envs/cs109b/lib/python3.7/site-packages/sklearn/model_selection/_split.py:667: UserWarning:\n",
      "\n",
      "The least populated class in y has only 1 members, which is less than n_splits=5.\n",
      "\n",
      "//anaconda3/envs/cs109b/lib/python3.7/site-packages/sklearn/model_selection/_split.py:667: UserWarning:\n",
      "\n",
      "The least populated class in y has only 1 members, which is less than n_splits=5.\n",
      "\n"
     ]
    },
    {
     "name": "stdout",
     "output_type": "stream",
     "text": [
      "31/147 complete\n"
     ]
    },
    {
     "name": "stderr",
     "output_type": "stream",
     "text": [
      "//anaconda3/envs/cs109b/lib/python3.7/site-packages/sklearn/model_selection/_split.py:667: UserWarning:\n",
      "\n",
      "The least populated class in y has only 1 members, which is less than n_splits=5.\n",
      "\n",
      "//anaconda3/envs/cs109b/lib/python3.7/site-packages/sklearn/model_selection/_split.py:667: UserWarning:\n",
      "\n",
      "The least populated class in y has only 1 members, which is less than n_splits=5.\n",
      "\n"
     ]
    },
    {
     "name": "stdout",
     "output_type": "stream",
     "text": [
      "32/147 complete\n"
     ]
    },
    {
     "name": "stderr",
     "output_type": "stream",
     "text": [
      "//anaconda3/envs/cs109b/lib/python3.7/site-packages/sklearn/model_selection/_split.py:667: UserWarning:\n",
      "\n",
      "The least populated class in y has only 1 members, which is less than n_splits=5.\n",
      "\n",
      "//anaconda3/envs/cs109b/lib/python3.7/site-packages/sklearn/model_selection/_split.py:667: UserWarning:\n",
      "\n",
      "The least populated class in y has only 1 members, which is less than n_splits=5.\n",
      "\n"
     ]
    },
    {
     "name": "stdout",
     "output_type": "stream",
     "text": [
      "33/147 complete\n"
     ]
    },
    {
     "name": "stderr",
     "output_type": "stream",
     "text": [
      "//anaconda3/envs/cs109b/lib/python3.7/site-packages/sklearn/model_selection/_split.py:667: UserWarning:\n",
      "\n",
      "The least populated class in y has only 1 members, which is less than n_splits=5.\n",
      "\n",
      "//anaconda3/envs/cs109b/lib/python3.7/site-packages/sklearn/model_selection/_split.py:667: UserWarning:\n",
      "\n",
      "The least populated class in y has only 1 members, which is less than n_splits=5.\n",
      "\n"
     ]
    },
    {
     "name": "stdout",
     "output_type": "stream",
     "text": [
      "34/147 complete\n"
     ]
    },
    {
     "name": "stderr",
     "output_type": "stream",
     "text": [
      "//anaconda3/envs/cs109b/lib/python3.7/site-packages/sklearn/model_selection/_split.py:667: UserWarning:\n",
      "\n",
      "The least populated class in y has only 1 members, which is less than n_splits=5.\n",
      "\n",
      "//anaconda3/envs/cs109b/lib/python3.7/site-packages/sklearn/model_selection/_split.py:667: UserWarning:\n",
      "\n",
      "The least populated class in y has only 1 members, which is less than n_splits=5.\n",
      "\n"
     ]
    },
    {
     "name": "stdout",
     "output_type": "stream",
     "text": [
      "35/147 complete\n"
     ]
    },
    {
     "name": "stderr",
     "output_type": "stream",
     "text": [
      "//anaconda3/envs/cs109b/lib/python3.7/site-packages/sklearn/model_selection/_split.py:667: UserWarning:\n",
      "\n",
      "The least populated class in y has only 1 members, which is less than n_splits=5.\n",
      "\n",
      "//anaconda3/envs/cs109b/lib/python3.7/site-packages/sklearn/model_selection/_split.py:667: UserWarning:\n",
      "\n",
      "The least populated class in y has only 1 members, which is less than n_splits=5.\n",
      "\n"
     ]
    },
    {
     "name": "stdout",
     "output_type": "stream",
     "text": [
      "36/147 complete\n"
     ]
    },
    {
     "name": "stderr",
     "output_type": "stream",
     "text": [
      "//anaconda3/envs/cs109b/lib/python3.7/site-packages/sklearn/model_selection/_split.py:667: UserWarning:\n",
      "\n",
      "The least populated class in y has only 1 members, which is less than n_splits=5.\n",
      "\n",
      "//anaconda3/envs/cs109b/lib/python3.7/site-packages/sklearn/model_selection/_split.py:667: UserWarning:\n",
      "\n",
      "The least populated class in y has only 1 members, which is less than n_splits=5.\n",
      "\n"
     ]
    },
    {
     "name": "stdout",
     "output_type": "stream",
     "text": [
      "37/147 complete\n"
     ]
    },
    {
     "name": "stderr",
     "output_type": "stream",
     "text": [
      "//anaconda3/envs/cs109b/lib/python3.7/site-packages/sklearn/model_selection/_split.py:667: UserWarning:\n",
      "\n",
      "The least populated class in y has only 1 members, which is less than n_splits=5.\n",
      "\n",
      "//anaconda3/envs/cs109b/lib/python3.7/site-packages/sklearn/model_selection/_split.py:667: UserWarning:\n",
      "\n",
      "The least populated class in y has only 1 members, which is less than n_splits=5.\n",
      "\n"
     ]
    },
    {
     "name": "stdout",
     "output_type": "stream",
     "text": [
      "38/147 complete\n"
     ]
    },
    {
     "name": "stderr",
     "output_type": "stream",
     "text": [
      "//anaconda3/envs/cs109b/lib/python3.7/site-packages/sklearn/model_selection/_split.py:667: UserWarning:\n",
      "\n",
      "The least populated class in y has only 1 members, which is less than n_splits=5.\n",
      "\n",
      "//anaconda3/envs/cs109b/lib/python3.7/site-packages/sklearn/model_selection/_split.py:667: UserWarning:\n",
      "\n",
      "The least populated class in y has only 1 members, which is less than n_splits=5.\n",
      "\n"
     ]
    },
    {
     "name": "stdout",
     "output_type": "stream",
     "text": [
      "39/147 complete\n"
     ]
    },
    {
     "name": "stderr",
     "output_type": "stream",
     "text": [
      "//anaconda3/envs/cs109b/lib/python3.7/site-packages/sklearn/model_selection/_split.py:667: UserWarning:\n",
      "\n",
      "The least populated class in y has only 1 members, which is less than n_splits=5.\n",
      "\n",
      "//anaconda3/envs/cs109b/lib/python3.7/site-packages/sklearn/model_selection/_split.py:667: UserWarning:\n",
      "\n",
      "The least populated class in y has only 1 members, which is less than n_splits=5.\n",
      "\n"
     ]
    },
    {
     "name": "stdout",
     "output_type": "stream",
     "text": [
      "40/147 complete\n"
     ]
    },
    {
     "name": "stderr",
     "output_type": "stream",
     "text": [
      "//anaconda3/envs/cs109b/lib/python3.7/site-packages/sklearn/model_selection/_split.py:667: UserWarning:\n",
      "\n",
      "The least populated class in y has only 1 members, which is less than n_splits=5.\n",
      "\n",
      "//anaconda3/envs/cs109b/lib/python3.7/site-packages/sklearn/model_selection/_split.py:667: UserWarning:\n",
      "\n",
      "The least populated class in y has only 1 members, which is less than n_splits=5.\n",
      "\n"
     ]
    },
    {
     "name": "stdout",
     "output_type": "stream",
     "text": [
      "41/147 complete\n"
     ]
    },
    {
     "name": "stderr",
     "output_type": "stream",
     "text": [
      "//anaconda3/envs/cs109b/lib/python3.7/site-packages/sklearn/model_selection/_split.py:667: UserWarning:\n",
      "\n",
      "The least populated class in y has only 1 members, which is less than n_splits=5.\n",
      "\n",
      "//anaconda3/envs/cs109b/lib/python3.7/site-packages/sklearn/model_selection/_split.py:667: UserWarning:\n",
      "\n",
      "The least populated class in y has only 1 members, which is less than n_splits=5.\n",
      "\n"
     ]
    },
    {
     "name": "stdout",
     "output_type": "stream",
     "text": [
      "42/147 complete\n"
     ]
    },
    {
     "name": "stderr",
     "output_type": "stream",
     "text": [
      "//anaconda3/envs/cs109b/lib/python3.7/site-packages/sklearn/model_selection/_split.py:667: UserWarning:\n",
      "\n",
      "The least populated class in y has only 1 members, which is less than n_splits=5.\n",
      "\n",
      "//anaconda3/envs/cs109b/lib/python3.7/site-packages/sklearn/model_selection/_split.py:667: UserWarning:\n",
      "\n",
      "The least populated class in y has only 1 members, which is less than n_splits=5.\n",
      "\n"
     ]
    },
    {
     "name": "stdout",
     "output_type": "stream",
     "text": [
      "43/147 complete\n"
     ]
    },
    {
     "name": "stderr",
     "output_type": "stream",
     "text": [
      "//anaconda3/envs/cs109b/lib/python3.7/site-packages/sklearn/model_selection/_split.py:667: UserWarning:\n",
      "\n",
      "The least populated class in y has only 1 members, which is less than n_splits=5.\n",
      "\n",
      "//anaconda3/envs/cs109b/lib/python3.7/site-packages/sklearn/model_selection/_split.py:667: UserWarning:\n",
      "\n",
      "The least populated class in y has only 1 members, which is less than n_splits=5.\n",
      "\n"
     ]
    },
    {
     "name": "stdout",
     "output_type": "stream",
     "text": [
      "44/147 complete\n"
     ]
    },
    {
     "name": "stderr",
     "output_type": "stream",
     "text": [
      "//anaconda3/envs/cs109b/lib/python3.7/site-packages/sklearn/model_selection/_split.py:667: UserWarning:\n",
      "\n",
      "The least populated class in y has only 1 members, which is less than n_splits=5.\n",
      "\n",
      "//anaconda3/envs/cs109b/lib/python3.7/site-packages/sklearn/model_selection/_split.py:667: UserWarning:\n",
      "\n",
      "The least populated class in y has only 1 members, which is less than n_splits=5.\n",
      "\n"
     ]
    },
    {
     "name": "stdout",
     "output_type": "stream",
     "text": [
      "45/147 complete\n"
     ]
    },
    {
     "name": "stderr",
     "output_type": "stream",
     "text": [
      "//anaconda3/envs/cs109b/lib/python3.7/site-packages/sklearn/model_selection/_split.py:667: UserWarning:\n",
      "\n",
      "The least populated class in y has only 1 members, which is less than n_splits=5.\n",
      "\n",
      "//anaconda3/envs/cs109b/lib/python3.7/site-packages/sklearn/model_selection/_split.py:667: UserWarning:\n",
      "\n",
      "The least populated class in y has only 1 members, which is less than n_splits=5.\n",
      "\n"
     ]
    },
    {
     "name": "stdout",
     "output_type": "stream",
     "text": [
      "46/147 complete\n"
     ]
    },
    {
     "name": "stderr",
     "output_type": "stream",
     "text": [
      "//anaconda3/envs/cs109b/lib/python3.7/site-packages/sklearn/model_selection/_split.py:667: UserWarning:\n",
      "\n",
      "The least populated class in y has only 1 members, which is less than n_splits=5.\n",
      "\n",
      "//anaconda3/envs/cs109b/lib/python3.7/site-packages/sklearn/model_selection/_split.py:667: UserWarning:\n",
      "\n",
      "The least populated class in y has only 1 members, which is less than n_splits=5.\n",
      "\n"
     ]
    },
    {
     "name": "stdout",
     "output_type": "stream",
     "text": [
      "47/147 complete\n"
     ]
    },
    {
     "name": "stderr",
     "output_type": "stream",
     "text": [
      "//anaconda3/envs/cs109b/lib/python3.7/site-packages/sklearn/model_selection/_split.py:667: UserWarning:\n",
      "\n",
      "The least populated class in y has only 1 members, which is less than n_splits=5.\n",
      "\n",
      "//anaconda3/envs/cs109b/lib/python3.7/site-packages/sklearn/model_selection/_split.py:667: UserWarning:\n",
      "\n",
      "The least populated class in y has only 1 members, which is less than n_splits=5.\n",
      "\n"
     ]
    },
    {
     "name": "stdout",
     "output_type": "stream",
     "text": [
      "48/147 complete\n"
     ]
    },
    {
     "name": "stderr",
     "output_type": "stream",
     "text": [
      "//anaconda3/envs/cs109b/lib/python3.7/site-packages/sklearn/model_selection/_split.py:667: UserWarning:\n",
      "\n",
      "The least populated class in y has only 1 members, which is less than n_splits=5.\n",
      "\n",
      "//anaconda3/envs/cs109b/lib/python3.7/site-packages/sklearn/model_selection/_split.py:667: UserWarning:\n",
      "\n",
      "The least populated class in y has only 1 members, which is less than n_splits=5.\n",
      "\n"
     ]
    },
    {
     "name": "stdout",
     "output_type": "stream",
     "text": [
      "49/147 complete\n"
     ]
    },
    {
     "name": "stderr",
     "output_type": "stream",
     "text": [
      "//anaconda3/envs/cs109b/lib/python3.7/site-packages/sklearn/model_selection/_split.py:667: UserWarning:\n",
      "\n",
      "The least populated class in y has only 1 members, which is less than n_splits=5.\n",
      "\n",
      "//anaconda3/envs/cs109b/lib/python3.7/site-packages/sklearn/model_selection/_split.py:667: UserWarning:\n",
      "\n",
      "The least populated class in y has only 1 members, which is less than n_splits=5.\n",
      "\n"
     ]
    },
    {
     "name": "stdout",
     "output_type": "stream",
     "text": [
      "50/147 complete\n"
     ]
    },
    {
     "name": "stderr",
     "output_type": "stream",
     "text": [
      "//anaconda3/envs/cs109b/lib/python3.7/site-packages/sklearn/model_selection/_split.py:667: UserWarning:\n",
      "\n",
      "The least populated class in y has only 1 members, which is less than n_splits=5.\n",
      "\n",
      "//anaconda3/envs/cs109b/lib/python3.7/site-packages/sklearn/model_selection/_split.py:667: UserWarning:\n",
      "\n",
      "The least populated class in y has only 1 members, which is less than n_splits=5.\n",
      "\n"
     ]
    },
    {
     "name": "stdout",
     "output_type": "stream",
     "text": [
      "51/147 complete\n"
     ]
    },
    {
     "name": "stderr",
     "output_type": "stream",
     "text": [
      "//anaconda3/envs/cs109b/lib/python3.7/site-packages/sklearn/model_selection/_split.py:667: UserWarning:\n",
      "\n",
      "The least populated class in y has only 1 members, which is less than n_splits=5.\n",
      "\n",
      "//anaconda3/envs/cs109b/lib/python3.7/site-packages/sklearn/model_selection/_split.py:667: UserWarning:\n",
      "\n",
      "The least populated class in y has only 1 members, which is less than n_splits=5.\n",
      "\n"
     ]
    },
    {
     "name": "stdout",
     "output_type": "stream",
     "text": [
      "52/147 complete\n"
     ]
    },
    {
     "name": "stderr",
     "output_type": "stream",
     "text": [
      "//anaconda3/envs/cs109b/lib/python3.7/site-packages/sklearn/model_selection/_split.py:667: UserWarning:\n",
      "\n",
      "The least populated class in y has only 1 members, which is less than n_splits=5.\n",
      "\n",
      "//anaconda3/envs/cs109b/lib/python3.7/site-packages/sklearn/model_selection/_split.py:667: UserWarning:\n",
      "\n",
      "The least populated class in y has only 1 members, which is less than n_splits=5.\n",
      "\n"
     ]
    },
    {
     "name": "stdout",
     "output_type": "stream",
     "text": [
      "53/147 complete\n"
     ]
    },
    {
     "name": "stderr",
     "output_type": "stream",
     "text": [
      "//anaconda3/envs/cs109b/lib/python3.7/site-packages/sklearn/model_selection/_split.py:667: UserWarning:\n",
      "\n",
      "The least populated class in y has only 1 members, which is less than n_splits=5.\n",
      "\n",
      "//anaconda3/envs/cs109b/lib/python3.7/site-packages/sklearn/model_selection/_split.py:667: UserWarning:\n",
      "\n",
      "The least populated class in y has only 1 members, which is less than n_splits=5.\n",
      "\n"
     ]
    },
    {
     "name": "stdout",
     "output_type": "stream",
     "text": [
      "54/147 complete\n"
     ]
    },
    {
     "name": "stderr",
     "output_type": "stream",
     "text": [
      "//anaconda3/envs/cs109b/lib/python3.7/site-packages/sklearn/model_selection/_split.py:667: UserWarning:\n",
      "\n",
      "The least populated class in y has only 1 members, which is less than n_splits=5.\n",
      "\n",
      "//anaconda3/envs/cs109b/lib/python3.7/site-packages/sklearn/model_selection/_split.py:667: UserWarning:\n",
      "\n",
      "The least populated class in y has only 1 members, which is less than n_splits=5.\n",
      "\n"
     ]
    },
    {
     "name": "stdout",
     "output_type": "stream",
     "text": [
      "55/147 complete\n"
     ]
    },
    {
     "name": "stderr",
     "output_type": "stream",
     "text": [
      "//anaconda3/envs/cs109b/lib/python3.7/site-packages/sklearn/model_selection/_split.py:667: UserWarning:\n",
      "\n",
      "The least populated class in y has only 1 members, which is less than n_splits=5.\n",
      "\n",
      "//anaconda3/envs/cs109b/lib/python3.7/site-packages/sklearn/model_selection/_split.py:667: UserWarning:\n",
      "\n",
      "The least populated class in y has only 1 members, which is less than n_splits=5.\n",
      "\n"
     ]
    },
    {
     "name": "stdout",
     "output_type": "stream",
     "text": [
      "56/147 complete\n"
     ]
    },
    {
     "name": "stderr",
     "output_type": "stream",
     "text": [
      "//anaconda3/envs/cs109b/lib/python3.7/site-packages/sklearn/model_selection/_split.py:667: UserWarning:\n",
      "\n",
      "The least populated class in y has only 1 members, which is less than n_splits=5.\n",
      "\n",
      "//anaconda3/envs/cs109b/lib/python3.7/site-packages/sklearn/model_selection/_split.py:667: UserWarning:\n",
      "\n",
      "The least populated class in y has only 1 members, which is less than n_splits=5.\n",
      "\n"
     ]
    },
    {
     "name": "stdout",
     "output_type": "stream",
     "text": [
      "57/147 complete\n"
     ]
    },
    {
     "name": "stderr",
     "output_type": "stream",
     "text": [
      "//anaconda3/envs/cs109b/lib/python3.7/site-packages/sklearn/model_selection/_split.py:667: UserWarning:\n",
      "\n",
      "The least populated class in y has only 1 members, which is less than n_splits=5.\n",
      "\n",
      "//anaconda3/envs/cs109b/lib/python3.7/site-packages/sklearn/model_selection/_split.py:667: UserWarning:\n",
      "\n",
      "The least populated class in y has only 1 members, which is less than n_splits=5.\n",
      "\n"
     ]
    },
    {
     "name": "stdout",
     "output_type": "stream",
     "text": [
      "58/147 complete\n"
     ]
    },
    {
     "name": "stderr",
     "output_type": "stream",
     "text": [
      "//anaconda3/envs/cs109b/lib/python3.7/site-packages/sklearn/model_selection/_split.py:667: UserWarning:\n",
      "\n",
      "The least populated class in y has only 1 members, which is less than n_splits=5.\n",
      "\n",
      "//anaconda3/envs/cs109b/lib/python3.7/site-packages/sklearn/model_selection/_split.py:667: UserWarning:\n",
      "\n",
      "The least populated class in y has only 1 members, which is less than n_splits=5.\n",
      "\n"
     ]
    },
    {
     "name": "stdout",
     "output_type": "stream",
     "text": [
      "59/147 complete\n"
     ]
    },
    {
     "name": "stderr",
     "output_type": "stream",
     "text": [
      "//anaconda3/envs/cs109b/lib/python3.7/site-packages/sklearn/model_selection/_split.py:667: UserWarning:\n",
      "\n",
      "The least populated class in y has only 1 members, which is less than n_splits=5.\n",
      "\n",
      "//anaconda3/envs/cs109b/lib/python3.7/site-packages/sklearn/model_selection/_split.py:667: UserWarning:\n",
      "\n",
      "The least populated class in y has only 1 members, which is less than n_splits=5.\n",
      "\n"
     ]
    },
    {
     "name": "stdout",
     "output_type": "stream",
     "text": [
      "60/147 complete\n"
     ]
    },
    {
     "name": "stderr",
     "output_type": "stream",
     "text": [
      "//anaconda3/envs/cs109b/lib/python3.7/site-packages/sklearn/model_selection/_split.py:667: UserWarning:\n",
      "\n",
      "The least populated class in y has only 1 members, which is less than n_splits=5.\n",
      "\n",
      "//anaconda3/envs/cs109b/lib/python3.7/site-packages/sklearn/model_selection/_split.py:667: UserWarning:\n",
      "\n",
      "The least populated class in y has only 1 members, which is less than n_splits=5.\n",
      "\n"
     ]
    },
    {
     "name": "stdout",
     "output_type": "stream",
     "text": [
      "61/147 complete\n"
     ]
    },
    {
     "name": "stderr",
     "output_type": "stream",
     "text": [
      "//anaconda3/envs/cs109b/lib/python3.7/site-packages/sklearn/model_selection/_split.py:667: UserWarning:\n",
      "\n",
      "The least populated class in y has only 1 members, which is less than n_splits=5.\n",
      "\n",
      "//anaconda3/envs/cs109b/lib/python3.7/site-packages/sklearn/model_selection/_split.py:667: UserWarning:\n",
      "\n",
      "The least populated class in y has only 1 members, which is less than n_splits=5.\n",
      "\n"
     ]
    },
    {
     "name": "stdout",
     "output_type": "stream",
     "text": [
      "62/147 complete\n"
     ]
    },
    {
     "name": "stderr",
     "output_type": "stream",
     "text": [
      "//anaconda3/envs/cs109b/lib/python3.7/site-packages/sklearn/model_selection/_split.py:667: UserWarning:\n",
      "\n",
      "The least populated class in y has only 1 members, which is less than n_splits=5.\n",
      "\n",
      "//anaconda3/envs/cs109b/lib/python3.7/site-packages/sklearn/model_selection/_split.py:667: UserWarning:\n",
      "\n",
      "The least populated class in y has only 1 members, which is less than n_splits=5.\n",
      "\n"
     ]
    },
    {
     "name": "stdout",
     "output_type": "stream",
     "text": [
      "63/147 complete\n"
     ]
    },
    {
     "name": "stderr",
     "output_type": "stream",
     "text": [
      "//anaconda3/envs/cs109b/lib/python3.7/site-packages/sklearn/model_selection/_split.py:667: UserWarning:\n",
      "\n",
      "The least populated class in y has only 1 members, which is less than n_splits=5.\n",
      "\n",
      "//anaconda3/envs/cs109b/lib/python3.7/site-packages/sklearn/model_selection/_split.py:667: UserWarning:\n",
      "\n",
      "The least populated class in y has only 1 members, which is less than n_splits=5.\n",
      "\n"
     ]
    },
    {
     "name": "stdout",
     "output_type": "stream",
     "text": [
      "64/147 complete\n"
     ]
    },
    {
     "name": "stderr",
     "output_type": "stream",
     "text": [
      "//anaconda3/envs/cs109b/lib/python3.7/site-packages/sklearn/model_selection/_split.py:667: UserWarning:\n",
      "\n",
      "The least populated class in y has only 1 members, which is less than n_splits=5.\n",
      "\n",
      "//anaconda3/envs/cs109b/lib/python3.7/site-packages/sklearn/model_selection/_split.py:667: UserWarning:\n",
      "\n",
      "The least populated class in y has only 1 members, which is less than n_splits=5.\n",
      "\n"
     ]
    },
    {
     "name": "stdout",
     "output_type": "stream",
     "text": [
      "65/147 complete\n"
     ]
    },
    {
     "name": "stderr",
     "output_type": "stream",
     "text": [
      "//anaconda3/envs/cs109b/lib/python3.7/site-packages/sklearn/model_selection/_split.py:667: UserWarning:\n",
      "\n",
      "The least populated class in y has only 1 members, which is less than n_splits=5.\n",
      "\n",
      "//anaconda3/envs/cs109b/lib/python3.7/site-packages/sklearn/model_selection/_split.py:667: UserWarning:\n",
      "\n",
      "The least populated class in y has only 1 members, which is less than n_splits=5.\n",
      "\n"
     ]
    },
    {
     "name": "stdout",
     "output_type": "stream",
     "text": [
      "66/147 complete\n"
     ]
    },
    {
     "name": "stderr",
     "output_type": "stream",
     "text": [
      "//anaconda3/envs/cs109b/lib/python3.7/site-packages/sklearn/model_selection/_split.py:667: UserWarning:\n",
      "\n",
      "The least populated class in y has only 1 members, which is less than n_splits=5.\n",
      "\n",
      "//anaconda3/envs/cs109b/lib/python3.7/site-packages/sklearn/model_selection/_split.py:667: UserWarning:\n",
      "\n",
      "The least populated class in y has only 1 members, which is less than n_splits=5.\n",
      "\n"
     ]
    },
    {
     "name": "stdout",
     "output_type": "stream",
     "text": [
      "67/147 complete\n"
     ]
    },
    {
     "name": "stderr",
     "output_type": "stream",
     "text": [
      "//anaconda3/envs/cs109b/lib/python3.7/site-packages/sklearn/model_selection/_split.py:667: UserWarning:\n",
      "\n",
      "The least populated class in y has only 1 members, which is less than n_splits=5.\n",
      "\n",
      "//anaconda3/envs/cs109b/lib/python3.7/site-packages/sklearn/model_selection/_split.py:667: UserWarning:\n",
      "\n",
      "The least populated class in y has only 1 members, which is less than n_splits=5.\n",
      "\n"
     ]
    },
    {
     "name": "stdout",
     "output_type": "stream",
     "text": [
      "68/147 complete\n"
     ]
    },
    {
     "name": "stderr",
     "output_type": "stream",
     "text": [
      "//anaconda3/envs/cs109b/lib/python3.7/site-packages/sklearn/model_selection/_split.py:667: UserWarning:\n",
      "\n",
      "The least populated class in y has only 1 members, which is less than n_splits=5.\n",
      "\n",
      "//anaconda3/envs/cs109b/lib/python3.7/site-packages/sklearn/model_selection/_split.py:667: UserWarning:\n",
      "\n",
      "The least populated class in y has only 1 members, which is less than n_splits=5.\n",
      "\n"
     ]
    },
    {
     "name": "stdout",
     "output_type": "stream",
     "text": [
      "69/147 complete\n"
     ]
    },
    {
     "name": "stderr",
     "output_type": "stream",
     "text": [
      "//anaconda3/envs/cs109b/lib/python3.7/site-packages/sklearn/model_selection/_split.py:667: UserWarning:\n",
      "\n",
      "The least populated class in y has only 1 members, which is less than n_splits=5.\n",
      "\n",
      "//anaconda3/envs/cs109b/lib/python3.7/site-packages/sklearn/model_selection/_split.py:667: UserWarning:\n",
      "\n",
      "The least populated class in y has only 1 members, which is less than n_splits=5.\n",
      "\n"
     ]
    },
    {
     "name": "stdout",
     "output_type": "stream",
     "text": [
      "70/147 complete\n"
     ]
    },
    {
     "name": "stderr",
     "output_type": "stream",
     "text": [
      "//anaconda3/envs/cs109b/lib/python3.7/site-packages/sklearn/model_selection/_split.py:667: UserWarning:\n",
      "\n",
      "The least populated class in y has only 1 members, which is less than n_splits=5.\n",
      "\n",
      "//anaconda3/envs/cs109b/lib/python3.7/site-packages/sklearn/model_selection/_split.py:667: UserWarning:\n",
      "\n",
      "The least populated class in y has only 1 members, which is less than n_splits=5.\n",
      "\n"
     ]
    },
    {
     "name": "stdout",
     "output_type": "stream",
     "text": [
      "71/147 complete\n"
     ]
    },
    {
     "name": "stderr",
     "output_type": "stream",
     "text": [
      "//anaconda3/envs/cs109b/lib/python3.7/site-packages/sklearn/model_selection/_split.py:667: UserWarning:\n",
      "\n",
      "The least populated class in y has only 1 members, which is less than n_splits=5.\n",
      "\n",
      "//anaconda3/envs/cs109b/lib/python3.7/site-packages/sklearn/model_selection/_split.py:667: UserWarning:\n",
      "\n",
      "The least populated class in y has only 1 members, which is less than n_splits=5.\n",
      "\n"
     ]
    },
    {
     "name": "stdout",
     "output_type": "stream",
     "text": [
      "72/147 complete\n"
     ]
    },
    {
     "name": "stderr",
     "output_type": "stream",
     "text": [
      "//anaconda3/envs/cs109b/lib/python3.7/site-packages/sklearn/model_selection/_split.py:667: UserWarning:\n",
      "\n",
      "The least populated class in y has only 1 members, which is less than n_splits=5.\n",
      "\n",
      "//anaconda3/envs/cs109b/lib/python3.7/site-packages/sklearn/model_selection/_split.py:667: UserWarning:\n",
      "\n",
      "The least populated class in y has only 1 members, which is less than n_splits=5.\n",
      "\n"
     ]
    },
    {
     "name": "stdout",
     "output_type": "stream",
     "text": [
      "73/147 complete\n"
     ]
    },
    {
     "name": "stderr",
     "output_type": "stream",
     "text": [
      "//anaconda3/envs/cs109b/lib/python3.7/site-packages/sklearn/model_selection/_split.py:667: UserWarning:\n",
      "\n",
      "The least populated class in y has only 1 members, which is less than n_splits=5.\n",
      "\n",
      "//anaconda3/envs/cs109b/lib/python3.7/site-packages/sklearn/model_selection/_split.py:667: UserWarning:\n",
      "\n",
      "The least populated class in y has only 1 members, which is less than n_splits=5.\n",
      "\n"
     ]
    },
    {
     "name": "stdout",
     "output_type": "stream",
     "text": [
      "74/147 complete\n"
     ]
    },
    {
     "name": "stderr",
     "output_type": "stream",
     "text": [
      "//anaconda3/envs/cs109b/lib/python3.7/site-packages/sklearn/model_selection/_split.py:667: UserWarning:\n",
      "\n",
      "The least populated class in y has only 1 members, which is less than n_splits=5.\n",
      "\n",
      "//anaconda3/envs/cs109b/lib/python3.7/site-packages/sklearn/model_selection/_split.py:667: UserWarning:\n",
      "\n",
      "The least populated class in y has only 1 members, which is less than n_splits=5.\n",
      "\n"
     ]
    },
    {
     "name": "stdout",
     "output_type": "stream",
     "text": [
      "75/147 complete\n"
     ]
    },
    {
     "name": "stderr",
     "output_type": "stream",
     "text": [
      "//anaconda3/envs/cs109b/lib/python3.7/site-packages/sklearn/model_selection/_split.py:667: UserWarning:\n",
      "\n",
      "The least populated class in y has only 1 members, which is less than n_splits=5.\n",
      "\n",
      "//anaconda3/envs/cs109b/lib/python3.7/site-packages/sklearn/model_selection/_split.py:667: UserWarning:\n",
      "\n",
      "The least populated class in y has only 1 members, which is less than n_splits=5.\n",
      "\n"
     ]
    },
    {
     "name": "stdout",
     "output_type": "stream",
     "text": [
      "76/147 complete\n"
     ]
    },
    {
     "name": "stderr",
     "output_type": "stream",
     "text": [
      "//anaconda3/envs/cs109b/lib/python3.7/site-packages/sklearn/model_selection/_split.py:667: UserWarning:\n",
      "\n",
      "The least populated class in y has only 1 members, which is less than n_splits=5.\n",
      "\n",
      "//anaconda3/envs/cs109b/lib/python3.7/site-packages/sklearn/model_selection/_split.py:667: UserWarning:\n",
      "\n",
      "The least populated class in y has only 1 members, which is less than n_splits=5.\n",
      "\n"
     ]
    },
    {
     "name": "stdout",
     "output_type": "stream",
     "text": [
      "77/147 complete\n"
     ]
    },
    {
     "name": "stderr",
     "output_type": "stream",
     "text": [
      "//anaconda3/envs/cs109b/lib/python3.7/site-packages/sklearn/model_selection/_split.py:667: UserWarning:\n",
      "\n",
      "The least populated class in y has only 1 members, which is less than n_splits=5.\n",
      "\n",
      "//anaconda3/envs/cs109b/lib/python3.7/site-packages/sklearn/model_selection/_split.py:667: UserWarning:\n",
      "\n",
      "The least populated class in y has only 1 members, which is less than n_splits=5.\n",
      "\n"
     ]
    },
    {
     "name": "stdout",
     "output_type": "stream",
     "text": [
      "78/147 complete\n"
     ]
    },
    {
     "name": "stderr",
     "output_type": "stream",
     "text": [
      "//anaconda3/envs/cs109b/lib/python3.7/site-packages/sklearn/model_selection/_split.py:667: UserWarning:\n",
      "\n",
      "The least populated class in y has only 1 members, which is less than n_splits=5.\n",
      "\n",
      "//anaconda3/envs/cs109b/lib/python3.7/site-packages/sklearn/model_selection/_split.py:667: UserWarning:\n",
      "\n",
      "The least populated class in y has only 1 members, which is less than n_splits=5.\n",
      "\n"
     ]
    },
    {
     "name": "stdout",
     "output_type": "stream",
     "text": [
      "79/147 complete\n"
     ]
    },
    {
     "name": "stderr",
     "output_type": "stream",
     "text": [
      "//anaconda3/envs/cs109b/lib/python3.7/site-packages/sklearn/model_selection/_split.py:667: UserWarning:\n",
      "\n",
      "The least populated class in y has only 1 members, which is less than n_splits=5.\n",
      "\n",
      "//anaconda3/envs/cs109b/lib/python3.7/site-packages/sklearn/model_selection/_split.py:667: UserWarning:\n",
      "\n",
      "The least populated class in y has only 1 members, which is less than n_splits=5.\n",
      "\n"
     ]
    },
    {
     "name": "stdout",
     "output_type": "stream",
     "text": [
      "80/147 complete\n"
     ]
    },
    {
     "name": "stderr",
     "output_type": "stream",
     "text": [
      "//anaconda3/envs/cs109b/lib/python3.7/site-packages/sklearn/model_selection/_split.py:667: UserWarning:\n",
      "\n",
      "The least populated class in y has only 1 members, which is less than n_splits=5.\n",
      "\n",
      "//anaconda3/envs/cs109b/lib/python3.7/site-packages/sklearn/model_selection/_split.py:667: UserWarning:\n",
      "\n",
      "The least populated class in y has only 1 members, which is less than n_splits=5.\n",
      "\n"
     ]
    },
    {
     "name": "stdout",
     "output_type": "stream",
     "text": [
      "81/147 complete\n"
     ]
    },
    {
     "name": "stderr",
     "output_type": "stream",
     "text": [
      "//anaconda3/envs/cs109b/lib/python3.7/site-packages/sklearn/model_selection/_split.py:667: UserWarning:\n",
      "\n",
      "The least populated class in y has only 1 members, which is less than n_splits=5.\n",
      "\n",
      "//anaconda3/envs/cs109b/lib/python3.7/site-packages/sklearn/model_selection/_split.py:667: UserWarning:\n",
      "\n",
      "The least populated class in y has only 1 members, which is less than n_splits=5.\n",
      "\n"
     ]
    },
    {
     "name": "stdout",
     "output_type": "stream",
     "text": [
      "82/147 complete\n"
     ]
    },
    {
     "name": "stderr",
     "output_type": "stream",
     "text": [
      "//anaconda3/envs/cs109b/lib/python3.7/site-packages/sklearn/model_selection/_split.py:667: UserWarning:\n",
      "\n",
      "The least populated class in y has only 1 members, which is less than n_splits=5.\n",
      "\n",
      "//anaconda3/envs/cs109b/lib/python3.7/site-packages/sklearn/model_selection/_split.py:667: UserWarning:\n",
      "\n",
      "The least populated class in y has only 1 members, which is less than n_splits=5.\n",
      "\n"
     ]
    },
    {
     "name": "stdout",
     "output_type": "stream",
     "text": [
      "83/147 complete\n"
     ]
    },
    {
     "name": "stderr",
     "output_type": "stream",
     "text": [
      "//anaconda3/envs/cs109b/lib/python3.7/site-packages/sklearn/model_selection/_split.py:667: UserWarning:\n",
      "\n",
      "The least populated class in y has only 1 members, which is less than n_splits=5.\n",
      "\n",
      "//anaconda3/envs/cs109b/lib/python3.7/site-packages/sklearn/model_selection/_split.py:667: UserWarning:\n",
      "\n",
      "The least populated class in y has only 1 members, which is less than n_splits=5.\n",
      "\n"
     ]
    },
    {
     "name": "stdout",
     "output_type": "stream",
     "text": [
      "84/147 complete\n"
     ]
    },
    {
     "name": "stderr",
     "output_type": "stream",
     "text": [
      "//anaconda3/envs/cs109b/lib/python3.7/site-packages/sklearn/model_selection/_split.py:667: UserWarning:\n",
      "\n",
      "The least populated class in y has only 1 members, which is less than n_splits=5.\n",
      "\n",
      "//anaconda3/envs/cs109b/lib/python3.7/site-packages/sklearn/model_selection/_split.py:667: UserWarning:\n",
      "\n",
      "The least populated class in y has only 1 members, which is less than n_splits=5.\n",
      "\n"
     ]
    },
    {
     "name": "stdout",
     "output_type": "stream",
     "text": [
      "85/147 complete\n"
     ]
    },
    {
     "name": "stderr",
     "output_type": "stream",
     "text": [
      "//anaconda3/envs/cs109b/lib/python3.7/site-packages/sklearn/model_selection/_split.py:667: UserWarning:\n",
      "\n",
      "The least populated class in y has only 1 members, which is less than n_splits=5.\n",
      "\n",
      "//anaconda3/envs/cs109b/lib/python3.7/site-packages/sklearn/model_selection/_split.py:667: UserWarning:\n",
      "\n",
      "The least populated class in y has only 1 members, which is less than n_splits=5.\n",
      "\n"
     ]
    },
    {
     "name": "stdout",
     "output_type": "stream",
     "text": [
      "86/147 complete\n"
     ]
    },
    {
     "name": "stderr",
     "output_type": "stream",
     "text": [
      "//anaconda3/envs/cs109b/lib/python3.7/site-packages/sklearn/model_selection/_split.py:667: UserWarning:\n",
      "\n",
      "The least populated class in y has only 1 members, which is less than n_splits=5.\n",
      "\n",
      "//anaconda3/envs/cs109b/lib/python3.7/site-packages/sklearn/model_selection/_split.py:667: UserWarning:\n",
      "\n",
      "The least populated class in y has only 1 members, which is less than n_splits=5.\n",
      "\n"
     ]
    },
    {
     "name": "stdout",
     "output_type": "stream",
     "text": [
      "87/147 complete\n"
     ]
    },
    {
     "name": "stderr",
     "output_type": "stream",
     "text": [
      "//anaconda3/envs/cs109b/lib/python3.7/site-packages/sklearn/model_selection/_split.py:667: UserWarning:\n",
      "\n",
      "The least populated class in y has only 1 members, which is less than n_splits=5.\n",
      "\n",
      "//anaconda3/envs/cs109b/lib/python3.7/site-packages/sklearn/model_selection/_split.py:667: UserWarning:\n",
      "\n",
      "The least populated class in y has only 1 members, which is less than n_splits=5.\n",
      "\n"
     ]
    },
    {
     "name": "stdout",
     "output_type": "stream",
     "text": [
      "88/147 complete\n"
     ]
    },
    {
     "name": "stderr",
     "output_type": "stream",
     "text": [
      "//anaconda3/envs/cs109b/lib/python3.7/site-packages/sklearn/model_selection/_split.py:667: UserWarning:\n",
      "\n",
      "The least populated class in y has only 1 members, which is less than n_splits=5.\n",
      "\n",
      "//anaconda3/envs/cs109b/lib/python3.7/site-packages/sklearn/model_selection/_split.py:667: UserWarning:\n",
      "\n",
      "The least populated class in y has only 1 members, which is less than n_splits=5.\n",
      "\n"
     ]
    },
    {
     "name": "stdout",
     "output_type": "stream",
     "text": [
      "89/147 complete\n"
     ]
    },
    {
     "name": "stderr",
     "output_type": "stream",
     "text": [
      "//anaconda3/envs/cs109b/lib/python3.7/site-packages/sklearn/model_selection/_split.py:667: UserWarning:\n",
      "\n",
      "The least populated class in y has only 1 members, which is less than n_splits=5.\n",
      "\n",
      "//anaconda3/envs/cs109b/lib/python3.7/site-packages/sklearn/model_selection/_split.py:667: UserWarning:\n",
      "\n",
      "The least populated class in y has only 1 members, which is less than n_splits=5.\n",
      "\n"
     ]
    },
    {
     "name": "stdout",
     "output_type": "stream",
     "text": [
      "90/147 complete\n"
     ]
    },
    {
     "name": "stderr",
     "output_type": "stream",
     "text": [
      "//anaconda3/envs/cs109b/lib/python3.7/site-packages/sklearn/model_selection/_split.py:667: UserWarning:\n",
      "\n",
      "The least populated class in y has only 1 members, which is less than n_splits=5.\n",
      "\n",
      "//anaconda3/envs/cs109b/lib/python3.7/site-packages/sklearn/model_selection/_split.py:667: UserWarning:\n",
      "\n",
      "The least populated class in y has only 1 members, which is less than n_splits=5.\n",
      "\n"
     ]
    },
    {
     "name": "stdout",
     "output_type": "stream",
     "text": [
      "91/147 complete\n"
     ]
    },
    {
     "name": "stderr",
     "output_type": "stream",
     "text": [
      "//anaconda3/envs/cs109b/lib/python3.7/site-packages/sklearn/model_selection/_split.py:667: UserWarning:\n",
      "\n",
      "The least populated class in y has only 1 members, which is less than n_splits=5.\n",
      "\n",
      "//anaconda3/envs/cs109b/lib/python3.7/site-packages/sklearn/model_selection/_split.py:667: UserWarning:\n",
      "\n",
      "The least populated class in y has only 1 members, which is less than n_splits=5.\n",
      "\n"
     ]
    },
    {
     "name": "stdout",
     "output_type": "stream",
     "text": [
      "92/147 complete\n"
     ]
    },
    {
     "name": "stderr",
     "output_type": "stream",
     "text": [
      "//anaconda3/envs/cs109b/lib/python3.7/site-packages/sklearn/model_selection/_split.py:667: UserWarning:\n",
      "\n",
      "The least populated class in y has only 1 members, which is less than n_splits=5.\n",
      "\n",
      "//anaconda3/envs/cs109b/lib/python3.7/site-packages/sklearn/model_selection/_split.py:667: UserWarning:\n",
      "\n",
      "The least populated class in y has only 1 members, which is less than n_splits=5.\n",
      "\n"
     ]
    },
    {
     "name": "stdout",
     "output_type": "stream",
     "text": [
      "93/147 complete\n"
     ]
    },
    {
     "name": "stderr",
     "output_type": "stream",
     "text": [
      "//anaconda3/envs/cs109b/lib/python3.7/site-packages/sklearn/model_selection/_split.py:667: UserWarning:\n",
      "\n",
      "The least populated class in y has only 1 members, which is less than n_splits=5.\n",
      "\n",
      "//anaconda3/envs/cs109b/lib/python3.7/site-packages/sklearn/model_selection/_split.py:667: UserWarning:\n",
      "\n",
      "The least populated class in y has only 1 members, which is less than n_splits=5.\n",
      "\n"
     ]
    },
    {
     "name": "stdout",
     "output_type": "stream",
     "text": [
      "94/147 complete\n"
     ]
    },
    {
     "name": "stderr",
     "output_type": "stream",
     "text": [
      "//anaconda3/envs/cs109b/lib/python3.7/site-packages/sklearn/model_selection/_split.py:667: UserWarning:\n",
      "\n",
      "The least populated class in y has only 1 members, which is less than n_splits=5.\n",
      "\n",
      "//anaconda3/envs/cs109b/lib/python3.7/site-packages/sklearn/model_selection/_split.py:667: UserWarning:\n",
      "\n",
      "The least populated class in y has only 1 members, which is less than n_splits=5.\n",
      "\n"
     ]
    },
    {
     "name": "stdout",
     "output_type": "stream",
     "text": [
      "95/147 complete\n"
     ]
    },
    {
     "name": "stderr",
     "output_type": "stream",
     "text": [
      "//anaconda3/envs/cs109b/lib/python3.7/site-packages/sklearn/model_selection/_split.py:667: UserWarning:\n",
      "\n",
      "The least populated class in y has only 1 members, which is less than n_splits=5.\n",
      "\n",
      "//anaconda3/envs/cs109b/lib/python3.7/site-packages/sklearn/model_selection/_split.py:667: UserWarning:\n",
      "\n",
      "The least populated class in y has only 1 members, which is less than n_splits=5.\n",
      "\n"
     ]
    },
    {
     "name": "stdout",
     "output_type": "stream",
     "text": [
      "96/147 complete\n"
     ]
    },
    {
     "name": "stderr",
     "output_type": "stream",
     "text": [
      "//anaconda3/envs/cs109b/lib/python3.7/site-packages/sklearn/model_selection/_split.py:667: UserWarning:\n",
      "\n",
      "The least populated class in y has only 1 members, which is less than n_splits=5.\n",
      "\n",
      "//anaconda3/envs/cs109b/lib/python3.7/site-packages/sklearn/model_selection/_split.py:667: UserWarning:\n",
      "\n",
      "The least populated class in y has only 1 members, which is less than n_splits=5.\n",
      "\n"
     ]
    },
    {
     "name": "stdout",
     "output_type": "stream",
     "text": [
      "97/147 complete\n"
     ]
    },
    {
     "name": "stderr",
     "output_type": "stream",
     "text": [
      "//anaconda3/envs/cs109b/lib/python3.7/site-packages/sklearn/model_selection/_split.py:667: UserWarning:\n",
      "\n",
      "The least populated class in y has only 1 members, which is less than n_splits=5.\n",
      "\n",
      "//anaconda3/envs/cs109b/lib/python3.7/site-packages/sklearn/model_selection/_split.py:667: UserWarning:\n",
      "\n",
      "The least populated class in y has only 1 members, which is less than n_splits=5.\n",
      "\n"
     ]
    },
    {
     "name": "stdout",
     "output_type": "stream",
     "text": [
      "98/147 complete\n"
     ]
    },
    {
     "name": "stderr",
     "output_type": "stream",
     "text": [
      "//anaconda3/envs/cs109b/lib/python3.7/site-packages/sklearn/model_selection/_split.py:667: UserWarning:\n",
      "\n",
      "The least populated class in y has only 1 members, which is less than n_splits=5.\n",
      "\n",
      "//anaconda3/envs/cs109b/lib/python3.7/site-packages/sklearn/model_selection/_split.py:667: UserWarning:\n",
      "\n",
      "The least populated class in y has only 1 members, which is less than n_splits=5.\n",
      "\n"
     ]
    },
    {
     "name": "stdout",
     "output_type": "stream",
     "text": [
      "99/147 complete\n"
     ]
    },
    {
     "name": "stderr",
     "output_type": "stream",
     "text": [
      "//anaconda3/envs/cs109b/lib/python3.7/site-packages/sklearn/model_selection/_split.py:667: UserWarning:\n",
      "\n",
      "The least populated class in y has only 1 members, which is less than n_splits=5.\n",
      "\n",
      "//anaconda3/envs/cs109b/lib/python3.7/site-packages/sklearn/model_selection/_split.py:667: UserWarning:\n",
      "\n",
      "The least populated class in y has only 1 members, which is less than n_splits=5.\n",
      "\n"
     ]
    },
    {
     "name": "stdout",
     "output_type": "stream",
     "text": [
      "100/147 complete\n"
     ]
    },
    {
     "name": "stderr",
     "output_type": "stream",
     "text": [
      "//anaconda3/envs/cs109b/lib/python3.7/site-packages/sklearn/model_selection/_split.py:667: UserWarning:\n",
      "\n",
      "The least populated class in y has only 1 members, which is less than n_splits=5.\n",
      "\n",
      "//anaconda3/envs/cs109b/lib/python3.7/site-packages/sklearn/model_selection/_split.py:667: UserWarning:\n",
      "\n",
      "The least populated class in y has only 1 members, which is less than n_splits=5.\n",
      "\n"
     ]
    },
    {
     "name": "stdout",
     "output_type": "stream",
     "text": [
      "101/147 complete\n"
     ]
    },
    {
     "name": "stderr",
     "output_type": "stream",
     "text": [
      "//anaconda3/envs/cs109b/lib/python3.7/site-packages/sklearn/model_selection/_split.py:667: UserWarning:\n",
      "\n",
      "The least populated class in y has only 1 members, which is less than n_splits=5.\n",
      "\n",
      "//anaconda3/envs/cs109b/lib/python3.7/site-packages/sklearn/model_selection/_split.py:667: UserWarning:\n",
      "\n",
      "The least populated class in y has only 1 members, which is less than n_splits=5.\n",
      "\n"
     ]
    },
    {
     "name": "stdout",
     "output_type": "stream",
     "text": [
      "102/147 complete\n"
     ]
    },
    {
     "name": "stderr",
     "output_type": "stream",
     "text": [
      "//anaconda3/envs/cs109b/lib/python3.7/site-packages/sklearn/model_selection/_split.py:667: UserWarning:\n",
      "\n",
      "The least populated class in y has only 1 members, which is less than n_splits=5.\n",
      "\n",
      "//anaconda3/envs/cs109b/lib/python3.7/site-packages/sklearn/model_selection/_split.py:667: UserWarning:\n",
      "\n",
      "The least populated class in y has only 1 members, which is less than n_splits=5.\n",
      "\n"
     ]
    },
    {
     "name": "stdout",
     "output_type": "stream",
     "text": [
      "103/147 complete\n"
     ]
    },
    {
     "name": "stderr",
     "output_type": "stream",
     "text": [
      "//anaconda3/envs/cs109b/lib/python3.7/site-packages/sklearn/model_selection/_split.py:667: UserWarning:\n",
      "\n",
      "The least populated class in y has only 1 members, which is less than n_splits=5.\n",
      "\n",
      "//anaconda3/envs/cs109b/lib/python3.7/site-packages/sklearn/model_selection/_split.py:667: UserWarning:\n",
      "\n",
      "The least populated class in y has only 1 members, which is less than n_splits=5.\n",
      "\n"
     ]
    },
    {
     "name": "stdout",
     "output_type": "stream",
     "text": [
      "104/147 complete\n"
     ]
    },
    {
     "name": "stderr",
     "output_type": "stream",
     "text": [
      "//anaconda3/envs/cs109b/lib/python3.7/site-packages/sklearn/model_selection/_split.py:667: UserWarning:\n",
      "\n",
      "The least populated class in y has only 1 members, which is less than n_splits=5.\n",
      "\n",
      "//anaconda3/envs/cs109b/lib/python3.7/site-packages/sklearn/model_selection/_split.py:667: UserWarning:\n",
      "\n",
      "The least populated class in y has only 1 members, which is less than n_splits=5.\n",
      "\n"
     ]
    },
    {
     "name": "stdout",
     "output_type": "stream",
     "text": [
      "105/147 complete\n"
     ]
    },
    {
     "name": "stderr",
     "output_type": "stream",
     "text": [
      "//anaconda3/envs/cs109b/lib/python3.7/site-packages/sklearn/model_selection/_split.py:667: UserWarning:\n",
      "\n",
      "The least populated class in y has only 1 members, which is less than n_splits=5.\n",
      "\n",
      "//anaconda3/envs/cs109b/lib/python3.7/site-packages/sklearn/model_selection/_split.py:667: UserWarning:\n",
      "\n",
      "The least populated class in y has only 1 members, which is less than n_splits=5.\n",
      "\n"
     ]
    },
    {
     "name": "stdout",
     "output_type": "stream",
     "text": [
      "106/147 complete\n"
     ]
    },
    {
     "name": "stderr",
     "output_type": "stream",
     "text": [
      "//anaconda3/envs/cs109b/lib/python3.7/site-packages/sklearn/model_selection/_split.py:667: UserWarning:\n",
      "\n",
      "The least populated class in y has only 1 members, which is less than n_splits=5.\n",
      "\n",
      "//anaconda3/envs/cs109b/lib/python3.7/site-packages/sklearn/model_selection/_split.py:667: UserWarning:\n",
      "\n",
      "The least populated class in y has only 1 members, which is less than n_splits=5.\n",
      "\n"
     ]
    },
    {
     "name": "stdout",
     "output_type": "stream",
     "text": [
      "107/147 complete\n"
     ]
    },
    {
     "name": "stderr",
     "output_type": "stream",
     "text": [
      "//anaconda3/envs/cs109b/lib/python3.7/site-packages/sklearn/model_selection/_split.py:667: UserWarning:\n",
      "\n",
      "The least populated class in y has only 1 members, which is less than n_splits=5.\n",
      "\n",
      "//anaconda3/envs/cs109b/lib/python3.7/site-packages/sklearn/model_selection/_split.py:667: UserWarning:\n",
      "\n",
      "The least populated class in y has only 1 members, which is less than n_splits=5.\n",
      "\n"
     ]
    },
    {
     "name": "stdout",
     "output_type": "stream",
     "text": [
      "108/147 complete\n"
     ]
    },
    {
     "name": "stderr",
     "output_type": "stream",
     "text": [
      "//anaconda3/envs/cs109b/lib/python3.7/site-packages/sklearn/model_selection/_split.py:667: UserWarning:\n",
      "\n",
      "The least populated class in y has only 1 members, which is less than n_splits=5.\n",
      "\n",
      "//anaconda3/envs/cs109b/lib/python3.7/site-packages/sklearn/model_selection/_split.py:667: UserWarning:\n",
      "\n",
      "The least populated class in y has only 1 members, which is less than n_splits=5.\n",
      "\n"
     ]
    },
    {
     "name": "stdout",
     "output_type": "stream",
     "text": [
      "109/147 complete\n"
     ]
    },
    {
     "name": "stderr",
     "output_type": "stream",
     "text": [
      "//anaconda3/envs/cs109b/lib/python3.7/site-packages/sklearn/model_selection/_split.py:667: UserWarning:\n",
      "\n",
      "The least populated class in y has only 1 members, which is less than n_splits=5.\n",
      "\n",
      "//anaconda3/envs/cs109b/lib/python3.7/site-packages/sklearn/model_selection/_split.py:667: UserWarning:\n",
      "\n",
      "The least populated class in y has only 1 members, which is less than n_splits=5.\n",
      "\n"
     ]
    },
    {
     "name": "stdout",
     "output_type": "stream",
     "text": [
      "110/147 complete\n"
     ]
    },
    {
     "name": "stderr",
     "output_type": "stream",
     "text": [
      "//anaconda3/envs/cs109b/lib/python3.7/site-packages/sklearn/model_selection/_split.py:667: UserWarning:\n",
      "\n",
      "The least populated class in y has only 1 members, which is less than n_splits=5.\n",
      "\n",
      "//anaconda3/envs/cs109b/lib/python3.7/site-packages/sklearn/model_selection/_split.py:667: UserWarning:\n",
      "\n",
      "The least populated class in y has only 1 members, which is less than n_splits=5.\n",
      "\n"
     ]
    },
    {
     "name": "stdout",
     "output_type": "stream",
     "text": [
      "111/147 complete\n"
     ]
    },
    {
     "name": "stderr",
     "output_type": "stream",
     "text": [
      "//anaconda3/envs/cs109b/lib/python3.7/site-packages/sklearn/model_selection/_split.py:667: UserWarning:\n",
      "\n",
      "The least populated class in y has only 1 members, which is less than n_splits=5.\n",
      "\n",
      "//anaconda3/envs/cs109b/lib/python3.7/site-packages/sklearn/model_selection/_split.py:667: UserWarning:\n",
      "\n",
      "The least populated class in y has only 1 members, which is less than n_splits=5.\n",
      "\n"
     ]
    },
    {
     "name": "stdout",
     "output_type": "stream",
     "text": [
      "112/147 complete\n"
     ]
    },
    {
     "name": "stderr",
     "output_type": "stream",
     "text": [
      "//anaconda3/envs/cs109b/lib/python3.7/site-packages/sklearn/model_selection/_split.py:667: UserWarning:\n",
      "\n",
      "The least populated class in y has only 1 members, which is less than n_splits=5.\n",
      "\n",
      "//anaconda3/envs/cs109b/lib/python3.7/site-packages/sklearn/model_selection/_split.py:667: UserWarning:\n",
      "\n",
      "The least populated class in y has only 1 members, which is less than n_splits=5.\n",
      "\n"
     ]
    },
    {
     "name": "stdout",
     "output_type": "stream",
     "text": [
      "113/147 complete\n"
     ]
    },
    {
     "name": "stderr",
     "output_type": "stream",
     "text": [
      "//anaconda3/envs/cs109b/lib/python3.7/site-packages/sklearn/model_selection/_split.py:667: UserWarning:\n",
      "\n",
      "The least populated class in y has only 1 members, which is less than n_splits=5.\n",
      "\n",
      "//anaconda3/envs/cs109b/lib/python3.7/site-packages/sklearn/model_selection/_split.py:667: UserWarning:\n",
      "\n",
      "The least populated class in y has only 1 members, which is less than n_splits=5.\n",
      "\n"
     ]
    },
    {
     "name": "stdout",
     "output_type": "stream",
     "text": [
      "114/147 complete\n"
     ]
    },
    {
     "name": "stderr",
     "output_type": "stream",
     "text": [
      "//anaconda3/envs/cs109b/lib/python3.7/site-packages/sklearn/model_selection/_split.py:667: UserWarning:\n",
      "\n",
      "The least populated class in y has only 1 members, which is less than n_splits=5.\n",
      "\n",
      "//anaconda3/envs/cs109b/lib/python3.7/site-packages/sklearn/model_selection/_split.py:667: UserWarning:\n",
      "\n",
      "The least populated class in y has only 1 members, which is less than n_splits=5.\n",
      "\n"
     ]
    },
    {
     "name": "stdout",
     "output_type": "stream",
     "text": [
      "115/147 complete\n"
     ]
    },
    {
     "name": "stderr",
     "output_type": "stream",
     "text": [
      "//anaconda3/envs/cs109b/lib/python3.7/site-packages/sklearn/model_selection/_split.py:667: UserWarning:\n",
      "\n",
      "The least populated class in y has only 1 members, which is less than n_splits=5.\n",
      "\n",
      "//anaconda3/envs/cs109b/lib/python3.7/site-packages/sklearn/model_selection/_split.py:667: UserWarning:\n",
      "\n",
      "The least populated class in y has only 1 members, which is less than n_splits=5.\n",
      "\n"
     ]
    },
    {
     "name": "stdout",
     "output_type": "stream",
     "text": [
      "116/147 complete\n"
     ]
    },
    {
     "name": "stderr",
     "output_type": "stream",
     "text": [
      "//anaconda3/envs/cs109b/lib/python3.7/site-packages/sklearn/model_selection/_split.py:667: UserWarning:\n",
      "\n",
      "The least populated class in y has only 1 members, which is less than n_splits=5.\n",
      "\n",
      "//anaconda3/envs/cs109b/lib/python3.7/site-packages/sklearn/model_selection/_split.py:667: UserWarning:\n",
      "\n",
      "The least populated class in y has only 1 members, which is less than n_splits=5.\n",
      "\n"
     ]
    },
    {
     "name": "stdout",
     "output_type": "stream",
     "text": [
      "117/147 complete\n"
     ]
    },
    {
     "name": "stderr",
     "output_type": "stream",
     "text": [
      "//anaconda3/envs/cs109b/lib/python3.7/site-packages/sklearn/model_selection/_split.py:667: UserWarning:\n",
      "\n",
      "The least populated class in y has only 1 members, which is less than n_splits=5.\n",
      "\n",
      "//anaconda3/envs/cs109b/lib/python3.7/site-packages/sklearn/model_selection/_split.py:667: UserWarning:\n",
      "\n",
      "The least populated class in y has only 1 members, which is less than n_splits=5.\n",
      "\n"
     ]
    },
    {
     "name": "stdout",
     "output_type": "stream",
     "text": [
      "118/147 complete\n"
     ]
    },
    {
     "name": "stderr",
     "output_type": "stream",
     "text": [
      "//anaconda3/envs/cs109b/lib/python3.7/site-packages/sklearn/model_selection/_split.py:667: UserWarning:\n",
      "\n",
      "The least populated class in y has only 1 members, which is less than n_splits=5.\n",
      "\n",
      "//anaconda3/envs/cs109b/lib/python3.7/site-packages/sklearn/model_selection/_split.py:667: UserWarning:\n",
      "\n",
      "The least populated class in y has only 1 members, which is less than n_splits=5.\n",
      "\n"
     ]
    },
    {
     "name": "stdout",
     "output_type": "stream",
     "text": [
      "119/147 complete\n"
     ]
    },
    {
     "name": "stderr",
     "output_type": "stream",
     "text": [
      "//anaconda3/envs/cs109b/lib/python3.7/site-packages/sklearn/model_selection/_split.py:667: UserWarning:\n",
      "\n",
      "The least populated class in y has only 1 members, which is less than n_splits=5.\n",
      "\n",
      "//anaconda3/envs/cs109b/lib/python3.7/site-packages/sklearn/model_selection/_split.py:667: UserWarning:\n",
      "\n",
      "The least populated class in y has only 1 members, which is less than n_splits=5.\n",
      "\n"
     ]
    },
    {
     "name": "stdout",
     "output_type": "stream",
     "text": [
      "120/147 complete\n"
     ]
    },
    {
     "name": "stderr",
     "output_type": "stream",
     "text": [
      "//anaconda3/envs/cs109b/lib/python3.7/site-packages/sklearn/model_selection/_split.py:667: UserWarning:\n",
      "\n",
      "The least populated class in y has only 1 members, which is less than n_splits=5.\n",
      "\n",
      "//anaconda3/envs/cs109b/lib/python3.7/site-packages/sklearn/model_selection/_split.py:667: UserWarning:\n",
      "\n",
      "The least populated class in y has only 1 members, which is less than n_splits=5.\n",
      "\n"
     ]
    },
    {
     "name": "stdout",
     "output_type": "stream",
     "text": [
      "121/147 complete\n"
     ]
    },
    {
     "name": "stderr",
     "output_type": "stream",
     "text": [
      "//anaconda3/envs/cs109b/lib/python3.7/site-packages/sklearn/model_selection/_split.py:667: UserWarning:\n",
      "\n",
      "The least populated class in y has only 1 members, which is less than n_splits=5.\n",
      "\n",
      "//anaconda3/envs/cs109b/lib/python3.7/site-packages/sklearn/model_selection/_split.py:667: UserWarning:\n",
      "\n",
      "The least populated class in y has only 1 members, which is less than n_splits=5.\n",
      "\n"
     ]
    },
    {
     "name": "stdout",
     "output_type": "stream",
     "text": [
      "122/147 complete\n"
     ]
    },
    {
     "name": "stderr",
     "output_type": "stream",
     "text": [
      "//anaconda3/envs/cs109b/lib/python3.7/site-packages/sklearn/model_selection/_split.py:667: UserWarning:\n",
      "\n",
      "The least populated class in y has only 1 members, which is less than n_splits=5.\n",
      "\n",
      "//anaconda3/envs/cs109b/lib/python3.7/site-packages/sklearn/model_selection/_split.py:667: UserWarning:\n",
      "\n",
      "The least populated class in y has only 1 members, which is less than n_splits=5.\n",
      "\n"
     ]
    },
    {
     "name": "stdout",
     "output_type": "stream",
     "text": [
      "123/147 complete\n"
     ]
    },
    {
     "name": "stderr",
     "output_type": "stream",
     "text": [
      "//anaconda3/envs/cs109b/lib/python3.7/site-packages/sklearn/model_selection/_split.py:667: UserWarning:\n",
      "\n",
      "The least populated class in y has only 1 members, which is less than n_splits=5.\n",
      "\n",
      "//anaconda3/envs/cs109b/lib/python3.7/site-packages/sklearn/model_selection/_split.py:667: UserWarning:\n",
      "\n",
      "The least populated class in y has only 1 members, which is less than n_splits=5.\n",
      "\n"
     ]
    },
    {
     "name": "stdout",
     "output_type": "stream",
     "text": [
      "124/147 complete\n"
     ]
    },
    {
     "name": "stderr",
     "output_type": "stream",
     "text": [
      "//anaconda3/envs/cs109b/lib/python3.7/site-packages/sklearn/model_selection/_split.py:667: UserWarning:\n",
      "\n",
      "The least populated class in y has only 1 members, which is less than n_splits=5.\n",
      "\n",
      "//anaconda3/envs/cs109b/lib/python3.7/site-packages/sklearn/model_selection/_split.py:667: UserWarning:\n",
      "\n",
      "The least populated class in y has only 1 members, which is less than n_splits=5.\n",
      "\n"
     ]
    },
    {
     "name": "stdout",
     "output_type": "stream",
     "text": [
      "125/147 complete\n"
     ]
    },
    {
     "name": "stderr",
     "output_type": "stream",
     "text": [
      "//anaconda3/envs/cs109b/lib/python3.7/site-packages/sklearn/model_selection/_split.py:667: UserWarning:\n",
      "\n",
      "The least populated class in y has only 1 members, which is less than n_splits=5.\n",
      "\n",
      "//anaconda3/envs/cs109b/lib/python3.7/site-packages/sklearn/model_selection/_split.py:667: UserWarning:\n",
      "\n",
      "The least populated class in y has only 1 members, which is less than n_splits=5.\n",
      "\n"
     ]
    },
    {
     "name": "stdout",
     "output_type": "stream",
     "text": [
      "126/147 complete\n"
     ]
    },
    {
     "name": "stderr",
     "output_type": "stream",
     "text": [
      "//anaconda3/envs/cs109b/lib/python3.7/site-packages/sklearn/model_selection/_split.py:667: UserWarning:\n",
      "\n",
      "The least populated class in y has only 1 members, which is less than n_splits=5.\n",
      "\n",
      "//anaconda3/envs/cs109b/lib/python3.7/site-packages/sklearn/model_selection/_split.py:667: UserWarning:\n",
      "\n",
      "The least populated class in y has only 1 members, which is less than n_splits=5.\n",
      "\n"
     ]
    },
    {
     "name": "stdout",
     "output_type": "stream",
     "text": [
      "127/147 complete\n"
     ]
    },
    {
     "name": "stderr",
     "output_type": "stream",
     "text": [
      "//anaconda3/envs/cs109b/lib/python3.7/site-packages/sklearn/model_selection/_split.py:667: UserWarning:\n",
      "\n",
      "The least populated class in y has only 1 members, which is less than n_splits=5.\n",
      "\n",
      "//anaconda3/envs/cs109b/lib/python3.7/site-packages/sklearn/model_selection/_split.py:667: UserWarning:\n",
      "\n",
      "The least populated class in y has only 1 members, which is less than n_splits=5.\n",
      "\n"
     ]
    },
    {
     "name": "stdout",
     "output_type": "stream",
     "text": [
      "128/147 complete\n"
     ]
    },
    {
     "name": "stderr",
     "output_type": "stream",
     "text": [
      "//anaconda3/envs/cs109b/lib/python3.7/site-packages/sklearn/model_selection/_split.py:667: UserWarning:\n",
      "\n",
      "The least populated class in y has only 1 members, which is less than n_splits=5.\n",
      "\n",
      "//anaconda3/envs/cs109b/lib/python3.7/site-packages/sklearn/model_selection/_split.py:667: UserWarning:\n",
      "\n",
      "The least populated class in y has only 1 members, which is less than n_splits=5.\n",
      "\n"
     ]
    },
    {
     "name": "stdout",
     "output_type": "stream",
     "text": [
      "129/147 complete\n"
     ]
    },
    {
     "name": "stderr",
     "output_type": "stream",
     "text": [
      "//anaconda3/envs/cs109b/lib/python3.7/site-packages/sklearn/model_selection/_split.py:667: UserWarning:\n",
      "\n",
      "The least populated class in y has only 1 members, which is less than n_splits=5.\n",
      "\n",
      "//anaconda3/envs/cs109b/lib/python3.7/site-packages/sklearn/model_selection/_split.py:667: UserWarning:\n",
      "\n",
      "The least populated class in y has only 1 members, which is less than n_splits=5.\n",
      "\n"
     ]
    },
    {
     "name": "stdout",
     "output_type": "stream",
     "text": [
      "130/147 complete\n"
     ]
    },
    {
     "name": "stderr",
     "output_type": "stream",
     "text": [
      "//anaconda3/envs/cs109b/lib/python3.7/site-packages/sklearn/model_selection/_split.py:667: UserWarning:\n",
      "\n",
      "The least populated class in y has only 1 members, which is less than n_splits=5.\n",
      "\n",
      "//anaconda3/envs/cs109b/lib/python3.7/site-packages/sklearn/model_selection/_split.py:667: UserWarning:\n",
      "\n",
      "The least populated class in y has only 1 members, which is less than n_splits=5.\n",
      "\n"
     ]
    },
    {
     "name": "stdout",
     "output_type": "stream",
     "text": [
      "131/147 complete\n"
     ]
    },
    {
     "name": "stderr",
     "output_type": "stream",
     "text": [
      "//anaconda3/envs/cs109b/lib/python3.7/site-packages/sklearn/model_selection/_split.py:667: UserWarning:\n",
      "\n",
      "The least populated class in y has only 1 members, which is less than n_splits=5.\n",
      "\n",
      "//anaconda3/envs/cs109b/lib/python3.7/site-packages/sklearn/model_selection/_split.py:667: UserWarning:\n",
      "\n",
      "The least populated class in y has only 1 members, which is less than n_splits=5.\n",
      "\n"
     ]
    },
    {
     "name": "stdout",
     "output_type": "stream",
     "text": [
      "132/147 complete\n"
     ]
    },
    {
     "name": "stderr",
     "output_type": "stream",
     "text": [
      "//anaconda3/envs/cs109b/lib/python3.7/site-packages/sklearn/model_selection/_split.py:667: UserWarning:\n",
      "\n",
      "The least populated class in y has only 1 members, which is less than n_splits=5.\n",
      "\n",
      "//anaconda3/envs/cs109b/lib/python3.7/site-packages/sklearn/model_selection/_split.py:667: UserWarning:\n",
      "\n",
      "The least populated class in y has only 1 members, which is less than n_splits=5.\n",
      "\n"
     ]
    },
    {
     "name": "stdout",
     "output_type": "stream",
     "text": [
      "133/147 complete\n"
     ]
    },
    {
     "name": "stderr",
     "output_type": "stream",
     "text": [
      "//anaconda3/envs/cs109b/lib/python3.7/site-packages/sklearn/model_selection/_split.py:667: UserWarning:\n",
      "\n",
      "The least populated class in y has only 1 members, which is less than n_splits=5.\n",
      "\n",
      "//anaconda3/envs/cs109b/lib/python3.7/site-packages/sklearn/model_selection/_split.py:667: UserWarning:\n",
      "\n",
      "The least populated class in y has only 1 members, which is less than n_splits=5.\n",
      "\n"
     ]
    },
    {
     "name": "stdout",
     "output_type": "stream",
     "text": [
      "134/147 complete\n"
     ]
    },
    {
     "name": "stderr",
     "output_type": "stream",
     "text": [
      "//anaconda3/envs/cs109b/lib/python3.7/site-packages/sklearn/model_selection/_split.py:667: UserWarning:\n",
      "\n",
      "The least populated class in y has only 1 members, which is less than n_splits=5.\n",
      "\n",
      "//anaconda3/envs/cs109b/lib/python3.7/site-packages/sklearn/model_selection/_split.py:667: UserWarning:\n",
      "\n",
      "The least populated class in y has only 1 members, which is less than n_splits=5.\n",
      "\n"
     ]
    },
    {
     "name": "stdout",
     "output_type": "stream",
     "text": [
      "135/147 complete\n"
     ]
    },
    {
     "name": "stderr",
     "output_type": "stream",
     "text": [
      "//anaconda3/envs/cs109b/lib/python3.7/site-packages/sklearn/model_selection/_split.py:667: UserWarning:\n",
      "\n",
      "The least populated class in y has only 1 members, which is less than n_splits=5.\n",
      "\n",
      "//anaconda3/envs/cs109b/lib/python3.7/site-packages/sklearn/model_selection/_split.py:667: UserWarning:\n",
      "\n",
      "The least populated class in y has only 1 members, which is less than n_splits=5.\n",
      "\n"
     ]
    },
    {
     "name": "stdout",
     "output_type": "stream",
     "text": [
      "136/147 complete\n"
     ]
    },
    {
     "name": "stderr",
     "output_type": "stream",
     "text": [
      "//anaconda3/envs/cs109b/lib/python3.7/site-packages/sklearn/model_selection/_split.py:667: UserWarning:\n",
      "\n",
      "The least populated class in y has only 1 members, which is less than n_splits=5.\n",
      "\n",
      "//anaconda3/envs/cs109b/lib/python3.7/site-packages/sklearn/model_selection/_split.py:667: UserWarning:\n",
      "\n",
      "The least populated class in y has only 1 members, which is less than n_splits=5.\n",
      "\n"
     ]
    },
    {
     "name": "stdout",
     "output_type": "stream",
     "text": [
      "137/147 complete\n"
     ]
    },
    {
     "name": "stderr",
     "output_type": "stream",
     "text": [
      "//anaconda3/envs/cs109b/lib/python3.7/site-packages/sklearn/model_selection/_split.py:667: UserWarning:\n",
      "\n",
      "The least populated class in y has only 1 members, which is less than n_splits=5.\n",
      "\n",
      "//anaconda3/envs/cs109b/lib/python3.7/site-packages/sklearn/model_selection/_split.py:667: UserWarning:\n",
      "\n",
      "The least populated class in y has only 1 members, which is less than n_splits=5.\n",
      "\n"
     ]
    },
    {
     "name": "stdout",
     "output_type": "stream",
     "text": [
      "138/147 complete\n"
     ]
    },
    {
     "name": "stderr",
     "output_type": "stream",
     "text": [
      "//anaconda3/envs/cs109b/lib/python3.7/site-packages/sklearn/model_selection/_split.py:667: UserWarning:\n",
      "\n",
      "The least populated class in y has only 1 members, which is less than n_splits=5.\n",
      "\n",
      "//anaconda3/envs/cs109b/lib/python3.7/site-packages/sklearn/model_selection/_split.py:667: UserWarning:\n",
      "\n",
      "The least populated class in y has only 1 members, which is less than n_splits=5.\n",
      "\n"
     ]
    },
    {
     "name": "stdout",
     "output_type": "stream",
     "text": [
      "139/147 complete\n"
     ]
    },
    {
     "name": "stderr",
     "output_type": "stream",
     "text": [
      "//anaconda3/envs/cs109b/lib/python3.7/site-packages/sklearn/model_selection/_split.py:667: UserWarning:\n",
      "\n",
      "The least populated class in y has only 1 members, which is less than n_splits=5.\n",
      "\n",
      "//anaconda3/envs/cs109b/lib/python3.7/site-packages/sklearn/model_selection/_split.py:667: UserWarning:\n",
      "\n",
      "The least populated class in y has only 1 members, which is less than n_splits=5.\n",
      "\n"
     ]
    },
    {
     "name": "stdout",
     "output_type": "stream",
     "text": [
      "140/147 complete\n"
     ]
    },
    {
     "name": "stderr",
     "output_type": "stream",
     "text": [
      "//anaconda3/envs/cs109b/lib/python3.7/site-packages/sklearn/model_selection/_split.py:667: UserWarning:\n",
      "\n",
      "The least populated class in y has only 1 members, which is less than n_splits=5.\n",
      "\n",
      "//anaconda3/envs/cs109b/lib/python3.7/site-packages/sklearn/model_selection/_split.py:667: UserWarning:\n",
      "\n",
      "The least populated class in y has only 1 members, which is less than n_splits=5.\n",
      "\n"
     ]
    },
    {
     "name": "stdout",
     "output_type": "stream",
     "text": [
      "141/147 complete\n"
     ]
    },
    {
     "name": "stderr",
     "output_type": "stream",
     "text": [
      "//anaconda3/envs/cs109b/lib/python3.7/site-packages/sklearn/model_selection/_split.py:667: UserWarning:\n",
      "\n",
      "The least populated class in y has only 1 members, which is less than n_splits=5.\n",
      "\n",
      "//anaconda3/envs/cs109b/lib/python3.7/site-packages/sklearn/model_selection/_split.py:667: UserWarning:\n",
      "\n",
      "The least populated class in y has only 1 members, which is less than n_splits=5.\n",
      "\n"
     ]
    },
    {
     "name": "stdout",
     "output_type": "stream",
     "text": [
      "142/147 complete\n"
     ]
    },
    {
     "name": "stderr",
     "output_type": "stream",
     "text": [
      "//anaconda3/envs/cs109b/lib/python3.7/site-packages/sklearn/model_selection/_split.py:667: UserWarning:\n",
      "\n",
      "The least populated class in y has only 1 members, which is less than n_splits=5.\n",
      "\n",
      "//anaconda3/envs/cs109b/lib/python3.7/site-packages/sklearn/model_selection/_split.py:667: UserWarning:\n",
      "\n",
      "The least populated class in y has only 1 members, which is less than n_splits=5.\n",
      "\n"
     ]
    },
    {
     "name": "stdout",
     "output_type": "stream",
     "text": [
      "143/147 complete\n"
     ]
    },
    {
     "name": "stderr",
     "output_type": "stream",
     "text": [
      "//anaconda3/envs/cs109b/lib/python3.7/site-packages/sklearn/model_selection/_split.py:667: UserWarning:\n",
      "\n",
      "The least populated class in y has only 1 members, which is less than n_splits=5.\n",
      "\n",
      "//anaconda3/envs/cs109b/lib/python3.7/site-packages/sklearn/model_selection/_split.py:667: UserWarning:\n",
      "\n",
      "The least populated class in y has only 1 members, which is less than n_splits=5.\n",
      "\n"
     ]
    },
    {
     "name": "stdout",
     "output_type": "stream",
     "text": [
      "144/147 complete\n"
     ]
    },
    {
     "name": "stderr",
     "output_type": "stream",
     "text": [
      "//anaconda3/envs/cs109b/lib/python3.7/site-packages/sklearn/model_selection/_split.py:667: UserWarning:\n",
      "\n",
      "The least populated class in y has only 1 members, which is less than n_splits=5.\n",
      "\n",
      "//anaconda3/envs/cs109b/lib/python3.7/site-packages/sklearn/model_selection/_split.py:667: UserWarning:\n",
      "\n",
      "The least populated class in y has only 1 members, which is less than n_splits=5.\n",
      "\n"
     ]
    },
    {
     "name": "stdout",
     "output_type": "stream",
     "text": [
      "145/147 complete\n"
     ]
    },
    {
     "name": "stderr",
     "output_type": "stream",
     "text": [
      "//anaconda3/envs/cs109b/lib/python3.7/site-packages/sklearn/model_selection/_split.py:667: UserWarning:\n",
      "\n",
      "The least populated class in y has only 1 members, which is less than n_splits=5.\n",
      "\n",
      "//anaconda3/envs/cs109b/lib/python3.7/site-packages/sklearn/model_selection/_split.py:667: UserWarning:\n",
      "\n",
      "The least populated class in y has only 1 members, which is less than n_splits=5.\n",
      "\n"
     ]
    },
    {
     "name": "stdout",
     "output_type": "stream",
     "text": [
      "146/147 complete\n"
     ]
    },
    {
     "name": "stderr",
     "output_type": "stream",
     "text": [
      "//anaconda3/envs/cs109b/lib/python3.7/site-packages/sklearn/model_selection/_split.py:667: UserWarning:\n",
      "\n",
      "The least populated class in y has only 1 members, which is less than n_splits=5.\n",
      "\n",
      "//anaconda3/envs/cs109b/lib/python3.7/site-packages/sklearn/model_selection/_split.py:667: UserWarning:\n",
      "\n",
      "The least populated class in y has only 1 members, which is less than n_splits=5.\n",
      "\n"
     ]
    },
    {
     "name": "stdout",
     "output_type": "stream",
     "text": [
      "147/147 complete\n"
     ]
    }
   ],
   "source": [
    "###tune n_trees and tree_depth using cross validation\n",
    "\n",
    "#parameter values to test\n",
    "np.random.seed(123)\n",
    "n_trees_list = list(range(100, 501, 20))\n",
    "tree_depth_list = list(range(5, 40, 5))\n",
    "#n_trees_list = [10, 20]\n",
    "#tree_depth_list = [10, 15]\n",
    "counter = 0\n",
    "\n",
    "#create df to store cross validation results\n",
    "RF_df = pd.DataFrame(list(product(n_trees_list, tree_depth_list)), columns=['n_trees_list', 'tree_depth_list'])\n",
    "\n",
    "#perform cross validation and store results\n",
    "for n_trees in n_trees_list:\n",
    "    for tree_depth in tree_depth_list:\n",
    "        #set up model; perform 5-fold CV\n",
    "        RF = RandomForestClassifier(max_features='auto', n_estimators=n_trees, max_depth=tree_depth)\n",
    "        \n",
    "        ###model for high states\n",
    "        high_cv_scores = cross_val_score(estimator=RF, X=X_high_train, y=y_high_train, scoring='neg_mean_squared_error', cv=5, n_jobs=-1)\n",
    "        #calculate results\n",
    "        high_cv_mean_mse = high_cv_scores.mean() #average mse of all 5 folds\n",
    "        high_cv_sd = np.std(high_cv_scores) #standard deviation of all 5 folds\n",
    "        #store results in df\n",
    "        RF_df.loc[(RF_df.n_trees_list == n_trees) & (RF_df.tree_depth_list == tree_depth), 'high_cv_mean_mse'] = high_cv_mean_mse\n",
    "        RF_df.loc[(RF_df.n_trees_list == n_trees) & (RF_df.tree_depth_list == tree_depth), 'high_cv_sd'] = high_cv_sd\n",
    "        \n",
    "        ###model for low states\n",
    "        low_cv_scores = cross_val_score(estimator=RF, X=X_low_train, y=y_low_train, scoring='neg_mean_squared_error', cv=5, n_jobs=-1)\n",
    "        #calculate results\n",
    "        low_cv_mean_mse = low_cv_scores.mean() #average mse of all 5 folds\n",
    "        low_cv_sd = np.std(low_cv_scores) #standard deviation of all 5 folds\n",
    "        #store results in df\n",
    "        RF_df.loc[(RF_df.n_trees_list == n_trees) & (RF_df.tree_depth_list == tree_depth), 'low_cv_mean_mse'] = low_cv_mean_mse\n",
    "        RF_df.loc[(RF_df.n_trees_list == n_trees) & (RF_df.tree_depth_list == tree_depth), 'low_cv_sd'] = low_cv_sd\n",
    "        counter+=1\n",
    "        print(f'{counter}/{len(n_trees_list)*len(tree_depth_list)} complete')\n",
    "\n",
    "#convert MSE values to positive (metric was neg_mean_squared_error)\n",
    "RF_df['high_cv_mean_mse'] = np.abs(RF_df['high_cv_mean_mse'])\n",
    "RF_df['low_cv_mean_mse'] = np.abs(RF_df['low_cv_mean_mse'])\n"
   ]
  },
  {
   "cell_type": "code",
   "execution_count": 40,
   "metadata": {},
   "outputs": [
    {
     "data": {
      "text/html": [
       "<div>\n",
       "<style scoped>\n",
       "    .dataframe tbody tr th:only-of-type {\n",
       "        vertical-align: middle;\n",
       "    }\n",
       "\n",
       "    .dataframe tbody tr th {\n",
       "        vertical-align: top;\n",
       "    }\n",
       "\n",
       "    .dataframe thead th {\n",
       "        text-align: right;\n",
       "    }\n",
       "</style>\n",
       "<table border=\"1\" class=\"dataframe\">\n",
       "  <thead>\n",
       "    <tr style=\"text-align: right;\">\n",
       "      <th></th>\n",
       "      <th>n_trees_list</th>\n",
       "      <th>tree_depth_list</th>\n",
       "      <th>high_cv_mean_mse</th>\n",
       "      <th>high_cv_sd</th>\n",
       "      <th>low_cv_mean_mse</th>\n",
       "      <th>low_cv_sd</th>\n",
       "    </tr>\n",
       "  </thead>\n",
       "  <tbody>\n",
       "    <tr>\n",
       "      <th>0</th>\n",
       "      <td>100</td>\n",
       "      <td>5</td>\n",
       "      <td>6.307741e+07</td>\n",
       "      <td>6.650998e+07</td>\n",
       "      <td>157007.210892</td>\n",
       "      <td>61390.109220</td>\n",
       "    </tr>\n",
       "    <tr>\n",
       "      <th>1</th>\n",
       "      <td>100</td>\n",
       "      <td>10</td>\n",
       "      <td>7.441784e+07</td>\n",
       "      <td>6.031040e+07</td>\n",
       "      <td>135673.175074</td>\n",
       "      <td>78871.909067</td>\n",
       "    </tr>\n",
       "    <tr>\n",
       "      <th>2</th>\n",
       "      <td>100</td>\n",
       "      <td>15</td>\n",
       "      <td>5.777050e+07</td>\n",
       "      <td>6.152541e+07</td>\n",
       "      <td>105879.886235</td>\n",
       "      <td>48782.456802</td>\n",
       "    </tr>\n",
       "    <tr>\n",
       "      <th>3</th>\n",
       "      <td>100</td>\n",
       "      <td>20</td>\n",
       "      <td>3.246378e+07</td>\n",
       "      <td>4.854210e+07</td>\n",
       "      <td>109190.228094</td>\n",
       "      <td>54416.502033</td>\n",
       "    </tr>\n",
       "    <tr>\n",
       "      <th>4</th>\n",
       "      <td>100</td>\n",
       "      <td>25</td>\n",
       "      <td>2.884724e+07</td>\n",
       "      <td>5.005052e+07</td>\n",
       "      <td>74697.255932</td>\n",
       "      <td>44409.197490</td>\n",
       "    </tr>\n",
       "    <tr>\n",
       "      <th>5</th>\n",
       "      <td>100</td>\n",
       "      <td>30</td>\n",
       "      <td>2.883813e+07</td>\n",
       "      <td>4.967777e+07</td>\n",
       "      <td>113289.784480</td>\n",
       "      <td>50318.931293</td>\n",
       "    </tr>\n",
       "    <tr>\n",
       "      <th>6</th>\n",
       "      <td>100</td>\n",
       "      <td>35</td>\n",
       "      <td>4.444888e+07</td>\n",
       "      <td>5.378610e+07</td>\n",
       "      <td>94226.915350</td>\n",
       "      <td>37219.877355</td>\n",
       "    </tr>\n",
       "    <tr>\n",
       "      <th>7</th>\n",
       "      <td>120</td>\n",
       "      <td>5</td>\n",
       "      <td>6.505773e+07</td>\n",
       "      <td>6.776898e+07</td>\n",
       "      <td>160592.260686</td>\n",
       "      <td>89850.710612</td>\n",
       "    </tr>\n",
       "    <tr>\n",
       "      <th>8</th>\n",
       "      <td>120</td>\n",
       "      <td>10</td>\n",
       "      <td>9.125245e+07</td>\n",
       "      <td>7.235080e+07</td>\n",
       "      <td>123678.925105</td>\n",
       "      <td>63467.411225</td>\n",
       "    </tr>\n",
       "    <tr>\n",
       "      <th>9</th>\n",
       "      <td>120</td>\n",
       "      <td>15</td>\n",
       "      <td>3.646587e+07</td>\n",
       "      <td>6.417683e+07</td>\n",
       "      <td>106379.043490</td>\n",
       "      <td>53916.180160</td>\n",
       "    </tr>\n",
       "    <tr>\n",
       "      <th>10</th>\n",
       "      <td>120</td>\n",
       "      <td>20</td>\n",
       "      <td>2.849983e+07</td>\n",
       "      <td>5.079067e+07</td>\n",
       "      <td>130367.284104</td>\n",
       "      <td>54129.968531</td>\n",
       "    </tr>\n",
       "    <tr>\n",
       "      <th>11</th>\n",
       "      <td>120</td>\n",
       "      <td>25</td>\n",
       "      <td>2.812410e+07</td>\n",
       "      <td>4.968251e+07</td>\n",
       "      <td>118936.669873</td>\n",
       "      <td>51595.913615</td>\n",
       "    </tr>\n",
       "    <tr>\n",
       "      <th>12</th>\n",
       "      <td>120</td>\n",
       "      <td>30</td>\n",
       "      <td>5.369196e+07</td>\n",
       "      <td>6.290134e+07</td>\n",
       "      <td>123558.833214</td>\n",
       "      <td>34261.010800</td>\n",
       "    </tr>\n",
       "    <tr>\n",
       "      <th>13</th>\n",
       "      <td>120</td>\n",
       "      <td>35</td>\n",
       "      <td>5.885824e+07</td>\n",
       "      <td>6.860051e+07</td>\n",
       "      <td>84952.464996</td>\n",
       "      <td>40394.989405</td>\n",
       "    </tr>\n",
       "    <tr>\n",
       "      <th>14</th>\n",
       "      <td>140</td>\n",
       "      <td>5</td>\n",
       "      <td>6.475048e+07</td>\n",
       "      <td>6.431652e+07</td>\n",
       "      <td>158800.932760</td>\n",
       "      <td>72993.984004</td>\n",
       "    </tr>\n",
       "    <tr>\n",
       "      <th>15</th>\n",
       "      <td>140</td>\n",
       "      <td>10</td>\n",
       "      <td>5.208725e+07</td>\n",
       "      <td>6.198811e+07</td>\n",
       "      <td>138836.746546</td>\n",
       "      <td>39317.352761</td>\n",
       "    </tr>\n",
       "    <tr>\n",
       "      <th>16</th>\n",
       "      <td>140</td>\n",
       "      <td>15</td>\n",
       "      <td>3.578544e+07</td>\n",
       "      <td>5.930727e+07</td>\n",
       "      <td>126683.547324</td>\n",
       "      <td>68169.027265</td>\n",
       "    </tr>\n",
       "    <tr>\n",
       "      <th>17</th>\n",
       "      <td>140</td>\n",
       "      <td>20</td>\n",
       "      <td>2.873051e+07</td>\n",
       "      <td>4.963165e+07</td>\n",
       "      <td>101209.043601</td>\n",
       "      <td>51607.275058</td>\n",
       "    </tr>\n",
       "    <tr>\n",
       "      <th>18</th>\n",
       "      <td>140</td>\n",
       "      <td>25</td>\n",
       "      <td>3.366449e+07</td>\n",
       "      <td>6.066754e+07</td>\n",
       "      <td>111376.587612</td>\n",
       "      <td>62717.584444</td>\n",
       "    </tr>\n",
       "    <tr>\n",
       "      <th>19</th>\n",
       "      <td>140</td>\n",
       "      <td>30</td>\n",
       "      <td>3.400582e+07</td>\n",
       "      <td>6.125299e+07</td>\n",
       "      <td>106113.115700</td>\n",
       "      <td>60694.060645</td>\n",
       "    </tr>\n",
       "    <tr>\n",
       "      <th>20</th>\n",
       "      <td>140</td>\n",
       "      <td>35</td>\n",
       "      <td>3.405911e+07</td>\n",
       "      <td>6.101329e+07</td>\n",
       "      <td>116324.930029</td>\n",
       "      <td>69741.198362</td>\n",
       "    </tr>\n",
       "    <tr>\n",
       "      <th>21</th>\n",
       "      <td>160</td>\n",
       "      <td>5</td>\n",
       "      <td>1.152296e+08</td>\n",
       "      <td>1.006951e+08</td>\n",
       "      <td>170975.822998</td>\n",
       "      <td>78357.110310</td>\n",
       "    </tr>\n",
       "    <tr>\n",
       "      <th>22</th>\n",
       "      <td>160</td>\n",
       "      <td>10</td>\n",
       "      <td>6.448049e+07</td>\n",
       "      <td>6.469817e+07</td>\n",
       "      <td>131274.476803</td>\n",
       "      <td>71318.927660</td>\n",
       "    </tr>\n",
       "    <tr>\n",
       "      <th>23</th>\n",
       "      <td>160</td>\n",
       "      <td>15</td>\n",
       "      <td>2.987002e+07</td>\n",
       "      <td>4.930531e+07</td>\n",
       "      <td>111009.194621</td>\n",
       "      <td>83831.501486</td>\n",
       "    </tr>\n",
       "    <tr>\n",
       "      <th>24</th>\n",
       "      <td>160</td>\n",
       "      <td>20</td>\n",
       "      <td>5.077846e+07</td>\n",
       "      <td>6.176024e+07</td>\n",
       "      <td>106653.272219</td>\n",
       "      <td>63849.959730</td>\n",
       "    </tr>\n",
       "    <tr>\n",
       "      <th>25</th>\n",
       "      <td>160</td>\n",
       "      <td>25</td>\n",
       "      <td>3.001192e+07</td>\n",
       "      <td>4.881959e+07</td>\n",
       "      <td>83543.923890</td>\n",
       "      <td>50004.436813</td>\n",
       "    </tr>\n",
       "    <tr>\n",
       "      <th>26</th>\n",
       "      <td>160</td>\n",
       "      <td>30</td>\n",
       "      <td>2.826432e+07</td>\n",
       "      <td>5.061252e+07</td>\n",
       "      <td>101639.033865</td>\n",
       "      <td>50728.594260</td>\n",
       "    </tr>\n",
       "    <tr>\n",
       "      <th>27</th>\n",
       "      <td>160</td>\n",
       "      <td>35</td>\n",
       "      <td>5.755605e+07</td>\n",
       "      <td>6.795346e+07</td>\n",
       "      <td>90705.842037</td>\n",
       "      <td>46965.659656</td>\n",
       "    </tr>\n",
       "    <tr>\n",
       "      <th>28</th>\n",
       "      <td>180</td>\n",
       "      <td>5</td>\n",
       "      <td>3.907979e+07</td>\n",
       "      <td>5.808013e+07</td>\n",
       "      <td>176992.434735</td>\n",
       "      <td>81596.500275</td>\n",
       "    </tr>\n",
       "    <tr>\n",
       "      <th>29</th>\n",
       "      <td>180</td>\n",
       "      <td>10</td>\n",
       "      <td>6.239631e+07</td>\n",
       "      <td>6.700749e+07</td>\n",
       "      <td>158274.189679</td>\n",
       "      <td>111120.910701</td>\n",
       "    </tr>\n",
       "    <tr>\n",
       "      <th>30</th>\n",
       "      <td>180</td>\n",
       "      <td>15</td>\n",
       "      <td>5.579209e+07</td>\n",
       "      <td>6.066499e+07</td>\n",
       "      <td>146665.310485</td>\n",
       "      <td>69799.577218</td>\n",
       "    </tr>\n",
       "    <tr>\n",
       "      <th>31</th>\n",
       "      <td>180</td>\n",
       "      <td>20</td>\n",
       "      <td>3.518487e+07</td>\n",
       "      <td>6.086532e+07</td>\n",
       "      <td>108996.943442</td>\n",
       "      <td>51124.667268</td>\n",
       "    </tr>\n",
       "    <tr>\n",
       "      <th>32</th>\n",
       "      <td>180</td>\n",
       "      <td>25</td>\n",
       "      <td>2.790461e+07</td>\n",
       "      <td>5.038431e+07</td>\n",
       "      <td>96023.192787</td>\n",
       "      <td>29834.114926</td>\n",
       "    </tr>\n",
       "    <tr>\n",
       "      <th>33</th>\n",
       "      <td>180</td>\n",
       "      <td>30</td>\n",
       "      <td>2.882656e+07</td>\n",
       "      <td>5.068621e+07</td>\n",
       "      <td>118094.143890</td>\n",
       "      <td>37478.631724</td>\n",
       "    </tr>\n",
       "    <tr>\n",
       "      <th>34</th>\n",
       "      <td>180</td>\n",
       "      <td>35</td>\n",
       "      <td>3.278513e+07</td>\n",
       "      <td>6.024804e+07</td>\n",
       "      <td>87620.954506</td>\n",
       "      <td>43884.139441</td>\n",
       "    </tr>\n",
       "    <tr>\n",
       "      <th>35</th>\n",
       "      <td>200</td>\n",
       "      <td>5</td>\n",
       "      <td>4.151466e+07</td>\n",
       "      <td>5.755872e+07</td>\n",
       "      <td>186005.176131</td>\n",
       "      <td>92358.222208</td>\n",
       "    </tr>\n",
       "    <tr>\n",
       "      <th>36</th>\n",
       "      <td>200</td>\n",
       "      <td>10</td>\n",
       "      <td>3.571966e+07</td>\n",
       "      <td>5.999693e+07</td>\n",
       "      <td>111292.375580</td>\n",
       "      <td>54094.725066</td>\n",
       "    </tr>\n",
       "    <tr>\n",
       "      <th>37</th>\n",
       "      <td>200</td>\n",
       "      <td>15</td>\n",
       "      <td>3.600603e+07</td>\n",
       "      <td>6.281376e+07</td>\n",
       "      <td>131070.798200</td>\n",
       "      <td>57105.910469</td>\n",
       "    </tr>\n",
       "    <tr>\n",
       "      <th>38</th>\n",
       "      <td>200</td>\n",
       "      <td>20</td>\n",
       "      <td>2.863818e+07</td>\n",
       "      <td>5.039026e+07</td>\n",
       "      <td>121768.196303</td>\n",
       "      <td>55976.396612</td>\n",
       "    </tr>\n",
       "    <tr>\n",
       "      <th>39</th>\n",
       "      <td>200</td>\n",
       "      <td>25</td>\n",
       "      <td>2.815154e+07</td>\n",
       "      <td>5.118038e+07</td>\n",
       "      <td>107135.766189</td>\n",
       "      <td>59112.740569</td>\n",
       "    </tr>\n",
       "    <tr>\n",
       "      <th>40</th>\n",
       "      <td>200</td>\n",
       "      <td>30</td>\n",
       "      <td>4.527383e+07</td>\n",
       "      <td>5.301703e+07</td>\n",
       "      <td>113123.878647</td>\n",
       "      <td>45084.748844</td>\n",
       "    </tr>\n",
       "    <tr>\n",
       "      <th>41</th>\n",
       "      <td>200</td>\n",
       "      <td>35</td>\n",
       "      <td>2.834944e+07</td>\n",
       "      <td>4.965459e+07</td>\n",
       "      <td>96150.182593</td>\n",
       "      <td>48991.506068</td>\n",
       "    </tr>\n",
       "    <tr>\n",
       "      <th>42</th>\n",
       "      <td>220</td>\n",
       "      <td>5</td>\n",
       "      <td>3.887101e+07</td>\n",
       "      <td>5.806190e+07</td>\n",
       "      <td>178038.023326</td>\n",
       "      <td>82269.527137</td>\n",
       "    </tr>\n",
       "    <tr>\n",
       "      <th>43</th>\n",
       "      <td>220</td>\n",
       "      <td>10</td>\n",
       "      <td>7.446046e+07</td>\n",
       "      <td>8.212301e+07</td>\n",
       "      <td>126656.057680</td>\n",
       "      <td>71474.489508</td>\n",
       "    </tr>\n",
       "    <tr>\n",
       "      <th>44</th>\n",
       "      <td>220</td>\n",
       "      <td>15</td>\n",
       "      <td>3.579640e+07</td>\n",
       "      <td>6.048726e+07</td>\n",
       "      <td>123150.804571</td>\n",
       "      <td>38352.952514</td>\n",
       "    </tr>\n",
       "    <tr>\n",
       "      <th>45</th>\n",
       "      <td>220</td>\n",
       "      <td>20</td>\n",
       "      <td>2.918937e+07</td>\n",
       "      <td>5.034110e+07</td>\n",
       "      <td>93217.264127</td>\n",
       "      <td>46176.156443</td>\n",
       "    </tr>\n",
       "    <tr>\n",
       "      <th>46</th>\n",
       "      <td>220</td>\n",
       "      <td>25</td>\n",
       "      <td>3.378863e+07</td>\n",
       "      <td>6.113099e+07</td>\n",
       "      <td>130764.247475</td>\n",
       "      <td>69745.911009</td>\n",
       "    </tr>\n",
       "    <tr>\n",
       "      <th>47</th>\n",
       "      <td>220</td>\n",
       "      <td>30</td>\n",
       "      <td>3.269591e+07</td>\n",
       "      <td>6.166497e+07</td>\n",
       "      <td>139382.659521</td>\n",
       "      <td>67789.328468</td>\n",
       "    </tr>\n",
       "    <tr>\n",
       "      <th>48</th>\n",
       "      <td>220</td>\n",
       "      <td>35</td>\n",
       "      <td>2.775092e+07</td>\n",
       "      <td>5.011030e+07</td>\n",
       "      <td>111098.044052</td>\n",
       "      <td>64837.203378</td>\n",
       "    </tr>\n",
       "    <tr>\n",
       "      <th>49</th>\n",
       "      <td>240</td>\n",
       "      <td>5</td>\n",
       "      <td>3.948337e+07</td>\n",
       "      <td>5.818519e+07</td>\n",
       "      <td>186823.881870</td>\n",
       "      <td>92566.245462</td>\n",
       "    </tr>\n",
       "    <tr>\n",
       "      <th>50</th>\n",
       "      <td>240</td>\n",
       "      <td>10</td>\n",
       "      <td>3.673088e+07</td>\n",
       "      <td>5.855659e+07</td>\n",
       "      <td>157059.854116</td>\n",
       "      <td>80163.214147</td>\n",
       "    </tr>\n",
       "    <tr>\n",
       "      <th>51</th>\n",
       "      <td>240</td>\n",
       "      <td>15</td>\n",
       "      <td>2.933547e+07</td>\n",
       "      <td>5.141340e+07</td>\n",
       "      <td>154194.606934</td>\n",
       "      <td>66743.907293</td>\n",
       "    </tr>\n",
       "    <tr>\n",
       "      <th>52</th>\n",
       "      <td>240</td>\n",
       "      <td>20</td>\n",
       "      <td>3.385565e+07</td>\n",
       "      <td>6.174350e+07</td>\n",
       "      <td>113865.341378</td>\n",
       "      <td>32893.003347</td>\n",
       "    </tr>\n",
       "    <tr>\n",
       "      <th>53</th>\n",
       "      <td>240</td>\n",
       "      <td>25</td>\n",
       "      <td>3.614284e+07</td>\n",
       "      <td>6.020676e+07</td>\n",
       "      <td>129117.649861</td>\n",
       "      <td>50567.038245</td>\n",
       "    </tr>\n",
       "    <tr>\n",
       "      <th>54</th>\n",
       "      <td>240</td>\n",
       "      <td>30</td>\n",
       "      <td>2.831368e+07</td>\n",
       "      <td>4.970779e+07</td>\n",
       "      <td>84114.143305</td>\n",
       "      <td>47414.320721</td>\n",
       "    </tr>\n",
       "    <tr>\n",
       "      <th>55</th>\n",
       "      <td>240</td>\n",
       "      <td>35</td>\n",
       "      <td>2.904357e+07</td>\n",
       "      <td>4.946663e+07</td>\n",
       "      <td>97380.727407</td>\n",
       "      <td>38313.092852</td>\n",
       "    </tr>\n",
       "    <tr>\n",
       "      <th>56</th>\n",
       "      <td>260</td>\n",
       "      <td>5</td>\n",
       "      <td>5.634048e+07</td>\n",
       "      <td>6.060144e+07</td>\n",
       "      <td>170833.677867</td>\n",
       "      <td>78284.203209</td>\n",
       "    </tr>\n",
       "    <tr>\n",
       "      <th>57</th>\n",
       "      <td>260</td>\n",
       "      <td>10</td>\n",
       "      <td>3.758907e+07</td>\n",
       "      <td>6.029488e+07</td>\n",
       "      <td>151972.205556</td>\n",
       "      <td>71850.847102</td>\n",
       "    </tr>\n",
       "    <tr>\n",
       "      <th>58</th>\n",
       "      <td>260</td>\n",
       "      <td>15</td>\n",
       "      <td>3.777213e+07</td>\n",
       "      <td>6.258164e+07</td>\n",
       "      <td>110422.469256</td>\n",
       "      <td>56506.391434</td>\n",
       "    </tr>\n",
       "    <tr>\n",
       "      <th>59</th>\n",
       "      <td>260</td>\n",
       "      <td>20</td>\n",
       "      <td>5.394716e+07</td>\n",
       "      <td>6.367254e+07</td>\n",
       "      <td>113183.243504</td>\n",
       "      <td>41781.090790</td>\n",
       "    </tr>\n",
       "    <tr>\n",
       "      <th>60</th>\n",
       "      <td>260</td>\n",
       "      <td>25</td>\n",
       "      <td>3.427376e+07</td>\n",
       "      <td>6.059801e+07</td>\n",
       "      <td>119339.671479</td>\n",
       "      <td>64961.251304</td>\n",
       "    </tr>\n",
       "    <tr>\n",
       "      <th>61</th>\n",
       "      <td>260</td>\n",
       "      <td>30</td>\n",
       "      <td>3.345740e+07</td>\n",
       "      <td>6.106704e+07</td>\n",
       "      <td>105399.865266</td>\n",
       "      <td>59221.715472</td>\n",
       "    </tr>\n",
       "    <tr>\n",
       "      <th>62</th>\n",
       "      <td>260</td>\n",
       "      <td>35</td>\n",
       "      <td>2.773417e+07</td>\n",
       "      <td>5.081150e+07</td>\n",
       "      <td>90490.523447</td>\n",
       "      <td>46543.779568</td>\n",
       "    </tr>\n",
       "    <tr>\n",
       "      <th>63</th>\n",
       "      <td>280</td>\n",
       "      <td>5</td>\n",
       "      <td>6.406036e+07</td>\n",
       "      <td>6.536743e+07</td>\n",
       "      <td>176036.968524</td>\n",
       "      <td>62474.135703</td>\n",
       "    </tr>\n",
       "    <tr>\n",
       "      <th>64</th>\n",
       "      <td>280</td>\n",
       "      <td>10</td>\n",
       "      <td>7.281501e+07</td>\n",
       "      <td>8.519386e+07</td>\n",
       "      <td>113675.393572</td>\n",
       "      <td>50724.838636</td>\n",
       "    </tr>\n",
       "    <tr>\n",
       "      <th>65</th>\n",
       "      <td>280</td>\n",
       "      <td>15</td>\n",
       "      <td>3.047278e+07</td>\n",
       "      <td>4.953207e+07</td>\n",
       "      <td>120125.725085</td>\n",
       "      <td>64745.286946</td>\n",
       "    </tr>\n",
       "    <tr>\n",
       "      <th>66</th>\n",
       "      <td>280</td>\n",
       "      <td>20</td>\n",
       "      <td>2.935570e+07</td>\n",
       "      <td>4.983822e+07</td>\n",
       "      <td>87006.968747</td>\n",
       "      <td>53004.262951</td>\n",
       "    </tr>\n",
       "    <tr>\n",
       "      <th>67</th>\n",
       "      <td>280</td>\n",
       "      <td>25</td>\n",
       "      <td>2.922297e+07</td>\n",
       "      <td>4.944072e+07</td>\n",
       "      <td>127681.151290</td>\n",
       "      <td>61534.582120</td>\n",
       "    </tr>\n",
       "    <tr>\n",
       "      <th>68</th>\n",
       "      <td>280</td>\n",
       "      <td>30</td>\n",
       "      <td>2.892904e+07</td>\n",
       "      <td>4.967794e+07</td>\n",
       "      <td>110347.125080</td>\n",
       "      <td>54699.717810</td>\n",
       "    </tr>\n",
       "    <tr>\n",
       "      <th>69</th>\n",
       "      <td>280</td>\n",
       "      <td>35</td>\n",
       "      <td>2.764230e+07</td>\n",
       "      <td>5.123666e+07</td>\n",
       "      <td>82388.710443</td>\n",
       "      <td>34777.635150</td>\n",
       "    </tr>\n",
       "    <tr>\n",
       "      <th>70</th>\n",
       "      <td>300</td>\n",
       "      <td>5</td>\n",
       "      <td>3.956494e+07</td>\n",
       "      <td>5.806448e+07</td>\n",
       "      <td>174335.740654</td>\n",
       "      <td>79022.878566</td>\n",
       "    </tr>\n",
       "    <tr>\n",
       "      <th>71</th>\n",
       "      <td>300</td>\n",
       "      <td>10</td>\n",
       "      <td>5.109197e+07</td>\n",
       "      <td>6.181262e+07</td>\n",
       "      <td>160264.225740</td>\n",
       "      <td>69885.281433</td>\n",
       "    </tr>\n",
       "    <tr>\n",
       "      <th>72</th>\n",
       "      <td>300</td>\n",
       "      <td>15</td>\n",
       "      <td>3.327318e+07</td>\n",
       "      <td>6.103404e+07</td>\n",
       "      <td>119258.555203</td>\n",
       "      <td>42325.816680</td>\n",
       "    </tr>\n",
       "    <tr>\n",
       "      <th>73</th>\n",
       "      <td>300</td>\n",
       "      <td>20</td>\n",
       "      <td>2.839277e+07</td>\n",
       "      <td>5.062077e+07</td>\n",
       "      <td>112306.581591</td>\n",
       "      <td>45040.571016</td>\n",
       "    </tr>\n",
       "    <tr>\n",
       "      <th>74</th>\n",
       "      <td>300</td>\n",
       "      <td>25</td>\n",
       "      <td>4.988444e+07</td>\n",
       "      <td>6.258747e+07</td>\n",
       "      <td>96857.855428</td>\n",
       "      <td>56194.751094</td>\n",
       "    </tr>\n",
       "    <tr>\n",
       "      <th>75</th>\n",
       "      <td>300</td>\n",
       "      <td>30</td>\n",
       "      <td>2.982556e+07</td>\n",
       "      <td>4.916683e+07</td>\n",
       "      <td>107910.896925</td>\n",
       "      <td>52417.500578</td>\n",
       "    </tr>\n",
       "    <tr>\n",
       "      <th>76</th>\n",
       "      <td>300</td>\n",
       "      <td>35</td>\n",
       "      <td>2.177301e+07</td>\n",
       "      <td>3.737495e+07</td>\n",
       "      <td>99541.524384</td>\n",
       "      <td>36973.331818</td>\n",
       "    </tr>\n",
       "    <tr>\n",
       "      <th>77</th>\n",
       "      <td>320</td>\n",
       "      <td>5</td>\n",
       "      <td>3.774671e+07</td>\n",
       "      <td>5.849518e+07</td>\n",
       "      <td>196216.894010</td>\n",
       "      <td>78444.150791</td>\n",
       "    </tr>\n",
       "    <tr>\n",
       "      <th>78</th>\n",
       "      <td>320</td>\n",
       "      <td>10</td>\n",
       "      <td>5.411881e+07</td>\n",
       "      <td>6.219779e+07</td>\n",
       "      <td>133302.723858</td>\n",
       "      <td>56545.428240</td>\n",
       "    </tr>\n",
       "    <tr>\n",
       "      <th>79</th>\n",
       "      <td>320</td>\n",
       "      <td>15</td>\n",
       "      <td>3.396185e+07</td>\n",
       "      <td>6.021814e+07</td>\n",
       "      <td>113608.011306</td>\n",
       "      <td>35449.696516</td>\n",
       "    </tr>\n",
       "    <tr>\n",
       "      <th>80</th>\n",
       "      <td>320</td>\n",
       "      <td>20</td>\n",
       "      <td>2.842490e+07</td>\n",
       "      <td>4.969288e+07</td>\n",
       "      <td>103104.600856</td>\n",
       "      <td>57388.768670</td>\n",
       "    </tr>\n",
       "    <tr>\n",
       "      <th>81</th>\n",
       "      <td>320</td>\n",
       "      <td>25</td>\n",
       "      <td>3.019245e+07</td>\n",
       "      <td>4.933149e+07</td>\n",
       "      <td>119234.213260</td>\n",
       "      <td>54139.906110</td>\n",
       "    </tr>\n",
       "    <tr>\n",
       "      <th>82</th>\n",
       "      <td>320</td>\n",
       "      <td>30</td>\n",
       "      <td>2.790324e+07</td>\n",
       "      <td>5.077938e+07</td>\n",
       "      <td>103175.310615</td>\n",
       "      <td>59045.957186</td>\n",
       "    </tr>\n",
       "    <tr>\n",
       "      <th>83</th>\n",
       "      <td>320</td>\n",
       "      <td>35</td>\n",
       "      <td>3.214243e+07</td>\n",
       "      <td>6.064495e+07</td>\n",
       "      <td>87498.743933</td>\n",
       "      <td>42864.368882</td>\n",
       "    </tr>\n",
       "    <tr>\n",
       "      <th>84</th>\n",
       "      <td>340</td>\n",
       "      <td>5</td>\n",
       "      <td>6.482859e+07</td>\n",
       "      <td>7.077837e+07</td>\n",
       "      <td>188958.314592</td>\n",
       "      <td>70102.302022</td>\n",
       "    </tr>\n",
       "    <tr>\n",
       "      <th>85</th>\n",
       "      <td>340</td>\n",
       "      <td>10</td>\n",
       "      <td>3.864786e+07</td>\n",
       "      <td>5.869520e+07</td>\n",
       "      <td>134464.740969</td>\n",
       "      <td>60194.375376</td>\n",
       "    </tr>\n",
       "    <tr>\n",
       "      <th>86</th>\n",
       "      <td>340</td>\n",
       "      <td>15</td>\n",
       "      <td>3.569949e+07</td>\n",
       "      <td>6.062976e+07</td>\n",
       "      <td>129967.556726</td>\n",
       "      <td>41908.953555</td>\n",
       "    </tr>\n",
       "    <tr>\n",
       "      <th>87</th>\n",
       "      <td>340</td>\n",
       "      <td>20</td>\n",
       "      <td>3.359088e+07</td>\n",
       "      <td>6.065242e+07</td>\n",
       "      <td>94201.284272</td>\n",
       "      <td>37425.357647</td>\n",
       "    </tr>\n",
       "    <tr>\n",
       "      <th>88</th>\n",
       "      <td>340</td>\n",
       "      <td>25</td>\n",
       "      <td>5.019677e+07</td>\n",
       "      <td>6.247527e+07</td>\n",
       "      <td>99822.429008</td>\n",
       "      <td>55911.093605</td>\n",
       "    </tr>\n",
       "    <tr>\n",
       "      <th>89</th>\n",
       "      <td>340</td>\n",
       "      <td>30</td>\n",
       "      <td>3.437491e+07</td>\n",
       "      <td>6.031213e+07</td>\n",
       "      <td>101248.666457</td>\n",
       "      <td>56963.407867</td>\n",
       "    </tr>\n",
       "    <tr>\n",
       "      <th>90</th>\n",
       "      <td>340</td>\n",
       "      <td>35</td>\n",
       "      <td>2.836103e+07</td>\n",
       "      <td>5.090059e+07</td>\n",
       "      <td>109852.465055</td>\n",
       "      <td>48484.884678</td>\n",
       "    </tr>\n",
       "    <tr>\n",
       "      <th>91</th>\n",
       "      <td>360</td>\n",
       "      <td>5</td>\n",
       "      <td>4.022528e+07</td>\n",
       "      <td>5.772444e+07</td>\n",
       "      <td>192041.930165</td>\n",
       "      <td>73757.592107</td>\n",
       "    </tr>\n",
       "    <tr>\n",
       "      <th>92</th>\n",
       "      <td>360</td>\n",
       "      <td>10</td>\n",
       "      <td>6.243966e+07</td>\n",
       "      <td>6.915781e+07</td>\n",
       "      <td>148836.321416</td>\n",
       "      <td>66938.128270</td>\n",
       "    </tr>\n",
       "    <tr>\n",
       "      <th>93</th>\n",
       "      <td>360</td>\n",
       "      <td>15</td>\n",
       "      <td>7.611240e+07</td>\n",
       "      <td>6.500794e+07</td>\n",
       "      <td>115274.477941</td>\n",
       "      <td>53159.672469</td>\n",
       "    </tr>\n",
       "    <tr>\n",
       "      <th>94</th>\n",
       "      <td>360</td>\n",
       "      <td>20</td>\n",
       "      <td>3.469191e+07</td>\n",
       "      <td>6.067287e+07</td>\n",
       "      <td>142876.162830</td>\n",
       "      <td>72838.946462</td>\n",
       "    </tr>\n",
       "    <tr>\n",
       "      <th>95</th>\n",
       "      <td>360</td>\n",
       "      <td>25</td>\n",
       "      <td>2.840582e+07</td>\n",
       "      <td>5.078448e+07</td>\n",
       "      <td>93941.942624</td>\n",
       "      <td>48949.318904</td>\n",
       "    </tr>\n",
       "    <tr>\n",
       "      <th>96</th>\n",
       "      <td>360</td>\n",
       "      <td>30</td>\n",
       "      <td>5.025172e+07</td>\n",
       "      <td>5.789592e+07</td>\n",
       "      <td>93150.010400</td>\n",
       "      <td>57553.118386</td>\n",
       "    </tr>\n",
       "    <tr>\n",
       "      <th>97</th>\n",
       "      <td>360</td>\n",
       "      <td>35</td>\n",
       "      <td>2.787928e+07</td>\n",
       "      <td>5.038246e+07</td>\n",
       "      <td>92977.932752</td>\n",
       "      <td>33670.053375</td>\n",
       "    </tr>\n",
       "    <tr>\n",
       "      <th>98</th>\n",
       "      <td>380</td>\n",
       "      <td>5</td>\n",
       "      <td>3.851618e+07</td>\n",
       "      <td>5.821452e+07</td>\n",
       "      <td>170783.337240</td>\n",
       "      <td>77057.810257</td>\n",
       "    </tr>\n",
       "    <tr>\n",
       "      <th>99</th>\n",
       "      <td>380</td>\n",
       "      <td>10</td>\n",
       "      <td>3.527393e+07</td>\n",
       "      <td>5.981197e+07</td>\n",
       "      <td>139369.457205</td>\n",
       "      <td>40955.160884</td>\n",
       "    </tr>\n",
       "    <tr>\n",
       "      <th>100</th>\n",
       "      <td>380</td>\n",
       "      <td>15</td>\n",
       "      <td>3.428902e+07</td>\n",
       "      <td>6.228542e+07</td>\n",
       "      <td>101125.721076</td>\n",
       "      <td>49689.077365</td>\n",
       "    </tr>\n",
       "    <tr>\n",
       "      <th>101</th>\n",
       "      <td>380</td>\n",
       "      <td>20</td>\n",
       "      <td>3.260945e+07</td>\n",
       "      <td>6.121601e+07</td>\n",
       "      <td>127289.246757</td>\n",
       "      <td>49933.435897</td>\n",
       "    </tr>\n",
       "    <tr>\n",
       "      <th>102</th>\n",
       "      <td>380</td>\n",
       "      <td>25</td>\n",
       "      <td>3.119856e+07</td>\n",
       "      <td>4.971815e+07</td>\n",
       "      <td>111105.943767</td>\n",
       "      <td>36715.203968</td>\n",
       "    </tr>\n",
       "    <tr>\n",
       "      <th>103</th>\n",
       "      <td>380</td>\n",
       "      <td>30</td>\n",
       "      <td>3.316875e+07</td>\n",
       "      <td>6.028472e+07</td>\n",
       "      <td>116455.365678</td>\n",
       "      <td>56396.833436</td>\n",
       "    </tr>\n",
       "    <tr>\n",
       "      <th>104</th>\n",
       "      <td>380</td>\n",
       "      <td>35</td>\n",
       "      <td>2.732477e+07</td>\n",
       "      <td>5.088691e+07</td>\n",
       "      <td>86688.815775</td>\n",
       "      <td>44497.133724</td>\n",
       "    </tr>\n",
       "    <tr>\n",
       "      <th>105</th>\n",
       "      <td>400</td>\n",
       "      <td>5</td>\n",
       "      <td>3.966346e+07</td>\n",
       "      <td>5.792753e+07</td>\n",
       "      <td>152783.274382</td>\n",
       "      <td>94062.544532</td>\n",
       "    </tr>\n",
       "    <tr>\n",
       "      <th>106</th>\n",
       "      <td>400</td>\n",
       "      <td>10</td>\n",
       "      <td>5.577243e+07</td>\n",
       "      <td>6.524352e+07</td>\n",
       "      <td>105808.040115</td>\n",
       "      <td>64436.646886</td>\n",
       "    </tr>\n",
       "    <tr>\n",
       "      <th>107</th>\n",
       "      <td>400</td>\n",
       "      <td>15</td>\n",
       "      <td>3.357491e+07</td>\n",
       "      <td>6.080876e+07</td>\n",
       "      <td>117299.128669</td>\n",
       "      <td>54808.442269</td>\n",
       "    </tr>\n",
       "    <tr>\n",
       "      <th>108</th>\n",
       "      <td>400</td>\n",
       "      <td>20</td>\n",
       "      <td>6.094195e+07</td>\n",
       "      <td>6.884730e+07</td>\n",
       "      <td>119726.508561</td>\n",
       "      <td>65077.811118</td>\n",
       "    </tr>\n",
       "    <tr>\n",
       "      <th>109</th>\n",
       "      <td>400</td>\n",
       "      <td>25</td>\n",
       "      <td>2.891903e+07</td>\n",
       "      <td>5.033991e+07</td>\n",
       "      <td>120305.994099</td>\n",
       "      <td>50904.333186</td>\n",
       "    </tr>\n",
       "    <tr>\n",
       "      <th>110</th>\n",
       "      <td>400</td>\n",
       "      <td>30</td>\n",
       "      <td>2.877148e+07</td>\n",
       "      <td>5.055143e+07</td>\n",
       "      <td>106920.740392</td>\n",
       "      <td>59433.023373</td>\n",
       "    </tr>\n",
       "    <tr>\n",
       "      <th>111</th>\n",
       "      <td>400</td>\n",
       "      <td>35</td>\n",
       "      <td>5.263552e+07</td>\n",
       "      <td>6.159537e+07</td>\n",
       "      <td>99477.229560</td>\n",
       "      <td>44353.473226</td>\n",
       "    </tr>\n",
       "    <tr>\n",
       "      <th>112</th>\n",
       "      <td>420</td>\n",
       "      <td>5</td>\n",
       "      <td>3.992990e+07</td>\n",
       "      <td>5.799215e+07</td>\n",
       "      <td>171353.193443</td>\n",
       "      <td>88199.523969</td>\n",
       "    </tr>\n",
       "    <tr>\n",
       "      <th>113</th>\n",
       "      <td>420</td>\n",
       "      <td>10</td>\n",
       "      <td>5.167135e+07</td>\n",
       "      <td>6.190698e+07</td>\n",
       "      <td>119027.532152</td>\n",
       "      <td>56460.926848</td>\n",
       "    </tr>\n",
       "    <tr>\n",
       "      <th>114</th>\n",
       "      <td>420</td>\n",
       "      <td>15</td>\n",
       "      <td>3.614316e+07</td>\n",
       "      <td>6.018656e+07</td>\n",
       "      <td>106069.718630</td>\n",
       "      <td>49467.004653</td>\n",
       "    </tr>\n",
       "    <tr>\n",
       "      <th>115</th>\n",
       "      <td>420</td>\n",
       "      <td>20</td>\n",
       "      <td>2.961705e+07</td>\n",
       "      <td>4.923441e+07</td>\n",
       "      <td>100438.191904</td>\n",
       "      <td>52090.393668</td>\n",
       "    </tr>\n",
       "    <tr>\n",
       "      <th>116</th>\n",
       "      <td>420</td>\n",
       "      <td>25</td>\n",
       "      <td>3.325760e+07</td>\n",
       "      <td>6.108480e+07</td>\n",
       "      <td>111652.379663</td>\n",
       "      <td>43013.750892</td>\n",
       "    </tr>\n",
       "    <tr>\n",
       "      <th>117</th>\n",
       "      <td>420</td>\n",
       "      <td>30</td>\n",
       "      <td>2.816973e+07</td>\n",
       "      <td>5.063272e+07</td>\n",
       "      <td>107103.227999</td>\n",
       "      <td>54524.697966</td>\n",
       "    </tr>\n",
       "    <tr>\n",
       "      <th>118</th>\n",
       "      <td>420</td>\n",
       "      <td>35</td>\n",
       "      <td>2.728974e+07</td>\n",
       "      <td>5.089907e+07</td>\n",
       "      <td>97597.688712</td>\n",
       "      <td>44628.748280</td>\n",
       "    </tr>\n",
       "    <tr>\n",
       "      <th>119</th>\n",
       "      <td>440</td>\n",
       "      <td>5</td>\n",
       "      <td>6.434091e+07</td>\n",
       "      <td>6.899963e+07</td>\n",
       "      <td>148983.904252</td>\n",
       "      <td>99197.750395</td>\n",
       "    </tr>\n",
       "    <tr>\n",
       "      <th>120</th>\n",
       "      <td>440</td>\n",
       "      <td>10</td>\n",
       "      <td>3.586082e+07</td>\n",
       "      <td>6.004931e+07</td>\n",
       "      <td>141425.470365</td>\n",
       "      <td>72741.483020</td>\n",
       "    </tr>\n",
       "    <tr>\n",
       "      <th>121</th>\n",
       "      <td>440</td>\n",
       "      <td>15</td>\n",
       "      <td>5.965801e+07</td>\n",
       "      <td>7.056922e+07</td>\n",
       "      <td>130979.673427</td>\n",
       "      <td>60762.999404</td>\n",
       "    </tr>\n",
       "    <tr>\n",
       "      <th>122</th>\n",
       "      <td>440</td>\n",
       "      <td>20</td>\n",
       "      <td>5.311206e+07</td>\n",
       "      <td>6.151574e+07</td>\n",
       "      <td>114688.773793</td>\n",
       "      <td>37825.520548</td>\n",
       "    </tr>\n",
       "    <tr>\n",
       "      <th>123</th>\n",
       "      <td>440</td>\n",
       "      <td>25</td>\n",
       "      <td>3.334526e+07</td>\n",
       "      <td>6.128120e+07</td>\n",
       "      <td>103844.870104</td>\n",
       "      <td>59168.622583</td>\n",
       "    </tr>\n",
       "    <tr>\n",
       "      <th>124</th>\n",
       "      <td>440</td>\n",
       "      <td>30</td>\n",
       "      <td>2.741286e+07</td>\n",
       "      <td>5.010317e+07</td>\n",
       "      <td>90218.190488</td>\n",
       "      <td>44393.901746</td>\n",
       "    </tr>\n",
       "    <tr>\n",
       "      <th>125</th>\n",
       "      <td>440</td>\n",
       "      <td>35</td>\n",
       "      <td>2.832063e+07</td>\n",
       "      <td>5.075160e+07</td>\n",
       "      <td>109798.139351</td>\n",
       "      <td>58108.703834</td>\n",
       "    </tr>\n",
       "    <tr>\n",
       "      <th>126</th>\n",
       "      <td>460</td>\n",
       "      <td>5</td>\n",
       "      <td>3.808499e+07</td>\n",
       "      <td>5.844974e+07</td>\n",
       "      <td>152150.669106</td>\n",
       "      <td>77423.196777</td>\n",
       "    </tr>\n",
       "    <tr>\n",
       "      <th>127</th>\n",
       "      <td>460</td>\n",
       "      <td>10</td>\n",
       "      <td>3.489963e+07</td>\n",
       "      <td>6.011255e+07</td>\n",
       "      <td>151392.685414</td>\n",
       "      <td>64279.597811</td>\n",
       "    </tr>\n",
       "    <tr>\n",
       "      <th>128</th>\n",
       "      <td>460</td>\n",
       "      <td>15</td>\n",
       "      <td>3.725244e+07</td>\n",
       "      <td>5.936958e+07</td>\n",
       "      <td>111630.621824</td>\n",
       "      <td>50425.305976</td>\n",
       "    </tr>\n",
       "    <tr>\n",
       "      <th>129</th>\n",
       "      <td>460</td>\n",
       "      <td>20</td>\n",
       "      <td>3.437344e+07</td>\n",
       "      <td>6.031955e+07</td>\n",
       "      <td>107539.439187</td>\n",
       "      <td>42179.078674</td>\n",
       "    </tr>\n",
       "    <tr>\n",
       "      <th>130</th>\n",
       "      <td>460</td>\n",
       "      <td>25</td>\n",
       "      <td>3.444379e+07</td>\n",
       "      <td>6.064966e+07</td>\n",
       "      <td>92510.166663</td>\n",
       "      <td>39411.006048</td>\n",
       "    </tr>\n",
       "    <tr>\n",
       "      <th>131</th>\n",
       "      <td>460</td>\n",
       "      <td>30</td>\n",
       "      <td>2.904480e+07</td>\n",
       "      <td>5.044237e+07</td>\n",
       "      <td>101418.079873</td>\n",
       "      <td>46512.266460</td>\n",
       "    </tr>\n",
       "    <tr>\n",
       "      <th>132</th>\n",
       "      <td>460</td>\n",
       "      <td>35</td>\n",
       "      <td>3.281432e+07</td>\n",
       "      <td>6.134115e+07</td>\n",
       "      <td>91431.710047</td>\n",
       "      <td>36763.443194</td>\n",
       "    </tr>\n",
       "    <tr>\n",
       "      <th>133</th>\n",
       "      <td>480</td>\n",
       "      <td>5</td>\n",
       "      <td>3.989388e+07</td>\n",
       "      <td>5.772151e+07</td>\n",
       "      <td>203793.854237</td>\n",
       "      <td>85140.338368</td>\n",
       "    </tr>\n",
       "    <tr>\n",
       "      <th>134</th>\n",
       "      <td>480</td>\n",
       "      <td>10</td>\n",
       "      <td>3.775515e+07</td>\n",
       "      <td>5.846088e+07</td>\n",
       "      <td>140390.606124</td>\n",
       "      <td>56685.965263</td>\n",
       "    </tr>\n",
       "    <tr>\n",
       "      <th>135</th>\n",
       "      <td>480</td>\n",
       "      <td>15</td>\n",
       "      <td>3.468305e+07</td>\n",
       "      <td>6.045423e+07</td>\n",
       "      <td>142703.543278</td>\n",
       "      <td>62835.957505</td>\n",
       "    </tr>\n",
       "    <tr>\n",
       "      <th>136</th>\n",
       "      <td>480</td>\n",
       "      <td>20</td>\n",
       "      <td>2.898105e+07</td>\n",
       "      <td>5.028841e+07</td>\n",
       "      <td>96984.054212</td>\n",
       "      <td>47614.142113</td>\n",
       "    </tr>\n",
       "    <tr>\n",
       "      <th>137</th>\n",
       "      <td>480</td>\n",
       "      <td>25</td>\n",
       "      <td>3.026941e+07</td>\n",
       "      <td>4.955691e+07</td>\n",
       "      <td>90998.122586</td>\n",
       "      <td>37233.539312</td>\n",
       "    </tr>\n",
       "    <tr>\n",
       "      <th>138</th>\n",
       "      <td>480</td>\n",
       "      <td>30</td>\n",
       "      <td>2.823906e+07</td>\n",
       "      <td>5.089122e+07</td>\n",
       "      <td>92210.991557</td>\n",
       "      <td>43322.596292</td>\n",
       "    </tr>\n",
       "    <tr>\n",
       "      <th>139</th>\n",
       "      <td>480</td>\n",
       "      <td>35</td>\n",
       "      <td>3.304993e+07</td>\n",
       "      <td>6.090840e+07</td>\n",
       "      <td>99823.217016</td>\n",
       "      <td>32423.184398</td>\n",
       "    </tr>\n",
       "    <tr>\n",
       "      <th>140</th>\n",
       "      <td>500</td>\n",
       "      <td>5</td>\n",
       "      <td>3.951206e+07</td>\n",
       "      <td>5.784718e+07</td>\n",
       "      <td>170320.594490</td>\n",
       "      <td>87574.254828</td>\n",
       "    </tr>\n",
       "    <tr>\n",
       "      <th>141</th>\n",
       "      <td>500</td>\n",
       "      <td>10</td>\n",
       "      <td>3.644511e+07</td>\n",
       "      <td>6.048774e+07</td>\n",
       "      <td>111167.994696</td>\n",
       "      <td>47986.363642</td>\n",
       "    </tr>\n",
       "    <tr>\n",
       "      <th>142</th>\n",
       "      <td>500</td>\n",
       "      <td>15</td>\n",
       "      <td>3.533811e+07</td>\n",
       "      <td>5.987736e+07</td>\n",
       "      <td>108433.246070</td>\n",
       "      <td>51118.467428</td>\n",
       "    </tr>\n",
       "    <tr>\n",
       "      <th>143</th>\n",
       "      <td>500</td>\n",
       "      <td>20</td>\n",
       "      <td>3.465341e+07</td>\n",
       "      <td>6.012579e+07</td>\n",
       "      <td>96462.905690</td>\n",
       "      <td>44151.607999</td>\n",
       "    </tr>\n",
       "    <tr>\n",
       "      <th>144</th>\n",
       "      <td>500</td>\n",
       "      <td>25</td>\n",
       "      <td>2.837664e+07</td>\n",
       "      <td>5.050892e+07</td>\n",
       "      <td>83600.379398</td>\n",
       "      <td>42973.233599</td>\n",
       "    </tr>\n",
       "    <tr>\n",
       "      <th>145</th>\n",
       "      <td>500</td>\n",
       "      <td>30</td>\n",
       "      <td>3.318920e+07</td>\n",
       "      <td>6.080853e+07</td>\n",
       "      <td>95937.035195</td>\n",
       "      <td>50745.359084</td>\n",
       "    </tr>\n",
       "    <tr>\n",
       "      <th>146</th>\n",
       "      <td>500</td>\n",
       "      <td>35</td>\n",
       "      <td>3.295752e+07</td>\n",
       "      <td>6.114405e+07</td>\n",
       "      <td>78284.316620</td>\n",
       "      <td>40118.179029</td>\n",
       "    </tr>\n",
       "  </tbody>\n",
       "</table>\n",
       "</div>"
      ],
      "text/plain": [
       "     n_trees_list  tree_depth_list  high_cv_mean_mse    high_cv_sd  \\\n",
       "0             100                5      6.307741e+07  6.650998e+07   \n",
       "1             100               10      7.441784e+07  6.031040e+07   \n",
       "2             100               15      5.777050e+07  6.152541e+07   \n",
       "3             100               20      3.246378e+07  4.854210e+07   \n",
       "4             100               25      2.884724e+07  5.005052e+07   \n",
       "5             100               30      2.883813e+07  4.967777e+07   \n",
       "6             100               35      4.444888e+07  5.378610e+07   \n",
       "7             120                5      6.505773e+07  6.776898e+07   \n",
       "8             120               10      9.125245e+07  7.235080e+07   \n",
       "9             120               15      3.646587e+07  6.417683e+07   \n",
       "10            120               20      2.849983e+07  5.079067e+07   \n",
       "11            120               25      2.812410e+07  4.968251e+07   \n",
       "12            120               30      5.369196e+07  6.290134e+07   \n",
       "13            120               35      5.885824e+07  6.860051e+07   \n",
       "14            140                5      6.475048e+07  6.431652e+07   \n",
       "15            140               10      5.208725e+07  6.198811e+07   \n",
       "16            140               15      3.578544e+07  5.930727e+07   \n",
       "17            140               20      2.873051e+07  4.963165e+07   \n",
       "18            140               25      3.366449e+07  6.066754e+07   \n",
       "19            140               30      3.400582e+07  6.125299e+07   \n",
       "20            140               35      3.405911e+07  6.101329e+07   \n",
       "21            160                5      1.152296e+08  1.006951e+08   \n",
       "22            160               10      6.448049e+07  6.469817e+07   \n",
       "23            160               15      2.987002e+07  4.930531e+07   \n",
       "24            160               20      5.077846e+07  6.176024e+07   \n",
       "25            160               25      3.001192e+07  4.881959e+07   \n",
       "26            160               30      2.826432e+07  5.061252e+07   \n",
       "27            160               35      5.755605e+07  6.795346e+07   \n",
       "28            180                5      3.907979e+07  5.808013e+07   \n",
       "29            180               10      6.239631e+07  6.700749e+07   \n",
       "30            180               15      5.579209e+07  6.066499e+07   \n",
       "31            180               20      3.518487e+07  6.086532e+07   \n",
       "32            180               25      2.790461e+07  5.038431e+07   \n",
       "33            180               30      2.882656e+07  5.068621e+07   \n",
       "34            180               35      3.278513e+07  6.024804e+07   \n",
       "35            200                5      4.151466e+07  5.755872e+07   \n",
       "36            200               10      3.571966e+07  5.999693e+07   \n",
       "37            200               15      3.600603e+07  6.281376e+07   \n",
       "38            200               20      2.863818e+07  5.039026e+07   \n",
       "39            200               25      2.815154e+07  5.118038e+07   \n",
       "40            200               30      4.527383e+07  5.301703e+07   \n",
       "41            200               35      2.834944e+07  4.965459e+07   \n",
       "42            220                5      3.887101e+07  5.806190e+07   \n",
       "43            220               10      7.446046e+07  8.212301e+07   \n",
       "44            220               15      3.579640e+07  6.048726e+07   \n",
       "45            220               20      2.918937e+07  5.034110e+07   \n",
       "46            220               25      3.378863e+07  6.113099e+07   \n",
       "47            220               30      3.269591e+07  6.166497e+07   \n",
       "48            220               35      2.775092e+07  5.011030e+07   \n",
       "49            240                5      3.948337e+07  5.818519e+07   \n",
       "50            240               10      3.673088e+07  5.855659e+07   \n",
       "51            240               15      2.933547e+07  5.141340e+07   \n",
       "52            240               20      3.385565e+07  6.174350e+07   \n",
       "53            240               25      3.614284e+07  6.020676e+07   \n",
       "54            240               30      2.831368e+07  4.970779e+07   \n",
       "55            240               35      2.904357e+07  4.946663e+07   \n",
       "56            260                5      5.634048e+07  6.060144e+07   \n",
       "57            260               10      3.758907e+07  6.029488e+07   \n",
       "58            260               15      3.777213e+07  6.258164e+07   \n",
       "59            260               20      5.394716e+07  6.367254e+07   \n",
       "60            260               25      3.427376e+07  6.059801e+07   \n",
       "61            260               30      3.345740e+07  6.106704e+07   \n",
       "62            260               35      2.773417e+07  5.081150e+07   \n",
       "63            280                5      6.406036e+07  6.536743e+07   \n",
       "64            280               10      7.281501e+07  8.519386e+07   \n",
       "65            280               15      3.047278e+07  4.953207e+07   \n",
       "66            280               20      2.935570e+07  4.983822e+07   \n",
       "67            280               25      2.922297e+07  4.944072e+07   \n",
       "68            280               30      2.892904e+07  4.967794e+07   \n",
       "69            280               35      2.764230e+07  5.123666e+07   \n",
       "70            300                5      3.956494e+07  5.806448e+07   \n",
       "71            300               10      5.109197e+07  6.181262e+07   \n",
       "72            300               15      3.327318e+07  6.103404e+07   \n",
       "73            300               20      2.839277e+07  5.062077e+07   \n",
       "74            300               25      4.988444e+07  6.258747e+07   \n",
       "75            300               30      2.982556e+07  4.916683e+07   \n",
       "76            300               35      2.177301e+07  3.737495e+07   \n",
       "77            320                5      3.774671e+07  5.849518e+07   \n",
       "78            320               10      5.411881e+07  6.219779e+07   \n",
       "79            320               15      3.396185e+07  6.021814e+07   \n",
       "80            320               20      2.842490e+07  4.969288e+07   \n",
       "81            320               25      3.019245e+07  4.933149e+07   \n",
       "82            320               30      2.790324e+07  5.077938e+07   \n",
       "83            320               35      3.214243e+07  6.064495e+07   \n",
       "84            340                5      6.482859e+07  7.077837e+07   \n",
       "85            340               10      3.864786e+07  5.869520e+07   \n",
       "86            340               15      3.569949e+07  6.062976e+07   \n",
       "87            340               20      3.359088e+07  6.065242e+07   \n",
       "88            340               25      5.019677e+07  6.247527e+07   \n",
       "89            340               30      3.437491e+07  6.031213e+07   \n",
       "90            340               35      2.836103e+07  5.090059e+07   \n",
       "91            360                5      4.022528e+07  5.772444e+07   \n",
       "92            360               10      6.243966e+07  6.915781e+07   \n",
       "93            360               15      7.611240e+07  6.500794e+07   \n",
       "94            360               20      3.469191e+07  6.067287e+07   \n",
       "95            360               25      2.840582e+07  5.078448e+07   \n",
       "96            360               30      5.025172e+07  5.789592e+07   \n",
       "97            360               35      2.787928e+07  5.038246e+07   \n",
       "98            380                5      3.851618e+07  5.821452e+07   \n",
       "99            380               10      3.527393e+07  5.981197e+07   \n",
       "100           380               15      3.428902e+07  6.228542e+07   \n",
       "101           380               20      3.260945e+07  6.121601e+07   \n",
       "102           380               25      3.119856e+07  4.971815e+07   \n",
       "103           380               30      3.316875e+07  6.028472e+07   \n",
       "104           380               35      2.732477e+07  5.088691e+07   \n",
       "105           400                5      3.966346e+07  5.792753e+07   \n",
       "106           400               10      5.577243e+07  6.524352e+07   \n",
       "107           400               15      3.357491e+07  6.080876e+07   \n",
       "108           400               20      6.094195e+07  6.884730e+07   \n",
       "109           400               25      2.891903e+07  5.033991e+07   \n",
       "110           400               30      2.877148e+07  5.055143e+07   \n",
       "111           400               35      5.263552e+07  6.159537e+07   \n",
       "112           420                5      3.992990e+07  5.799215e+07   \n",
       "113           420               10      5.167135e+07  6.190698e+07   \n",
       "114           420               15      3.614316e+07  6.018656e+07   \n",
       "115           420               20      2.961705e+07  4.923441e+07   \n",
       "116           420               25      3.325760e+07  6.108480e+07   \n",
       "117           420               30      2.816973e+07  5.063272e+07   \n",
       "118           420               35      2.728974e+07  5.089907e+07   \n",
       "119           440                5      6.434091e+07  6.899963e+07   \n",
       "120           440               10      3.586082e+07  6.004931e+07   \n",
       "121           440               15      5.965801e+07  7.056922e+07   \n",
       "122           440               20      5.311206e+07  6.151574e+07   \n",
       "123           440               25      3.334526e+07  6.128120e+07   \n",
       "124           440               30      2.741286e+07  5.010317e+07   \n",
       "125           440               35      2.832063e+07  5.075160e+07   \n",
       "126           460                5      3.808499e+07  5.844974e+07   \n",
       "127           460               10      3.489963e+07  6.011255e+07   \n",
       "128           460               15      3.725244e+07  5.936958e+07   \n",
       "129           460               20      3.437344e+07  6.031955e+07   \n",
       "130           460               25      3.444379e+07  6.064966e+07   \n",
       "131           460               30      2.904480e+07  5.044237e+07   \n",
       "132           460               35      3.281432e+07  6.134115e+07   \n",
       "133           480                5      3.989388e+07  5.772151e+07   \n",
       "134           480               10      3.775515e+07  5.846088e+07   \n",
       "135           480               15      3.468305e+07  6.045423e+07   \n",
       "136           480               20      2.898105e+07  5.028841e+07   \n",
       "137           480               25      3.026941e+07  4.955691e+07   \n",
       "138           480               30      2.823906e+07  5.089122e+07   \n",
       "139           480               35      3.304993e+07  6.090840e+07   \n",
       "140           500                5      3.951206e+07  5.784718e+07   \n",
       "141           500               10      3.644511e+07  6.048774e+07   \n",
       "142           500               15      3.533811e+07  5.987736e+07   \n",
       "143           500               20      3.465341e+07  6.012579e+07   \n",
       "144           500               25      2.837664e+07  5.050892e+07   \n",
       "145           500               30      3.318920e+07  6.080853e+07   \n",
       "146           500               35      3.295752e+07  6.114405e+07   \n",
       "\n",
       "     low_cv_mean_mse      low_cv_sd  \n",
       "0      157007.210892   61390.109220  \n",
       "1      135673.175074   78871.909067  \n",
       "2      105879.886235   48782.456802  \n",
       "3      109190.228094   54416.502033  \n",
       "4       74697.255932   44409.197490  \n",
       "5      113289.784480   50318.931293  \n",
       "6       94226.915350   37219.877355  \n",
       "7      160592.260686   89850.710612  \n",
       "8      123678.925105   63467.411225  \n",
       "9      106379.043490   53916.180160  \n",
       "10     130367.284104   54129.968531  \n",
       "11     118936.669873   51595.913615  \n",
       "12     123558.833214   34261.010800  \n",
       "13      84952.464996   40394.989405  \n",
       "14     158800.932760   72993.984004  \n",
       "15     138836.746546   39317.352761  \n",
       "16     126683.547324   68169.027265  \n",
       "17     101209.043601   51607.275058  \n",
       "18     111376.587612   62717.584444  \n",
       "19     106113.115700   60694.060645  \n",
       "20     116324.930029   69741.198362  \n",
       "21     170975.822998   78357.110310  \n",
       "22     131274.476803   71318.927660  \n",
       "23     111009.194621   83831.501486  \n",
       "24     106653.272219   63849.959730  \n",
       "25      83543.923890   50004.436813  \n",
       "26     101639.033865   50728.594260  \n",
       "27      90705.842037   46965.659656  \n",
       "28     176992.434735   81596.500275  \n",
       "29     158274.189679  111120.910701  \n",
       "30     146665.310485   69799.577218  \n",
       "31     108996.943442   51124.667268  \n",
       "32      96023.192787   29834.114926  \n",
       "33     118094.143890   37478.631724  \n",
       "34      87620.954506   43884.139441  \n",
       "35     186005.176131   92358.222208  \n",
       "36     111292.375580   54094.725066  \n",
       "37     131070.798200   57105.910469  \n",
       "38     121768.196303   55976.396612  \n",
       "39     107135.766189   59112.740569  \n",
       "40     113123.878647   45084.748844  \n",
       "41      96150.182593   48991.506068  \n",
       "42     178038.023326   82269.527137  \n",
       "43     126656.057680   71474.489508  \n",
       "44     123150.804571   38352.952514  \n",
       "45      93217.264127   46176.156443  \n",
       "46     130764.247475   69745.911009  \n",
       "47     139382.659521   67789.328468  \n",
       "48     111098.044052   64837.203378  \n",
       "49     186823.881870   92566.245462  \n",
       "50     157059.854116   80163.214147  \n",
       "51     154194.606934   66743.907293  \n",
       "52     113865.341378   32893.003347  \n",
       "53     129117.649861   50567.038245  \n",
       "54      84114.143305   47414.320721  \n",
       "55      97380.727407   38313.092852  \n",
       "56     170833.677867   78284.203209  \n",
       "57     151972.205556   71850.847102  \n",
       "58     110422.469256   56506.391434  \n",
       "59     113183.243504   41781.090790  \n",
       "60     119339.671479   64961.251304  \n",
       "61     105399.865266   59221.715472  \n",
       "62      90490.523447   46543.779568  \n",
       "63     176036.968524   62474.135703  \n",
       "64     113675.393572   50724.838636  \n",
       "65     120125.725085   64745.286946  \n",
       "66      87006.968747   53004.262951  \n",
       "67     127681.151290   61534.582120  \n",
       "68     110347.125080   54699.717810  \n",
       "69      82388.710443   34777.635150  \n",
       "70     174335.740654   79022.878566  \n",
       "71     160264.225740   69885.281433  \n",
       "72     119258.555203   42325.816680  \n",
       "73     112306.581591   45040.571016  \n",
       "74      96857.855428   56194.751094  \n",
       "75     107910.896925   52417.500578  \n",
       "76      99541.524384   36973.331818  \n",
       "77     196216.894010   78444.150791  \n",
       "78     133302.723858   56545.428240  \n",
       "79     113608.011306   35449.696516  \n",
       "80     103104.600856   57388.768670  \n",
       "81     119234.213260   54139.906110  \n",
       "82     103175.310615   59045.957186  \n",
       "83      87498.743933   42864.368882  \n",
       "84     188958.314592   70102.302022  \n",
       "85     134464.740969   60194.375376  \n",
       "86     129967.556726   41908.953555  \n",
       "87      94201.284272   37425.357647  \n",
       "88      99822.429008   55911.093605  \n",
       "89     101248.666457   56963.407867  \n",
       "90     109852.465055   48484.884678  \n",
       "91     192041.930165   73757.592107  \n",
       "92     148836.321416   66938.128270  \n",
       "93     115274.477941   53159.672469  \n",
       "94     142876.162830   72838.946462  \n",
       "95      93941.942624   48949.318904  \n",
       "96      93150.010400   57553.118386  \n",
       "97      92977.932752   33670.053375  \n",
       "98     170783.337240   77057.810257  \n",
       "99     139369.457205   40955.160884  \n",
       "100    101125.721076   49689.077365  \n",
       "101    127289.246757   49933.435897  \n",
       "102    111105.943767   36715.203968  \n",
       "103    116455.365678   56396.833436  \n",
       "104     86688.815775   44497.133724  \n",
       "105    152783.274382   94062.544532  \n",
       "106    105808.040115   64436.646886  \n",
       "107    117299.128669   54808.442269  \n",
       "108    119726.508561   65077.811118  \n",
       "109    120305.994099   50904.333186  \n",
       "110    106920.740392   59433.023373  \n",
       "111     99477.229560   44353.473226  \n",
       "112    171353.193443   88199.523969  \n",
       "113    119027.532152   56460.926848  \n",
       "114    106069.718630   49467.004653  \n",
       "115    100438.191904   52090.393668  \n",
       "116    111652.379663   43013.750892  \n",
       "117    107103.227999   54524.697966  \n",
       "118     97597.688712   44628.748280  \n",
       "119    148983.904252   99197.750395  \n",
       "120    141425.470365   72741.483020  \n",
       "121    130979.673427   60762.999404  \n",
       "122    114688.773793   37825.520548  \n",
       "123    103844.870104   59168.622583  \n",
       "124     90218.190488   44393.901746  \n",
       "125    109798.139351   58108.703834  \n",
       "126    152150.669106   77423.196777  \n",
       "127    151392.685414   64279.597811  \n",
       "128    111630.621824   50425.305976  \n",
       "129    107539.439187   42179.078674  \n",
       "130     92510.166663   39411.006048  \n",
       "131    101418.079873   46512.266460  \n",
       "132     91431.710047   36763.443194  \n",
       "133    203793.854237   85140.338368  \n",
       "134    140390.606124   56685.965263  \n",
       "135    142703.543278   62835.957505  \n",
       "136     96984.054212   47614.142113  \n",
       "137     90998.122586   37233.539312  \n",
       "138     92210.991557   43322.596292  \n",
       "139     99823.217016   32423.184398  \n",
       "140    170320.594490   87574.254828  \n",
       "141    111167.994696   47986.363642  \n",
       "142    108433.246070   51118.467428  \n",
       "143     96462.905690   44151.607999  \n",
       "144     83600.379398   42973.233599  \n",
       "145     95937.035195   50745.359084  \n",
       "146     78284.316620   40118.179029  "
      ]
     },
     "execution_count": 40,
     "metadata": {},
     "output_type": "execute_result"
    }
   ],
   "source": [
    "RF_df"
   ]
  },
  {
   "cell_type": "code",
   "execution_count": 41,
   "metadata": {},
   "outputs": [
    {
     "name": "stdout",
     "output_type": "stream",
     "text": [
      "Random forest model for high states, n_trees, determined by CV: 300\n",
      "Random forest model for high states, tree_depth, determined by CV: 35\n",
      "Random forest, MSE, states with high testing, training set: 0.0\n",
      "Random forest, MSE, states with high testing, test set: 342636.83928571426\n"
     ]
    }
   ],
   "source": [
    "### random forest model for states with high testing\n",
    "\n",
    "#choose n_trees and tree_depth combination with the lowest difference between CV MSE and training set MSE (least overfit)\n",
    "np.random.seed(123)\n",
    "n_trees_best = int(RF_df.iloc[RF_df['high_cv_mean_mse'].idxmin()]['n_trees_list'])\n",
    "tree_depth_best = int(RF_df.iloc[RF_df['high_cv_mean_mse'].idxmin()]['tree_depth_list'])\n",
    "print('Random forest model for high states, n_trees, determined by CV:', n_trees_best)\n",
    "print('Random forest model for high states, tree_depth, determined by CV:', tree_depth_best)\n",
    "\n",
    "#train final random forest\n",
    "RF_high = RandomForestClassifier(max_features='auto', n_estimators=n_trees_best, max_depth=tree_depth_best)\n",
    "RF_high.fit(X_high_train, y_high_train)\n",
    "\n",
    "#performance evaluation\n",
    "pred_high_train = RF_high.predict(X_high_train)\n",
    "pred_high_test = RF_high.predict(X_high_test)\n",
    "print('Random forest, MSE, states with high testing, training set:', mean_squared_error(y_high_train, pred_high_train))\n",
    "print('Random forest, MSE, states with high testing, test set:', mean_squared_error(y_high_test, pred_high_test))\n",
    "\n",
    "#now that model is finalized, build model on all of the available data (all of states_high_data)\n",
    "RF_high_final = RandomForestClassifier(max_features='auto', n_estimators=n_trees_best, max_depth=tree_depth_best)\n",
    "RF_high_final.fit(X_high, y_high);"
   ]
  },
  {
   "cell_type": "code",
   "execution_count": 42,
   "metadata": {},
   "outputs": [
    {
     "name": "stdout",
     "output_type": "stream",
     "text": [
      "Random forest model for low states, n_trees, determined by CV: 100\n",
      "Random forest model for low states, tree_depth, determined by CV: 25\n",
      "Random forest, MSE, states with low testing, training set: 0.0\n",
      "Random forest, MSE, states with low testing, test set: 67171.67005076142\n"
     ]
    }
   ],
   "source": [
    "### random forest model for states with low testing\n",
    "\n",
    "#choose n_trees and tree_depth combination with the lowest difference between CV MSE and training set MSE (least overfit)\n",
    "np.random.seed(123)\n",
    "n_trees_best = int(RF_df.iloc[RF_df['low_cv_mean_mse'].idxmin()]['n_trees_list'])\n",
    "tree_depth_best = int(RF_df.iloc[RF_df['low_cv_mean_mse'].idxmin()]['tree_depth_list'])\n",
    "print('Random forest model for low states, n_trees, determined by CV:', n_trees_best)\n",
    "print('Random forest model for low states, tree_depth, determined by CV:', tree_depth_best)\n",
    "\n",
    "#train final random forest\n",
    "RF_low = RandomForestClassifier(max_features='auto', n_estimators=n_trees_best, max_depth=tree_depth_best)\n",
    "RF_low.fit(X_low_train, y_low_train)\n",
    "\n",
    "#performance evaluation\n",
    "pred_low_train = RF_low.predict(X_low_train)\n",
    "pred_low_test = RF_low.predict(X_low_test)\n",
    "print('Random forest, MSE, states with low testing, training set:', mean_squared_error(y_low_train, pred_low_train))\n",
    "print('Random forest, MSE, states with low testing, test set:', mean_squared_error(y_low_test, pred_low_test))\n",
    "\n",
    "#now that model is finalized, build model on all of the available data (all of states_low_data)\n",
    "RF_low_final = RandomForestClassifier(max_features='auto', n_estimators=n_trees_best, max_depth=tree_depth_best)\n",
    "RF_low_final.fit(X_low, y_low);"
   ]
  },
  {
   "cell_type": "markdown",
   "metadata": {},
   "source": [
    "##### Investigate question"
   ]
  },
  {
   "cell_type": "code",
   "execution_count": 43,
   "metadata": {},
   "outputs": [
    {
     "name": "stdout",
     "output_type": "stream",
     "text": [
      "Prediction of cases in states with low testing, using high states model: 437294.1686135094\n",
      "Prediction of cases in states with high testing, using low states model: 34824847.7625448\n"
     ]
    }
   ],
   "source": [
    "#use high states model to predict cases in low states\n",
    "cross_pred_lowstates = RF_high_final.predict(X_low)\n",
    "print('Prediction of cases in states with low testing, using high states model:', mean_squared_error(y_low, cross_pred_lowstates))\n",
    "\n",
    "#use low states model to predict cases in high states\n",
    "cross_pred_highstates = RF_low_final.predict(X_high)\n",
    "print('Prediction of cases in states with high testing, using low states model:', mean_squared_error(y_high, cross_pred_highstates))\n"
   ]
  },
  {
   "cell_type": "code",
   "execution_count": 50,
   "metadata": {
    "scrolled": true
   },
   "outputs": [
    {
     "data": {
      "image/png": "[encoded data removed]",
      "text/plain": [
       "<Figure size 432x288 with 1 Axes>"
      ]
     },
     "metadata": {
      "needs_background": "light"
     },
     "output_type": "display_data"
    }
   ],
   "source": [
    "#examine distributions\n",
    "plt.hist(cross_pred_lowstates - y_low, bins=100)"
   ]
  },
  {
   "cell_type": "code",
   "execution_count": 68,
   "metadata": {},
   "outputs": [
    {
     "data": {
      "image/png": "[encoded data removed]",
      "text/plain": [
       "<Figure size 432x288 with 1 Axes>"
      ]
     },
     "metadata": {
      "needs_background": "light"
     },
     "output_type": "display_data"
    }
   ],
   "source": [
    "plt.hist(cross_pred_highstates - y_high, bins=100);"
   ]
  },
  {
   "cell_type": "code",
   "execution_count": 83,
   "metadata": {},
   "outputs": [
    {
     "data": {
      "text/plain": [
       "0.7958354494667343"
      ]
     },
     "execution_count": 83,
     "metadata": {},
     "output_type": "execute_result"
    }
   ],
   "source": [
    "sum((cross_pred_lowstates - y_low) <= 0)/len(y_low)"
   ]
  },
  {
   "cell_type": "code",
   "execution_count": 85,
   "metadata": {},
   "outputs": [
    {
     "data": {
      "text/plain": [
       "0.492831541218638"
      ]
     },
     "execution_count": 85,
     "metadata": {},
     "output_type": "execute_result"
    }
   ],
   "source": [
    "sum((cross_pred_highstates - y_high) >= 0)/len(y_high)"
   ]
  },
  {
   "cell_type": "markdown",
   "metadata": {},
   "source": [
    "### Feedforward NN"
   ]
  },
  {
   "cell_type": "code",
   "execution_count": null,
   "metadata": {},
   "outputs": [],
   "source": [
    "#set parameters\n",
    "n_units = 10\n",
    "drop_rate = 0.1\n",
    "optimizer = tf.keras.optimizers.Adam(lr = 0.0001)\n",
    "loss = 'mse'\n",
    "#metrics = ['accuracy']\n",
    "\n",
    "\n",
    "#define model\n",
    "model = tf.keras.Sequential()\n",
    "model.add(tf.keras.layers.Dense(n_units, activation = 'relu', input_shape = (34,)))\n",
    "#model.add(tf.keras.layers.Dropout(drop_rate))\n",
    "model.add(tf.keras.layers.Dense(n_units, activation='relu'))\n",
    "#model.add(tf.keras.layers.Dropout(drop_rate))\n",
    "model.add(tf.keras.layers.Dense(n_units, activation='relu'))\n",
    "#model.add(tf.keras.layers.Dropout(drop_rate))\n",
    "model.add(tf.keras.layers.Dense(1, activation='relu'))\n",
    "\n",
    "# Compile model\n",
    "model.compile(optimizer=optimizer, loss=loss)\n",
    "model.summary()"
   ]
  },
  {
   "cell_type": "code",
   "execution_count": null,
   "metadata": {},
   "outputs": [],
   "source": [
    "#!!!!!try scaling data better"
   ]
  },
  {
   "cell_type": "code",
   "execution_count": null,
   "metadata": {},
   "outputs": [],
   "source": [
    "batch_size = 16\n",
    "epochs = 30\n",
    "validation_split = 0.1\n",
    "verbose = 1\n",
    "\n",
    "history = model.fit(np.asarray(X_train), np.asarray(y_train), epochs=epochs, batch_size=batch_size, validation_split=validation_split, \n",
    "                    verbose=verbose)\n"
   ]
  },
  {
   "cell_type": "code",
   "execution_count": null,
   "metadata": {},
   "outputs": [],
   "source": [
    "#save model\n",
    "#model.save('saved_models/model')\n",
    "\n",
    "#load model\n",
    "#model = tf.keras.models.load_model('saved_models/model')"
   ]
  },
  {
   "cell_type": "code",
   "execution_count": null,
   "metadata": {},
   "outputs": [],
   "source": [
    "#plot acccruacies\n",
    "\n",
    "def plot_loss_vs_epoch(history, title):\n",
    "    fig, ax = plt.subplots(1, 1, figsize = (8, 5))\n",
    "    ax.plot(history['loss'], label = 'Train')\n",
    "    ax.plot(history['val_loss'], label = 'Validation')\n",
    "    ax.set_xlabel('Epoch', size = 13)\n",
    "    ax.set_ylabel('Loss', size = 13)\n",
    "    ax.set_title(title, size = 13)\n",
    "    ax.legend(fontsize = 13)\n",
    "    \n",
    "#plot loss vs. epochs\n",
    "plot_loss_vs_epoch(history.history, 'Model Training: Loss vs. Epochs')"
   ]
  },
  {
   "cell_type": "code",
   "execution_count": null,
   "metadata": {},
   "outputs": [],
   "source": [
    "#model predictions\n",
    "\n",
    "#predict states_high training set\n",
    "pred_stateshigh_train = model.predict(np.asarray(X_train))\n",
    "\n",
    "#predict states_high test set\n",
    "pred_stateshigh_test\n",
    "\n",
    "#predict states_low\n",
    "pred_stateslow\n",
    "\n",
    "#test model on states_low_data\n",
    "\n",
    "#check that states_high and states_low have similar distributions\n",
    "#check model performance with and without pm2.5 levels"
   ]
  }
 ],
 "metadata": {
  "kernelspec": {
   "display_name": "Python 3",
   "language": "python",
   "name": "python3"
  },
  "language_info": {
   "codemirror_mode": {
    "name": "ipython",
    "version": 3
   },
   "file_extension": ".py",
   "mimetype": "text/x-python",
   "name": "python",
   "nbconvert_exporter": "python",
   "pygments_lexer": "ipython3",
   "version": "3.7.2"
  }
 },
 "nbformat": 4,
 "nbformat_minor": 2
}
