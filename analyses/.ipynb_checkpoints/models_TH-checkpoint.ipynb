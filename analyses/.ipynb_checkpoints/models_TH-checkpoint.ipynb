{
 "cells": [
  {
   "cell_type": "markdown",
   "metadata": {},
   "source": [
    "# CS109b Final Project: \n",
    "# Air Pollution Exposure and COVID-19 Mortality in the U.S."
   ]
  },
  {
   "cell_type": "markdown",
   "metadata": {},
   "source": [
    "## Import libraries"
   ]
  },
  {
   "cell_type": "code",
   "execution_count": 1,
   "metadata": {},
   "outputs": [],
   "source": [
    "import numpy as np\n",
    "import seaborn as sns\n",
    "import pandas as pd\n",
    "import matplotlib.pyplot as plt\n",
    "import plotly.figure_factory as ff\n",
    "\n",
    "pd.options.display.max_rows = 500\n",
    "pd.options.display.max_columns = 500"
   ]
  },
  {
   "cell_type": "markdown",
   "metadata": {},
   "source": [
    "## Load and clean data"
   ]
  },
  {
   "cell_type": "code",
   "execution_count": 2,
   "metadata": {},
   "outputs": [],
   "source": [
    "data = pd.read_csv(\"./../PM_COVID-master/processed_data_05-03-2020.csv\")"
   ]
  },
  {
   "cell_type": "code",
   "execution_count": 3,
   "metadata": {},
   "outputs": [],
   "source": [
    "#load data\n",
    "#data = pd.read_csv('https://raw.githubusercontent.com/CS109b-Team37/Pollution-Prediction/master/PM_COVID-master/processed_data_04-24-2020.csv')"
   ]
  },
  {
   "cell_type": "code",
   "execution_count": 4,
   "metadata": {},
   "outputs": [],
   "source": [
    "#rename older_pecent to older_percent\n",
    "data = data.rename(columns={'older_pecent': 'older_percent'})\n",
    "\n",
    "#drop columns\n",
    "cols = list(data.columns)\n",
    "cols.remove('Unnamed: 0') #just a column of integers 1-21560\n",
    "#cols.remove('Province_State') #redundant information; already captured by 'state'\n",
    "cols.remove('Country_Region') #only US\n",
    "cols.remove('Combined_Key') #redundant information; already captured by 'Province_State' and 'Admin2'\n",
    "cols.remove('year.x') #only 2016\n",
    "cols.remove('year.y') #only 2012 and nan\n",
    "cols.remove('Population') #'older_pecent' was calculated by Population/older_Population\n",
    "cols.remove('older_Population') #'older_pecent' was calculated by Population/older_Population\n",
    "cols.remove('date') #only 20200502\n",
    "cols.remove('hash') #useless information\n",
    "cols.remove('dateChecked') #only '2020-05-02T20:00:00Z'\n",
    "cols.remove('Abbrev') #redundant information; already captured by 'state'\n",
    "cols.remove('total') #almost a repeat of 'totalTestResults'\n",
    "cols.remove('Recovered') #only 0\n",
    "data = data[cols]\n"
   ]
  },
  {
   "cell_type": "code",
   "execution_count": 5,
   "metadata": {
    "scrolled": true
   },
   "outputs": [
    {
     "data": {
      "text/plain": [
       "array(['2020-05-04 02:32:28', '3/30/20 22:52'], dtype=object)"
      ]
     },
     "execution_count": 5,
     "metadata": {},
     "output_type": "execute_result"
    }
   ],
   "source": [
    "data['Last_Update'].unique()"
   ]
  },
  {
   "cell_type": "code",
   "execution_count": 6,
   "metadata": {},
   "outputs": [],
   "source": [
    "#convert Last_Update to binary variable\n",
    "convert_dict = {'2020-05-04 02:32:28': 0, '3/30/20 22:52': 1}\n",
    "data = data.replace({'Last_Update': convert_dict})\n"
   ]
  },
  {
   "cell_type": "code",
   "execution_count": 7,
   "metadata": {
    "scrolled": true
   },
   "outputs": [
    {
     "name": "stdout",
     "output_type": "stream",
     "text": [
      "Variables with NA values:\n"
     ]
    },
    {
     "data": {
      "text/plain": [
       "smoke_rate                 867\n",
       "mean_bmi                   867\n",
       "Crude.Rate                   1\n",
       "older_percent                1\n",
       "pending                   2798\n",
       "hospitalizedCurrently      719\n",
       "hospitalizedCumulative    1276\n",
       "inIcuCurrently            1783\n",
       "inIcuCumulative           2345\n",
       "onVentilatorCurrently     1953\n",
       "onVentilatorCumulative    2839\n",
       "recovered                 1074\n",
       "hospitalized              1276\n",
       "beds                       811\n",
       "dtype: int64"
      ]
     },
     "metadata": {},
     "output_type": "display_data"
    }
   ],
   "source": [
    "#variables with NA values\n",
    "print('Variables with NA values:')\n",
    "display(data.isna().sum()[data.isna().sum() > 0])\n",
    "\n",
    "#remove variables with many NA values\n",
    "na_vars = list(data.isna().sum()[data.isna().sum() > 50].index) #variables with many NA values\n",
    "data = data[set(cols) - set(na_vars)] #final cleaned data"
   ]
  },
  {
   "cell_type": "code",
   "execution_count": 8,
   "metadata": {},
   "outputs": [
    {
     "name": "stdout",
     "output_type": "stream",
     "text": [
      "Rows with NA values:\n"
     ]
    },
    {
     "data": {
      "text/html": [
       "<div>\n",
       "<style scoped>\n",
       "    .dataframe tbody tr th:only-of-type {\n",
       "        vertical-align: middle;\n",
       "    }\n",
       "\n",
       "    .dataframe tbody tr th {\n",
       "        vertical-align: top;\n",
       "    }\n",
       "\n",
       "    .dataframe thead th {\n",
       "        text-align: right;\n",
       "    }\n",
       "</style>\n",
       "<table border=\"1\" class=\"dataframe\">\n",
       "  <thead>\n",
       "    <tr style=\"text-align: right;\">\n",
       "      <th></th>\n",
       "      <th>pct_blk</th>\n",
       "      <th>older_percent</th>\n",
       "      <th>mean_summer_temp</th>\n",
       "      <th>mean_pm25</th>\n",
       "      <th>death</th>\n",
       "      <th>deathIncrease</th>\n",
       "      <th>Province_State</th>\n",
       "      <th>pct_native</th>\n",
       "      <th>Admin2</th>\n",
       "      <th>positiveIncrease</th>\n",
       "      <th>Last_Update</th>\n",
       "      <th>pct_owner_occ</th>\n",
       "      <th>hospitalizedIncrease</th>\n",
       "      <th>poverty</th>\n",
       "      <th>popdensity</th>\n",
       "      <th>posNeg</th>\n",
       "      <th>totalTestResults</th>\n",
       "      <th>population</th>\n",
       "      <th>pct_white</th>\n",
       "      <th>Deaths</th>\n",
       "      <th>state</th>\n",
       "      <th>medianhousevalue</th>\n",
       "      <th>education</th>\n",
       "      <th>totalTestResults_county</th>\n",
       "      <th>mean_winter_rm</th>\n",
       "      <th>medhouseholdincome</th>\n",
       "      <th>Crude.Rate</th>\n",
       "      <th>pct_asian</th>\n",
       "      <th>hispanic</th>\n",
       "      <th>Active</th>\n",
       "      <th>Long_</th>\n",
       "      <th>mean_winter_temp</th>\n",
       "      <th>Confirmed</th>\n",
       "      <th>mean_summer_rm</th>\n",
       "      <th>totalTestResultsIncrease</th>\n",
       "      <th>positive</th>\n",
       "      <th>fips</th>\n",
       "      <th>negative</th>\n",
       "      <th>negativeIncrease</th>\n",
       "      <th>population_frac_county</th>\n",
       "      <th>q_popdensity</th>\n",
       "      <th>Lat</th>\n",
       "    </tr>\n",
       "  </thead>\n",
       "  <tbody>\n",
       "    <tr>\n",
       "      <th>2635</th>\n",
       "      <td>0.0</td>\n",
       "      <td>NaN</td>\n",
       "      <td>309.483185</td>\n",
       "      <td>5.685412</td>\n",
       "      <td>867</td>\n",
       "      <td>20</td>\n",
       "      <td>Texas</td>\n",
       "      <td>0.047619</td>\n",
       "      <td>Loving</td>\n",
       "      <td>1026</td>\n",
       "      <td>1</td>\n",
       "      <td>0.485714</td>\n",
       "      <td>0</td>\n",
       "      <td>0.631579</td>\n",
       "      <td>0.395035</td>\n",
       "      <td>390560</td>\n",
       "      <td>390560</td>\n",
       "      <td>63</td>\n",
       "      <td>0.857143</td>\n",
       "      <td>0</td>\n",
       "      <td>TX</td>\n",
       "      <td>89040.0</td>\n",
       "      <td>0.526316</td>\n",
       "      <td>0.91409</td>\n",
       "      <td>72.837808</td>\n",
       "      <td>55625.0</td>\n",
       "      <td>NaN</td>\n",
       "      <td>0.0</td>\n",
       "      <td>0.142857</td>\n",
       "      <td>0</td>\n",
       "      <td>-103.581857</td>\n",
       "      <td>290.213523</td>\n",
       "      <td>0</td>\n",
       "      <td>73.844694</td>\n",
       "      <td>9912</td>\n",
       "      <td>31548</td>\n",
       "      <td>48301</td>\n",
       "      <td>359012</td>\n",
       "      <td>8886</td>\n",
       "      <td>0.000002</td>\n",
       "      <td>1</td>\n",
       "      <td>31.849476</td>\n",
       "    </tr>\n",
       "  </tbody>\n",
       "</table>\n",
       "</div>"
      ],
      "text/plain": [
       "      pct_blk  older_percent  mean_summer_temp  mean_pm25  death  \\\n",
       "2635      0.0            NaN        309.483185   5.685412    867   \n",
       "\n",
       "      deathIncrease Province_State  pct_native  Admin2  positiveIncrease  \\\n",
       "2635             20          Texas    0.047619  Loving              1026   \n",
       "\n",
       "      Last_Update  pct_owner_occ  hospitalizedIncrease   poverty  popdensity  \\\n",
       "2635            1       0.485714                     0  0.631579    0.395035   \n",
       "\n",
       "      posNeg  totalTestResults  population  pct_white  Deaths state  \\\n",
       "2635  390560            390560          63   0.857143       0    TX   \n",
       "\n",
       "      medianhousevalue  education  totalTestResults_county  mean_winter_rm  \\\n",
       "2635           89040.0   0.526316                  0.91409       72.837808   \n",
       "\n",
       "      medhouseholdincome  Crude.Rate  pct_asian  hispanic  Active       Long_  \\\n",
       "2635             55625.0         NaN        0.0  0.142857       0 -103.581857   \n",
       "\n",
       "      mean_winter_temp  Confirmed  mean_summer_rm  totalTestResultsIncrease  \\\n",
       "2635        290.213523          0       73.844694                      9912   \n",
       "\n",
       "      positive   fips  negative  negativeIncrease  population_frac_county  \\\n",
       "2635     31548  48301    359012              8886                0.000002   \n",
       "\n",
       "      q_popdensity        Lat  \n",
       "2635             1  31.849476  "
      ]
     },
     "metadata": {},
     "output_type": "display_data"
    }
   ],
   "source": [
    "#both NA values are for Loving, Texas\n",
    "null_data = data[data.isnull().any(axis=1)]\n",
    "print('Rows with NA values:')\n",
    "display(null_data)\n",
    "\n",
    "#fill in NA values for 'Crude.Rate' and 'older_percent' with state average\n",
    "values = {'Crude.Rate': data.groupby('state').mean()['Crude.Rate']['TX'], 'older_percent': data.groupby('state').mean()['older_percent']['TX']}\n",
    "data = data.fillna(value=values)"
   ]
  },
  {
   "cell_type": "markdown",
   "metadata": {},
   "source": [
    "\n",
    "## TH code"
   ]
  },
  {
   "cell_type": "code",
   "execution_count": 9,
   "metadata": {},
   "outputs": [
    {
     "name": "stdout",
     "output_type": "stream",
     "text": [
      "tensorflow version 2.0.0\n",
      "keras version 2.2.4-tf\n"
     ]
    }
   ],
   "source": [
    "from sklearn.model_selection import train_test_split\n",
    "\n",
    "import tensorflow as tf\n",
    "from tensorflow.keras.utils import to_categorical\n",
    "from tensorflow.keras import backend\n",
    "from tensorflow.keras import Model, Sequential\n",
    "from tensorflow.keras.models import model_from_json\n",
    "from tensorflow.keras.layers import Input, SimpleRNN, Dense, TimeDistributed, GRU, \\\n",
    "                          Dropout, Bidirectional, Conv1D, BatchNormalization\n",
    "\n",
    "import statsmodels.api as sm\n",
    "import statsmodels.formula.api as smf\n",
    "\n",
    "print('tensorflow version', tf.__version__)\n",
    "print('keras version', tf.keras.__version__)"
   ]
  },
  {
   "cell_type": "markdown",
   "metadata": {},
   "source": [
    "### Prepare data; split states into two groups (high testing and low testing)"
   ]
  },
  {
   "cell_type": "code",
   "execution_count": 10,
   "metadata": {},
   "outputs": [],
   "source": [
    "#remove posNeg, since it is the same as totalTestResults\n",
    "cols = list(data.columns)\n",
    "cols.remove('posNeg') \n",
    "#cols.remove('Deaths') #remove deaths because we are trying to predict cases\n",
    "cols.remove('death')\n",
    "cols.remove('fips')\n",
    "cols.remove('state') #redundant, given Province_State\n",
    "cols.remove('Admin2') #county names\n",
    "cols.remove('Active') #pretty much a duplicate of confirmed cases\n",
    "dataTH = data[cols]\n"
   ]
  },
  {
   "cell_type": "code",
   "execution_count": 11,
   "metadata": {},
   "outputs": [],
   "source": [
    "#load tests data\n",
    "#directly from https://www.vox.com/2020/3/26/21193848/coronavirus-us-cases-deaths-tests-by-state (5/5/2020)\n",
    "#which got the data from COVID Tracking Project, Census Bureau\n",
    "tests_data = pd.read_csv(\"./../tests_data.csv\")\n"
   ]
  },
  {
   "cell_type": "code",
   "execution_count": 12,
   "metadata": {},
   "outputs": [
    {
     "data": {
      "text/html": [
       "<div>\n",
       "<style scoped>\n",
       "    .dataframe tbody tr th:only-of-type {\n",
       "        vertical-align: middle;\n",
       "    }\n",
       "\n",
       "    .dataframe tbody tr th {\n",
       "        vertical-align: top;\n",
       "    }\n",
       "\n",
       "    .dataframe thead th {\n",
       "        text-align: right;\n",
       "    }\n",
       "</style>\n",
       "<table border=\"1\" class=\"dataframe\">\n",
       "  <thead>\n",
       "    <tr style=\"text-align: right;\">\n",
       "      <th></th>\n",
       "      <th>state</th>\n",
       "      <th>confirmed_cases</th>\n",
       "      <th>deaths</th>\n",
       "      <th>tests_conducted</th>\n",
       "      <th>tests_per_million_people</th>\n",
       "      <th>tests_per_thousand_people</th>\n",
       "    </tr>\n",
       "  </thead>\n",
       "  <tbody>\n",
       "    <tr>\n",
       "      <th>55</th>\n",
       "      <td>Rhode Island</td>\n",
       "      <td>9477</td>\n",
       "      <td>320</td>\n",
       "      <td>71927</td>\n",
       "      <td>67897</td>\n",
       "      <td>67.897</td>\n",
       "    </tr>\n",
       "    <tr>\n",
       "      <th>54</th>\n",
       "      <td>New York</td>\n",
       "      <td>316415</td>\n",
       "      <td>19189</td>\n",
       "      <td>985911</td>\n",
       "      <td>50680</td>\n",
       "      <td>50.680</td>\n",
       "    </tr>\n",
       "    <tr>\n",
       "      <th>53</th>\n",
       "      <td>Massachusetts</td>\n",
       "      <td>68087</td>\n",
       "      <td>4004</td>\n",
       "      <td>314646</td>\n",
       "      <td>45650</td>\n",
       "      <td>45.650</td>\n",
       "    </tr>\n",
       "    <tr>\n",
       "      <th>52</th>\n",
       "      <td>North Dakota</td>\n",
       "      <td>1191</td>\n",
       "      <td>25</td>\n",
       "      <td>33353</td>\n",
       "      <td>43767</td>\n",
       "      <td>43.767</td>\n",
       "    </tr>\n",
       "    <tr>\n",
       "      <th>51</th>\n",
       "      <td>Utah</td>\n",
       "      <td>5175</td>\n",
       "      <td>50</td>\n",
       "      <td>122102</td>\n",
       "      <td>38086</td>\n",
       "      <td>38.086</td>\n",
       "    </tr>\n",
       "    <tr>\n",
       "      <th>50</th>\n",
       "      <td>Louisiana</td>\n",
       "      <td>29340</td>\n",
       "      <td>1969</td>\n",
       "      <td>176160</td>\n",
       "      <td>37894</td>\n",
       "      <td>37.894</td>\n",
       "    </tr>\n",
       "    <tr>\n",
       "      <th>49</th>\n",
       "      <td>New Mexico</td>\n",
       "      <td>3732</td>\n",
       "      <td>139</td>\n",
       "      <td>74944</td>\n",
       "      <td>35742</td>\n",
       "      <td>35.742</td>\n",
       "    </tr>\n",
       "    <tr>\n",
       "      <th>47</th>\n",
       "      <td>New Jersey</td>\n",
       "      <td>126744</td>\n",
       "      <td>7871</td>\n",
       "      <td>275707</td>\n",
       "      <td>31040</td>\n",
       "      <td>31.040</td>\n",
       "    </tr>\n",
       "    <tr>\n",
       "      <th>46</th>\n",
       "      <td>Tennessee</td>\n",
       "      <td>13177</td>\n",
       "      <td>210</td>\n",
       "      <td>204607</td>\n",
       "      <td>29961</td>\n",
       "      <td>29.961</td>\n",
       "    </tr>\n",
       "    <tr>\n",
       "      <th>44</th>\n",
       "      <td>West Virginia</td>\n",
       "      <td>1191</td>\n",
       "      <td>50</td>\n",
       "      <td>51638</td>\n",
       "      <td>28813</td>\n",
       "      <td>28.813</td>\n",
       "    </tr>\n",
       "    <tr>\n",
       "      <th>43</th>\n",
       "      <td>Connecticut</td>\n",
       "      <td>29287</td>\n",
       "      <td>2436</td>\n",
       "      <td>102493</td>\n",
       "      <td>28747</td>\n",
       "      <td>28.747</td>\n",
       "    </tr>\n",
       "    <tr>\n",
       "      <th>42</th>\n",
       "      <td>Washington</td>\n",
       "      <td>15003</td>\n",
       "      <td>830</td>\n",
       "      <td>207315</td>\n",
       "      <td>27225</td>\n",
       "      <td>27.225</td>\n",
       "    </tr>\n",
       "    <tr>\n",
       "      <th>41</th>\n",
       "      <td>Vermont</td>\n",
       "      <td>897</td>\n",
       "      <td>52</td>\n",
       "      <td>16954</td>\n",
       "      <td>27170</td>\n",
       "      <td>27.170</td>\n",
       "    </tr>\n",
       "    <tr>\n",
       "      <th>40</th>\n",
       "      <td>Mississippi</td>\n",
       "      <td>7550</td>\n",
       "      <td>303</td>\n",
       "      <td>77593</td>\n",
       "      <td>26072</td>\n",
       "      <td>26.072</td>\n",
       "    </tr>\n",
       "    <tr>\n",
       "      <th>39</th>\n",
       "      <td>Illinois</td>\n",
       "      <td>61499</td>\n",
       "      <td>2618</td>\n",
       "      <td>319313</td>\n",
       "      <td>25199</td>\n",
       "      <td>25.199</td>\n",
       "    </tr>\n",
       "    <tr>\n",
       "      <th>37</th>\n",
       "      <td>Delaware</td>\n",
       "      <td>5208</td>\n",
       "      <td>177</td>\n",
       "      <td>23737</td>\n",
       "      <td>24377</td>\n",
       "      <td>24.377</td>\n",
       "    </tr>\n",
       "    <tr>\n",
       "      <th>35</th>\n",
       "      <td>Maryland</td>\n",
       "      <td>25462</td>\n",
       "      <td>1281</td>\n",
       "      <td>132794</td>\n",
       "      <td>21965</td>\n",
       "      <td>21.965</td>\n",
       "    </tr>\n",
       "    <tr>\n",
       "      <th>34</th>\n",
       "      <td>Michigan</td>\n",
       "      <td>43754</td>\n",
       "      <td>4049</td>\n",
       "      <td>212532</td>\n",
       "      <td>21281</td>\n",
       "      <td>21.281</td>\n",
       "    </tr>\n",
       "    <tr>\n",
       "      <th>33</th>\n",
       "      <td>New Hampshire</td>\n",
       "      <td>2429</td>\n",
       "      <td>84</td>\n",
       "      <td>28613</td>\n",
       "      <td>21043</td>\n",
       "      <td>21.043</td>\n",
       "    </tr>\n",
       "    <tr>\n",
       "      <th>32</th>\n",
       "      <td>South Dakota</td>\n",
       "      <td>2631</td>\n",
       "      <td>21</td>\n",
       "      <td>18417</td>\n",
       "      <td>20818</td>\n",
       "      <td>20.818</td>\n",
       "    </tr>\n",
       "    <tr>\n",
       "      <th>30</th>\n",
       "      <td>Florida</td>\n",
       "      <td>36078</td>\n",
       "      <td>1403</td>\n",
       "      <td>429415</td>\n",
       "      <td>19993</td>\n",
       "      <td>19.993</td>\n",
       "    </tr>\n",
       "    <tr>\n",
       "      <th>29</th>\n",
       "      <td>Alabama</td>\n",
       "      <td>7725</td>\n",
       "      <td>290</td>\n",
       "      <td>92500</td>\n",
       "      <td>18865</td>\n",
       "      <td>18.865</td>\n",
       "    </tr>\n",
       "    <tr>\n",
       "      <th>28</th>\n",
       "      <td>Pennsylvania</td>\n",
       "      <td>49267</td>\n",
       "      <td>2444</td>\n",
       "      <td>240641</td>\n",
       "      <td>18797</td>\n",
       "      <td>18.797</td>\n",
       "    </tr>\n",
       "    <tr>\n",
       "      <th>27</th>\n",
       "      <td>California</td>\n",
       "      <td>53616</td>\n",
       "      <td>2215</td>\n",
       "      <td>715751</td>\n",
       "      <td>18115</td>\n",
       "      <td>18.115</td>\n",
       "    </tr>\n",
       "    <tr>\n",
       "      <th>26</th>\n",
       "      <td>Wyoming</td>\n",
       "      <td>579</td>\n",
       "      <td>7</td>\n",
       "      <td>10219</td>\n",
       "      <td>17657</td>\n",
       "      <td>17.657</td>\n",
       "    </tr>\n",
       "    <tr>\n",
       "      <th>25</th>\n",
       "      <td>Arkansas</td>\n",
       "      <td>3431</td>\n",
       "      <td>76</td>\n",
       "      <td>52890</td>\n",
       "      <td>17526</td>\n",
       "      <td>17.526</td>\n",
       "    </tr>\n",
       "    <tr>\n",
       "      <th>24</th>\n",
       "      <td>Iowa</td>\n",
       "      <td>9169</td>\n",
       "      <td>184</td>\n",
       "      <td>53186</td>\n",
       "      <td>16857</td>\n",
       "      <td>16.857</td>\n",
       "    </tr>\n",
       "    <tr>\n",
       "      <th>23</th>\n",
       "      <td>Idaho</td>\n",
       "      <td>2061</td>\n",
       "      <td>63</td>\n",
       "      <td>29807</td>\n",
       "      <td>16679</td>\n",
       "      <td>16.679</td>\n",
       "    </tr>\n",
       "    <tr>\n",
       "      <th>22</th>\n",
       "      <td>Georgia</td>\n",
       "      <td>28602</td>\n",
       "      <td>1177</td>\n",
       "      <td>175096</td>\n",
       "      <td>16491</td>\n",
       "      <td>16.491</td>\n",
       "    </tr>\n",
       "    <tr>\n",
       "      <th>21</th>\n",
       "      <td>Indiana</td>\n",
       "      <td>19933</td>\n",
       "      <td>1246</td>\n",
       "      <td>108859</td>\n",
       "      <td>16170</td>\n",
       "      <td>16.170</td>\n",
       "    </tr>\n",
       "    <tr>\n",
       "      <th>20</th>\n",
       "      <td>Nebraska</td>\n",
       "      <td>5326</td>\n",
       "      <td>76</td>\n",
       "      <td>31262</td>\n",
       "      <td>16161</td>\n",
       "      <td>16.161</td>\n",
       "    </tr>\n",
       "    <tr>\n",
       "      <th>19</th>\n",
       "      <td>Oklahoma</td>\n",
       "      <td>3972</td>\n",
       "      <td>238</td>\n",
       "      <td>63776</td>\n",
       "      <td>16117</td>\n",
       "      <td>16.117</td>\n",
       "    </tr>\n",
       "    <tr>\n",
       "      <th>18</th>\n",
       "      <td>Maine</td>\n",
       "      <td>1185</td>\n",
       "      <td>57</td>\n",
       "      <td>20731</td>\n",
       "      <td>15422</td>\n",
       "      <td>15.422</td>\n",
       "    </tr>\n",
       "    <tr>\n",
       "      <th>17</th>\n",
       "      <td>Wisconsin</td>\n",
       "      <td>7964</td>\n",
       "      <td>339</td>\n",
       "      <td>86192</td>\n",
       "      <td>14803</td>\n",
       "      <td>14.803</td>\n",
       "    </tr>\n",
       "    <tr>\n",
       "      <th>16</th>\n",
       "      <td>Oregon</td>\n",
       "      <td>2680</td>\n",
       "      <td>109</td>\n",
       "      <td>62054</td>\n",
       "      <td>14713</td>\n",
       "      <td>14.713</td>\n",
       "    </tr>\n",
       "    <tr>\n",
       "      <th>15</th>\n",
       "      <td>Nevada</td>\n",
       "      <td>5426</td>\n",
       "      <td>257</td>\n",
       "      <td>45269</td>\n",
       "      <td>14697</td>\n",
       "      <td>14.697</td>\n",
       "    </tr>\n",
       "    <tr>\n",
       "      <th>14</th>\n",
       "      <td>Minnesota</td>\n",
       "      <td>6663</td>\n",
       "      <td>419</td>\n",
       "      <td>82632</td>\n",
       "      <td>14652</td>\n",
       "      <td>14.652</td>\n",
       "    </tr>\n",
       "    <tr>\n",
       "      <th>13</th>\n",
       "      <td>Montana</td>\n",
       "      <td>455</td>\n",
       "      <td>16</td>\n",
       "      <td>15007</td>\n",
       "      <td>14041</td>\n",
       "      <td>14.041</td>\n",
       "    </tr>\n",
       "    <tr>\n",
       "      <th>12</th>\n",
       "      <td>Colorado</td>\n",
       "      <td>16225</td>\n",
       "      <td>832</td>\n",
       "      <td>79906</td>\n",
       "      <td>13876</td>\n",
       "      <td>13.876</td>\n",
       "    </tr>\n",
       "    <tr>\n",
       "      <th>11</th>\n",
       "      <td>North Carolina</td>\n",
       "      <td>11664</td>\n",
       "      <td>422</td>\n",
       "      <td>143835</td>\n",
       "      <td>13714</td>\n",
       "      <td>13.714</td>\n",
       "    </tr>\n",
       "    <tr>\n",
       "      <th>10</th>\n",
       "      <td>Missouri</td>\n",
       "      <td>8386</td>\n",
       "      <td>352</td>\n",
       "      <td>82976</td>\n",
       "      <td>13520</td>\n",
       "      <td>13.520</td>\n",
       "    </tr>\n",
       "    <tr>\n",
       "      <th>9</th>\n",
       "      <td>Texas</td>\n",
       "      <td>31548</td>\n",
       "      <td>867</td>\n",
       "      <td>390560</td>\n",
       "      <td>13469</td>\n",
       "      <td>13.469</td>\n",
       "    </tr>\n",
       "    <tr>\n",
       "      <th>8</th>\n",
       "      <td>Kentucky</td>\n",
       "      <td>4879</td>\n",
       "      <td>248</td>\n",
       "      <td>57649</td>\n",
       "      <td>12904</td>\n",
       "      <td>12.904</td>\n",
       "    </tr>\n",
       "    <tr>\n",
       "      <th>7</th>\n",
       "      <td>Ohio</td>\n",
       "      <td>19914</td>\n",
       "      <td>1038</td>\n",
       "      <td>150166</td>\n",
       "      <td>12847</td>\n",
       "      <td>12.847</td>\n",
       "    </tr>\n",
       "    <tr>\n",
       "      <th>6</th>\n",
       "      <td>Virginia</td>\n",
       "      <td>18671</td>\n",
       "      <td>660</td>\n",
       "      <td>108467</td>\n",
       "      <td>12708</td>\n",
       "      <td>12.708</td>\n",
       "    </tr>\n",
       "    <tr>\n",
       "      <th>5</th>\n",
       "      <td>Kansas</td>\n",
       "      <td>5030</td>\n",
       "      <td>134</td>\n",
       "      <td>36778</td>\n",
       "      <td>12624</td>\n",
       "      <td>12.624</td>\n",
       "    </tr>\n",
       "    <tr>\n",
       "      <th>4</th>\n",
       "      <td>South Carolina</td>\n",
       "      <td>6626</td>\n",
       "      <td>275</td>\n",
       "      <td>64188</td>\n",
       "      <td>12467</td>\n",
       "      <td>12.467</td>\n",
       "    </tr>\n",
       "    <tr>\n",
       "      <th>3</th>\n",
       "      <td>Arizona</td>\n",
       "      <td>8640</td>\n",
       "      <td>362</td>\n",
       "      <td>81119</td>\n",
       "      <td>11145</td>\n",
       "      <td>11.145</td>\n",
       "    </tr>\n",
       "  </tbody>\n",
       "</table>\n",
       "</div>"
      ],
      "text/plain": [
       "             state  confirmed_cases  deaths  tests_conducted  \\\n",
       "55    Rhode Island             9477     320            71927   \n",
       "54        New York           316415   19189           985911   \n",
       "53   Massachusetts            68087    4004           314646   \n",
       "52    North Dakota             1191      25            33353   \n",
       "51            Utah             5175      50           122102   \n",
       "50       Louisiana            29340    1969           176160   \n",
       "49      New Mexico             3732     139            74944   \n",
       "47      New Jersey           126744    7871           275707   \n",
       "46       Tennessee            13177     210           204607   \n",
       "44   West Virginia             1191      50            51638   \n",
       "43     Connecticut            29287    2436           102493   \n",
       "42      Washington            15003     830           207315   \n",
       "41         Vermont              897      52            16954   \n",
       "40     Mississippi             7550     303            77593   \n",
       "39        Illinois            61499    2618           319313   \n",
       "37        Delaware             5208     177            23737   \n",
       "35        Maryland            25462    1281           132794   \n",
       "34        Michigan            43754    4049           212532   \n",
       "33   New Hampshire             2429      84            28613   \n",
       "32    South Dakota             2631      21            18417   \n",
       "30         Florida            36078    1403           429415   \n",
       "29         Alabama             7725     290            92500   \n",
       "28    Pennsylvania            49267    2444           240641   \n",
       "27      California            53616    2215           715751   \n",
       "26         Wyoming              579       7            10219   \n",
       "25        Arkansas             3431      76            52890   \n",
       "24            Iowa             9169     184            53186   \n",
       "23           Idaho             2061      63            29807   \n",
       "22         Georgia            28602    1177           175096   \n",
       "21         Indiana            19933    1246           108859   \n",
       "20        Nebraska             5326      76            31262   \n",
       "19        Oklahoma             3972     238            63776   \n",
       "18           Maine             1185      57            20731   \n",
       "17       Wisconsin             7964     339            86192   \n",
       "16          Oregon             2680     109            62054   \n",
       "15          Nevada             5426     257            45269   \n",
       "14       Minnesota             6663     419            82632   \n",
       "13         Montana              455      16            15007   \n",
       "12        Colorado            16225     832            79906   \n",
       "11  North Carolina            11664     422           143835   \n",
       "10        Missouri             8386     352            82976   \n",
       "9            Texas            31548     867           390560   \n",
       "8         Kentucky             4879     248            57649   \n",
       "7             Ohio            19914    1038           150166   \n",
       "6         Virginia            18671     660           108467   \n",
       "5           Kansas             5030     134            36778   \n",
       "4   South Carolina             6626     275            64188   \n",
       "3          Arizona             8640     362            81119   \n",
       "\n",
       "    tests_per_million_people  tests_per_thousand_people  \n",
       "55                     67897                     67.897  \n",
       "54                     50680                     50.680  \n",
       "53                     45650                     45.650  \n",
       "52                     43767                     43.767  \n",
       "51                     38086                     38.086  \n",
       "50                     37894                     37.894  \n",
       "49                     35742                     35.742  \n",
       "47                     31040                     31.040  \n",
       "46                     29961                     29.961  \n",
       "44                     28813                     28.813  \n",
       "43                     28747                     28.747  \n",
       "42                     27225                     27.225  \n",
       "41                     27170                     27.170  \n",
       "40                     26072                     26.072  \n",
       "39                     25199                     25.199  \n",
       "37                     24377                     24.377  \n",
       "35                     21965                     21.965  \n",
       "34                     21281                     21.281  \n",
       "33                     21043                     21.043  \n",
       "32                     20818                     20.818  \n",
       "30                     19993                     19.993  \n",
       "29                     18865                     18.865  \n",
       "28                     18797                     18.797  \n",
       "27                     18115                     18.115  \n",
       "26                     17657                     17.657  \n",
       "25                     17526                     17.526  \n",
       "24                     16857                     16.857  \n",
       "23                     16679                     16.679  \n",
       "22                     16491                     16.491  \n",
       "21                     16170                     16.170  \n",
       "20                     16161                     16.161  \n",
       "19                     16117                     16.117  \n",
       "18                     15422                     15.422  \n",
       "17                     14803                     14.803  \n",
       "16                     14713                     14.713  \n",
       "15                     14697                     14.697  \n",
       "14                     14652                     14.652  \n",
       "13                     14041                     14.041  \n",
       "12                     13876                     13.876  \n",
       "11                     13714                     13.714  \n",
       "10                     13520                     13.520  \n",
       "9                      13469                     13.469  \n",
       "8                      12904                     12.904  \n",
       "7                      12847                     12.847  \n",
       "6                      12708                     12.708  \n",
       "5                      12624                     12.624  \n",
       "4                      12467                     12.467  \n",
       "3                      11145                     11.145  "
      ]
     },
     "execution_count": 12,
     "metadata": {},
     "output_type": "execute_result"
    }
   ],
   "source": [
    "#subset data to only include the 49 states in our dataset\n",
    "states_in_data = dataTH['Province_State'].unique()\n",
    "tests_data_sub = tests_data.loc[tests_data['state'].isin(states_in_data)]\n",
    "\n",
    "#remove DC from the dataset because our data only has one observation for DC\n",
    "tests_data_sub = tests_data_sub[tests_data_sub['state'] != 'District of Columbia']\n",
    "\n",
    "#examine dataset\n",
    "tests_data_sub.sort_values(by='tests_per_thousand_people', ascending=False)"
   ]
  },
  {
   "cell_type": "code",
   "execution_count": 13,
   "metadata": {},
   "outputs": [
    {
     "data": {
      "image/png": "[encoded data removed]",
      "text/plain": [
       "<Figure size 648x432 with 1 Axes>"
      ]
     },
     "metadata": {
      "needs_background": "light"
     },
     "output_type": "display_data"
    }
   ],
   "source": [
    "#states that conduct more testing have more confirmed cases\n",
    "fig, ax = plt.subplots(1, 1, figsize = (9, 6))\n",
    "ax.scatter(tests_data_sub['tests_per_thousand_people'], tests_data_sub['confirmed_cases'])\n",
    "ax.set_title('Confirmed cases vs. tests per thousand people (state-level)')\n",
    "ax.set_xlabel('Tests per thousand people')\n",
    "ax.set_ylabel('Confirmed cases');"
   ]
  },
  {
   "cell_type": "code",
   "execution_count": 14,
   "metadata": {},
   "outputs": [
    {
     "data": {
      "image/png": "[encoded data removed]",
      "text/plain": [
       "<Figure size 432x288 with 1 Axes>"
      ]
     },
     "metadata": {
      "needs_background": "light"
     },
     "output_type": "display_data"
    }
   ],
   "source": [
    "#plot distribution of tests_per_thousand_people; find cutoff\n",
    "\n",
    "#ax = sns.distplot(tests_data_sub['tests_per_thousand_people']) #histogram\n",
    "#ax = sns.boxplot(x=tests_data_sub['tests_per_thousand_people']) #boxplot\n",
    "ax = sns.violinplot(x=tests_data_sub['tests_per_thousand_people']) #violinplot\n",
    "ax.set_title('Distribution of tests per thousand people (state-level)')\n",
    "ax.set_xlabel('Tests per thousand people');"
   ]
  },
  {
   "cell_type": "code",
   "execution_count": 15,
   "metadata": {},
   "outputs": [
    {
     "name": "stdout",
     "output_type": "stream",
     "text": [
      "Number of states with high levels of testing: 24\n",
      "Number of states with low levels of testing: 24\n"
     ]
    }
   ],
   "source": [
    "#divide states into states that have high testing and states that have low testing\n",
    "\n",
    "threshold = np.median(tests_data_sub['tests_per_thousand_people'])\n",
    "#threshold = np.quantile(tests_data_sub['tests_per_thousand_people'], 0.25)\n",
    "states_high = tests_data_sub[tests_data_sub['tests_per_thousand_people'] >= threshold].state.values\n",
    "states_low = tests_data_sub[tests_data_sub['tests_per_thousand_people'] < threshold].state.values\n",
    "\n",
    "#split data based on these two groups\n",
    "states_high_data = dataTH.loc[dataTH['Province_State'].isin(states_high)]\n",
    "states_low_data = dataTH.loc[dataTH['Province_State'].isin(states_low)]\n",
    "\n",
    "print('Number of states with high levels of testing:', len(states_high))\n",
    "print('Number of states with low levels of testing:', len(states_low))"
   ]
  },
  {
   "cell_type": "code",
   "execution_count": 16,
   "metadata": {},
   "outputs": [],
   "source": [
    "#train model on states that have high testing\n",
    "#once model is fully developed, apply it to states that have low testing\n",
    "\n",
    "###data for states with high testing\n",
    "X_high = states_high_data.loc[:, states_high_data.columns != 'Confirmed']\n",
    "X_high = X_high.loc[:, X_high.columns != 'Province_State'] #remove states column; need to remove at this step and not earlier because states were used to stratify data\n",
    "X_high = X_high.loc[:, X_high.columns != 'Deaths'] #remove Deaths column\n",
    "y_high = states_high_data['Confirmed']\n",
    "X_high_train, X_high_test, y_high_train, y_high_test = train_test_split(X_high, y_high, test_size=0.10, random_state=42) #split states_high_data into train and test sets\n",
    "\n",
    "###data for states with low testing\n",
    "X_low = states_low_data.loc[:, states_low_data.columns != 'Confirmed']\n",
    "X_low = X_low.loc[:, X_low.columns != 'Province_State'] #remove states column; need to remove at this step and not earlier because states were used to stratify data\n",
    "X_low = X_low.loc[:, X_low.columns != 'Deaths'] #remove Deaths column\n",
    "y_low = states_low_data['Confirmed']\n",
    "X_low_train, X_low_test, y_low_train, y_low_test = train_test_split(X_low, y_low, test_size=0.10, random_state=42) #split states_high_data into train and test sets\n"
   ]
  },
  {
   "cell_type": "code",
   "execution_count": 17,
   "metadata": {},
   "outputs": [],
   "source": [
    "###data for all states --- with state variable\n",
    "X = dataTH.loc[:, dataTH.columns != 'Confirmed']\n",
    "X = X.loc[:, X.columns != 'Province_State'] #remove states column; need to remove at this step and not earlier because states were used to stratify data\n",
    "X = X.loc[:, X.columns != 'Deaths'] #remove Deaths column\n",
    "y = dataTH['Confirmed']\n",
    "X_train, X_test, y_train, y_test = train_test_split(X, y, test_size=0.10, random_state=42) #split states_high_data into train and test sets\n",
    "\n",
    "###data used for multilevel models\n",
    "data_mlm = dataTH.copy(deep=True)\n",
    "#add state type (high or low level of testing)\n",
    "data_mlm.loc[data_mlm['Province_State'].isin(states_low), 'state_type'] = 0 #low states\n",
    "data_mlm.loc[~data_mlm['Province_State'].isin(states_low), 'state_type'] = 1 #high states\n",
    "#take the log of variables of large magnitudes to scale them\n",
    "data_mlm['log_medianhousevalue'] = np.log(data_mlm['medianhousevalue'])\n",
    "data_mlm['log_medhouseholdincome'] = np.log(data_mlm['medhouseholdincome'])\n",
    "data_mlm['log_totalTestResults'] = np.log(data_mlm['totalTestResults'])\n",
    "data_mlm['log_population'] = np.log(data_mlm['population'])\n",
    "data_mlm['log_totalTestResults_county'] = np.log(data_mlm['totalTestResults_county'])\n"
   ]
  },
  {
   "cell_type": "markdown",
   "metadata": {},
   "source": [
    "### Mixed effects model examining the relationship between deaths and PM2.5"
   ]
  },
  {
   "cell_type": "code",
   "execution_count": 18,
   "metadata": {},
   "outputs": [],
   "source": [
    "#write equation\n",
    "a = 'Deaths ~ mean_pm25 + poverty + q_popdensity + log_medianhousevalue + log_medhouseholdincome + pct_owner_occ + hispanic +'\n",
    "b = 'education + pct_blk + older_percent + mean_summer_temp + mean_winter_temp + mean_summer_rm + mean_winter_rm +'\n",
    "c = 'log_totalTestResults + log_population'\n",
    "equation_pm25 = a+b+c"
   ]
  },
  {
   "cell_type": "code",
   "execution_count": 19,
   "metadata": {},
   "outputs": [
    {
     "name": "stdout",
     "output_type": "stream",
     "text": [
      "                  Mixed Linear Model Regression Results\n",
      "=========================================================================\n",
      "Model:                  MixedLM      Dependent Variable:      Deaths     \n",
      "No. Observations:       3086         Method:                  REML       \n",
      "No. Groups:             49           Scale:                   113914.7763\n",
      "Min. group size:        1            Log-Likelihood:          -22297.3002\n",
      "Max. group size:        253          Converged:               Yes        \n",
      "Mean group size:        63.0                                             \n",
      "-------------------------------------------------------------------------\n",
      "                         Coef.   Std.Err.   z    P>|z|   [0.025   0.975] \n",
      "-------------------------------------------------------------------------\n",
      "Intercept              -1232.196 1305.112 -0.944 0.345 -3790.169 1325.778\n",
      "mean_pm25                 20.280    5.744  3.531 0.000     9.022   31.538\n",
      "poverty                  391.211  135.797  2.881 0.004   125.054  657.368\n",
      "q_popdensity             -48.774   10.543 -4.626 0.000   -69.437  -28.111\n",
      "log_medianhousevalue     105.076   27.263  3.854 0.000    51.641  158.510\n",
      "log_medhouseholdincome   129.656   46.649  2.779 0.005    38.226  221.086\n",
      "pct_owner_occ           -705.670   93.007 -7.587 0.000  -887.960 -523.379\n",
      "hispanic                  12.643   76.848  0.165 0.869  -137.975  163.262\n",
      "education                166.057   92.198  1.801 0.072   -14.648  346.762\n",
      "pct_blk                  -27.556   68.213 -0.404 0.686  -161.251  106.140\n",
      "older_percent            998.260  205.142  4.866 0.000   596.189 1400.331\n",
      "mean_summer_temp           3.563    5.236  0.680 0.496    -6.699   13.824\n",
      "mean_winter_temp          -7.507    2.894 -2.594 0.009   -13.179   -1.835\n",
      "mean_summer_rm             0.860    1.264  0.681 0.496    -1.618    3.338\n",
      "mean_winter_rm            -7.579    2.118 -3.578 0.000   -11.730   -3.428\n",
      "log_totalTestResults      20.856   13.205  1.579 0.114    -5.026   46.738\n",
      "log_population            23.999    8.180  2.934 0.003     7.966   40.031\n",
      "Group Var               3659.724    4.192                                \n",
      "=========================================================================\n",
      "\n"
     ]
    }
   ],
   "source": [
    "#fit model and print summary\n",
    "mlm_pm25 = smf.mixedlm(equation_pm25, data_mlm, groups=data[\"Province_State\"]) #random-intercept\n",
    "mlm_pm25_fit = mlm_pm25.fit()\n",
    "print(mlm_pm25_fit.summary())"
   ]
  },
  {
   "cell_type": "markdown",
   "metadata": {},
   "source": [
    "### Random forest"
   ]
  },
  {
   "cell_type": "code",
   "execution_count": 20,
   "metadata": {},
   "outputs": [],
   "source": [
    "import sklearn\n",
    "from sklearn.ensemble import RandomForestRegressor\n",
    "from sklearn.metrics import mean_squared_error\n",
    "from itertools import product\n",
    "from sklearn.model_selection import cross_val_score\n"
   ]
  },
  {
   "cell_type": "markdown",
   "metadata": {},
   "source": [
    "##### Random forest model for all states"
   ]
  },
  {
   "cell_type": "code",
   "execution_count": 21,
   "metadata": {
    "scrolled": true
   },
   "outputs": [
    {
     "name": "stdout",
     "output_type": "stream",
     "text": [
      "1/63 complete\n",
      "2/63 complete\n",
      "3/63 complete\n",
      "4/63 complete\n",
      "5/63 complete\n",
      "6/63 complete\n",
      "7/63 complete\n",
      "8/63 complete\n",
      "9/63 complete\n",
      "10/63 complete\n",
      "11/63 complete\n",
      "12/63 complete\n",
      "13/63 complete\n",
      "14/63 complete\n",
      "15/63 complete\n",
      "16/63 complete\n",
      "17/63 complete\n",
      "18/63 complete\n",
      "19/63 complete\n",
      "20/63 complete\n",
      "21/63 complete\n",
      "22/63 complete\n",
      "23/63 complete\n",
      "24/63 complete\n",
      "25/63 complete\n",
      "26/63 complete\n",
      "27/63 complete\n",
      "28/63 complete\n",
      "29/63 complete\n",
      "30/63 complete\n",
      "31/63 complete\n",
      "32/63 complete\n",
      "33/63 complete\n",
      "34/63 complete\n",
      "35/63 complete\n",
      "36/63 complete\n",
      "37/63 complete\n",
      "38/63 complete\n",
      "39/63 complete\n",
      "40/63 complete\n",
      "41/63 complete\n",
      "42/63 complete\n",
      "43/63 complete\n",
      "44/63 complete\n",
      "45/63 complete\n",
      "46/63 complete\n",
      "47/63 complete\n",
      "48/63 complete\n",
      "49/63 complete\n",
      "50/63 complete\n",
      "51/63 complete\n",
      "52/63 complete\n",
      "53/63 complete\n",
      "54/63 complete\n",
      "55/63 complete\n",
      "56/63 complete\n",
      "57/63 complete\n",
      "58/63 complete\n",
      "59/63 complete\n",
      "60/63 complete\n",
      "61/63 complete\n",
      "62/63 complete\n",
      "63/63 complete\n"
     ]
    }
   ],
   "source": [
    "###tune n_trees and tree_depth using cross validation\n",
    "\n",
    "#parameter values to test\n",
    "np.random.seed(42)\n",
    "n_trees_list = list(range(100, 501, 50))\n",
    "tree_depth_list = list(range(5, 40, 5))\n",
    "n_features = X_train.shape[1]\n",
    "counter = 0\n",
    "\n",
    "#create df to store cross validation results\n",
    "RF_all_df = pd.DataFrame(list(product(n_trees_list, tree_depth_list)), columns=['n_trees_list', 'tree_depth_list'])\n",
    "\n",
    "#perform cross validation and store results\n",
    "for n_trees in n_trees_list:\n",
    "    for tree_depth in tree_depth_list:\n",
    "        #set up model; perform 5-fold CV\n",
    "        RF = RandomForestRegressor(n_estimators=n_trees, max_depth=tree_depth, criterion='mse', max_features='sqrt', n_jobs=-1)\n",
    "        ###model\n",
    "        cv_scores = cross_val_score(estimator=RF, X=X_train, y=y_train, scoring='neg_mean_squared_error', cv=5, n_jobs=-1)\n",
    "        #calculate results\n",
    "        cv_mean_mse = cv_scores.mean() #average mse of all 5 folds\n",
    "        cv_sd = np.std(cv_scores) #standard deviation of all 5 folds\n",
    "        #store results in df\n",
    "        RF_all_df.loc[(RF_all_df.n_trees_list == n_trees) & (RF_all_df.tree_depth_list == tree_depth), 'cv_mean_mse'] = cv_mean_mse\n",
    "        RF_all_df.loc[(RF_all_df.n_trees_list == n_trees) & (RF_all_df.tree_depth_list == tree_depth), 'cv_sd'] = cv_sd\n",
    "        counter+=1\n",
    "        print(f'{counter}/{len(n_trees_list)*len(tree_depth_list)} complete')\n",
    "\n",
    "#convert MSE values to positive (metric was neg_mean_squared_error)\n",
    "RF_all_df['cv_mean_mse'] = np.abs(RF_all_df['cv_mean_mse'])\n"
   ]
  },
  {
   "cell_type": "code",
   "execution_count": 22,
   "metadata": {},
   "outputs": [
    {
     "data": {
      "text/html": [
       "<div>\n",
       "<style scoped>\n",
       "    .dataframe tbody tr th:only-of-type {\n",
       "        vertical-align: middle;\n",
       "    }\n",
       "\n",
       "    .dataframe tbody tr th {\n",
       "        vertical-align: top;\n",
       "    }\n",
       "\n",
       "    .dataframe thead th {\n",
       "        text-align: right;\n",
       "    }\n",
       "</style>\n",
       "<table border=\"1\" class=\"dataframe\">\n",
       "  <thead>\n",
       "    <tr style=\"text-align: right;\">\n",
       "      <th></th>\n",
       "      <th>n_trees_list</th>\n",
       "      <th>tree_depth_list</th>\n",
       "      <th>cv_mean_mse</th>\n",
       "      <th>cv_sd</th>\n",
       "    </tr>\n",
       "  </thead>\n",
       "  <tbody>\n",
       "    <tr>\n",
       "      <th>0</th>\n",
       "      <td>100</td>\n",
       "      <td>5</td>\n",
       "      <td>1.293405e+07</td>\n",
       "      <td>1.750751e+07</td>\n",
       "    </tr>\n",
       "    <tr>\n",
       "      <th>1</th>\n",
       "      <td>100</td>\n",
       "      <td>10</td>\n",
       "      <td>1.222075e+07</td>\n",
       "      <td>1.766041e+07</td>\n",
       "    </tr>\n",
       "    <tr>\n",
       "      <th>2</th>\n",
       "      <td>100</td>\n",
       "      <td>15</td>\n",
       "      <td>1.226353e+07</td>\n",
       "      <td>1.750981e+07</td>\n",
       "    </tr>\n",
       "    <tr>\n",
       "      <th>3</th>\n",
       "      <td>100</td>\n",
       "      <td>20</td>\n",
       "      <td>1.223023e+07</td>\n",
       "      <td>1.779426e+07</td>\n",
       "    </tr>\n",
       "    <tr>\n",
       "      <th>4</th>\n",
       "      <td>100</td>\n",
       "      <td>25</td>\n",
       "      <td>1.226769e+07</td>\n",
       "      <td>1.739283e+07</td>\n",
       "    </tr>\n",
       "  </tbody>\n",
       "</table>\n",
       "</div>"
      ],
      "text/plain": [
       "   n_trees_list  tree_depth_list   cv_mean_mse         cv_sd\n",
       "0           100                5  1.293405e+07  1.750751e+07\n",
       "1           100               10  1.222075e+07  1.766041e+07\n",
       "2           100               15  1.226353e+07  1.750981e+07\n",
       "3           100               20  1.223023e+07  1.779426e+07\n",
       "4           100               25  1.226769e+07  1.739283e+07"
      ]
     },
     "execution_count": 22,
     "metadata": {},
     "output_type": "execute_result"
    }
   ],
   "source": [
    "RF_all_df.head()"
   ]
  },
  {
   "cell_type": "code",
   "execution_count": 23,
   "metadata": {},
   "outputs": [
    {
     "name": "stdout",
     "output_type": "stream",
     "text": [
      "Random forest model, n_trees, determined by CV: 500\n",
      "Random forest model, tree_depth, determined by CV: 15\n",
      "Random forest, MSE, training set: 1464640.0023500775\n",
      "Random forest, MSE, test set: 301811.0392293823\n"
     ]
    }
   ],
   "source": [
    "### random forest model for using data for all states\n",
    "\n",
    "#choose n_trees and tree_depth combination with the lowest difference between CV MSE and training set MSE (least overfit)\n",
    "np.random.seed(42)\n",
    "n_trees_best = int(RF_all_df.iloc[RF_all_df['cv_mean_mse'].idxmin()]['n_trees_list'])\n",
    "tree_depth_best = int(RF_all_df.iloc[RF_all_df['cv_mean_mse'].idxmin()]['tree_depth_list'])\n",
    "print('Random forest model, n_trees, determined by CV:', n_trees_best)\n",
    "print('Random forest model, tree_depth, determined by CV:', tree_depth_best)\n",
    "\n",
    "#train final random forest\n",
    "RF = RandomForestRegressor(n_estimators=n_trees_best, max_depth=tree_depth_best, criterion='mse', max_features='sqrt')\n",
    "RF.fit(X_train, y_train)\n",
    "\n",
    "#performance evaluation\n",
    "pred_train = RF.predict(X_train)\n",
    "pred_test = RF.predict(X_test)\n",
    "print('Random forest, MSE, training set:', mean_squared_error(y_train, pred_train))\n",
    "print('Random forest, MSE, test set:', mean_squared_error(y_test, pred_test))\n"
   ]
  },
  {
   "cell_type": "code",
   "execution_count": 24,
   "metadata": {},
   "outputs": [
    {
     "data": {
      "image/png": "[encoded data removed]",
      "text/plain": [
       "<Figure size 720x576 with 1 Axes>"
      ]
     },
     "metadata": {
      "needs_background": "light"
     },
     "output_type": "display_data"
    }
   ],
   "source": [
    "features = X_train.columns\n",
    "importances = RF.feature_importances_\n",
    "indices = np.argsort(importances)\n",
    "\n",
    "plt.figure(figsize=(10,8))\n",
    "plt.title('Feature Importances')\n",
    "plt.barh(range(len(indices)), importances[indices], color='b', align='center')\n",
    "plt.yticks(range(len(indices)), [features[i] for i in indices])\n",
    "plt.xlabel('Relative Importance')\n",
    "plt.ylabel('Features');"
   ]
  },
  {
   "cell_type": "markdown",
   "metadata": {},
   "source": [
    "##### Random forest model for high states and low states"
   ]
  },
  {
   "cell_type": "code",
   "execution_count": 25,
   "metadata": {
    "scrolled": true
   },
   "outputs": [
    {
     "name": "stdout",
     "output_type": "stream",
     "text": [
      "1/63 complete\n",
      "2/63 complete\n",
      "3/63 complete\n",
      "4/63 complete\n",
      "5/63 complete\n",
      "6/63 complete\n",
      "7/63 complete\n",
      "8/63 complete\n",
      "9/63 complete\n",
      "10/63 complete\n",
      "11/63 complete\n",
      "12/63 complete\n",
      "13/63 complete\n",
      "14/63 complete\n",
      "15/63 complete\n",
      "16/63 complete\n",
      "17/63 complete\n",
      "18/63 complete\n",
      "19/63 complete\n",
      "20/63 complete\n",
      "21/63 complete\n",
      "22/63 complete\n",
      "23/63 complete\n",
      "24/63 complete\n",
      "25/63 complete\n",
      "26/63 complete\n",
      "27/63 complete\n",
      "28/63 complete\n",
      "29/63 complete\n",
      "30/63 complete\n",
      "31/63 complete\n",
      "32/63 complete\n",
      "33/63 complete\n",
      "34/63 complete\n",
      "35/63 complete\n",
      "36/63 complete\n",
      "37/63 complete\n",
      "38/63 complete\n",
      "39/63 complete\n",
      "40/63 complete\n",
      "41/63 complete\n",
      "42/63 complete\n",
      "43/63 complete\n",
      "44/63 complete\n",
      "45/63 complete\n",
      "46/63 complete\n",
      "47/63 complete\n",
      "48/63 complete\n",
      "49/63 complete\n",
      "50/63 complete\n",
      "51/63 complete\n",
      "52/63 complete\n",
      "53/63 complete\n",
      "54/63 complete\n",
      "55/63 complete\n",
      "56/63 complete\n",
      "57/63 complete\n",
      "58/63 complete\n",
      "59/63 complete\n",
      "60/63 complete\n",
      "61/63 complete\n",
      "62/63 complete\n",
      "63/63 complete\n"
     ]
    }
   ],
   "source": [
    "###tune n_trees and tree_depth using cross validation\n",
    "\n",
    "#parameter values to test\n",
    "np.random.seed(123)\n",
    "n_trees_list = list(range(100, 501, 50))\n",
    "tree_depth_list = list(range(5, 40, 5))\n",
    "counter = 0\n",
    "\n",
    "#create df to store cross validation results\n",
    "RF_df = pd.DataFrame(list(product(n_trees_list, tree_depth_list)), columns=['n_trees_list', 'tree_depth_list'])\n",
    "\n",
    "#perform cross validation and store results\n",
    "for n_trees in n_trees_list:\n",
    "    for tree_depth in tree_depth_list:\n",
    "        #set up model; perform 5-fold CV\n",
    "        RF = RandomForestRegressor(n_estimators=n_trees, max_depth=tree_depth, criterion='mse', max_features='sqrt', n_jobs=-1)\n",
    "        \n",
    "        ###model for high states\n",
    "        high_cv_scores = cross_val_score(estimator=RF, X=X_high_train, y=y_high_train, scoring='neg_mean_squared_error', cv=5, n_jobs=-1)\n",
    "        #calculate results\n",
    "        high_cv_mean_mse = high_cv_scores.mean() #average mse of all 5 folds\n",
    "        high_cv_sd = np.std(high_cv_scores) #standard deviation of all 5 folds\n",
    "        #store results in df\n",
    "        RF_df.loc[(RF_df.n_trees_list == n_trees) & (RF_df.tree_depth_list == tree_depth), 'high_cv_mean_mse'] = high_cv_mean_mse\n",
    "        RF_df.loc[(RF_df.n_trees_list == n_trees) & (RF_df.tree_depth_list == tree_depth), 'high_cv_sd'] = high_cv_sd\n",
    "        \n",
    "        ###model for low states\n",
    "        low_cv_scores = cross_val_score(estimator=RF, X=X_low_train, y=y_low_train, scoring='neg_mean_squared_error', cv=5, n_jobs=-1)\n",
    "        #calculate results\n",
    "        low_cv_mean_mse = low_cv_scores.mean() #average mse of all 5 folds\n",
    "        low_cv_sd = np.std(low_cv_scores) #standard deviation of all 5 folds\n",
    "        #store results in df\n",
    "        RF_df.loc[(RF_df.n_trees_list == n_trees) & (RF_df.tree_depth_list == tree_depth), 'low_cv_mean_mse'] = low_cv_mean_mse\n",
    "        RF_df.loc[(RF_df.n_trees_list == n_trees) & (RF_df.tree_depth_list == tree_depth), 'low_cv_sd'] = low_cv_sd\n",
    "        counter+=1\n",
    "        print(f'{counter}/{len(n_trees_list)*len(tree_depth_list)} complete')\n",
    "\n",
    "#convert MSE values to positive (metric was neg_mean_squared_error)\n",
    "RF_df['high_cv_mean_mse'] = np.abs(RF_df['high_cv_mean_mse'])\n",
    "RF_df['low_cv_mean_mse'] = np.abs(RF_df['low_cv_mean_mse'])\n"
   ]
  },
  {
   "cell_type": "code",
   "execution_count": 26,
   "metadata": {
    "scrolled": false
   },
   "outputs": [
    {
     "data": {
      "text/html": [
       "<div>\n",
       "<style scoped>\n",
       "    .dataframe tbody tr th:only-of-type {\n",
       "        vertical-align: middle;\n",
       "    }\n",
       "\n",
       "    .dataframe tbody tr th {\n",
       "        vertical-align: top;\n",
       "    }\n",
       "\n",
       "    .dataframe thead th {\n",
       "        text-align: right;\n",
       "    }\n",
       "</style>\n",
       "<table border=\"1\" class=\"dataframe\">\n",
       "  <thead>\n",
       "    <tr style=\"text-align: right;\">\n",
       "      <th></th>\n",
       "      <th>n_trees_list</th>\n",
       "      <th>tree_depth_list</th>\n",
       "      <th>high_cv_mean_mse</th>\n",
       "      <th>high_cv_sd</th>\n",
       "      <th>low_cv_mean_mse</th>\n",
       "      <th>low_cv_sd</th>\n",
       "    </tr>\n",
       "  </thead>\n",
       "  <tbody>\n",
       "    <tr>\n",
       "      <th>0</th>\n",
       "      <td>100</td>\n",
       "      <td>5</td>\n",
       "      <td>3.208959e+07</td>\n",
       "      <td>5.188493e+07</td>\n",
       "      <td>64114.398437</td>\n",
       "      <td>45309.435452</td>\n",
       "    </tr>\n",
       "    <tr>\n",
       "      <th>1</th>\n",
       "      <td>100</td>\n",
       "      <td>10</td>\n",
       "      <td>3.069690e+07</td>\n",
       "      <td>5.275618e+07</td>\n",
       "      <td>62743.193140</td>\n",
       "      <td>47936.843144</td>\n",
       "    </tr>\n",
       "    <tr>\n",
       "      <th>2</th>\n",
       "      <td>100</td>\n",
       "      <td>15</td>\n",
       "      <td>3.106844e+07</td>\n",
       "      <td>5.262928e+07</td>\n",
       "      <td>60340.325484</td>\n",
       "      <td>45223.600603</td>\n",
       "    </tr>\n",
       "    <tr>\n",
       "      <th>3</th>\n",
       "      <td>100</td>\n",
       "      <td>20</td>\n",
       "      <td>3.151386e+07</td>\n",
       "      <td>5.333251e+07</td>\n",
       "      <td>63203.302438</td>\n",
       "      <td>49452.108095</td>\n",
       "    </tr>\n",
       "    <tr>\n",
       "      <th>4</th>\n",
       "      <td>100</td>\n",
       "      <td>25</td>\n",
       "      <td>3.033280e+07</td>\n",
       "      <td>5.241398e+07</td>\n",
       "      <td>62274.774253</td>\n",
       "      <td>44838.991770</td>\n",
       "    </tr>\n",
       "  </tbody>\n",
       "</table>\n",
       "</div>"
      ],
      "text/plain": [
       "   n_trees_list  tree_depth_list  high_cv_mean_mse    high_cv_sd  \\\n",
       "0           100                5      3.208959e+07  5.188493e+07   \n",
       "1           100               10      3.069690e+07  5.275618e+07   \n",
       "2           100               15      3.106844e+07  5.262928e+07   \n",
       "3           100               20      3.151386e+07  5.333251e+07   \n",
       "4           100               25      3.033280e+07  5.241398e+07   \n",
       "\n",
       "   low_cv_mean_mse     low_cv_sd  \n",
       "0     64114.398437  45309.435452  \n",
       "1     62743.193140  47936.843144  \n",
       "2     60340.325484  45223.600603  \n",
       "3     63203.302438  49452.108095  \n",
       "4     62274.774253  44838.991770  "
      ]
     },
     "execution_count": 26,
     "metadata": {},
     "output_type": "execute_result"
    }
   ],
   "source": [
    "#cross validation results\n",
    "RF_df.head()"
   ]
  },
  {
   "cell_type": "code",
   "execution_count": 27,
   "metadata": {},
   "outputs": [
    {
     "name": "stdout",
     "output_type": "stream",
     "text": [
      "Random forest model for high states, n_trees, determined by CV: 100\n",
      "Random forest model for high states, tree_depth, determined by CV: 25\n",
      "Random forest, MSE, states with high testing, training set: 3784080.7021533055\n",
      "Random forest, MSE, states with high testing, test set: 4846888.5099142\n"
     ]
    }
   ],
   "source": [
    "### random forest model for states with high testing\n",
    "\n",
    "#choose n_trees and tree_depth combination with the lowest difference between CV MSE and training set MSE (least overfit)\n",
    "np.random.seed(123)\n",
    "n_trees_best = int(RF_df.iloc[RF_df['high_cv_mean_mse'].idxmin()]['n_trees_list'])\n",
    "tree_depth_best = int(RF_df.iloc[RF_df['high_cv_mean_mse'].idxmin()]['tree_depth_list'])\n",
    "print('Random forest model for high states, n_trees, determined by CV:', n_trees_best)\n",
    "print('Random forest model for high states, tree_depth, determined by CV:', tree_depth_best)\n",
    "\n",
    "#train final random forest\n",
    "RF_high = RandomForestRegressor(n_estimators=n_trees_best, max_depth=tree_depth_best, criterion='mse', max_features='sqrt', n_jobs=-1)\n",
    "RF_high.fit(X_high_train, y_high_train)\n",
    "\n",
    "#performance evaluation\n",
    "pred_high_train = RF_high.predict(X_high_train)\n",
    "pred_high_test = RF_high.predict(X_high_test)\n",
    "print('Random forest, MSE, states with high testing, training set:', mean_squared_error(y_high_train, pred_high_train))\n",
    "print('Random forest, MSE, states with high testing, test set:', mean_squared_error(y_high_test, pred_high_test))\n"
   ]
  },
  {
   "cell_type": "code",
   "execution_count": 28,
   "metadata": {},
   "outputs": [
    {
     "name": "stdout",
     "output_type": "stream",
     "text": [
      "Random forest model for low states, n_trees, determined by CV: 150\n",
      "Random forest model for low states, tree_depth, determined by CV: 20\n",
      "Random forest, MSE, states with low testing, training set: 7778.057583044389\n",
      "Random forest, MSE, states with low testing, test set: 14847.774781656532\n"
     ]
    }
   ],
   "source": [
    "### random forest model for states with low testing\n",
    "\n",
    "#choose n_trees and tree_depth combination with the lowest difference between CV MSE and training set MSE (least overfit)\n",
    "np.random.seed(123)\n",
    "n_trees_best = int(RF_df.iloc[RF_df['low_cv_mean_mse'].idxmin()]['n_trees_list'])\n",
    "tree_depth_best = int(RF_df.iloc[RF_df['low_cv_mean_mse'].idxmin()]['tree_depth_list'])\n",
    "print('Random forest model for low states, n_trees, determined by CV:', n_trees_best)\n",
    "print('Random forest model for low states, tree_depth, determined by CV:', tree_depth_best)\n",
    "\n",
    "#train final random forest\n",
    "RF_low = RandomForestRegressor(n_estimators=n_trees_best, max_depth=tree_depth_best, criterion='mse', max_features='sqrt', n_jobs=-1)\n",
    "RF_low.fit(X_low_train, y_low_train)\n",
    "\n",
    "#performance evaluation\n",
    "pred_low_train = RF_low.predict(X_low_train)\n",
    "pred_low_test = RF_low.predict(X_low_test)\n",
    "print('Random forest, MSE, states with low testing, training set:', mean_squared_error(y_low_train, pred_low_train))\n",
    "print('Random forest, MSE, states with low testing, test set:', mean_squared_error(y_low_test, pred_low_test))\n"
   ]
  },
  {
   "cell_type": "code",
   "execution_count": 29,
   "metadata": {},
   "outputs": [
    {
     "data": {
      "image/png": "[encoded data removed]",
      "text/plain": [
       "<Figure size 432x576 with 1 Axes>"
      ]
     },
     "metadata": {
      "needs_background": "light"
     },
     "output_type": "display_data"
    }
   ],
   "source": [
    "#see which variables are important\n",
    "\n",
    "features = X_train.columns\n",
    "importances = RF_low.feature_importances_\n",
    "indices = np.argsort(importances)\n",
    "\n",
    "plt.figure(figsize=(6,8))\n",
    "plt.title('Model for low states: feature importances')\n",
    "plt.barh(range(len(indices)), importances[indices], color='b', align='center')\n",
    "plt.yticks(range(len(indices)), [features[i] for i in indices])\n",
    "plt.xlabel('Relative Importance')\n",
    "plt.ylabel('Features');"
   ]
  },
  {
   "cell_type": "code",
   "execution_count": 30,
   "metadata": {},
   "outputs": [
    {
     "data": {
      "image/png": "[encoded data removed]",
      "text/plain": [
       "<Figure size 432x576 with 1 Axes>"
      ]
     },
     "metadata": {
      "needs_background": "light"
     },
     "output_type": "display_data"
    }
   ],
   "source": [
    "#see which variables are important\n",
    "\n",
    "features = X_train.columns\n",
    "importances = RF_high.feature_importances_\n",
    "indices = np.argsort(importances)\n",
    "\n",
    "plt.figure(figsize=(6,8))\n",
    "plt.title('Model for high states: feature importances')\n",
    "plt.barh(range(len(indices)), importances[indices], color='b', align='center')\n",
    "plt.yticks(range(len(indices)), [features[i] for i in indices])\n",
    "plt.xlabel('Relative Importance')\n",
    "plt.ylabel('Features');"
   ]
  },
  {
   "cell_type": "markdown",
   "metadata": {},
   "source": [
    "##### Investigate question"
   ]
  },
  {
   "cell_type": "code",
   "execution_count": 31,
   "metadata": {},
   "outputs": [
    {
     "name": "stdout",
     "output_type": "stream",
     "text": [
      "MSE, predictions of cases in states with low testing using high states model: 286862.5416022816\n",
      "MSE, predictions of cases in states with high testing using low states model: 32819740.691861182\n"
     ]
    }
   ],
   "source": [
    "#use high states model to predict cases in low states\n",
    "cross_pred_lowstates = RF_high.predict(X_low)\n",
    "print('MSE, predictions of cases in states with low testing using high states model:', mean_squared_error(y_low, cross_pred_lowstates))\n",
    "\n",
    "#use low states model to predict cases in high states\n",
    "cross_pred_highstates = RF_low.predict(X_high)\n",
    "print('MSE, predictions of cases in states with high testing using low states model:', mean_squared_error(y_high, cross_pred_highstates))\n"
   ]
  },
  {
   "cell_type": "code",
   "execution_count": 32,
   "metadata": {
    "scrolled": false
   },
   "outputs": [
    {
     "data": {
      "image/png": "[encoded data removed]",
      "text/plain": [
       "<Figure size 1008x432 with 2 Axes>"
      ]
     },
     "metadata": {
      "needs_background": "light"
     },
     "output_type": "display_data"
    }
   ],
   "source": [
    "#examine distributions\n",
    "\n",
    "#calculate prediction errors\n",
    "lowstates_pred_diff = cross_pred_lowstates - y_low\n",
    "highstates_pred_diff = cross_pred_highstates - y_high\n",
    "\n",
    "#figure\n",
    "fig, ax = plt.subplots(1, 2, figsize = (14, 6))\n",
    "\n",
    "ax[0].hist(lowstates_pred_diff, bins=50)\n",
    "ax[0].set_title('Prediction error for low states \\n (predict cases in low states using high states model)')\n",
    "\n",
    "ax[1].hist(highstates_pred_diff, bins=50)\n",
    "ax[1].set_title('Prediction error for high states \\n (predict cases in high states using low states model)')\n",
    "\n",
    "fig.suptitle('Distributions of prediction error (prediction - observation)')\n",
    "plt.tight_layout(rect = [0, 0.05, 1, 0.95]);"
   ]
  },
  {
   "cell_type": "markdown",
   "metadata": {},
   "source": [
    "#### Mixed effects model to examine testing level"
   ]
  },
  {
   "cell_type": "code",
   "execution_count": 33,
   "metadata": {},
   "outputs": [
    {
     "name": "stdout",
     "output_type": "stream",
     "text": [
      "                        Mixed Linear Model Regression Results\n",
      "======================================================================================\n",
      "Model:                     MixedLM          Dependent Variable:          Confirmed    \n",
      "No. Observations:          3086             Method:                      REML         \n",
      "No. Groups:                49               Scale:                       10962006.3984\n",
      "Min. group size:           1                Log-Likelihood:              -29299.2523  \n",
      "Max. group size:           253              Converged:                   Yes          \n",
      "Mean group size:           63.0                                                       \n",
      "--------------------------------------------------------------------------------------\n",
      "                                  Coef.     Std.Err.   z    P>|z|   [0.025     0.975] \n",
      "--------------------------------------------------------------------------------------\n",
      "Intercept                       -11174.273 13482.285 -0.829 0.407 -37599.066 15250.521\n",
      "mean_pm25                          274.235    59.408  4.616 0.000    157.798   390.671\n",
      "poverty                           4509.272  1336.608  3.374 0.001   1889.568  7128.975\n",
      "q_popdensity                      -652.752   103.800 -6.289 0.000   -856.196  -449.307\n",
      "log_medianhousevalue              1330.027   270.630  4.915 0.000    799.601  1860.453\n",
      "log_medhouseholdincome            1717.911   466.952  3.679 0.000    802.702  2633.120\n",
      "pct_owner_occ                    -7349.098   923.326 -7.959 0.000  -9158.784 -5539.412\n",
      "hispanic                          1210.397   772.264  1.567 0.117   -303.213  2724.006\n",
      "education                         2237.547   914.613  2.446 0.014    444.939  4030.155\n",
      "pct_blk                            316.376   685.821  0.461 0.645  -1027.807  1660.560\n",
      "older_percent                    12450.065  2035.982  6.115 0.000   8459.613 16440.517\n",
      "mean_summer_temp                    36.391    53.941  0.675 0.500    -69.331   142.113\n",
      "mean_winter_temp                   -88.580    31.788 -2.787 0.005   -150.884   -26.277\n",
      "mean_summer_rm                      17.149    13.987  1.226 0.220    -10.264    44.563\n",
      "mean_winter_rm                    -112.780    22.146 -5.092 0.000   -156.186   -69.374\n",
      "log_totalTestResults              -289.128   263.376 -1.098 0.272   -805.336   227.080\n",
      "log_population                     431.094    80.934  5.327 0.000    272.467   589.721\n",
      "state_type                       -7658.017  3681.544 -2.080 0.038 -14873.712  -442.323\n",
      "state_type:log_totalTestResults    708.077   322.407  2.196 0.028     76.172  1339.982\n",
      "Group Var                       649544.876    66.120                                  \n",
      "======================================================================================\n",
      "\n"
     ]
    }
   ],
   "source": [
    "#write equation\n",
    "a = 'Confirmed ~ mean_pm25 + poverty + q_popdensity + log_medianhousevalue + log_medhouseholdincome + pct_owner_occ + hispanic +'\n",
    "b = 'education + pct_blk + older_percent + mean_summer_temp + mean_winter_temp + mean_summer_rm + mean_winter_rm +'\n",
    "c = 'log_totalTestResults + log_population + state_type + state_type*log_totalTestResults'\n",
    "equation_testing = a+b+c\n",
    "\n",
    "#fit model and print summary\n",
    "mlm_testing = smf.mixedlm(equation_testing, data_mlm, groups=data[\"Province_State\"]) #random-intercept\n",
    "mlm_testing_fit = mlm_testing.fit()\n",
    "print(mlm_testing_fit.summary())\n"
   ]
  },
  {
   "cell_type": "markdown",
   "metadata": {},
   "source": [
    "##### Investigate variable distributions"
   ]
  },
  {
   "cell_type": "code",
   "execution_count": 34,
   "metadata": {},
   "outputs": [],
   "source": [
    "###format data for boxplots\n",
    "#add state_type variable to X_high_train and X_low_train dfs\n",
    "X_high_train2 = X_high_train.copy(deep=True)\n",
    "X_high_train2['state_type'] = 1\n",
    "X_low_train2 = X_low_train.copy(deep=True)\n",
    "X_low_train2['state_type'] = 0\n",
    "#combine dfs\n",
    "X_all = pd.concat([X_high_train2, X_low_train2])\n",
    "X_all = X_all.astype({'state_type': 'category'})"
   ]
  },
  {
   "cell_type": "code",
   "execution_count": 47,
   "metadata": {},
   "outputs": [
    {
     "data": {
      "image/png": "[encoded data removed]",
      "text/plain": [
       "<Figure size 432x288 with 1 Axes>"
      ]
     },
     "metadata": {
      "needs_background": "light"
     },
     "output_type": "display_data"
    }
   ],
   "source": [
    "#PM2.5 levels distribution\n",
    "ax = sns.boxplot(y='mean_pm25', x='state_type', data=X_all, palette='Set3')\n",
    "ax.set_title('Distribution of PM2.5 levels by state type')\n",
    "ax.set_xlabel('State type')\n",
    "ax.set_xticklabels(['Low', 'High'])\n",
    "ax.set_ylabel('PM2.5 levels');\n"
   ]
  },
  {
   "cell_type": "code",
   "execution_count": 52,
   "metadata": {
    "scrolled": true
   },
   "outputs": [
    {
     "data": {
      "image/png": "[encoded data removed]",
      "text/plain": [
       "<Figure size 432x288 with 1 Axes>"
      ]
     },
     "metadata": {
      "needs_background": "light"
     },
     "output_type": "display_data"
    }
   ],
   "source": [
    "#median household income distribution\n",
    "ax = sns.boxplot(y='medhouseholdincome', x='state_type', data=X_all, palette='Set3')\n",
    "ax.set_title('Distribution of median household income by state type')\n",
    "ax.set_xlabel('State type')\n",
    "ax.set_xticklabels(['Low', 'High'])\n",
    "ax.set_ylabel('Median household income (dollars)');"
   ]
  },
  {
   "cell_type": "code",
   "execution_count": 56,
   "metadata": {},
   "outputs": [
    {
     "data": {
      "image/png": "[encoded data removed]",
      "text/plain": [
       "<Figure size 432x288 with 1 Axes>"
      ]
     },
     "metadata": {
      "needs_background": "light"
     },
     "output_type": "display_data"
    }
   ],
   "source": [
    "#home ownership distribution\n",
    "ax = sns.boxplot(y=\"pct_owner_occ\", x=\"state_type\", data=X_all, palette=\"Set3\")\n",
    "ax.set_title('Distribution of home ownership by state type')\n",
    "ax.set_xlabel('State type')\n",
    "ax.set_xticklabels(['Low', 'High'])\n",
    "ax.set_ylabel('Home ownership \\n (percent of residents who \\n live in homes they own)');"
   ]
  }
 ],
 "metadata": {
  "kernelspec": {
   "display_name": "Python 3",
   "language": "python",
   "name": "python3"
  },
  "language_info": {
   "codemirror_mode": {
    "name": "ipython",
    "version": 3
   },
   "file_extension": ".py",
   "mimetype": "text/x-python",
   "name": "python",
   "nbconvert_exporter": "python",
   "pygments_lexer": "ipython3",
   "version": "3.7.2"
  }
 },
 "nbformat": 4,
 "nbformat_minor": 2
}
